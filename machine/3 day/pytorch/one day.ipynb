{
 "cells": [
  {
   "cell_type": "code",
   "execution_count": 10,
   "metadata": {},
   "outputs": [],
   "source": [
    "import torch"
   ]
  },
  {
   "cell_type": "code",
   "execution_count": 11,
   "metadata": {},
   "outputs": [
    {
     "data": {
      "text/plain": [
       "tensor([[-1.5072,  0.3664, -0.8760],\n",
       "        [-0.5761, -0.9658, -0.2166]])"
      ]
     },
     "execution_count": 11,
     "metadata": {},
     "output_type": "execute_result"
    }
   ],
   "source": [
    "a = torch.randn(2,3)\n",
    "a"
   ]
  },
  {
   "cell_type": "code",
   "execution_count": 12,
   "metadata": {},
   "outputs": [
    {
     "data": {
      "text/plain": [
       "'torch.FloatTensor'"
      ]
     },
     "execution_count": 12,
     "metadata": {},
     "output_type": "execute_result"
    }
   ],
   "source": [
    "a.type()"
   ]
  },
  {
   "cell_type": "code",
   "execution_count": 13,
   "metadata": {},
   "outputs": [
    {
     "data": {
      "text/plain": [
       "torch.Tensor"
      ]
     },
     "execution_count": 13,
     "metadata": {},
     "output_type": "execute_result"
    }
   ],
   "source": [
    "type(a)"
   ]
  },
  {
   "cell_type": "code",
   "execution_count": 15,
   "metadata": {},
   "outputs": [
    {
     "data": {
      "text/plain": [
       "True"
      ]
     },
     "execution_count": 15,
     "metadata": {},
     "output_type": "execute_result"
    }
   ],
   "source": [
    "isinstance(a,torch.FloatTensor)"
   ]
  },
  {
   "cell_type": "code",
   "execution_count": 16,
   "metadata": {},
   "outputs": [
    {
     "data": {
      "text/plain": [
       "tensor(1.)"
      ]
     },
     "execution_count": 16,
     "metadata": {},
     "output_type": "execute_result"
    }
   ],
   "source": [
    "torch.tensor(1.0)"
   ]
  },
  {
   "cell_type": "code",
   "execution_count": 17,
   "metadata": {},
   "outputs": [
    {
     "data": {
      "text/plain": [
       "tensor(1.3000)"
      ]
     },
     "execution_count": 17,
     "metadata": {},
     "output_type": "execute_result"
    }
   ],
   "source": [
    "torch.tensor(1.3)"
   ]
  },
  {
   "cell_type": "code",
   "execution_count": 18,
   "metadata": {},
   "outputs": [
    {
     "data": {
      "text/plain": [
       "tensor(1)"
      ]
     },
     "execution_count": 18,
     "metadata": {},
     "output_type": "execute_result"
    }
   ],
   "source": [
    "torch.tensor(1)"
   ]
  },
  {
   "cell_type": "code",
   "execution_count": 19,
   "metadata": {},
   "outputs": [],
   "source": [
    "a = torch.tensor(2.2)"
   ]
  },
  {
   "cell_type": "code",
   "execution_count": 20,
   "metadata": {},
   "outputs": [
    {
     "data": {
      "text/plain": [
       "torch.Size([])"
      ]
     },
     "execution_count": 20,
     "metadata": {},
     "output_type": "execute_result"
    }
   ],
   "source": [
    "a.shape"
   ]
  },
  {
   "cell_type": "code",
   "execution_count": 21,
   "metadata": {},
   "outputs": [
    {
     "data": {
      "text/plain": [
       "0"
      ]
     },
     "execution_count": 21,
     "metadata": {},
     "output_type": "execute_result"
    }
   ],
   "source": [
    "len(a.shape)"
   ]
  },
  {
   "cell_type": "code",
   "execution_count": 22,
   "metadata": {},
   "outputs": [
    {
     "data": {
      "text/plain": [
       "torch.Size([])"
      ]
     },
     "execution_count": 22,
     "metadata": {},
     "output_type": "execute_result"
    }
   ],
   "source": [
    "a.size()"
   ]
  },
  {
   "cell_type": "code",
   "execution_count": 23,
   "metadata": {},
   "outputs": [],
   "source": [
    "b = torch.tensor([1.1])"
   ]
  },
  {
   "cell_type": "code",
   "execution_count": 24,
   "metadata": {},
   "outputs": [
    {
     "data": {
      "text/plain": [
       "tensor([1.1000])"
      ]
     },
     "execution_count": 24,
     "metadata": {},
     "output_type": "execute_result"
    }
   ],
   "source": [
    "b"
   ]
  },
  {
   "cell_type": "code",
   "execution_count": 25,
   "metadata": {},
   "outputs": [
    {
     "data": {
      "text/plain": [
       "torch.Size([1])"
      ]
     },
     "execution_count": 25,
     "metadata": {},
     "output_type": "execute_result"
    }
   ],
   "source": [
    "b.shape"
   ]
  },
  {
   "cell_type": "code",
   "execution_count": 26,
   "metadata": {},
   "outputs": [
    {
     "data": {
      "text/plain": [
       "tensor([1.2000, 3.4000])"
      ]
     },
     "execution_count": 26,
     "metadata": {},
     "output_type": "execute_result"
    }
   ],
   "source": [
    "c = torch.tensor([1.2,3.4])\n",
    "c"
   ]
  },
  {
   "cell_type": "code",
   "execution_count": 27,
   "metadata": {},
   "outputs": [
    {
     "data": {
      "text/plain": [
       "torch.Size([2])"
      ]
     },
     "execution_count": 27,
     "metadata": {},
     "output_type": "execute_result"
    }
   ],
   "source": [
    "c.shape"
   ]
  },
  {
   "cell_type": "code",
   "execution_count": 28,
   "metadata": {},
   "outputs": [
    {
     "data": {
      "text/plain": [
       "tensor([-1.0842e-19])"
      ]
     },
     "execution_count": 28,
     "metadata": {},
     "output_type": "execute_result"
    }
   ],
   "source": [
    "d = torch.FloatTensor(1)\n",
    "d"
   ]
  },
  {
   "cell_type": "code",
   "execution_count": 29,
   "metadata": {},
   "outputs": [
    {
     "data": {
      "text/plain": [
       "array([1., 1., 1., 1., 1.])"
      ]
     },
     "execution_count": 29,
     "metadata": {},
     "output_type": "execute_result"
    }
   ],
   "source": [
    "import numpy as np\n",
    "data = np.ones(5)\n",
    "data"
   ]
  },
  {
   "cell_type": "code",
   "execution_count": 30,
   "metadata": {},
   "outputs": [
    {
     "data": {
      "text/plain": [
       "array([[1., 1., 1., 1., 1.],\n",
       "       [1., 1., 1., 1., 1.],\n",
       "       [1., 1., 1., 1., 1.],\n",
       "       [1., 1., 1., 1., 1.],\n",
       "       [1., 1., 1., 1., 1.]])"
      ]
     },
     "execution_count": 30,
     "metadata": {},
     "output_type": "execute_result"
    }
   ],
   "source": [
    "da = np.ones([5,5])\n",
    "da"
   ]
  },
  {
   "cell_type": "code",
   "execution_count": 31,
   "metadata": {},
   "outputs": [
    {
     "data": {
      "text/plain": [
       "tensor([1., 1., 1., 1., 1.], dtype=torch.float64)"
      ]
     },
     "execution_count": 31,
     "metadata": {},
     "output_type": "execute_result"
    }
   ],
   "source": [
    "torch.from_numpy(data)"
   ]
  },
  {
   "cell_type": "code",
   "execution_count": 32,
   "metadata": {},
   "outputs": [
    {
     "data": {
      "text/plain": [
       "tensor([1., 1.])"
      ]
     },
     "execution_count": 32,
     "metadata": {},
     "output_type": "execute_result"
    }
   ],
   "source": [
    "a = torch.ones(2)\n",
    "a"
   ]
  },
  {
   "cell_type": "code",
   "execution_count": 33,
   "metadata": {},
   "outputs": [
    {
     "data": {
      "text/plain": [
       "torch.Size([2])"
      ]
     },
     "execution_count": 33,
     "metadata": {},
     "output_type": "execute_result"
    }
   ],
   "source": [
    "a.shape"
   ]
  },
  {
   "cell_type": "code",
   "execution_count": 34,
   "metadata": {},
   "outputs": [
    {
     "data": {
      "text/plain": [
       "tensor([[ 0.0453, -1.0996,  0.8376],\n",
       "        [-0.0131, -0.1165,  1.6459]])"
      ]
     },
     "execution_count": 34,
     "metadata": {},
     "output_type": "execute_result"
    }
   ],
   "source": [
    "a = torch.randn(2,3)\n",
    "a"
   ]
  },
  {
   "cell_type": "code",
   "execution_count": 35,
   "metadata": {},
   "outputs": [
    {
     "data": {
      "text/plain": [
       "torch.Size([2, 3])"
      ]
     },
     "execution_count": 35,
     "metadata": {},
     "output_type": "execute_result"
    }
   ],
   "source": [
    "a.shape"
   ]
  },
  {
   "cell_type": "code",
   "execution_count": 36,
   "metadata": {},
   "outputs": [
    {
     "data": {
      "text/plain": [
       "torch.Size([2, 3])"
      ]
     },
     "execution_count": 36,
     "metadata": {},
     "output_type": "execute_result"
    }
   ],
   "source": [
    "a.size()"
   ]
  },
  {
   "cell_type": "code",
   "execution_count": 37,
   "metadata": {},
   "outputs": [
    {
     "data": {
      "text/plain": [
       "2"
      ]
     },
     "execution_count": 37,
     "metadata": {},
     "output_type": "execute_result"
    }
   ],
   "source": [
    "a.dim()"
   ]
  },
  {
   "cell_type": "code",
   "execution_count": 38,
   "metadata": {},
   "outputs": [
    {
     "data": {
      "text/plain": [
       "6"
      ]
     },
     "execution_count": 38,
     "metadata": {},
     "output_type": "execute_result"
    }
   ],
   "source": [
    "a.numel()"
   ]
  },
  {
   "cell_type": "code",
   "execution_count": 39,
   "metadata": {},
   "outputs": [
    {
     "data": {
      "text/plain": [
       "tensor([[7., 7., 7., 7., 7.],\n",
       "        [7., 7., 7., 7., 7.],\n",
       "        [7., 7., 7., 7., 7.],\n",
       "        [7., 7., 7., 7., 7.],\n",
       "        [7., 7., 7., 7., 7.]])"
      ]
     },
     "execution_count": 39,
     "metadata": {},
     "output_type": "execute_result"
    }
   ],
   "source": [
    "torch.full([5,5],7)"
   ]
  },
  {
   "cell_type": "code",
   "execution_count": 40,
   "metadata": {},
   "outputs": [
    {
     "data": {
      "text/plain": [
       "tensor([0, 1, 2, 3, 4, 5, 6, 7, 8, 9])"
      ]
     },
     "execution_count": 40,
     "metadata": {},
     "output_type": "execute_result"
    }
   ],
   "source": [
    "torch.arange(0,10)"
   ]
  },
  {
   "cell_type": "code",
   "execution_count": 42,
   "metadata": {},
   "outputs": [
    {
     "data": {
      "text/plain": [
       "tensor([ 0.0000,  3.3333,  6.6667, 10.0000])"
      ]
     },
     "execution_count": 42,
     "metadata": {},
     "output_type": "execute_result"
    }
   ],
   "source": [
    "torch.linspace(0,10,4)"
   ]
  },
  {
   "cell_type": "code",
   "execution_count": 44,
   "metadata": {},
   "outputs": [
    {
     "data": {
      "text/plain": [
       "tensor([[[[0.4525, 0.2467, 0.5083,  ..., 0.8623, 0.3804, 0.6429],\n",
       "          [0.6084, 0.6805, 0.2114,  ..., 0.1541, 0.5542, 0.3428],\n",
       "          [0.4012, 0.7317, 0.3425,  ..., 0.6011, 0.1512, 0.9991],\n",
       "          ...,\n",
       "          [0.6656, 0.8476, 0.2023,  ..., 0.8333, 0.1944, 0.3226],\n",
       "          [0.7868, 0.5891, 0.9274,  ..., 0.9739, 0.6225, 0.5230],\n",
       "          [0.0515, 0.5695, 0.5768,  ..., 0.8997, 0.2862, 0.9436]],\n",
       "\n",
       "         [[0.6373, 0.0307, 0.9876,  ..., 0.6809, 0.6180, 0.4592],\n",
       "          [0.6871, 0.2521, 0.7132,  ..., 0.8199, 0.1288, 0.9995],\n",
       "          [0.7809, 0.7566, 0.7094,  ..., 0.9673, 0.5201, 0.6521],\n",
       "          ...,\n",
       "          [0.1684, 0.6735, 0.0021,  ..., 0.8857, 0.3616, 0.3197],\n",
       "          [0.7400, 0.9176, 0.8883,  ..., 0.5388, 0.9577, 0.1946],\n",
       "          [0.0422, 0.8526, 0.4459,  ..., 0.8811, 0.7172, 0.0312]],\n",
       "\n",
       "         [[0.2512, 0.4812, 0.8695,  ..., 0.7498, 0.5118, 0.6944],\n",
       "          [0.2462, 0.4651, 0.9102,  ..., 0.9056, 0.0694, 0.6405],\n",
       "          [0.6126, 0.2170, 0.6027,  ..., 0.7436, 0.9760, 0.6336],\n",
       "          ...,\n",
       "          [0.0432, 0.7324, 0.0938,  ..., 0.0212, 0.1630, 0.1005],\n",
       "          [0.6957, 0.4995, 0.9152,  ..., 0.8392, 0.9592, 0.3745],\n",
       "          [0.5276, 0.9247, 0.0442,  ..., 0.8889, 0.4428, 0.5712]]],\n",
       "\n",
       "\n",
       "        [[[0.5245, 0.8871, 0.2023,  ..., 0.0967, 0.0465, 0.4923],\n",
       "          [0.0951, 0.4722, 0.2656,  ..., 0.2136, 0.5567, 0.6544],\n",
       "          [0.7609, 0.6742, 0.4989,  ..., 0.2122, 0.4493, 0.2058],\n",
       "          ...,\n",
       "          [0.9069, 0.6604, 0.6257,  ..., 0.6989, 0.4987, 0.0091],\n",
       "          [0.4251, 0.6253, 0.2734,  ..., 0.8565, 0.5383, 0.6692],\n",
       "          [0.0443, 0.2416, 0.5466,  ..., 0.4385, 0.4723, 0.7382]],\n",
       "\n",
       "         [[0.3137, 0.3325, 0.7659,  ..., 0.8804, 0.5772, 0.2747],\n",
       "          [0.5334, 0.5646, 0.1567,  ..., 0.9048, 0.4013, 0.7364],\n",
       "          [0.0255, 0.1435, 0.3627,  ..., 0.0062, 0.1832, 0.5932],\n",
       "          ...,\n",
       "          [0.1271, 0.2266, 0.4163,  ..., 0.9498, 0.3913, 0.7976],\n",
       "          [0.7390, 0.5593, 0.0135,  ..., 0.7031, 0.7963, 0.7349],\n",
       "          [0.3510, 0.7265, 0.9486,  ..., 0.9330, 0.8099, 0.2345]],\n",
       "\n",
       "         [[0.3827, 0.0755, 0.6367,  ..., 0.9052, 0.2484, 0.1337],\n",
       "          [0.9815, 0.4087, 0.1716,  ..., 0.3402, 0.4755, 0.7678],\n",
       "          [0.0988, 0.0458, 0.9063,  ..., 0.7098, 0.8413, 0.5281],\n",
       "          ...,\n",
       "          [0.6587, 0.1073, 0.3720,  ..., 0.6592, 0.6565, 0.4578],\n",
       "          [0.8460, 0.2466, 0.4242,  ..., 0.7904, 0.1984, 0.3282],\n",
       "          [0.4242, 0.9513, 0.5219,  ..., 0.4026, 0.5099, 0.9114]]],\n",
       "\n",
       "\n",
       "        [[[0.2917, 0.3809, 0.6677,  ..., 0.8575, 0.2320, 0.1043],\n",
       "          [0.8168, 0.8873, 0.2272,  ..., 0.9188, 0.2424, 0.7356],\n",
       "          [0.3487, 0.2507, 0.4663,  ..., 0.4772, 0.0692, 0.1137],\n",
       "          ...,\n",
       "          [0.5371, 0.8739, 0.9648,  ..., 0.2729, 0.8437, 0.5759],\n",
       "          [0.9434, 0.8638, 0.0393,  ..., 0.4503, 0.6384, 0.5108],\n",
       "          [0.4546, 0.7924, 0.6370,  ..., 0.4479, 0.9518, 0.8481]],\n",
       "\n",
       "         [[0.1189, 0.9314, 0.3504,  ..., 0.5071, 0.8892, 0.2036],\n",
       "          [0.6296, 0.5415, 0.7828,  ..., 0.5555, 0.5946, 0.5302],\n",
       "          [0.7287, 0.7410, 0.7354,  ..., 0.1263, 0.9681, 0.9971],\n",
       "          ...,\n",
       "          [0.4848, 0.4453, 0.5635,  ..., 0.2276, 0.9475, 0.6040],\n",
       "          [0.4677, 0.9611, 0.4784,  ..., 0.5839, 0.2132, 0.6788],\n",
       "          [0.4061, 0.2859, 0.7285,  ..., 0.1621, 0.8228, 0.3594]],\n",
       "\n",
       "         [[0.0391, 0.4545, 0.8636,  ..., 0.0473, 0.2467, 0.6708],\n",
       "          [0.9597, 0.0747, 0.7942,  ..., 0.9134, 0.0936, 0.8991],\n",
       "          [0.6585, 0.1993, 0.4873,  ..., 0.3053, 0.1981, 0.8135],\n",
       "          ...,\n",
       "          [0.9222, 0.1345, 0.6390,  ..., 0.3669, 0.8357, 0.7587],\n",
       "          [0.5117, 0.7674, 0.7779,  ..., 0.2353, 0.1111, 0.5914],\n",
       "          [0.8076, 0.3964, 0.7229,  ..., 0.7182, 0.8949, 0.0945]]],\n",
       "\n",
       "\n",
       "        [[[0.2343, 0.9293, 0.1781,  ..., 0.8091, 0.2768, 0.8147],\n",
       "          [0.8073, 0.7772, 0.9571,  ..., 0.3674, 0.4234, 0.3679],\n",
       "          [0.3123, 0.6862, 0.6845,  ..., 0.0120, 0.1687, 0.6556],\n",
       "          ...,\n",
       "          [0.0978, 0.0373, 0.3696,  ..., 0.4234, 0.6789, 0.4795],\n",
       "          [0.8726, 0.7743, 0.3254,  ..., 0.8331, 0.5584, 0.6776],\n",
       "          [0.7535, 0.6424, 0.7322,  ..., 0.3630, 0.2115, 0.3137]],\n",
       "\n",
       "         [[0.5156, 0.6122, 0.7199,  ..., 0.7970, 0.7214, 0.5606],\n",
       "          [0.2686, 0.0830, 0.3198,  ..., 0.7556, 0.6223, 0.2677],\n",
       "          [0.5721, 0.9818, 0.8544,  ..., 0.0754, 0.1228, 0.6684],\n",
       "          ...,\n",
       "          [0.8966, 0.2250, 0.6532,  ..., 0.1500, 0.1561, 0.2548],\n",
       "          [0.6403, 0.7977, 0.2947,  ..., 0.2036, 0.6969, 0.4467],\n",
       "          [0.9821, 0.5365, 0.4259,  ..., 0.7955, 0.3787, 0.4052]],\n",
       "\n",
       "         [[0.5616, 0.8007, 0.5953,  ..., 0.2985, 0.6733, 0.3019],\n",
       "          [0.0116, 0.1832, 0.9767,  ..., 0.9934, 0.4839, 0.8063],\n",
       "          [0.3873, 0.7798, 0.8974,  ..., 0.2924, 0.7162, 0.6562],\n",
       "          ...,\n",
       "          [0.6404, 0.3448, 0.7645,  ..., 0.2120, 0.6587, 0.4872],\n",
       "          [0.9411, 0.0717, 0.8978,  ..., 0.7357, 0.4110, 0.5790],\n",
       "          [0.4566, 0.6873, 0.8770,  ..., 0.6935, 0.0090, 0.4431]]]])"
      ]
     },
     "execution_count": 44,
     "metadata": {},
     "output_type": "execute_result"
    }
   ],
   "source": [
    "a = torch.rand(4,3,28,28)\n",
    "a"
   ]
  },
  {
   "cell_type": "code",
   "execution_count": 45,
   "metadata": {},
   "outputs": [
    {
     "data": {
      "text/plain": [
       "torch.Size([3, 28, 28])"
      ]
     },
     "execution_count": 45,
     "metadata": {},
     "output_type": "execute_result"
    }
   ],
   "source": [
    "a[0].shape"
   ]
  },
  {
   "cell_type": "code",
   "execution_count": 46,
   "metadata": {},
   "outputs": [
    {
     "data": {
      "text/plain": [
       "tensor([[ 0.0430,  0.0196, -0.6611,  2.2706],\n",
       "        [ 1.6432,  2.2533, -1.0537,  0.9733],\n",
       "        [-0.6428, -1.1743, -0.8157,  0.1133]])"
      ]
     },
     "execution_count": 46,
     "metadata": {},
     "output_type": "execute_result"
    }
   ],
   "source": [
    "x = torch.randn(3,4)\n",
    "x"
   ]
  },
  {
   "cell_type": "code",
   "execution_count": 47,
   "metadata": {},
   "outputs": [
    {
     "data": {
      "text/plain": [
       "tensor([[0, 0, 0, 1],\n",
       "        [1, 1, 0, 1],\n",
       "        [0, 0, 0, 0]], dtype=torch.uint8)"
      ]
     },
     "execution_count": 47,
     "metadata": {},
     "output_type": "execute_result"
    }
   ],
   "source": [
    "mask = x.ge(0.5)\n",
    "mask"
   ]
  },
  {
   "cell_type": "code",
   "execution_count": 49,
   "metadata": {},
   "outputs": [
    {
     "data": {
      "text/plain": [
       "tensor([2.2706, 1.6432, 2.2533, 0.9733])"
      ]
     },
     "execution_count": 49,
     "metadata": {},
     "output_type": "execute_result"
    }
   ],
   "source": [
    "torch.masked_select(x,mask)"
   ]
  },
  {
   "cell_type": "code",
   "execution_count": 50,
   "metadata": {},
   "outputs": [
    {
     "data": {
      "text/plain": [
       "tensor([[4, 3, 5],\n",
       "        [6, 7, 8]])"
      ]
     },
     "execution_count": 50,
     "metadata": {},
     "output_type": "execute_result"
    }
   ],
   "source": [
    "y = torch.tensor([[4,3,5],[6,7,8]])\n",
    "y"
   ]
  },
  {
   "cell_type": "code",
   "execution_count": 51,
   "metadata": {},
   "outputs": [
    {
     "data": {
      "text/plain": [
       "tensor([4, 5, 8])"
      ]
     },
     "execution_count": 51,
     "metadata": {},
     "output_type": "execute_result"
    }
   ],
   "source": [
    "torch.take(y,torch.tensor([0,2,5]))"
   ]
  },
  {
   "cell_type": "code",
   "execution_count": 52,
   "metadata": {},
   "outputs": [
    {
     "data": {
      "text/plain": [
       "torch.Size([4])"
      ]
     },
     "execution_count": 52,
     "metadata": {},
     "output_type": "execute_result"
    }
   ],
   "source": [
    "a = torch.tensor([4,3,28,28])\n",
    "a.shape"
   ]
  },
  {
   "cell_type": "code",
   "execution_count": 54,
   "metadata": {},
   "outputs": [
    {
     "data": {
      "text/plain": [
       "torch.Size([4, 3, 28, 28])"
      ]
     },
     "execution_count": 54,
     "metadata": {},
     "output_type": "execute_result"
    }
   ],
   "source": [
    "b = torch.randn(4,3,28,28)\n",
    "b.shape"
   ]
  },
  {
   "cell_type": "code",
   "execution_count": 58,
   "metadata": {},
   "outputs": [
    {
     "data": {
      "text/plain": [
       "torch.Size([4, 3, 28, 28])"
      ]
     },
     "execution_count": 58,
     "metadata": {},
     "output_type": "execute_result"
    }
   ],
   "source": [
    "b.index_select(2,torch.arange(28)).shape"
   ]
  },
  {
   "cell_type": "code",
   "execution_count": 59,
   "metadata": {},
   "outputs": [
    {
     "data": {
      "text/plain": [
       "tensor([ 0,  1,  2,  3,  4,  5,  6,  7,  8,  9, 10, 11, 12, 13, 14, 15, 16, 17,\n",
       "        18, 19, 20, 21, 22, 23, 24, 25, 26, 27])"
      ]
     },
     "execution_count": 59,
     "metadata": {},
     "output_type": "execute_result"
    }
   ],
   "source": [
    "torch.arange(28)"
   ]
  },
  {
   "cell_type": "code",
   "execution_count": 60,
   "metadata": {},
   "outputs": [
    {
     "data": {
      "text/plain": [
       "torch.Size([2, 3, 28, 28])"
      ]
     },
     "execution_count": 60,
     "metadata": {},
     "output_type": "execute_result"
    }
   ],
   "source": [
    "b.index_select(0,torch.tensor([0,2])).shape"
   ]
  },
  {
   "cell_type": "code",
   "execution_count": 61,
   "metadata": {},
   "outputs": [
    {
     "data": {
      "text/plain": [
       "False"
      ]
     },
     "execution_count": 61,
     "metadata": {},
     "output_type": "execute_result"
    }
   ],
   "source": [
    "x = [1,2]\n",
    "torch.is_tensor(x)"
   ]
  },
  {
   "cell_type": "code",
   "execution_count": 63,
   "metadata": {},
   "outputs": [
    {
     "data": {
      "text/plain": [
       "9408"
      ]
     },
     "execution_count": 63,
     "metadata": {},
     "output_type": "execute_result"
    }
   ],
   "source": [
    "torch.numel(b)    # 统计tensor中的元素个数"
   ]
  },
  {
   "cell_type": "code",
   "execution_count": 64,
   "metadata": {},
   "outputs": [
    {
     "data": {
      "text/plain": [
       "tensor([[0., 0., 0.],\n",
       "        [0., 0., 0.],\n",
       "        [0., 0., 0.]])"
      ]
     },
     "execution_count": 64,
     "metadata": {},
     "output_type": "execute_result"
    }
   ],
   "source": [
    "torch.zeros(3,3)"
   ]
  },
  {
   "cell_type": "code",
   "execution_count": 65,
   "metadata": {},
   "outputs": [
    {
     "data": {
      "text/plain": [
       "array([3, 4, 5, 6])"
      ]
     },
     "execution_count": 65,
     "metadata": {},
     "output_type": "execute_result"
    }
   ],
   "source": [
    "x = np.array([3,4,5,6])\n",
    "x"
   ]
  },
  {
   "cell_type": "code",
   "execution_count": 66,
   "metadata": {},
   "outputs": [
    {
     "data": {
      "text/plain": [
       "tensor([3, 4, 5, 6], dtype=torch.int32)"
      ]
     },
     "execution_count": 66,
     "metadata": {},
     "output_type": "execute_result"
    }
   ],
   "source": [
    "torch.from_numpy(x)"
   ]
  },
  {
   "cell_type": "code",
   "execution_count": 67,
   "metadata": {},
   "outputs": [
    {
     "data": {
      "text/plain": [
       "tensor([0.4922, 0.6294, 0.8956, 0.5709, 0.8392, 0.6830, 0.2640, 0.2832, 0.0453,\n",
       "        0.9337])"
      ]
     },
     "execution_count": 67,
     "metadata": {},
     "output_type": "execute_result"
    }
   ],
   "source": [
    "torch.rand(10)   # 创建均匀分布【0,1）"
   ]
  },
  {
   "cell_type": "code",
   "execution_count": 68,
   "metadata": {},
   "outputs": [
    {
     "data": {
      "text/plain": [
       "tensor([-1.9063e+00, -9.9594e-01, -3.8469e-02,  4.0469e-01,  2.1735e+00,\n",
       "        -1.5166e+00, -1.3683e+00, -8.4577e-04, -4.5535e-01, -1.2135e+00])"
      ]
     },
     "execution_count": 68,
     "metadata": {},
     "output_type": "execute_result"
    }
   ],
   "source": [
    "torch.randn(10)   # 创建均值为0，方差为1的正态分布"
   ]
  },
  {
   "cell_type": "code",
   "execution_count": 69,
   "metadata": {},
   "outputs": [
    {
     "data": {
      "text/plain": [
       "tensor([3, 4, 1, 0, 2, 8, 9, 7, 6, 5])"
      ]
     },
     "execution_count": 69,
     "metadata": {},
     "output_type": "execute_result"
    }
   ],
   "source": [
    "torch.randperm(10)    # 创建10个0到9的打乱的随机整数"
   ]
  },
  {
   "cell_type": "code",
   "execution_count": 70,
   "metadata": {},
   "outputs": [
    {
     "data": {
      "text/plain": [
       "tensor([ 3,  1, 16,  4,  2, 10, 11, 18, 12, 17, 19,  8,  5, 13, 15, 14,  0,  9,\n",
       "         6,  7])"
      ]
     },
     "execution_count": 70,
     "metadata": {},
     "output_type": "execute_result"
    }
   ],
   "source": [
    "torch.randperm(20)"
   ]
  },
  {
   "cell_type": "code",
   "execution_count": 72,
   "metadata": {},
   "outputs": [
    {
     "data": {
      "text/plain": [
       "tensor([[53, 51, 29, 77, 82],\n",
       "        [69, 89, 86, 88, 30],\n",
       "        [21, 47, 37, 66, 10],\n",
       "        [27, 96, 10, 94, 66],\n",
       "        [ 3, 92, 64, 83, 73]])"
      ]
     },
     "execution_count": 72,
     "metadata": {},
     "output_type": "execute_result"
    }
   ],
   "source": [
    "x = torch.randint(1,99,(5,5))\n",
    "x"
   ]
  },
  {
   "cell_type": "code",
   "execution_count": 73,
   "metadata": {},
   "outputs": [
    {
     "data": {
      "text/plain": [
       "tensor([1, 3, 1, 3, 0])"
      ]
     },
     "execution_count": 73,
     "metadata": {},
     "output_type": "execute_result"
    }
   ],
   "source": [
    "torch.argmax(x,dim = 0)"
   ]
  },
  {
   "cell_type": "code",
   "execution_count": 74,
   "metadata": {},
   "outputs": [
    {
     "data": {
      "text/plain": [
       "tensor([[53, 51, 29, 77, 82],\n",
       "        [69, 89, 86, 88, 30],\n",
       "        [21, 47, 37, 66, 10],\n",
       "        [27, 96, 10, 94, 66],\n",
       "        [ 3, 92, 64, 83, 73],\n",
       "        [53, 51, 29, 77, 82],\n",
       "        [69, 89, 86, 88, 30],\n",
       "        [21, 47, 37, 66, 10],\n",
       "        [27, 96, 10, 94, 66],\n",
       "        [ 3, 92, 64, 83, 73]])"
      ]
     },
     "execution_count": 74,
     "metadata": {},
     "output_type": "execute_result"
    }
   ],
   "source": [
    "torch.cat((x,x))   # 合并，默认行合并"
   ]
  },
  {
   "cell_type": "code",
   "execution_count": 75,
   "metadata": {},
   "outputs": [
    {
     "data": {
      "text/plain": [
       "tensor([[53, 51, 29, 77, 82],\n",
       "        [69, 89, 86, 88, 30],\n",
       "        [21, 47, 37, 66, 10],\n",
       "        [27, 96, 10, 94, 66],\n",
       "        [ 3, 92, 64, 83, 73]])"
      ]
     },
     "execution_count": 75,
     "metadata": {},
     "output_type": "execute_result"
    }
   ],
   "source": [
    "x"
   ]
  },
  {
   "cell_type": "code",
   "execution_count": 76,
   "metadata": {},
   "outputs": [
    {
     "data": {
      "text/plain": [
       "(tensor([[53, 51, 29, 77, 82],\n",
       "         [69, 89, 86, 88, 30],\n",
       "         [21, 47, 37, 66, 10]]),\n",
       " tensor([[27, 96, 10, 94, 66],\n",
       "         [ 3, 92, 64, 83, 73]]))"
      ]
     },
     "execution_count": 76,
     "metadata": {},
     "output_type": "execute_result"
    }
   ],
   "source": [
    "torch.chunk(x,2,0)   # qie"
   ]
  },
  {
   "cell_type": "code",
   "execution_count": 1,
   "metadata": {
    "collapsed": true,
    "jupyter": {
     "outputs_hidden": true
    }
   },
   "outputs": [
    {
     "data": {
      "text/html": [
       "<div>\n",
       "<style scoped>\n",
       "    .dataframe tbody tr th:only-of-type {\n",
       "        vertical-align: middle;\n",
       "    }\n",
       "\n",
       "    .dataframe tbody tr th {\n",
       "        vertical-align: top;\n",
       "    }\n",
       "\n",
       "    .dataframe thead th {\n",
       "        text-align: right;\n",
       "    }\n",
       "</style>\n",
       "<table border=\"1\" class=\"dataframe\">\n",
       "  <thead>\n",
       "    <tr style=\"text-align: right;\">\n",
       "      <th></th>\n",
       "      <th>姓名</th>\n",
       "      <th>沟通情况</th>\n",
       "      <th>Unnamed: 2</th>\n",
       "      <th>Unnamed: 3</th>\n",
       "      <th>家长回复</th>\n",
       "    </tr>\n",
       "  </thead>\n",
       "  <tbody>\n",
       "    <tr>\n",
       "      <th>0</th>\n",
       "      <td>黄希蕊</td>\n",
       "      <td>阅读理解、记忆力比同龄人差一点，觉得时间太紧张了 没时间阅读</td>\n",
       "      <td>1.25考试</td>\n",
       "      <td>NaN</td>\n",
       "      <td>NaN</td>\n",
       "    </tr>\n",
       "    <tr>\n",
       "      <th>1</th>\n",
       "      <td>郭晓涵</td>\n",
       "      <td>课外阅读、课外文言文，学校秋季加了课，秋季部分课程没有上完，说了9天计划</td>\n",
       "      <td>115-120左右，作文52左右</td>\n",
       "      <td>询问了</td>\n",
       "      <td>NaN</td>\n",
       "    </tr>\n",
       "    <tr>\n",
       "      <th>2</th>\n",
       "      <td>于涵</td>\n",
       "      <td>18.19期末考试结束，语文中上，120不低于95，深圳，基本98-109</td>\n",
       "      <td>NaN</td>\n",
       "      <td>于涵爸爸，孩子成绩出来了吗？之前跟您沟通过，您说孩子18考试，我看今天23了，所以来问问情况</td>\n",
       "      <td>NaN</td>\n",
       "    </tr>\n",
       "    <tr>\n",
       "      <th>3</th>\n",
       "      <td>陈雪利</td>\n",
       "      <td>等星期天晚上哈，学习方面很多地方还要问娃娃自己，因为娃娃大了好多东西问她她说我不懂</td>\n",
       "      <td>NaN</td>\n",
       "      <td>雪利妈妈，孩子今晚有时间吗？</td>\n",
       "      <td>NaN</td>\n",
       "    </tr>\n",
       "    <tr>\n",
       "      <th>4</th>\n",
       "      <td>夏铭浩</td>\n",
       "      <td>总分150,21.22期末考试，晚上九点十分放学，发孩子微信 和孩子沟通</td>\n",
       "      <td>NaN</td>\n",
       "      <td>问了孩子</td>\n",
       "      <td>NaN</td>\n",
       "    </tr>\n",
       "    <tr>\n",
       "      <th>5</th>\n",
       "      <td>宫肇轩</td>\n",
       "      <td>微信没人接</td>\n",
       "      <td>NaN</td>\n",
       "      <td>NaN</td>\n",
       "      <td>NaN</td>\n",
       "    </tr>\n",
       "    <tr>\n",
       "      <th>6</th>\n",
       "      <td>于雯淼</td>\n",
       "      <td>秋季后半段没怎么上课，时间比较紧张，学校是周一到周六上课，集中学习，寒假春季的课程如果到时候...</td>\n",
       "      <td>NaN</td>\n",
       "      <td>问了妈妈</td>\n",
       "      <td>NaN</td>\n",
       "    </tr>\n",
       "    <tr>\n",
       "      <th>7</th>\n",
       "      <td>杜婧蕾</td>\n",
       "      <td>NaN</td>\n",
       "      <td>NaN</td>\n",
       "      <td>NaN</td>\n",
       "      <td>NaN</td>\n",
       "    </tr>\n",
       "    <tr>\n",
       "      <th>8</th>\n",
       "      <td>郝翊帆</td>\n",
       "      <td>觉得课上作业简单不想做，网课比较多，作业也很多，语文不是特别好，跟之前辅导老师沟通过，最近成...</td>\n",
       "      <td>NaN</td>\n",
       "      <td>NaN</td>\n",
       "      <td>NaN</td>\n",
       "    </tr>\n",
       "    <tr>\n",
       "      <th>9</th>\n",
       "      <td>彭俊怡</td>\n",
       "      <td>微信忙线中</td>\n",
       "      <td>NaN</td>\n",
       "      <td>NaN</td>\n",
       "      <td>NaN</td>\n",
       "    </tr>\n",
       "    <tr>\n",
       "      <th>10</th>\n",
       "      <td>王嘉皓</td>\n",
       "      <td>还是在基础不好，没有大的改观。目前是在准备期末考试，学习自觉性上还是可以的。</td>\n",
       "      <td>NaN</td>\n",
       "      <td>问了期末考试成绩是否出来</td>\n",
       "      <td>NaN</td>\n",
       "    </tr>\n",
       "    <tr>\n",
       "      <th>11</th>\n",
       "      <td>姜宇婷</td>\n",
       "      <td>谢谢秀珍老师的关心和厚爱，马上期末考试了，能给她推荐点卷子让她做一下吗？比较贪玩，需要给孩子...</td>\n",
       "      <td>NaN</td>\n",
       "      <td>NaN</td>\n",
       "      <td>NaN</td>\n",
       "    </tr>\n",
       "    <tr>\n",
       "      <th>12</th>\n",
       "      <td>宋文浩</td>\n",
       "      <td>下周期末考试，好像下周三考试，初一开始上学而思，换老师比较多，家长比较忙关注度不高，学校里面...</td>\n",
       "      <td>NaN</td>\n",
       "      <td>NaN</td>\n",
       "      <td>NaN</td>\n",
       "    </tr>\n",
       "    <tr>\n",
       "      <th>13</th>\n",
       "      <td>李鹏</td>\n",
       "      <td>最近一次考试成绩下降了，语文中等水平，住校的，妈妈对孩子的学习情况不是很清楚，似乎文言文不太...</td>\n",
       "      <td>NaN</td>\n",
       "      <td>NaN</td>\n",
       "      <td>NaN</td>\n",
       "    </tr>\n",
       "    <tr>\n",
       "      <th>14</th>\n",
       "      <td>李科达</td>\n",
       "      <td>住校不在家，科达爸爸，孩子回家了吗？</td>\n",
       "      <td>NaN</td>\n",
       "      <td>NaN</td>\n",
       "      <td>NaN</td>\n",
       "    </tr>\n",
       "    <tr>\n",
       "      <th>15</th>\n",
       "      <td>赵启正</td>\n",
       "      <td>微信未接通</td>\n",
       "      <td>NaN</td>\n",
       "      <td>NaN</td>\n",
       "      <td>NaN</td>\n",
       "    </tr>\n",
       "    <tr>\n",
       "      <th>16</th>\n",
       "      <td>陈若文</td>\n",
       "      <td>20期末考试</td>\n",
       "      <td>NaN</td>\n",
       "      <td>NaN</td>\n",
       "      <td>NaN</td>\n",
       "    </tr>\n",
       "    <tr>\n",
       "      <th>17</th>\n",
       "      <td>孙雨涵</td>\n",
       "      <td>嗯 我只能先保存哦</td>\n",
       "      <td>NaN</td>\n",
       "      <td>问了期末考试</td>\n",
       "      <td>NaN</td>\n",
       "    </tr>\n",
       "    <tr>\n",
       "      <th>18</th>\n",
       "      <td>李其恩</td>\n",
       "      <td>谢谢老师，疫情缘故，我们现在改线上课了。每天作业打卡有时间要求的，所以咱们群里打卡，只能让其...</td>\n",
       "      <td>NaN</td>\n",
       "      <td>NaN</td>\n",
       "      <td>NaN</td>\n",
       "    </tr>\n",
       "    <tr>\n",
       "      <th>19</th>\n",
       "      <td>徐乐遥</td>\n",
       "      <td>微信询问了孩子</td>\n",
       "      <td>NaN</td>\n",
       "      <td>NaN</td>\n",
       "      <td>今天1.23刚第一天考试，自己感觉语文考的还行应该有进步</td>\n",
       "    </tr>\n",
       "    <tr>\n",
       "      <th>20</th>\n",
       "      <td>朱朗宁</td>\n",
       "      <td>考试结束了，还在上课，</td>\n",
       "      <td>NaN</td>\n",
       "      <td>NaN</td>\n",
       "      <td>NaN</td>\n",
       "    </tr>\n",
       "    <tr>\n",
       "      <th>21</th>\n",
       "      <td>崔培烁</td>\n",
       "      <td>NaN</td>\n",
       "      <td>NaN</td>\n",
       "      <td>NaN</td>\n",
       "      <td>NaN</td>\n",
       "    </tr>\n",
       "    <tr>\n",
       "      <th>22</th>\n",
       "      <td>官佳龙</td>\n",
       "      <td>阅读、作文这些比较欠缺</td>\n",
       "      <td>NaN</td>\n",
       "      <td>NaN</td>\n",
       "      <td>NaN</td>\n",
       "    </tr>\n",
       "    <tr>\n",
       "      <th>23</th>\n",
       "      <td>许吉瑞</td>\n",
       "      <td>微信未接通</td>\n",
       "      <td>NaN</td>\n",
       "      <td>NaN</td>\n",
       "      <td>NaN</td>\n",
       "    </tr>\n",
       "    <tr>\n",
       "      <th>24</th>\n",
       "      <td>滕瑜</td>\n",
       "      <td>微信询问了孩子</td>\n",
       "      <td>NaN</td>\n",
       "      <td>NaN</td>\n",
       "      <td>NaN</td>\n",
       "    </tr>\n",
       "    <tr>\n",
       "      <th>25</th>\n",
       "      <td>严诺</td>\n",
       "      <td>NaN</td>\n",
       "      <td>NaN</td>\n",
       "      <td>NaN</td>\n",
       "      <td>NaN</td>\n",
       "    </tr>\n",
       "    <tr>\n",
       "      <th>26</th>\n",
       "      <td>秦子墨</td>\n",
       "      <td>微信拒接，待会儿回复</td>\n",
       "      <td>NaN</td>\n",
       "      <td>NaN</td>\n",
       "      <td>NaN</td>\n",
       "    </tr>\n",
       "    <tr>\n",
       "      <th>27</th>\n",
       "      <td>郭泽铭</td>\n",
       "      <td>早出晚归，一对一补习理科，数理化比较弱，英语是强项，语文一直在补习，还算不错，之前把作文交给...</td>\n",
       "      <td>NaN</td>\n",
       "      <td>二次问了孩子有没有时间</td>\n",
       "      <td>NaN</td>\n",
       "    </tr>\n",
       "    <tr>\n",
       "      <th>28</th>\n",
       "      <td>王纬恒</td>\n",
       "      <td>孩子主要是阅读理解和写作方面比较薄弱，望老师多多指点</td>\n",
       "      <td>因为疫情没有考试</td>\n",
       "      <td>NaN</td>\n",
       "      <td>NaN</td>\n",
       "    </tr>\n",
       "    <tr>\n",
       "      <th>29</th>\n",
       "      <td>王语涵</td>\n",
       "      <td>还有一个周期末考试，语文就是背的东西太多了，然后我就记得不扎实，古诗容易混，这个学而思的课都...</td>\n",
       "      <td>NaN</td>\n",
       "      <td>NaN</td>\n",
       "      <td>NaN</td>\n",
       "    </tr>\n",
       "    <tr>\n",
       "      <th>30</th>\n",
       "      <td>于龙川</td>\n",
       "      <td>先谢谢您了他今年还有一对一的线下语文课，学而思的课算是他知识的拓展吧，因为上了两年了，也舍不...</td>\n",
       "      <td>NaN</td>\n",
       "      <td>NaN</td>\n",
       "      <td>NaN</td>\n",
       "    </tr>\n",
       "    <tr>\n",
       "      <th>31</th>\n",
       "      <td>陈倩男</td>\n",
       "      <td>住校，学习基本自己负责，妈妈没怎么读书，不怎么管孩子学习，周五晚上六七点回家，语文中上，其他...</td>\n",
       "      <td>NaN</td>\n",
       "      <td>NaN</td>\n",
       "      <td>NaN</td>\n",
       "    </tr>\n",
       "    <tr>\n",
       "      <th>32</th>\n",
       "      <td>刘晶凝</td>\n",
       "      <td>她阅读方便需要加强。丢分多一些</td>\n",
       "      <td>NaN</td>\n",
       "      <td>NaN</td>\n",
       "      <td>NaN</td>\n",
       "    </tr>\n",
       "    <tr>\n",
       "      <th>33</th>\n",
       "      <td>胡业</td>\n",
       "      <td>NaN</td>\n",
       "      <td>NaN</td>\n",
       "      <td>NaN</td>\n",
       "      <td>NaN</td>\n",
       "    </tr>\n",
       "    <tr>\n",
       "      <th>34</th>\n",
       "      <td>惠子鸣</td>\n",
       "      <td>他主要就是现代文阅读和作文这一块儿失分比较多，我也是一直很着急，不知道怎样才能更快的提分，妈...</td>\n",
       "      <td>NaN</td>\n",
       "      <td>NaN</td>\n",
       "      <td>NaN</td>\n",
       "    </tr>\n",
       "    <tr>\n",
       "      <th>35</th>\n",
       "      <td>韩逸晴</td>\n",
       "      <td>还没期末考试，谢谢老师用心</td>\n",
       "      <td>明天1.26下午五点考完试放假，</td>\n",
       "      <td>NaN</td>\n",
       "      <td>NaN</td>\n",
       "    </tr>\n",
       "    <tr>\n",
       "      <th>36</th>\n",
       "      <td>张超俊</td>\n",
       "      <td>昨天考的，还没出分，，选择题没问题，文言文对的改错了估计减2分，阅读可能减2分</td>\n",
       "      <td>NaN</td>\n",
       "      <td>NaN</td>\n",
       "      <td>NaN</td>\n",
       "    </tr>\n",
       "    <tr>\n",
       "      <th>37</th>\n",
       "      <td>马心玥</td>\n",
       "      <td>和孩子聊得比较多</td>\n",
       "      <td>NaN</td>\n",
       "      <td>NaN</td>\n",
       "      <td>NaN</td>\n",
       "    </tr>\n",
       "    <tr>\n",
       "      <th>38</th>\n",
       "      <td>谢韵雅</td>\n",
       "      <td>好的，今天还要考最后一天，等她回来了我转告她</td>\n",
       "      <td>NaN</td>\n",
       "      <td>NaN</td>\n",
       "      <td>NaN</td>\n",
       "    </tr>\n",
       "    <tr>\n",
       "      <th>39</th>\n",
       "      <td>马欢</td>\n",
       "      <td>老师，我们还没有期末考，好的</td>\n",
       "      <td>NaN</td>\n",
       "      <td>NaN</td>\n",
       "      <td>NaN</td>\n",
       "    </tr>\n",
       "    <tr>\n",
       "      <th>40</th>\n",
       "      <td>蒋朝伟</td>\n",
       "      <td>呦，看见的，可能是学校忙，还没有时间做，26考试</td>\n",
       "      <td>NaN</td>\n",
       "      <td>二次问成绩出来了没</td>\n",
       "      <td>NaN</td>\n",
       "    </tr>\n",
       "    <tr>\n",
       "      <th>41</th>\n",
       "      <td>王晨烨</td>\n",
       "      <td>从他上小学开始就培养他独立学习的习惯，跟他说不要依赖任何人，走上社会也是只能靠自己。所以从小...</td>\n",
       "      <td>NaN</td>\n",
       "      <td>NaN</td>\n",
       "      <td>NaN</td>\n",
       "    </tr>\n",
       "    <tr>\n",
       "      <th>42</th>\n",
       "      <td>张梦雅</td>\n",
       "      <td>把它打印出来 ，给小孩回来做，谢谢老师啦</td>\n",
       "      <td>NaN</td>\n",
       "      <td>NaN</td>\n",
       "      <td>NaN</td>\n",
       "    </tr>\n",
       "    <tr>\n",
       "      <th>43</th>\n",
       "      <td>祝心悦 很优秀</td>\n",
       "      <td>秀珍老师，祝心悦考完期末试了，但是没有发成绩呢！今天才放假，所以打卡没有参加，不好意思啊！</td>\n",
       "      <td>考完了，语文出成绩了，他们天津市120分满分，她打了109。</td>\n",
       "      <td>NaN</td>\n",
       "      <td>NaN</td>\n",
       "    </tr>\n",
       "    <tr>\n",
       "      <th>44</th>\n",
       "      <td>睿宇</td>\n",
       "      <td>已聊过</td>\n",
       "      <td>NaN</td>\n",
       "      <td>NaN</td>\n",
       "      <td>NaN</td>\n",
       "    </tr>\n",
       "    <tr>\n",
       "      <th>45</th>\n",
       "      <td>张益铭</td>\n",
       "      <td>正在准备期末考</td>\n",
       "      <td>NaN</td>\n",
       "      <td>回去整理好发给我</td>\n",
       "      <td>NaN</td>\n",
       "    </tr>\n",
       "    <tr>\n",
       "      <th>46</th>\n",
       "      <td>孙鸣杰 寒假转出去了</td>\n",
       "      <td>不过上了学而思之后，语文的确有进步了。谢谢老师！</td>\n",
       "      <td>NaN</td>\n",
       "      <td>NaN</td>\n",
       "      <td>NaN</td>\n",
       "    </tr>\n",
       "    <tr>\n",
       "      <th>47</th>\n",
       "      <td>刘昱凡</td>\n",
       "      <td>昱凡在您这边的课一直是我在跟进，但最近我老父亲去世了，导致孩子最近的作业没有及时完成，我尽量...</td>\n",
       "      <td>NaN</td>\n",
       "      <td>NaN</td>\n",
       "      <td>NaN</td>\n",
       "    </tr>\n",
       "    <tr>\n",
       "      <th>48</th>\n",
       "      <td>周立原</td>\n",
       "      <td>立原爸爸，立原期末考试了吗？</td>\n",
       "      <td>NaN</td>\n",
       "      <td>NaN</td>\n",
       "      <td>NaN</td>\n",
       "    </tr>\n",
       "    <tr>\n",
       "      <th>49</th>\n",
       "      <td>张紫馨</td>\n",
       "      <td>周三考试</td>\n",
       "      <td>NaN</td>\n",
       "      <td>NaN</td>\n",
       "      <td>NaN</td>\n",
       "    </tr>\n",
       "    <tr>\n",
       "      <th>50</th>\n",
       "      <td>徐子溪 爸爸妈妈</td>\n",
       "      <td>子溪妈妈，您现在有空吗？</td>\n",
       "      <td>NaN</td>\n",
       "      <td>NaN</td>\n",
       "      <td>NaN</td>\n",
       "    </tr>\n",
       "    <tr>\n",
       "      <th>51</th>\n",
       "      <td>徐铜辰 沟通很少</td>\n",
       "      <td>铜辰妈妈，孩子回家了吗？</td>\n",
       "      <td>NaN</td>\n",
       "      <td>NaN</td>\n",
       "      <td>NaN</td>\n",
       "    </tr>\n",
       "  </tbody>\n",
       "</table>\n",
       "</div>"
      ],
      "text/plain": [
       "            姓名                                               沟通情况  \\\n",
       "0          黄希蕊                     阅读理解、记忆力比同龄人差一点，觉得时间太紧张了 没时间阅读   \n",
       "1          郭晓涵               课外阅读、课外文言文，学校秋季加了课，秋季部分课程没有上完，说了9天计划   \n",
       "2           于涵              18.19期末考试结束，语文中上，120不低于95，深圳，基本98-109   \n",
       "3          陈雪利          等星期天晚上哈，学习方面很多地方还要问娃娃自己，因为娃娃大了好多东西问她她说我不懂   \n",
       "4          夏铭浩               总分150,21.22期末考试，晚上九点十分放学，发孩子微信 和孩子沟通   \n",
       "5          宫肇轩                                              微信没人接   \n",
       "6          于雯淼  秋季后半段没怎么上课，时间比较紧张，学校是周一到周六上课，集中学习，寒假春季的课程如果到时候...   \n",
       "7          杜婧蕾                                                NaN   \n",
       "8          郝翊帆  觉得课上作业简单不想做，网课比较多，作业也很多，语文不是特别好，跟之前辅导老师沟通过，最近成...   \n",
       "9          彭俊怡                                              微信忙线中   \n",
       "10         王嘉皓             还是在基础不好，没有大的改观。目前是在准备期末考试，学习自觉性上还是可以的。   \n",
       "11         姜宇婷  谢谢秀珍老师的关心和厚爱，马上期末考试了，能给她推荐点卷子让她做一下吗？比较贪玩，需要给孩子...   \n",
       "12         宋文浩  下周期末考试，好像下周三考试，初一开始上学而思，换老师比较多，家长比较忙关注度不高，学校里面...   \n",
       "13          李鹏  最近一次考试成绩下降了，语文中等水平，住校的，妈妈对孩子的学习情况不是很清楚，似乎文言文不太...   \n",
       "14         李科达                                 住校不在家，科达爸爸，孩子回家了吗？   \n",
       "15         赵启正                                              微信未接通   \n",
       "16         陈若文                                             20期末考试   \n",
       "17         孙雨涵                                          嗯 我只能先保存哦   \n",
       "18         李其恩  谢谢老师，疫情缘故，我们现在改线上课了。每天作业打卡有时间要求的，所以咱们群里打卡，只能让其...   \n",
       "19         徐乐遥                                            微信询问了孩子   \n",
       "20         朱朗宁                                        考试结束了，还在上课，   \n",
       "21         崔培烁                                                NaN   \n",
       "22         官佳龙                                        阅读、作文这些比较欠缺   \n",
       "23         许吉瑞                                              微信未接通   \n",
       "24          滕瑜                                            微信询问了孩子   \n",
       "25          严诺                                                NaN   \n",
       "26         秦子墨                                         微信拒接，待会儿回复   \n",
       "27         郭泽铭  早出晚归，一对一补习理科，数理化比较弱，英语是强项，语文一直在补习，还算不错，之前把作文交给...   \n",
       "28         王纬恒                         孩子主要是阅读理解和写作方面比较薄弱，望老师多多指点   \n",
       "29         王语涵  还有一个周期末考试，语文就是背的东西太多了，然后我就记得不扎实，古诗容易混，这个学而思的课都...   \n",
       "30         于龙川  先谢谢您了他今年还有一对一的线下语文课，学而思的课算是他知识的拓展吧，因为上了两年了，也舍不...   \n",
       "31         陈倩男  住校，学习基本自己负责，妈妈没怎么读书，不怎么管孩子学习，周五晚上六七点回家，语文中上，其他...   \n",
       "32         刘晶凝                                    她阅读方便需要加强。丢分多一些   \n",
       "33          胡业                                                NaN   \n",
       "34         惠子鸣  他主要就是现代文阅读和作文这一块儿失分比较多，我也是一直很着急，不知道怎样才能更快的提分，妈...   \n",
       "35         韩逸晴                                      还没期末考试，谢谢老师用心   \n",
       "36         张超俊            昨天考的，还没出分，，选择题没问题，文言文对的改错了估计减2分，阅读可能减2分   \n",
       "37         马心玥                                           和孩子聊得比较多   \n",
       "38         谢韵雅                             好的，今天还要考最后一天，等她回来了我转告她   \n",
       "39          马欢                                     老师，我们还没有期末考，好的   \n",
       "40         蒋朝伟                           呦，看见的，可能是学校忙，还没有时间做，26考试   \n",
       "41         王晨烨  从他上小学开始就培养他独立学习的习惯，跟他说不要依赖任何人，走上社会也是只能靠自己。所以从小...   \n",
       "42         张梦雅                               把它打印出来 ，给小孩回来做，谢谢老师啦   \n",
       "43     祝心悦 很优秀      秀珍老师，祝心悦考完期末试了，但是没有发成绩呢！今天才放假，所以打卡没有参加，不好意思啊！   \n",
       "44          睿宇                                                已聊过   \n",
       "45         张益铭                                            正在准备期末考   \n",
       "46  孙鸣杰 寒假转出去了                           不过上了学而思之后，语文的确有进步了。谢谢老师！   \n",
       "47         刘昱凡  昱凡在您这边的课一直是我在跟进，但最近我老父亲去世了，导致孩子最近的作业没有及时完成，我尽量...   \n",
       "48         周立原                                     立原爸爸，立原期末考试了吗？   \n",
       "49         张紫馨                                               周三考试   \n",
       "50    徐子溪 爸爸妈妈                                       子溪妈妈，您现在有空吗？   \n",
       "51    徐铜辰 沟通很少                                       铜辰妈妈，孩子回家了吗？   \n",
       "\n",
       "                        Unnamed: 2  \\\n",
       "0                           1.25考试   \n",
       "1                 115-120左右，作文52左右   \n",
       "2                              NaN   \n",
       "3                              NaN   \n",
       "4                              NaN   \n",
       "5                              NaN   \n",
       "6                              NaN   \n",
       "7                              NaN   \n",
       "8                              NaN   \n",
       "9                              NaN   \n",
       "10                             NaN   \n",
       "11                             NaN   \n",
       "12                             NaN   \n",
       "13                             NaN   \n",
       "14                             NaN   \n",
       "15                             NaN   \n",
       "16                             NaN   \n",
       "17                             NaN   \n",
       "18                             NaN   \n",
       "19                             NaN   \n",
       "20                             NaN   \n",
       "21                             NaN   \n",
       "22                             NaN   \n",
       "23                             NaN   \n",
       "24                             NaN   \n",
       "25                             NaN   \n",
       "26                             NaN   \n",
       "27                             NaN   \n",
       "28                        因为疫情没有考试   \n",
       "29                             NaN   \n",
       "30                             NaN   \n",
       "31                             NaN   \n",
       "32                             NaN   \n",
       "33                             NaN   \n",
       "34                             NaN   \n",
       "35                明天1.26下午五点考完试放假，   \n",
       "36                             NaN   \n",
       "37                             NaN   \n",
       "38                             NaN   \n",
       "39                             NaN   \n",
       "40                             NaN   \n",
       "41                             NaN   \n",
       "42                             NaN   \n",
       "43  考完了，语文出成绩了，他们天津市120分满分，她打了109。   \n",
       "44                             NaN   \n",
       "45                             NaN   \n",
       "46                             NaN   \n",
       "47                             NaN   \n",
       "48                             NaN   \n",
       "49                             NaN   \n",
       "50                             NaN   \n",
       "51                             NaN   \n",
       "\n",
       "                                        Unnamed: 3  \\\n",
       "0                                              NaN   \n",
       "1                                              询问了   \n",
       "2   于涵爸爸，孩子成绩出来了吗？之前跟您沟通过，您说孩子18考试，我看今天23了，所以来问问情况   \n",
       "3                                   雪利妈妈，孩子今晚有时间吗？   \n",
       "4                                             问了孩子   \n",
       "5                                              NaN   \n",
       "6                                             问了妈妈   \n",
       "7                                              NaN   \n",
       "8                                              NaN   \n",
       "9                                              NaN   \n",
       "10                                    问了期末考试成绩是否出来   \n",
       "11                                             NaN   \n",
       "12                                             NaN   \n",
       "13                                             NaN   \n",
       "14                                             NaN   \n",
       "15                                             NaN   \n",
       "16                                             NaN   \n",
       "17                                          问了期末考试   \n",
       "18                                             NaN   \n",
       "19                                             NaN   \n",
       "20                                             NaN   \n",
       "21                                             NaN   \n",
       "22                                             NaN   \n",
       "23                                             NaN   \n",
       "24                                             NaN   \n",
       "25                                             NaN   \n",
       "26                                             NaN   \n",
       "27                                     二次问了孩子有没有时间   \n",
       "28                                             NaN   \n",
       "29                                             NaN   \n",
       "30                                             NaN   \n",
       "31                                             NaN   \n",
       "32                                             NaN   \n",
       "33                                             NaN   \n",
       "34                                             NaN   \n",
       "35                                             NaN   \n",
       "36                                             NaN   \n",
       "37                                             NaN   \n",
       "38                                             NaN   \n",
       "39                                             NaN   \n",
       "40                                       二次问成绩出来了没   \n",
       "41                                             NaN   \n",
       "42                                             NaN   \n",
       "43                                             NaN   \n",
       "44                                             NaN   \n",
       "45                                        回去整理好发给我   \n",
       "46                                             NaN   \n",
       "47                                             NaN   \n",
       "48                                             NaN   \n",
       "49                                             NaN   \n",
       "50                                             NaN   \n",
       "51                                             NaN   \n",
       "\n",
       "                            家长回复  \n",
       "0                            NaN  \n",
       "1                            NaN  \n",
       "2                            NaN  \n",
       "3                            NaN  \n",
       "4                            NaN  \n",
       "5                            NaN  \n",
       "6                            NaN  \n",
       "7                            NaN  \n",
       "8                            NaN  \n",
       "9                            NaN  \n",
       "10                           NaN  \n",
       "11                           NaN  \n",
       "12                           NaN  \n",
       "13                           NaN  \n",
       "14                           NaN  \n",
       "15                           NaN  \n",
       "16                           NaN  \n",
       "17                           NaN  \n",
       "18                           NaN  \n",
       "19  今天1.23刚第一天考试，自己感觉语文考的还行应该有进步  \n",
       "20                           NaN  \n",
       "21                           NaN  \n",
       "22                           NaN  \n",
       "23                           NaN  \n",
       "24                           NaN  \n",
       "25                           NaN  \n",
       "26                           NaN  \n",
       "27                           NaN  \n",
       "28                           NaN  \n",
       "29                           NaN  \n",
       "30                           NaN  \n",
       "31                           NaN  \n",
       "32                           NaN  \n",
       "33                           NaN  \n",
       "34                           NaN  \n",
       "35                           NaN  \n",
       "36                           NaN  \n",
       "37                           NaN  \n",
       "38                           NaN  \n",
       "39                           NaN  \n",
       "40                           NaN  \n",
       "41                           NaN  \n",
       "42                           NaN  \n",
       "43                           NaN  \n",
       "44                           NaN  \n",
       "45                           NaN  \n",
       "46                           NaN  \n",
       "47                           NaN  \n",
       "48                           NaN  \n",
       "49                           NaN  \n",
       "50                           NaN  \n",
       "51                           NaN  "
      ]
     },
     "execution_count": 1,
     "metadata": {},
     "output_type": "execute_result"
    }
   ],
   "source": [
    "import pandas as pd\n",
    "data = pd.read_excel(r\"C:\\Users\\Administrator\\Desktop\\寒假沟通记录表.xlsx\")\n",
    "data"
   ]
  },
  {
   "cell_type": "code",
   "execution_count": 3,
   "metadata": {},
   "outputs": [
    {
     "data": {
      "text/html": [
       "<div>\n",
       "<style scoped>\n",
       "    .dataframe tbody tr th:only-of-type {\n",
       "        vertical-align: middle;\n",
       "    }\n",
       "\n",
       "    .dataframe tbody tr th {\n",
       "        vertical-align: top;\n",
       "    }\n",
       "\n",
       "    .dataframe thead th {\n",
       "        text-align: right;\n",
       "    }\n",
       "</style>\n",
       "<table border=\"1\" class=\"dataframe\">\n",
       "  <thead>\n",
       "    <tr style=\"text-align: right;\">\n",
       "      <th></th>\n",
       "      <th>0</th>\n",
       "      <th>1</th>\n",
       "      <th>2</th>\n",
       "    </tr>\n",
       "  </thead>\n",
       "  <tbody>\n",
       "    <tr>\n",
       "      <th>0</th>\n",
       "      <td>马欢</td>\n",
       "      <td>文佳聪</td>\n",
       "      <td>张梦雅</td>\n",
       "    </tr>\n",
       "    <tr>\n",
       "      <th>1</th>\n",
       "      <td>徐铜辰</td>\n",
       "      <td>韩逸晴</td>\n",
       "      <td>郭晓涵</td>\n",
       "    </tr>\n",
       "    <tr>\n",
       "      <th>2</th>\n",
       "      <td>韩逸晴</td>\n",
       "      <td>徐铜辰</td>\n",
       "      <td>马心玥</td>\n",
       "    </tr>\n",
       "    <tr>\n",
       "      <th>3</th>\n",
       "      <td>王嘉皓</td>\n",
       "      <td>马欢</td>\n",
       "      <td>文佳聪</td>\n",
       "    </tr>\n",
       "    <tr>\n",
       "      <th>4</th>\n",
       "      <td>宫肇轩</td>\n",
       "      <td>张梦雅</td>\n",
       "      <td>韩逸晴</td>\n",
       "    </tr>\n",
       "    <tr>\n",
       "      <th>5</th>\n",
       "      <td>于涵</td>\n",
       "      <td>李鹏</td>\n",
       "      <td>徐铜辰</td>\n",
       "    </tr>\n",
       "    <tr>\n",
       "      <th>6</th>\n",
       "      <td>陈雪利</td>\n",
       "      <td>陈雪利</td>\n",
       "      <td>马欢</td>\n",
       "    </tr>\n",
       "    <tr>\n",
       "      <th>7</th>\n",
       "      <td>于雯淼</td>\n",
       "      <td>宫肇轩</td>\n",
       "      <td>王嘉皓</td>\n",
       "    </tr>\n",
       "    <tr>\n",
       "      <th>8</th>\n",
       "      <td>赵启正</td>\n",
       "      <td>于雯淼</td>\n",
       "      <td>李鹏</td>\n",
       "    </tr>\n",
       "    <tr>\n",
       "      <th>9</th>\n",
       "      <td>崔培烁</td>\n",
       "      <td>王嘉皓</td>\n",
       "      <td>杜婧蕾</td>\n",
       "    </tr>\n",
       "    <tr>\n",
       "      <th>10</th>\n",
       "      <td>郭泽铭</td>\n",
       "      <td>杜婧蕾</td>\n",
       "      <td>于涵</td>\n",
       "    </tr>\n",
       "    <tr>\n",
       "      <th>11</th>\n",
       "      <td>许吉瑞</td>\n",
       "      <td>于涵</td>\n",
       "      <td>宋文浩</td>\n",
       "    </tr>\n",
       "    <tr>\n",
       "      <th>12</th>\n",
       "      <td>滕瑜</td>\n",
       "      <td>郝翊帆</td>\n",
       "      <td>赵启正</td>\n",
       "    </tr>\n",
       "    <tr>\n",
       "      <th>13</th>\n",
       "      <td>NaN</td>\n",
       "      <td>赵启正</td>\n",
       "      <td>陈雪利</td>\n",
       "    </tr>\n",
       "    <tr>\n",
       "      <th>14</th>\n",
       "      <td>NaN</td>\n",
       "      <td>郭泽铭</td>\n",
       "      <td>于雯淼</td>\n",
       "    </tr>\n",
       "    <tr>\n",
       "      <th>15</th>\n",
       "      <td>NaN</td>\n",
       "      <td>刘晶凝</td>\n",
       "      <td>宫肇轩</td>\n",
       "    </tr>\n",
       "    <tr>\n",
       "      <th>16</th>\n",
       "      <td>NaN</td>\n",
       "      <td>许吉瑞</td>\n",
       "      <td>郝翊帆</td>\n",
       "    </tr>\n",
       "    <tr>\n",
       "      <th>17</th>\n",
       "      <td>NaN</td>\n",
       "      <td>滕瑜</td>\n",
       "      <td>崔培烁</td>\n",
       "    </tr>\n",
       "    <tr>\n",
       "      <th>18</th>\n",
       "      <td>NaN</td>\n",
       "      <td>官佳龙</td>\n",
       "      <td>官佳龙</td>\n",
       "    </tr>\n",
       "    <tr>\n",
       "      <th>19</th>\n",
       "      <td>NaN</td>\n",
       "      <td>NaN</td>\n",
       "      <td>郭泽铭</td>\n",
       "    </tr>\n",
       "    <tr>\n",
       "      <th>20</th>\n",
       "      <td>NaN</td>\n",
       "      <td>NaN</td>\n",
       "      <td>许吉瑞</td>\n",
       "    </tr>\n",
       "    <tr>\n",
       "      <th>21</th>\n",
       "      <td>NaN</td>\n",
       "      <td>NaN</td>\n",
       "      <td>刘晶凝</td>\n",
       "    </tr>\n",
       "    <tr>\n",
       "      <th>22</th>\n",
       "      <td>NaN</td>\n",
       "      <td>NaN</td>\n",
       "      <td>孙雨涵</td>\n",
       "    </tr>\n",
       "    <tr>\n",
       "      <th>23</th>\n",
       "      <td>NaN</td>\n",
       "      <td>NaN</td>\n",
       "      <td>滕瑜</td>\n",
       "    </tr>\n",
       "  </tbody>\n",
       "</table>\n",
       "</div>"
      ],
      "text/plain": [
       "      0    1    2\n",
       "0    马欢  文佳聪  张梦雅\n",
       "1   徐铜辰  韩逸晴  郭晓涵\n",
       "2   韩逸晴  徐铜辰  马心玥\n",
       "3   王嘉皓   马欢  文佳聪\n",
       "4   宫肇轩  张梦雅  韩逸晴\n",
       "5    于涵   李鹏  徐铜辰\n",
       "6   陈雪利  陈雪利   马欢\n",
       "7   于雯淼  宫肇轩  王嘉皓\n",
       "8   赵启正  于雯淼   李鹏\n",
       "9   崔培烁  王嘉皓  杜婧蕾\n",
       "10  郭泽铭  杜婧蕾   于涵\n",
       "11  许吉瑞   于涵  宋文浩\n",
       "12   滕瑜  郝翊帆  赵启正\n",
       "13  NaN  赵启正  陈雪利\n",
       "14  NaN  郭泽铭  于雯淼\n",
       "15  NaN  刘晶凝  宫肇轩\n",
       "16  NaN  许吉瑞  郝翊帆\n",
       "17  NaN   滕瑜  崔培烁\n",
       "18  NaN  官佳龙  官佳龙\n",
       "19  NaN  NaN  郭泽铭\n",
       "20  NaN  NaN  许吉瑞\n",
       "21  NaN  NaN  刘晶凝\n",
       "22  NaN  NaN  孙雨涵\n",
       "23  NaN  NaN   滕瑜"
      ]
     },
     "execution_count": 3,
     "metadata": {},
     "output_type": "execute_result"
    }
   ],
   "source": [
    "data = pd.read_excel(r\"C:\\Users\\Administrator\\Desktop\\寒假沟通记录表.xlsx\",sheet_name=1,header=None)\n",
    "data "
   ]
  },
  {
   "cell_type": "code",
   "execution_count": 5,
   "metadata": {},
   "outputs": [
    {
     "data": {
      "text/plain": [
       "['马欢',\n",
       " '徐铜辰',\n",
       " '韩逸晴',\n",
       " '王嘉皓',\n",
       " '宫肇轩',\n",
       " '于涵',\n",
       " '陈雪利',\n",
       " '于雯淼',\n",
       " '赵启正',\n",
       " '郭泽铭',\n",
       " '许吉瑞',\n",
       " '滕瑜']"
      ]
     },
     "execution_count": 5,
     "metadata": {},
     "output_type": "execute_result"
    }
   ],
   "source": [
    "name = []\n",
    "for i in data.loc[:,0]:\n",
    "    for j in data.loc[:,1]:\n",
    "        if i == j:\n",
    "            for k in data.loc[:,2]:\n",
    "                if j == k:\n",
    "                    name.append(k)\n",
    "name        "
   ]
  },
  {
   "cell_type": "code",
   "execution_count": 6,
   "metadata": {},
   "outputs": [
    {
     "data": {
      "text/plain": [
       "12"
      ]
     },
     "execution_count": 6,
     "metadata": {},
     "output_type": "execute_result"
    }
   ],
   "source": [
    "len(name)"
   ]
  },
  {
   "cell_type": "code",
   "execution_count": 1,
   "metadata": {},
   "outputs": [],
   "source": [
    "import torch\n",
    "a = torch.rand(4,32,8)\n",
    "b = torch.rand(5,32,8)\n",
    "c = torch.cat([a,b],dim = 0).shape"
   ]
  },
  {
   "cell_type": "code",
   "execution_count": 2,
   "metadata": {},
   "outputs": [
    {
     "data": {
      "text/plain": [
       "torch.Size([9, 32, 8])"
      ]
     },
     "execution_count": 2,
     "metadata": {},
     "output_type": "execute_result"
    }
   ],
   "source": [
    "c"
   ]
  },
  {
   "cell_type": "code",
   "execution_count": 3,
   "metadata": {},
   "outputs": [
    {
     "data": {
      "text/plain": [
       "torch.Size([2, 32, 8])"
      ]
     },
     "execution_count": 3,
     "metadata": {},
     "output_type": "execute_result"
    }
   ],
   "source": [
    "a = torch.rand(32,8)\n",
    "b = torch.rand(32,8)\n",
    "torch.stack([a,b],dim = 0).shape"
   ]
  },
  {
   "cell_type": "code",
   "execution_count": 6,
   "metadata": {},
   "outputs": [
    {
     "name": "stdout",
     "output_type": "stream",
     "text": [
      "torch.Size([1, 32, 8]) torch.Size([1, 32, 8])\n"
     ]
    }
   ],
   "source": [
    "c= torch.stack([a,b],dim = 0)\n",
    "aa , bb = c.split([1,1],dim = 0)\n",
    "print(aa.shape,bb.shape)"
   ]
  },
  {
   "cell_type": "code",
   "execution_count": 7,
   "metadata": {},
   "outputs": [
    {
     "data": {
      "text/plain": [
       "torch.Size([8, 32, 8])"
      ]
     },
     "execution_count": 7,
     "metadata": {},
     "output_type": "execute_result"
    }
   ],
   "source": [
    "cc = torch.stack([a,a,b,b,a,a,b,b],dim = 0)\n",
    "cc.shape"
   ]
  },
  {
   "cell_type": "code",
   "execution_count": 9,
   "metadata": {},
   "outputs": [
    {
     "name": "stdout",
     "output_type": "stream",
     "text": [
      "torch.Size([4, 32, 8]) torch.Size([4, 32, 8])\n"
     ]
    }
   ],
   "source": [
    "aaa,bbb= cc.chunk(2,dim = 0)    # 做除法\n",
    "print(aaa.shape,bbb.shape)"
   ]
  },
  {
   "cell_type": "code",
   "execution_count": 13,
   "metadata": {},
   "outputs": [
    {
     "data": {
      "text/plain": [
       "tensor(1, dtype=torch.uint8)"
      ]
     },
     "execution_count": 13,
     "metadata": {},
     "output_type": "execute_result"
    }
   ],
   "source": [
    "torch.all(torch.eq(a-b,torch.sub(a,b)))"
   ]
  },
  {
   "cell_type": "code",
   "execution_count": 14,
   "metadata": {},
   "outputs": [
    {
     "data": {
      "text/plain": [
       "tensor(1, dtype=torch.uint8)"
      ]
     },
     "execution_count": 14,
     "metadata": {},
     "output_type": "execute_result"
    }
   ],
   "source": [
    "torch.all(torch.eq(a*b,torch.mul(a,b)))"
   ]
  },
  {
   "cell_type": "code",
   "execution_count": 15,
   "metadata": {},
   "outputs": [
    {
     "data": {
      "text/plain": [
       "tensor(1, dtype=torch.uint8)"
      ]
     },
     "execution_count": 15,
     "metadata": {},
     "output_type": "execute_result"
    }
   ],
   "source": [
    "torch.all(torch.eq(a/b,torch.div(a,b)))"
   ]
  },
  {
   "cell_type": "code",
   "execution_count": 23,
   "metadata": {},
   "outputs": [],
   "source": [
    "aaaa = torch.Tensor([[3.,3.],[3.,3.]])\n",
    "bbbb = torch.ones(2,2)"
   ]
  },
  {
   "cell_type": "code",
   "execution_count": 24,
   "metadata": {},
   "outputs": [
    {
     "name": "stdout",
     "output_type": "stream",
     "text": [
      "tensor([[3., 3.],\n",
      "        [3., 3.]]) tensor([[1., 1.],\n",
      "        [1., 1.]])\n"
     ]
    }
   ],
   "source": [
    "print(aaaa,bbbb)"
   ]
  },
  {
   "cell_type": "code",
   "execution_count": 28,
   "metadata": {},
   "outputs": [],
   "source": [
    "x = torch.mm(aaaa,bbbb)\n",
    "y = torch.matmul(aaaa,bbbb)\n",
    "z = aaaa@bbbb"
   ]
  },
  {
   "cell_type": "code",
   "execution_count": 32,
   "metadata": {},
   "outputs": [
    {
     "data": {
      "text/plain": [
       "tensor([[6., 6.],\n",
       "        [6., 6.]])"
      ]
     },
     "execution_count": 32,
     "metadata": {},
     "output_type": "execute_result"
    }
   ],
   "source": [
    "x"
   ]
  },
  {
   "cell_type": "code",
   "execution_count": 33,
   "metadata": {},
   "outputs": [
    {
     "data": {
      "text/plain": [
       "tensor([[6., 6.],\n",
       "        [6., 6.]])"
      ]
     },
     "execution_count": 33,
     "metadata": {},
     "output_type": "execute_result"
    }
   ],
   "source": [
    "y"
   ]
  },
  {
   "cell_type": "code",
   "execution_count": 34,
   "metadata": {},
   "outputs": [
    {
     "data": {
      "text/plain": [
       "tensor([[6., 6.],\n",
       "        [6., 6.]])"
      ]
     },
     "execution_count": 34,
     "metadata": {},
     "output_type": "execute_result"
    }
   ],
   "source": [
    "z"
   ]
  },
  {
   "cell_type": "code",
   "execution_count": 35,
   "metadata": {},
   "outputs": [
    {
     "data": {
      "text/plain": [
       "tensor([[2.7183, 2.7183],\n",
       "        [2.7183, 2.7183]])"
      ]
     },
     "execution_count": 35,
     "metadata": {},
     "output_type": "execute_result"
    }
   ],
   "source": [
    "s = torch.exp(torch.ones(2,2))\n",
    "s"
   ]
  },
  {
   "cell_type": "code",
   "execution_count": 36,
   "metadata": {},
   "outputs": [
    {
     "data": {
      "text/plain": [
       "tensor([[1., 1.],\n",
       "        [1., 1.]])"
      ]
     },
     "execution_count": 36,
     "metadata": {},
     "output_type": "execute_result"
    }
   ],
   "source": [
    "torch.log(s)"
   ]
  },
  {
   "cell_type": "code",
   "execution_count": 37,
   "metadata": {},
   "outputs": [
    {
     "name": "stdout",
     "output_type": "stream",
     "text": [
      "tensor(3.) tensor(4.) tensor(3.) tensor(0.1400)\n"
     ]
    }
   ],
   "source": [
    "a = torch.tensor(3.14)\n",
    "print(a.floor(),a.ceil(),a.trunc(),a.frac())"
   ]
  },
  {
   "cell_type": "code",
   "execution_count": 38,
   "metadata": {},
   "outputs": [
    {
     "data": {
      "text/plain": [
       "tensor([[0., 0., 0., 0., 0.],\n",
       "        [0., 0., 0., 0., 0.],\n",
       "        [0., 0., 0., 0., 0.],\n",
       "        [0., 0., 0., 0., 0.],\n",
       "        [0., 0., 0., 0., 0.]])"
      ]
     },
     "execution_count": 38,
     "metadata": {},
     "output_type": "execute_result"
    }
   ],
   "source": [
    "e = torch.empty(5,5)\n",
    "e"
   ]
  },
  {
   "cell_type": "code",
   "execution_count": 39,
   "metadata": {},
   "outputs": [
    {
     "data": {
      "text/plain": [
       "tensor([[0.9890, 0.2545, 0.3543, 0.6772, 0.9557],\n",
       "        [0.4585, 0.8873, 0.5009, 0.2064, 0.6164],\n",
       "        [0.6616, 0.7603, 0.4838, 0.8841, 0.0931],\n",
       "        [0.3597, 0.4640, 0.5987, 0.5527, 0.4398],\n",
       "        [0.3163, 0.6001, 0.1099, 0.5374, 0.0503]])"
      ]
     },
     "execution_count": 39,
     "metadata": {},
     "output_type": "execute_result"
    }
   ],
   "source": [
    "i = torch.rand_like(e,dtype = torch.float)\n",
    "i"
   ]
  },
  {
   "cell_type": "code",
   "execution_count": 40,
   "metadata": {},
   "outputs": [
    {
     "data": {
      "text/plain": [
       "tensor([[1, 2, 3],\n",
       "        [4, 5, 6]])"
      ]
     },
     "execution_count": 40,
     "metadata": {},
     "output_type": "execute_result"
    }
   ],
   "source": [
    "u = torch.tensor([[1,2,3],[4,5,6]])\n",
    "u"
   ]
  },
  {
   "cell_type": "code",
   "execution_count": 41,
   "metadata": {},
   "outputs": [
    {
     "name": "stderr",
     "output_type": "stream",
     "text": [
      "E:\\environment\\lib\\site-packages\\torch\\tensor.py:287: UserWarning: non-inplace resize is deprecated\n",
      "  warnings.warn(\"non-inplace resize is deprecated\")\n"
     ]
    },
    {
     "data": {
      "text/plain": [
       "tensor([[1, 2],\n",
       "        [3, 4],\n",
       "        [5, 6]])"
      ]
     },
     "execution_count": 41,
     "metadata": {},
     "output_type": "execute_result"
    }
   ],
   "source": [
    "u.resize(3,2)"
   ]
  },
  {
   "cell_type": "code",
   "execution_count": 42,
   "metadata": {},
   "outputs": [
    {
     "data": {
      "text/plain": [
       "tensor([[1, 2],\n",
       "        [3, 4],\n",
       "        [5, 6]])"
      ]
     },
     "execution_count": 42,
     "metadata": {},
     "output_type": "execute_result"
    }
   ],
   "source": [
    "u.reshape(3,2)"
   ]
  },
  {
   "cell_type": "code",
   "execution_count": 43,
   "metadata": {},
   "outputs": [
    {
     "data": {
      "text/plain": [
       "tensor([[1, 2],\n",
       "        [3, 4],\n",
       "        [5, 6]])"
      ]
     },
     "execution_count": 43,
     "metadata": {},
     "output_type": "execute_result"
    }
   ],
   "source": [
    "u.view(3,2)"
   ]
  },
  {
   "cell_type": "code",
   "execution_count": 46,
   "metadata": {},
   "outputs": [
    {
     "data": {
      "text/plain": [
       "(tensor([ 1,  3,  8, 13, 22, 23, 45, 53, 65, 89]),\n",
       " tensor([2, 7, 8, 3, 0, 4, 1, 9, 6, 5]))"
      ]
     },
     "execution_count": 46,
     "metadata": {},
     "output_type": "execute_result"
    }
   ],
   "source": [
    "w = torch.tensor([22,45,1,13,23,89,65,3,8,53])\n",
    "torch.sort(w)"
   ]
  },
  {
   "cell_type": "code",
   "execution_count": 49,
   "metadata": {},
   "outputs": [
    {
     "data": {
      "text/plain": [
       "(tensor([89, 65, 53, 45, 23]), tensor([5, 6, 9, 1, 4]))"
      ]
     },
     "execution_count": 49,
     "metadata": {},
     "output_type": "execute_result"
    }
   ],
   "source": [
    "torch.topk(w,k = 5,dim = 0,largest = True,out=None)"
   ]
  },
  {
   "cell_type": "code",
   "execution_count": 50,
   "metadata": {},
   "outputs": [
    {
     "data": {
      "text/plain": [
       "(tensor(22), tensor(0))"
      ]
     },
     "execution_count": 50,
     "metadata": {},
     "output_type": "execute_result"
    }
   ],
   "source": [
    "torch.kthvalue(w,5,dim = 0)   # 沿着指定维度返回第k个最小值及其索引"
   ]
  },
  {
   "cell_type": "code",
   "execution_count": 51,
   "metadata": {},
   "outputs": [
    {
     "data": {
      "text/plain": [
       "tensor([0, 0, 0, 0, 0, 0, 0, 0, 0, 0], dtype=torch.uint8)"
      ]
     },
     "execution_count": 51,
     "metadata": {},
     "output_type": "execute_result"
    }
   ],
   "source": [
    "ww = torch.isnan(w)\n",
    "ww"
   ]
  },
  {
   "cell_type": "code",
   "execution_count": 52,
   "metadata": {},
   "outputs": [
    {
     "data": {
      "text/plain": [
       "array([22, 45,  1, 13, 23, 89, 65,  3,  8, 53], dtype=int64)"
      ]
     },
     "execution_count": 52,
     "metadata": {},
     "output_type": "execute_result"
    }
   ],
   "source": [
    "w.numpy()"
   ]
  },
  {
   "cell_type": "code",
   "execution_count": 54,
   "metadata": {},
   "outputs": [
    {
     "data": {
      "text/plain": [
       "tensor([22, 45,  1, 13, 23, 89, 65,  3,  8, 53])"
      ]
     },
     "execution_count": 54,
     "metadata": {},
     "output_type": "execute_result"
    }
   ],
   "source": [
    "n = w.numpy()\n",
    "nn = torch.from_numpy(n)\n",
    "nn"
   ]
  },
  {
   "cell_type": "code",
   "execution_count": 55,
   "metadata": {},
   "outputs": [
    {
     "data": {
      "text/plain": [
       "<module 'torch.cuda' from 'E:\\\\environment\\\\lib\\\\site-packages\\\\torch\\\\cuda\\\\__init__.py'>"
      ]
     },
     "execution_count": 55,
     "metadata": {},
     "output_type": "execute_result"
    }
   ],
   "source": [
    "torch.cuda"
   ]
  },
  {
   "cell_type": "code",
   "execution_count": 56,
   "metadata": {},
   "outputs": [
    {
     "data": {
      "text/plain": [
       "False"
      ]
     },
     "execution_count": 56,
     "metadata": {},
     "output_type": "execute_result"
    }
   ],
   "source": [
    "torch.cuda.is_available()"
   ]
  },
  {
   "cell_type": "code",
   "execution_count": null,
   "metadata": {},
   "outputs": [],
   "source": []
  },
  {
   "cell_type": "code",
   "execution_count": null,
   "metadata": {},
   "outputs": [],
   "source": []
  },
  {
   "cell_type": "code",
   "execution_count": null,
   "metadata": {},
   "outputs": [],
   "source": []
  },
  {
   "cell_type": "code",
   "execution_count": null,
   "metadata": {},
   "outputs": [],
   "source": []
  },
  {
   "cell_type": "code",
   "execution_count": null,
   "metadata": {},
   "outputs": [],
   "source": []
  },
  {
   "cell_type": "code",
   "execution_count": null,
   "metadata": {},
   "outputs": [],
   "source": []
  },
  {
   "cell_type": "code",
   "execution_count": null,
   "metadata": {},
   "outputs": [],
   "source": []
  },
  {
   "cell_type": "code",
   "execution_count": null,
   "metadata": {},
   "outputs": [],
   "source": []
  },
  {
   "cell_type": "code",
   "execution_count": null,
   "metadata": {},
   "outputs": [],
   "source": []
  },
  {
   "cell_type": "code",
   "execution_count": null,
   "metadata": {},
   "outputs": [],
   "source": []
  },
  {
   "cell_type": "code",
   "execution_count": null,
   "metadata": {},
   "outputs": [],
   "source": []
  },
  {
   "cell_type": "code",
   "execution_count": null,
   "metadata": {},
   "outputs": [],
   "source": []
  },
  {
   "cell_type": "code",
   "execution_count": null,
   "metadata": {},
   "outputs": [],
   "source": []
  },
  {
   "cell_type": "code",
   "execution_count": null,
   "metadata": {},
   "outputs": [],
   "source": []
  },
  {
   "cell_type": "code",
   "execution_count": null,
   "metadata": {},
   "outputs": [],
   "source": []
  }
 ],
 "metadata": {
  "kernelspec": {
   "display_name": "Python 3",
   "language": "python",
   "name": "python3"
  },
  "language_info": {
   "codemirror_mode": {
    "name": "ipython",
    "version": 3
   },
   "file_extension": ".py",
   "mimetype": "text/x-python",
   "name": "python",
   "nbconvert_exporter": "python",
   "pygments_lexer": "ipython3",
   "version": "3.7.6"
  }
 },
 "nbformat": 4,
 "nbformat_minor": 4
}
