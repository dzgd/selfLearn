{
 "cells": [
  {
   "cell_type": "code",
   "execution_count": 2,
   "metadata": {
    "collapsed": true,
    "jupyter": {
     "outputs_hidden": true
    }
   },
   "outputs": [
    {
     "data": {
      "text/html": [
       "<div>\n",
       "<style scoped>\n",
       "    .dataframe tbody tr th:only-of-type {\n",
       "        vertical-align: middle;\n",
       "    }\n",
       "\n",
       "    .dataframe tbody tr th {\n",
       "        vertical-align: top;\n",
       "    }\n",
       "\n",
       "    .dataframe thead th {\n",
       "        text-align: right;\n",
       "    }\n",
       "</style>\n",
       "<table border=\"1\" class=\"dataframe\">\n",
       "  <thead>\n",
       "    <tr style=\"text-align: right;\">\n",
       "      <th></th>\n",
       "      <th>公民身份证号码</th>\n",
       "      <th>姓名</th>\n",
       "      <th>性別</th>\n",
       "      <th>民族</th>\n",
       "      <th>出生年月</th>\n",
       "      <th>数据处理地</th>\n",
       "      <th>居住地详细地址</th>\n",
       "      <th>联系方式</th>\n",
       "      <th>复查状态</th>\n",
       "      <th>复查情况</th>\n",
       "      <th>区县</th>\n",
       "      <th>派出所名称</th>\n",
       "      <th>统计机构代码</th>\n",
       "    </tr>\n",
       "  </thead>\n",
       "  <tbody>\n",
       "    <tr>\n",
       "      <th>0</th>\n",
       "      <td>110103200010221234</td>\n",
       "      <td>余晨波</td>\n",
       "      <td>男</td>\n",
       "      <td>汉族</td>\n",
       "      <td>2000-10</td>\n",
       "      <td>陕西省西安市新城区</td>\n",
       "      <td>陕西省西安市新城区</td>\n",
       "      <td>13630259359</td>\n",
       "      <td>未复查</td>\n",
       "      <td>NaN</td>\n",
       "      <td>610102</td>\n",
       "      <td>西安市公安局新城分局胡家庙派出所</td>\n",
       "      <td>610102.0</td>\n",
       "    </tr>\n",
       "    <tr>\n",
       "      <th>1</th>\n",
       "      <td>110105195908155439</td>\n",
       "      <td>屈政年</td>\n",
       "      <td>男</td>\n",
       "      <td>汉族</td>\n",
       "      <td>1959-8</td>\n",
       "      <td>陕西省西安市新城区</td>\n",
       "      <td>NaN</td>\n",
       "      <td>NaN</td>\n",
       "      <td>未复查</td>\n",
       "      <td>NaN</td>\n",
       "      <td>610102</td>\n",
       "      <td>西安市公安局新城分局韩森寨派出所</td>\n",
       "      <td>610102.0</td>\n",
       "    </tr>\n",
       "    <tr>\n",
       "      <th>2</th>\n",
       "      <td>110105196510185464</td>\n",
       "      <td>慕澜</td>\n",
       "      <td>女</td>\n",
       "      <td>汉族</td>\n",
       "      <td>1965-10</td>\n",
       "      <td>陕西省西安市新城区</td>\n",
       "      <td>现居住地址不详</td>\n",
       "      <td>11111111111</td>\n",
       "      <td>未复查</td>\n",
       "      <td>NaN</td>\n",
       "      <td>610102</td>\n",
       "      <td>西安市公安局新城分局幸福中路派出所</td>\n",
       "      <td>610102.0</td>\n",
       "    </tr>\n",
       "    <tr>\n",
       "      <th>3</th>\n",
       "      <td>110106198207252738</td>\n",
       "      <td>杨大海</td>\n",
       "      <td>男</td>\n",
       "      <td>汉族</td>\n",
       "      <td>1982-7</td>\n",
       "      <td>陕西省西安市新城区</td>\n",
       "      <td>陕西省西安市未央区</td>\n",
       "      <td>13468829366</td>\n",
       "      <td>未复查</td>\n",
       "      <td>NaN</td>\n",
       "      <td>610102</td>\n",
       "      <td>西安市公安局新城分局长乐西路派出所</td>\n",
       "      <td>610102.0</td>\n",
       "    </tr>\n",
       "    <tr>\n",
       "      <th>4</th>\n",
       "      <td>11010819660327895X</td>\n",
       "      <td>唐钟</td>\n",
       "      <td>男</td>\n",
       "      <td>汉族</td>\n",
       "      <td>1966-3</td>\n",
       "      <td>陕西省西安市新城区</td>\n",
       "      <td>居住地址不详细</td>\n",
       "      <td>11111111111</td>\n",
       "      <td>未复查</td>\n",
       "      <td>NaN</td>\n",
       "      <td>610102</td>\n",
       "      <td>西安市公安局新城分局西五路派出所</td>\n",
       "      <td>610102.0</td>\n",
       "    </tr>\n",
       "  </tbody>\n",
       "</table>\n",
       "</div>"
      ],
      "text/plain": [
       "              公民身份证号码   姓名 性別  民族     出生年月      数据处理地    居住地详细地址         联系方式  \\\n",
       "0  110103200010221234  余晨波  男  汉族  2000-10  陕西省西安市新城区  陕西省西安市新城区  13630259359   \n",
       "1  110105195908155439  屈政年  男  汉族   1959-8  陕西省西安市新城区        NaN          NaN   \n",
       "2  110105196510185464   慕澜  女  汉族  1965-10  陕西省西安市新城区    现居住地址不详  11111111111   \n",
       "3  110106198207252738  杨大海  男  汉族   1982-7  陕西省西安市新城区  陕西省西安市未央区  13468829366   \n",
       "4  11010819660327895X   唐钟  男  汉族   1966-3  陕西省西安市新城区    居住地址不详细  11111111111   \n",
       "\n",
       "  复查状态  复查情况      区县              派出所名称    统计机构代码  \n",
       "0  未复查   NaN  610102   西安市公安局新城分局胡家庙派出所  610102.0  \n",
       "1  未复查   NaN  610102   西安市公安局新城分局韩森寨派出所  610102.0  \n",
       "2  未复查   NaN  610102  西安市公安局新城分局幸福中路派出所  610102.0  \n",
       "3  未复查   NaN  610102  西安市公安局新城分局长乐西路派出所  610102.0  \n",
       "4  未复查   NaN  610102   西安市公安局新城分局西五路派出所  610102.0  "
      ]
     },
     "execution_count": 2,
     "metadata": {},
     "output_type": "execute_result"
    }
   ],
   "source": [
    "import pandas as pd\n",
    "data = pd.read_excel(r\"F:\\1111.xlsx\")\n",
    "data.head()"
   ]
  },
  {
   "cell_type": "code",
   "execution_count": 83,
   "metadata": {},
   "outputs": [
    {
     "data": {
      "text/plain": [
       "(29709, 13)"
      ]
     },
     "execution_count": 83,
     "metadata": {},
     "output_type": "execute_result"
    }
   ],
   "source": [
    "data.shape"
   ]
  },
  {
   "cell_type": "code",
   "execution_count": 84,
   "metadata": {},
   "outputs": [
    {
     "name": "stdout",
     "output_type": "stream",
     "text": [
      "所花费时间：0.04\n"
     ]
    }
   ],
   "source": [
    "import os\n",
    "import pandas as pd\n",
    "import time\n",
    "start =time.time()\n",
    "df = data.loc[data[\"居住地详细地址\"].str.contains(\"新城区|碑林区|高陵区|未央区|灞桥区|莲湖区|周至县|临潼区|鄠邑区|长安区|阎良区|蓝田县|雁塔区\",na=False),:]\n",
    "end = time.time()\n",
    "print(\"所花费时间：%.2f\"%(end-start))\n",
    "df.to_csv(r'D:\\统计局\\新城区_居住地\\居住地.csv', index=False,encoding=\"GBK\")"
   ]
  },
  {
   "cell_type": "code",
   "execution_count": 92,
   "metadata": {},
   "outputs": [
    {
     "name": "stdout",
     "output_type": "stream",
     "text": [
      "所花费时间：0.14\n"
     ]
    }
   ],
   "source": [
    "import os\n",
    "import pandas as pd\n",
    "import time\n",
    "start =time.time()\n",
    "df1 = data.loc[data[\"居住地详细地址\"].str.contains(\"新城区|碑林区|高陵区|未央区|灞桥区|莲湖区|周至县|临潼区|鄠邑区|长安区|阎良区|蓝田县|雁塔区\",na=False)==False,:]\n",
    "end = time.time()\n",
    "print(\"所花费时间：%.2f\"%(end-start))\n",
    "df1.to_csv(r'D:\\统计局\\新城区_居住地\\居住地不详.csv', index=False,encoding=\"GBK\")"
   ]
  },
  {
   "cell_type": "code",
   "execution_count": 93,
   "metadata": {},
   "outputs": [
    {
     "data": {
      "text/plain": [
       "(16861, 13)"
      ]
     },
     "execution_count": 93,
     "metadata": {},
     "output_type": "execute_result"
    }
   ],
   "source": [
    "df.shape"
   ]
  },
  {
   "cell_type": "code",
   "execution_count": 94,
   "metadata": {},
   "outputs": [
    {
     "data": {
      "text/plain": [
       "(12848, 13)"
      ]
     },
     "execution_count": 94,
     "metadata": {},
     "output_type": "execute_result"
    }
   ],
   "source": [
    "df1.shape"
   ]
  },
  {
   "cell_type": "code",
   "execution_count": 91,
   "metadata": {},
   "outputs": [
    {
     "data": {
      "text/html": [
       "<div>\n",
       "<style scoped>\n",
       "    .dataframe tbody tr th:only-of-type {\n",
       "        vertical-align: middle;\n",
       "    }\n",
       "\n",
       "    .dataframe tbody tr th {\n",
       "        vertical-align: top;\n",
       "    }\n",
       "\n",
       "    .dataframe thead th {\n",
       "        text-align: right;\n",
       "    }\n",
       "</style>\n",
       "<table border=\"1\" class=\"dataframe\">\n",
       "  <thead>\n",
       "    <tr style=\"text-align: right;\">\n",
       "      <th></th>\n",
       "      <th>公民身份证号码</th>\n",
       "      <th>姓名</th>\n",
       "      <th>性別</th>\n",
       "      <th>民族</th>\n",
       "      <th>出生年月</th>\n",
       "      <th>数据处理地</th>\n",
       "      <th>居住地详细地址</th>\n",
       "      <th>联系方式</th>\n",
       "      <th>复查状态</th>\n",
       "      <th>复查情况</th>\n",
       "      <th>区县</th>\n",
       "      <th>派出所名称</th>\n",
       "      <th>统计机构代码</th>\n",
       "    </tr>\n",
       "  </thead>\n",
       "  <tbody>\n",
       "    <tr>\n",
       "      <th>0</th>\n",
       "      <td>110103200010221234</td>\n",
       "      <td>余晨波</td>\n",
       "      <td>男</td>\n",
       "      <td>汉族</td>\n",
       "      <td>2000-10</td>\n",
       "      <td>陕西省西安市新城区</td>\n",
       "      <td>陕西省西安市新城区</td>\n",
       "      <td>13630259359</td>\n",
       "      <td>未复查</td>\n",
       "      <td>NaN</td>\n",
       "      <td>610102</td>\n",
       "      <td>西安市公安局新城分局胡家庙派出所</td>\n",
       "      <td>610102.0</td>\n",
       "    </tr>\n",
       "    <tr>\n",
       "      <th>3</th>\n",
       "      <td>110106198207252738</td>\n",
       "      <td>杨大海</td>\n",
       "      <td>男</td>\n",
       "      <td>汉族</td>\n",
       "      <td>1982-7</td>\n",
       "      <td>陕西省西安市新城区</td>\n",
       "      <td>陕西省西安市未央区</td>\n",
       "      <td>13468829366</td>\n",
       "      <td>未复查</td>\n",
       "      <td>NaN</td>\n",
       "      <td>610102</td>\n",
       "      <td>西安市公安局新城分局长乐西路派出所</td>\n",
       "      <td>610102.0</td>\n",
       "    </tr>\n",
       "    <tr>\n",
       "      <th>5</th>\n",
       "      <td>110108196603315810</td>\n",
       "      <td>魏效军</td>\n",
       "      <td>男</td>\n",
       "      <td>汉族</td>\n",
       "      <td>1966-3</td>\n",
       "      <td>陕西省西安市新城区</td>\n",
       "      <td>陕西省西安市新城区</td>\n",
       "      <td>13566927651</td>\n",
       "      <td>未复查</td>\n",
       "      <td>NaN</td>\n",
       "      <td>610102</td>\n",
       "      <td>西安市公安局新城分局胡家庙派出所</td>\n",
       "      <td>610102.0</td>\n",
       "    </tr>\n",
       "    <tr>\n",
       "      <th>6</th>\n",
       "      <td>110108196908225445</td>\n",
       "      <td>李小芹</td>\n",
       "      <td>女</td>\n",
       "      <td>汉族</td>\n",
       "      <td>1969-8</td>\n",
       "      <td>陕西省西安市新城区</td>\n",
       "      <td>陕西省西安市新城区</td>\n",
       "      <td>11111111111</td>\n",
       "      <td>未复查</td>\n",
       "      <td>NaN</td>\n",
       "      <td>610102</td>\n",
       "      <td>西安市公安局碑林分局长乐坊派出所</td>\n",
       "      <td>610103.0</td>\n",
       "    </tr>\n",
       "    <tr>\n",
       "      <th>7</th>\n",
       "      <td>110108197205239714</td>\n",
       "      <td>曹峰</td>\n",
       "      <td>男</td>\n",
       "      <td>汉族</td>\n",
       "      <td>1972-5</td>\n",
       "      <td>陕西省西安市新城区</td>\n",
       "      <td>西安市雁塔区南二环东段368号2号楼1单元1层2号</td>\n",
       "      <td>18392950568</td>\n",
       "      <td>未复查</td>\n",
       "      <td>NaN</td>\n",
       "      <td>610102</td>\n",
       "      <td>西安市公安局雁塔分局育才路派出所</td>\n",
       "      <td>610113.0</td>\n",
       "    </tr>\n",
       "  </tbody>\n",
       "</table>\n",
       "</div>"
      ],
      "text/plain": [
       "              公民身份证号码   姓名 性別  民族     出生年月      数据处理地  \\\n",
       "0  110103200010221234  余晨波  男  汉族  2000-10  陕西省西安市新城区   \n",
       "3  110106198207252738  杨大海  男  汉族   1982-7  陕西省西安市新城区   \n",
       "5  110108196603315810  魏效军  男  汉族   1966-3  陕西省西安市新城区   \n",
       "6  110108196908225445  李小芹  女  汉族   1969-8  陕西省西安市新城区   \n",
       "7  110108197205239714   曹峰  男  汉族   1972-5  陕西省西安市新城区   \n",
       "\n",
       "                     居住地详细地址         联系方式 复查状态  复查情况      区县  \\\n",
       "0                  陕西省西安市新城区  13630259359  未复查   NaN  610102   \n",
       "3                  陕西省西安市未央区  13468829366  未复查   NaN  610102   \n",
       "5                  陕西省西安市新城区  13566927651  未复查   NaN  610102   \n",
       "6                  陕西省西安市新城区  11111111111  未复查   NaN  610102   \n",
       "7  西安市雁塔区南二环东段368号2号楼1单元1层2号  18392950568  未复查   NaN  610102   \n",
       "\n",
       "               派出所名称    统计机构代码  \n",
       "0   西安市公安局新城分局胡家庙派出所  610102.0  \n",
       "3  西安市公安局新城分局长乐西路派出所  610102.0  \n",
       "5   西安市公安局新城分局胡家庙派出所  610102.0  \n",
       "6   西安市公安局碑林分局长乐坊派出所  610103.0  \n",
       "7   西安市公安局雁塔分局育才路派出所  610113.0  "
      ]
     },
     "execution_count": 91,
     "metadata": {},
     "output_type": "execute_result"
    }
   ],
   "source": [
    "df.head()"
   ]
  },
  {
   "cell_type": "code",
   "execution_count": 10,
   "metadata": {},
   "outputs": [
    {
     "data": {
      "text/html": [
       "<div>\n",
       "<style scoped>\n",
       "    .dataframe tbody tr th:only-of-type {\n",
       "        vertical-align: middle;\n",
       "    }\n",
       "\n",
       "    .dataframe tbody tr th {\n",
       "        vertical-align: top;\n",
       "    }\n",
       "\n",
       "    .dataframe thead th {\n",
       "        text-align: right;\n",
       "    }\n",
       "</style>\n",
       "<table border=\"1\" class=\"dataframe\">\n",
       "  <thead>\n",
       "    <tr style=\"text-align: right;\">\n",
       "      <th></th>\n",
       "      <th>公民身份证号码</th>\n",
       "      <th>姓名</th>\n",
       "      <th>性別</th>\n",
       "      <th>民族</th>\n",
       "      <th>出生年月</th>\n",
       "      <th>数据处理地</th>\n",
       "      <th>居住地详细地址</th>\n",
       "      <th>联系方式</th>\n",
       "      <th>复查状态</th>\n",
       "      <th>复查情况</th>\n",
       "      <th>区县</th>\n",
       "      <th>派出所名称</th>\n",
       "      <th>统计机构代码</th>\n",
       "    </tr>\n",
       "  </thead>\n",
       "  <tbody>\n",
       "    <tr>\n",
       "      <th>1</th>\n",
       "      <td>110105195908155439</td>\n",
       "      <td>屈政年</td>\n",
       "      <td>男</td>\n",
       "      <td>汉族</td>\n",
       "      <td>1959-8</td>\n",
       "      <td>陕西省西安市新城区</td>\n",
       "      <td>NaN</td>\n",
       "      <td>NaN</td>\n",
       "      <td>未复查</td>\n",
       "      <td>NaN</td>\n",
       "      <td>610102</td>\n",
       "      <td>西安市公安局新城分局韩森寨派出所</td>\n",
       "      <td>610102.0</td>\n",
       "    </tr>\n",
       "    <tr>\n",
       "      <th>2</th>\n",
       "      <td>110105196510185464</td>\n",
       "      <td>慕澜</td>\n",
       "      <td>女</td>\n",
       "      <td>汉族</td>\n",
       "      <td>1965-10</td>\n",
       "      <td>陕西省西安市新城区</td>\n",
       "      <td>现居住地址不详</td>\n",
       "      <td>11111111111</td>\n",
       "      <td>未复查</td>\n",
       "      <td>NaN</td>\n",
       "      <td>610102</td>\n",
       "      <td>西安市公安局新城分局幸福中路派出所</td>\n",
       "      <td>610102.0</td>\n",
       "    </tr>\n",
       "    <tr>\n",
       "      <th>4</th>\n",
       "      <td>11010819660327895X</td>\n",
       "      <td>唐钟</td>\n",
       "      <td>男</td>\n",
       "      <td>汉族</td>\n",
       "      <td>1966-3</td>\n",
       "      <td>陕西省西安市新城区</td>\n",
       "      <td>居住地址不详细</td>\n",
       "      <td>11111111111</td>\n",
       "      <td>未复查</td>\n",
       "      <td>NaN</td>\n",
       "      <td>610102</td>\n",
       "      <td>西安市公安局新城分局西五路派出所</td>\n",
       "      <td>610102.0</td>\n",
       "    </tr>\n",
       "    <tr>\n",
       "      <th>8</th>\n",
       "      <td>110108197210276034</td>\n",
       "      <td>焦栋</td>\n",
       "      <td>男</td>\n",
       "      <td>汉族</td>\n",
       "      <td>1972-10</td>\n",
       "      <td>陕西省西安市新城区</td>\n",
       "      <td>居住地地址不详细</td>\n",
       "      <td>11111111111</td>\n",
       "      <td>未复查</td>\n",
       "      <td>NaN</td>\n",
       "      <td>610102</td>\n",
       "      <td>西安市公安局新城分局太华路派出所</td>\n",
       "      <td>610102.0</td>\n",
       "    </tr>\n",
       "    <tr>\n",
       "      <th>11</th>\n",
       "      <td>130103196912070046</td>\n",
       "      <td>益颖</td>\n",
       "      <td>女</td>\n",
       "      <td>汉族</td>\n",
       "      <td>1969-12</td>\n",
       "      <td>陕西省西安市新城区</td>\n",
       "      <td>NaN</td>\n",
       "      <td>NaN</td>\n",
       "      <td>未复查</td>\n",
       "      <td>NaN</td>\n",
       "      <td>610102</td>\n",
       "      <td>西安市公安局新城分局中山门派出所</td>\n",
       "      <td>610102.0</td>\n",
       "    </tr>\n",
       "  </tbody>\n",
       "</table>\n",
       "</div>"
      ],
      "text/plain": [
       "               公民身份证号码   姓名 性別  民族     出生年月      数据处理地   居住地详细地址         联系方式  \\\n",
       "1   110105195908155439  屈政年  男  汉族   1959-8  陕西省西安市新城区       NaN          NaN   \n",
       "2   110105196510185464   慕澜  女  汉族  1965-10  陕西省西安市新城区   现居住地址不详  11111111111   \n",
       "4   11010819660327895X   唐钟  男  汉族   1966-3  陕西省西安市新城区   居住地址不详细  11111111111   \n",
       "8   110108197210276034   焦栋  男  汉族  1972-10  陕西省西安市新城区  居住地地址不详细  11111111111   \n",
       "11  130103196912070046   益颖  女  汉族  1969-12  陕西省西安市新城区       NaN          NaN   \n",
       "\n",
       "   复查状态  复查情况      区县              派出所名称    统计机构代码  \n",
       "1   未复查   NaN  610102   西安市公安局新城分局韩森寨派出所  610102.0  \n",
       "2   未复查   NaN  610102  西安市公安局新城分局幸福中路派出所  610102.0  \n",
       "4   未复查   NaN  610102   西安市公安局新城分局西五路派出所  610102.0  \n",
       "8   未复查   NaN  610102   西安市公安局新城分局太华路派出所  610102.0  \n",
       "11  未复查   NaN  610102   西安市公安局新城分局中山门派出所  610102.0  "
      ]
     },
     "execution_count": 10,
     "metadata": {},
     "output_type": "execute_result"
    }
   ],
   "source": [
    "df1.head()"
   ]
  },
  {
   "cell_type": "code",
   "execution_count": 108,
   "metadata": {},
   "outputs": [
    {
     "name": "stdout",
     "output_type": "stream",
     "text": [
      "所花费时间：0.02\n",
      "新城区_居住地_新城区有11701条数据\n",
      "所花费时间：0.14\n",
      "新城区_居住地_碑林区有592条数据\n",
      "所花费时间：0.16\n",
      "新城区_居住地_高陵区有60条数据\n",
      "所花费时间：0.18\n",
      "新城区_居住地_未央区有1346条数据\n",
      "所花费时间：0.20\n",
      "新城区_居住地_灞桥区有792条数据\n",
      "所花费时间：0.23\n",
      "新城区_居住地_莲湖区有592条数据\n",
      "所花费时间：0.25\n",
      "新城区_居住地_周至县有83条数据\n",
      "所花费时间：0.27\n",
      "新城区_居住地_临潼区有73条数据\n",
      "所花费时间：0.29\n",
      "新城区_居住地_鄠邑区有98条数据\n",
      "所花费时间：0.30\n",
      "新城区_居住地_长安区有332条数据\n",
      "所花费时间：0.32\n",
      "新城区_居住地_阎良区有6条数据\n",
      "所花费时间：0.33\n",
      "新城区_居住地_蓝田县有267条数据\n",
      "所花费时间：0.35\n",
      "新城区_居住地_雁塔区有929条数据\n"
     ]
    },
    {
     "data": {
      "text/plain": [
       "[11701, 592, 60, 1346, 792, 592, 83, 73, 98, 332, 6, 267, 929]"
      ]
     },
     "execution_count": 108,
     "metadata": {},
     "output_type": "execute_result"
    }
   ],
   "source": [
    "num = []\n",
    "names = [\"新城区\",\"碑林区\",\"高陵区\",\"未央区\",\"灞桥区\",\"莲湖区\",\"周至县\",\"临潼区\",\"鄠邑区\",\"长安区\",\"阎良区\",\"蓝田县\",\"雁塔区\"]\n",
    "import os\n",
    "import pandas as pd\n",
    "import time\n",
    "start =time.time()\n",
    "for name in names:\n",
    "    dfs = df.loc[df[\"居住地详细地址\"].str.contains(name,na=False),:]\n",
    "    end = time.time()\n",
    "    print(\"所花费时间：%.2f\"%(end-start))\n",
    "    sheet = \"新城区_居住地_{}\".format(name)\n",
    "    print(\"{}有{}条数据\".format(sheet,dfs.shape[0]))\n",
    "    num.append(dfs.shape[0])\n",
    "    dfs.to_csv(r'D:\\统计局\\新城区_居住地\\{}.csv'.format(sheet), index=False,encoding=\"GBK\")\n",
    "num"
   ]
  },
  {
   "cell_type": "code",
   "execution_count": 110,
   "metadata": {},
   "outputs": [
    {
     "data": {
      "text/plain": [
       "0    16871\n",
       "dtype: int64"
      ]
     },
     "execution_count": 110,
     "metadata": {},
     "output_type": "execute_result"
    }
   ],
   "source": [
    "num1 = pd.DataFrame(num)\n",
    "num1.sum()"
   ]
  },
  {
   "cell_type": "code",
   "execution_count": 111,
   "metadata": {},
   "outputs": [
    {
     "data": {
      "text/plain": [
       "3329"
      ]
     },
     "execution_count": 111,
     "metadata": {},
     "output_type": "execute_result"
    }
   ],
   "source": [
    "len(set(df1[\"居住地详细地址\"]))"
   ]
  },
  {
   "cell_type": "code",
   "execution_count": 112,
   "metadata": {},
   "outputs": [
    {
     "data": {
      "text/plain": [
       "(12848, 13)"
      ]
     },
     "execution_count": 112,
     "metadata": {},
     "output_type": "execute_result"
    }
   ],
   "source": [
    "df1.shape"
   ]
  },
  {
   "cell_type": "code",
   "execution_count": 116,
   "metadata": {},
   "outputs": [],
   "source": [
    "a = df1[\"居住地详细地址\"].value_counts().reset_index()\n",
    "b = pd.DataFrame(a)\n",
    "b.to_csv(r'D:\\统计局\\新城区_居住地\\不详地址种类和数量.csv',encoding=\"GBK\",index = False)"
   ]
  },
  {
   "cell_type": "code",
   "execution_count": 123,
   "metadata": {
    "collapsed": true,
    "jupyter": {
     "outputs_hidden": true
    }
   },
   "outputs": [
    {
     "data": {
      "text/html": [
       "<div>\n",
       "<style scoped>\n",
       "    .dataframe tbody tr th:only-of-type {\n",
       "        vertical-align: middle;\n",
       "    }\n",
       "\n",
       "    .dataframe tbody tr th {\n",
       "        vertical-align: top;\n",
       "    }\n",
       "\n",
       "    .dataframe thead th {\n",
       "        text-align: right;\n",
       "    }\n",
       "</style>\n",
       "<table border=\"1\" class=\"dataframe\">\n",
       "  <thead>\n",
       "    <tr style=\"text-align: right;\">\n",
       "      <th></th>\n",
       "      <th>公民身份证号码</th>\n",
       "      <th>姓名</th>\n",
       "      <th>性別</th>\n",
       "      <th>民族</th>\n",
       "      <th>出生年月</th>\n",
       "      <th>数据处理地</th>\n",
       "      <th>居住地详细地址</th>\n",
       "      <th>联系方式</th>\n",
       "      <th>复查状态</th>\n",
       "      <th>复查情况</th>\n",
       "      <th>区县</th>\n",
       "      <th>派出所名称</th>\n",
       "      <th>统计机构代码</th>\n",
       "    </tr>\n",
       "  </thead>\n",
       "  <tbody>\n",
       "    <tr>\n",
       "      <th>29690</th>\n",
       "      <td>610526200011236133</td>\n",
       "      <td>石明炎</td>\n",
       "      <td>男</td>\n",
       "      <td>汉族</td>\n",
       "      <td>2000-11</td>\n",
       "      <td>陕西省西安市新城区</td>\n",
       "      <td>NaN</td>\n",
       "      <td>NaN</td>\n",
       "      <td>未复查</td>\n",
       "      <td>NaN</td>\n",
       "      <td>610102</td>\n",
       "      <td>西安市公安局新城分局长乐中路派出所</td>\n",
       "      <td>610102.0</td>\n",
       "    </tr>\n",
       "    <tr>\n",
       "      <th>29691</th>\n",
       "      <td>610526200105292523</td>\n",
       "      <td>党嘉华</td>\n",
       "      <td>女</td>\n",
       "      <td>汉族</td>\n",
       "      <td>2001-5</td>\n",
       "      <td>陕西省西安市新城区</td>\n",
       "      <td>NaN</td>\n",
       "      <td>NaN</td>\n",
       "      <td>未复查</td>\n",
       "      <td>NaN</td>\n",
       "      <td>610102</td>\n",
       "      <td>西安市公安局碑林分局金花路派出所</td>\n",
       "      <td>610103.0</td>\n",
       "    </tr>\n",
       "    <tr>\n",
       "      <th>29692</th>\n",
       "      <td>610526200407296124</td>\n",
       "      <td>郭芊慧</td>\n",
       "      <td>女</td>\n",
       "      <td>汉族</td>\n",
       "      <td>2004-7</td>\n",
       "      <td>陕西省西安市新城区</td>\n",
       "      <td>景观路1号东尚小区17号楼1402</td>\n",
       "      <td>13759699685</td>\n",
       "      <td>未复查</td>\n",
       "      <td>NaN</td>\n",
       "      <td>610102</td>\n",
       "      <td>西安市公安局高新分局唐延路派出所</td>\n",
       "      <td>610161.0</td>\n",
       "    </tr>\n",
       "    <tr>\n",
       "      <th>29694</th>\n",
       "      <td>610526200412266122</td>\n",
       "      <td>党班</td>\n",
       "      <td>女</td>\n",
       "      <td>汉族</td>\n",
       "      <td>2004-12</td>\n",
       "      <td>陕西省西安市新城区</td>\n",
       "      <td>蒲城发电1号楼3单元201</td>\n",
       "      <td>13991668018</td>\n",
       "      <td>未复查</td>\n",
       "      <td>NaN</td>\n",
       "      <td>610102</td>\n",
       "      <td>西安市公安局新城分局胡家庙派出所</td>\n",
       "      <td>610102.0</td>\n",
       "    </tr>\n",
       "    <tr>\n",
       "      <th>29695</th>\n",
       "      <td>610526200908206123</td>\n",
       "      <td>卢泽萌</td>\n",
       "      <td>女</td>\n",
       "      <td>汉族</td>\n",
       "      <td>2009-8</td>\n",
       "      <td>陕西省西安市新城区</td>\n",
       "      <td>1111111111111111111</td>\n",
       "      <td>11111111111</td>\n",
       "      <td>未复查</td>\n",
       "      <td>NaN</td>\n",
       "      <td>610102</td>\n",
       "      <td>西安市公安局新城分局长乐西路派出所</td>\n",
       "      <td>610102.0</td>\n",
       "    </tr>\n",
       "    <tr>\n",
       "      <th>29696</th>\n",
       "      <td>610526201008084321</td>\n",
       "      <td>樊子涵</td>\n",
       "      <td>女</td>\n",
       "      <td>汉族</td>\n",
       "      <td>2010-8</td>\n",
       "      <td>陕西省西安市新城区</td>\n",
       "      <td>NaN</td>\n",
       "      <td>NaN</td>\n",
       "      <td>未复查</td>\n",
       "      <td>NaN</td>\n",
       "      <td>610102</td>\n",
       "      <td>西安市公安局航天分局秦宇派出所</td>\n",
       "      <td>610165.0</td>\n",
       "    </tr>\n",
       "    <tr>\n",
       "      <th>29698</th>\n",
       "      <td>61052620101230004X</td>\n",
       "      <td>陈馨意</td>\n",
       "      <td>女</td>\n",
       "      <td>汉族</td>\n",
       "      <td>2010-12</td>\n",
       "      <td>陕西省西安市新城区</td>\n",
       "      <td>NaN</td>\n",
       "      <td>NaN</td>\n",
       "      <td>未复查</td>\n",
       "      <td>NaN</td>\n",
       "      <td>610102</td>\n",
       "      <td>西安市公安局新城分局幸福中路派出所</td>\n",
       "      <td>610102.0</td>\n",
       "    </tr>\n",
       "    <tr>\n",
       "      <th>29700</th>\n",
       "      <td>610526201109203123</td>\n",
       "      <td>雷妙然</td>\n",
       "      <td>女</td>\n",
       "      <td>汉族</td>\n",
       "      <td>2011-9</td>\n",
       "      <td>陕西省西安市新城区</td>\n",
       "      <td>NaN</td>\n",
       "      <td>NaN</td>\n",
       "      <td>未复查</td>\n",
       "      <td>NaN</td>\n",
       "      <td>610102</td>\n",
       "      <td>西安市公安局雁塔分局小寨路派出所</td>\n",
       "      <td>610113.0</td>\n",
       "    </tr>\n",
       "    <tr>\n",
       "      <th>29702</th>\n",
       "      <td>610526201710055248</td>\n",
       "      <td>魏沐萱</td>\n",
       "      <td>女</td>\n",
       "      <td>汉族</td>\n",
       "      <td>2017-10</td>\n",
       "      <td>陕西省西安市新城区</td>\n",
       "      <td>NaN</td>\n",
       "      <td>NaN</td>\n",
       "      <td>未复查</td>\n",
       "      <td>NaN</td>\n",
       "      <td>610102</td>\n",
       "      <td>西安市公安局浐灞分局十里铺派出所</td>\n",
       "      <td>610167.0</td>\n",
       "    </tr>\n",
       "    <tr>\n",
       "      <th>29706</th>\n",
       "      <td>611024201212240011</td>\n",
       "      <td>康翊飏</td>\n",
       "      <td>男</td>\n",
       "      <td>汉族</td>\n",
       "      <td>2012-12</td>\n",
       "      <td>陕西省西安市新城区</td>\n",
       "      <td>陕西省西安市华清学府城</td>\n",
       "      <td>18092062710</td>\n",
       "      <td>未复查</td>\n",
       "      <td>NaN</td>\n",
       "      <td>610103</td>\n",
       "      <td>西安市公安局新城分局幸福中路派出所</td>\n",
       "      <td>610102.0</td>\n",
       "    </tr>\n",
       "  </tbody>\n",
       "</table>\n",
       "</div>"
      ],
      "text/plain": [
       "                  公民身份证号码   姓名 性別  民族     出生年月      数据处理地  \\\n",
       "29690  610526200011236133  石明炎  男  汉族  2000-11  陕西省西安市新城区   \n",
       "29691  610526200105292523  党嘉华  女  汉族   2001-5  陕西省西安市新城区   \n",
       "29692  610526200407296124  郭芊慧  女  汉族   2004-7  陕西省西安市新城区   \n",
       "29694  610526200412266122   党班  女  汉族  2004-12  陕西省西安市新城区   \n",
       "29695  610526200908206123  卢泽萌  女  汉族   2009-8  陕西省西安市新城区   \n",
       "29696  610526201008084321  樊子涵  女  汉族   2010-8  陕西省西安市新城区   \n",
       "29698  61052620101230004X  陈馨意  女  汉族  2010-12  陕西省西安市新城区   \n",
       "29700  610526201109203123  雷妙然  女  汉族   2011-9  陕西省西安市新城区   \n",
       "29702  610526201710055248  魏沐萱  女  汉族  2017-10  陕西省西安市新城区   \n",
       "29706  611024201212240011  康翊飏  男  汉族  2012-12  陕西省西安市新城区   \n",
       "\n",
       "                   居住地详细地址         联系方式 复查状态  复查情况      区县              派出所名称  \\\n",
       "29690                  NaN          NaN  未复查   NaN  610102  西安市公安局新城分局长乐中路派出所   \n",
       "29691                  NaN          NaN  未复查   NaN  610102   西安市公安局碑林分局金花路派出所   \n",
       "29692    景观路1号东尚小区17号楼1402  13759699685  未复查   NaN  610102   西安市公安局高新分局唐延路派出所   \n",
       "29694        蒲城发电1号楼3单元201  13991668018  未复查   NaN  610102   西安市公安局新城分局胡家庙派出所   \n",
       "29695  1111111111111111111  11111111111  未复查   NaN  610102  西安市公安局新城分局长乐西路派出所   \n",
       "29696                  NaN          NaN  未复查   NaN  610102    西安市公安局航天分局秦宇派出所   \n",
       "29698                  NaN          NaN  未复查   NaN  610102  西安市公安局新城分局幸福中路派出所   \n",
       "29700                  NaN          NaN  未复查   NaN  610102   西安市公安局雁塔分局小寨路派出所   \n",
       "29702                  NaN          NaN  未复查   NaN  610102   西安市公安局浐灞分局十里铺派出所   \n",
       "29706          陕西省西安市华清学府城  18092062710  未复查   NaN  610103  西安市公安局新城分局幸福中路派出所   \n",
       "\n",
       "         统计机构代码  \n",
       "29690  610102.0  \n",
       "29691  610103.0  \n",
       "29692  610161.0  \n",
       "29694  610102.0  \n",
       "29695  610102.0  \n",
       "29696  610165.0  \n",
       "29698  610102.0  \n",
       "29700  610113.0  \n",
       "29702  610167.0  \n",
       "29706  610102.0  "
      ]
     },
     "execution_count": 123,
     "metadata": {},
     "output_type": "execute_result"
    }
   ],
   "source": [
    "df1.tail(10)"
   ]
  },
  {
   "cell_type": "code",
   "execution_count": 134,
   "metadata": {},
   "outputs": [
    {
     "data": {
      "text/plain": [
       "(12848, 13)"
      ]
     },
     "execution_count": 134,
     "metadata": {},
     "output_type": "execute_result"
    }
   ],
   "source": [
    "df1.shape"
   ]
  },
  {
   "cell_type": "code",
   "execution_count": 129,
   "metadata": {},
   "outputs": [
    {
     "data": {
      "text/plain": [
       "(5943, 13)"
      ]
     },
     "execution_count": 129,
     "metadata": {},
     "output_type": "execute_result"
    }
   ],
   "source": [
    "d = df1.loc[df1[\"居住地详细地址\"].isnull(),:]\n",
    "d.shape"
   ]
  },
  {
   "cell_type": "code",
   "execution_count": 131,
   "metadata": {},
   "outputs": [],
   "source": [
    "d.to_csv(r'D:\\统计局\\新城区_居住地\\地址为空值.csv',encoding=\"GBK\",index = False)"
   ]
  },
  {
   "cell_type": "code",
   "execution_count": 117,
   "metadata": {},
   "outputs": [
    {
     "data": {
      "text/html": [
       "<div>\n",
       "<style scoped>\n",
       "    .dataframe tbody tr th:only-of-type {\n",
       "        vertical-align: middle;\n",
       "    }\n",
       "\n",
       "    .dataframe tbody tr th {\n",
       "        vertical-align: top;\n",
       "    }\n",
       "\n",
       "    .dataframe thead th {\n",
       "        text-align: right;\n",
       "    }\n",
       "</style>\n",
       "<table border=\"1\" class=\"dataframe\">\n",
       "  <thead>\n",
       "    <tr style=\"text-align: right;\">\n",
       "      <th></th>\n",
       "      <th>index</th>\n",
       "      <th>居住地详细地址</th>\n",
       "    </tr>\n",
       "  </thead>\n",
       "  <tbody>\n",
       "    <tr>\n",
       "      <th>0</th>\n",
       "      <td>现居住地址不详</td>\n",
       "      <td>902</td>\n",
       "    </tr>\n",
       "    <tr>\n",
       "      <th>1</th>\n",
       "      <td>居住地地址不详</td>\n",
       "      <td>225</td>\n",
       "    </tr>\n",
       "    <tr>\n",
       "      <th>2</th>\n",
       "      <td>居住地址不详</td>\n",
       "      <td>182</td>\n",
       "    </tr>\n",
       "    <tr>\n",
       "      <th>3</th>\n",
       "      <td>陕西省西安市高新区</td>\n",
       "      <td>142</td>\n",
       "    </tr>\n",
       "    <tr>\n",
       "      <th>4</th>\n",
       "      <td>具体居住地址不详</td>\n",
       "      <td>120</td>\n",
       "    </tr>\n",
       "    <tr>\n",
       "      <th>5</th>\n",
       "      <td>居住地址不详11</td>\n",
       "      <td>80</td>\n",
       "    </tr>\n",
       "    <tr>\n",
       "      <th>6</th>\n",
       "      <td>现居住地址不祥</td>\n",
       "      <td>67</td>\n",
       "    </tr>\n",
       "    <tr>\n",
       "      <th>7</th>\n",
       "      <td>现居住地地址不详</td>\n",
       "      <td>54</td>\n",
       "    </tr>\n",
       "    <tr>\n",
       "      <th>8</th>\n",
       "      <td>居住地址不详细</td>\n",
       "      <td>50</td>\n",
       "    </tr>\n",
       "    <tr>\n",
       "      <th>9</th>\n",
       "      <td>本人居住地址不详</td>\n",
       "      <td>39</td>\n",
       "    </tr>\n",
       "  </tbody>\n",
       "</table>\n",
       "</div>"
      ],
      "text/plain": [
       "       index  居住地详细地址\n",
       "0    现居住地址不详      902\n",
       "1    居住地地址不详      225\n",
       "2     居住地址不详      182\n",
       "3  陕西省西安市高新区      142\n",
       "4   具体居住地址不详      120\n",
       "5   居住地址不详11       80\n",
       "6    现居住地址不祥       67\n",
       "7   现居住地地址不详       54\n",
       "8    居住地址不详细       50\n",
       "9   本人居住地址不详       39"
      ]
     },
     "execution_count": 117,
     "metadata": {},
     "output_type": "execute_result"
    }
   ],
   "source": [
    "b.head(10)"
   ]
  },
  {
   "cell_type": "code",
   "execution_count": 118,
   "metadata": {},
   "outputs": [
    {
     "data": {
      "text/html": [
       "<div>\n",
       "<style scoped>\n",
       "    .dataframe tbody tr th:only-of-type {\n",
       "        vertical-align: middle;\n",
       "    }\n",
       "\n",
       "    .dataframe tbody tr th {\n",
       "        vertical-align: top;\n",
       "    }\n",
       "\n",
       "    .dataframe thead th {\n",
       "        text-align: right;\n",
       "    }\n",
       "</style>\n",
       "<table border=\"1\" class=\"dataframe\">\n",
       "  <thead>\n",
       "    <tr style=\"text-align: right;\">\n",
       "      <th></th>\n",
       "      <th>index</th>\n",
       "      <th>居住地详细地址</th>\n",
       "    </tr>\n",
       "  </thead>\n",
       "  <tbody>\n",
       "    <tr>\n",
       "      <th>3323</th>\n",
       "      <td>西安市新诚区北大街</td>\n",
       "      <td>1</td>\n",
       "    </tr>\n",
       "    <tr>\n",
       "      <th>3324</th>\n",
       "      <td>莲湖路热力公司</td>\n",
       "      <td>1</td>\n",
       "    </tr>\n",
       "    <tr>\n",
       "      <th>3325</th>\n",
       "      <td>新城西一路十号院</td>\n",
       "      <td>1</td>\n",
       "    </tr>\n",
       "    <tr>\n",
       "      <th>3326</th>\n",
       "      <td>安徽省宿州市19号</td>\n",
       "      <td>1</td>\n",
       "    </tr>\n",
       "    <tr>\n",
       "      <th>3327</th>\n",
       "      <td>钟楼小区9号楼4单元</td>\n",
       "      <td>1</td>\n",
       "    </tr>\n",
       "  </tbody>\n",
       "</table>\n",
       "</div>"
      ],
      "text/plain": [
       "           index  居住地详细地址\n",
       "3323   西安市新诚区北大街        1\n",
       "3324     莲湖路热力公司        1\n",
       "3325    新城西一路十号院        1\n",
       "3326   安徽省宿州市19号        1\n",
       "3327  钟楼小区9号楼4单元        1"
      ]
     },
     "execution_count": 118,
     "metadata": {},
     "output_type": "execute_result"
    }
   ],
   "source": [
    "b.tail()"
   ]
  },
  {
   "cell_type": "code",
   "execution_count": 120,
   "metadata": {},
   "outputs": [
    {
     "data": {
      "text/plain": [
       "6905"
      ]
     },
     "execution_count": 120,
     "metadata": {},
     "output_type": "execute_result"
    }
   ],
   "source": [
    "b.iloc[:,1].sum()"
   ]
  },
  {
   "cell_type": "code",
   "execution_count": 130,
   "metadata": {},
   "outputs": [
    {
     "data": {
      "text/plain": [
       "12848"
      ]
     },
     "execution_count": 130,
     "metadata": {},
     "output_type": "execute_result"
    }
   ],
   "source": [
    "pp = 6905+5943\n",
    "pp"
   ]
  },
  {
   "cell_type": "code",
   "execution_count": 153,
   "metadata": {},
   "outputs": [
    {
     "name": "stdout",
     "output_type": "stream",
     "text": [
      "(6905, 13)\n",
      "(1995, 13)\n",
      "居住地详细地址是空值和地址不详的有5956条数据\n",
      "居住地详细地址除空值和地址不详外还有6892条数据\n"
     ]
    }
   ],
   "source": [
    "import pandas as pd\n",
    "import time\n",
    "ds = df1.loc[df1[\"居住地详细地址\"].isnull()==False,:]\n",
    "print(ds.shape)\n",
    "dfss = ds.loc[ds[\"居住地详细地址\"].str.contains(\"地址不详\"),:]\n",
    "dfss.to_csv(r'D:\\统计局\\新城区_居住地\\新城区负责的_地址不详.csv', index=False,encoding=\"GBK\")\n",
    "print(dfss.shape)\n",
    "m =d.shape[0]+dfss.shape[1]\n",
    "print(\"居住地详细地址是空值和地址不详的有{}条数据\".format(m))\n",
    "print(\"居住地详细地址除空值和地址不详外还有{}条数据\".format(df1.shape[0]-m))"
   ]
  },
  {
   "cell_type": "code",
   "execution_count": 78,
   "metadata": {},
   "outputs": [
    {
     "data": {
      "text/plain": [
       "(16861, 13)"
      ]
     },
     "execution_count": 78,
     "metadata": {},
     "output_type": "execute_result"
    }
   ],
   "source": [
    "df.shape"
   ]
  },
  {
   "cell_type": "code",
   "execution_count": 154,
   "metadata": {},
   "outputs": [
    {
     "data": {
      "text/plain": [
       "(4910, 13)"
      ]
     },
     "execution_count": 154,
     "metadata": {},
     "output_type": "execute_result"
    }
   ],
   "source": [
    "import pandas as pd\n",
    "import time\n",
    "dfsss = ds.loc[ds[\"居住地详细地址\"].str.contains(r\"地址不详\") == False,:]\n",
    "dfsss.to_csv(r'D:\\统计局\\新城区_居住地\\新城区负责的居住地不详中不是空值下的_去除地址不详字样后数据.csv', index=False,encoding=\"GBK\")\n",
    "dfsss.shape"
   ]
  },
  {
   "cell_type": "code",
   "execution_count": 156,
   "metadata": {},
   "outputs": [
    {
     "data": {
      "text/html": [
       "<div>\n",
       "<style scoped>\n",
       "    .dataframe tbody tr th:only-of-type {\n",
       "        vertical-align: middle;\n",
       "    }\n",
       "\n",
       "    .dataframe tbody tr th {\n",
       "        vertical-align: top;\n",
       "    }\n",
       "\n",
       "    .dataframe thead th {\n",
       "        text-align: right;\n",
       "    }\n",
       "</style>\n",
       "<table border=\"1\" class=\"dataframe\">\n",
       "  <thead>\n",
       "    <tr style=\"text-align: right;\">\n",
       "      <th></th>\n",
       "      <th>index</th>\n",
       "      <th>居住地详细地址</th>\n",
       "    </tr>\n",
       "  </thead>\n",
       "  <tbody>\n",
       "    <tr>\n",
       "      <th>0</th>\n",
       "      <td>陕西省西安市高新区</td>\n",
       "      <td>142</td>\n",
       "    </tr>\n",
       "    <tr>\n",
       "      <th>1</th>\n",
       "      <td>现居住地址不祥</td>\n",
       "      <td>67</td>\n",
       "    </tr>\n",
       "    <tr>\n",
       "      <th>2</th>\n",
       "      <td>陕西省西安市区</td>\n",
       "      <td>33</td>\n",
       "    </tr>\n",
       "    <tr>\n",
       "      <th>3</th>\n",
       "      <td>居住地不详11</td>\n",
       "      <td>25</td>\n",
       "    </tr>\n",
       "    <tr>\n",
       "      <th>4</th>\n",
       "      <td>具体居住地不详</td>\n",
       "      <td>24</td>\n",
       "    </tr>\n",
       "    <tr>\n",
       "      <th>5</th>\n",
       "      <td>陕西省西安市西咸新区</td>\n",
       "      <td>23</td>\n",
       "    </tr>\n",
       "    <tr>\n",
       "      <th>6</th>\n",
       "      <td>普化镇徐军寨村</td>\n",
       "      <td>22</td>\n",
       "    </tr>\n",
       "    <tr>\n",
       "      <th>7</th>\n",
       "      <td>地址不是很详细</td>\n",
       "      <td>21</td>\n",
       "    </tr>\n",
       "    <tr>\n",
       "      <th>8</th>\n",
       "      <td>陕西省西安市新城</td>\n",
       "      <td>21</td>\n",
       "    </tr>\n",
       "    <tr>\n",
       "      <th>9</th>\n",
       "      <td>居住地 址不详</td>\n",
       "      <td>20</td>\n",
       "    </tr>\n",
       "  </tbody>\n",
       "</table>\n",
       "</div>"
      ],
      "text/plain": [
       "        index  居住地详细地址\n",
       "0   陕西省西安市高新区      142\n",
       "1     现居住地址不祥       67\n",
       "2     陕西省西安市区       33\n",
       "3     居住地不详11       25\n",
       "4     具体居住地不详       24\n",
       "5  陕西省西安市西咸新区       23\n",
       "6     普化镇徐军寨村       22\n",
       "7     地址不是很详细       21\n",
       "8    陕西省西安市新城       21\n",
       "9     居住地 址不详       20"
      ]
     },
     "execution_count": 156,
     "metadata": {},
     "output_type": "execute_result"
    }
   ],
   "source": [
    "aa = dfsss[\"居住地详细地址\"].value_counts().reset_index()\n",
    "bb = pd.DataFrame(aa)\n",
    "bb.head(10)"
   ]
  },
  {
   "cell_type": "code",
   "execution_count": 157,
   "metadata": {},
   "outputs": [],
   "source": [
    "bb.to_csv(r'D:\\统计局\\新城区_居住地\\居住地不详_去除空值_去除地址不详的种类和数量.csv',encoding=\"GBK\",index = False)"
   ]
  },
  {
   "cell_type": "code",
   "execution_count": 166,
   "metadata": {},
   "outputs": [
    {
     "data": {
      "text/plain": [
       "(4910, 13)"
      ]
     },
     "execution_count": 166,
     "metadata": {},
     "output_type": "execute_result"
    }
   ],
   "source": [
    "dfsss.shape"
   ]
  },
  {
   "cell_type": "code",
   "execution_count": 163,
   "metadata": {},
   "outputs": [
    {
     "data": {
      "text/plain": [
       "(208, 13)"
      ]
     },
     "execution_count": 163,
     "metadata": {},
     "output_type": "execute_result"
    }
   ],
   "source": [
    "dfsss4 = dfsss.loc[dfsss[\"居住地详细地址\"].str.contains(r\"不详\") ,:]\n",
    "dfsss4.shape"
   ]
  },
  {
   "cell_type": "code",
   "execution_count": 165,
   "metadata": {},
   "outputs": [
    {
     "data": {
      "text/plain": [
       "(3168, 2)"
      ]
     },
     "execution_count": 165,
     "metadata": {},
     "output_type": "execute_result"
    }
   ],
   "source": [
    "dfsss5 = dfsss.loc[dfsss[\"居住地详细地址\"].str.contains(r\"不详\")==False ,:]\n",
    "aaa = dfsss5[\"居住地详细地址\"].value_counts().reset_index()\n",
    "bbb = pd.DataFrame(aaa)\n",
    "bbb.shape"
   ]
  },
  {
   "cell_type": "code",
   "execution_count": 168,
   "metadata": {},
   "outputs": [
    {
     "data": {
      "text/plain": [
       "4702"
      ]
     },
     "execution_count": 168,
     "metadata": {},
     "output_type": "execute_result"
    }
   ],
   "source": [
    "bbb.iloc[:,1].sum()"
   ]
  },
  {
   "cell_type": "code",
   "execution_count": 171,
   "metadata": {},
   "outputs": [
    {
     "data": {
      "text/html": [
       "<div>\n",
       "<style scoped>\n",
       "    .dataframe tbody tr th:only-of-type {\n",
       "        vertical-align: middle;\n",
       "    }\n",
       "\n",
       "    .dataframe tbody tr th {\n",
       "        vertical-align: top;\n",
       "    }\n",
       "\n",
       "    .dataframe thead th {\n",
       "        text-align: right;\n",
       "    }\n",
       "</style>\n",
       "<table border=\"1\" class=\"dataframe\">\n",
       "  <thead>\n",
       "    <tr style=\"text-align: right;\">\n",
       "      <th></th>\n",
       "      <th>index</th>\n",
       "      <th>居住地详细地址</th>\n",
       "    </tr>\n",
       "  </thead>\n",
       "  <tbody>\n",
       "    <tr>\n",
       "      <th>0</th>\n",
       "      <td>陕西省西安市高新区</td>\n",
       "      <td>142</td>\n",
       "    </tr>\n",
       "    <tr>\n",
       "      <th>1</th>\n",
       "      <td>现居住地址不祥</td>\n",
       "      <td>67</td>\n",
       "    </tr>\n",
       "    <tr>\n",
       "      <th>2</th>\n",
       "      <td>陕西省西安市区</td>\n",
       "      <td>33</td>\n",
       "    </tr>\n",
       "    <tr>\n",
       "      <th>3</th>\n",
       "      <td>陕西省西安市西咸新区</td>\n",
       "      <td>23</td>\n",
       "    </tr>\n",
       "    <tr>\n",
       "      <th>4</th>\n",
       "      <td>普化镇徐军寨村</td>\n",
       "      <td>22</td>\n",
       "    </tr>\n",
       "    <tr>\n",
       "      <th>5</th>\n",
       "      <td>地址不是很详细</td>\n",
       "      <td>21</td>\n",
       "    </tr>\n",
       "    <tr>\n",
       "      <th>6</th>\n",
       "      <td>陕西省西安市新城</td>\n",
       "      <td>21</td>\n",
       "    </tr>\n",
       "    <tr>\n",
       "      <th>7</th>\n",
       "      <td>银河坊14号楼</td>\n",
       "      <td>14</td>\n",
       "    </tr>\n",
       "    <tr>\n",
       "      <th>8</th>\n",
       "      <td>西安市曲江新区</td>\n",
       "      <td>14</td>\n",
       "    </tr>\n",
       "    <tr>\n",
       "      <th>9</th>\n",
       "      <td>陕西西安其他区县</td>\n",
       "      <td>14</td>\n",
       "    </tr>\n",
       "    <tr>\n",
       "      <th>10</th>\n",
       "      <td>安村镇郭村二组</td>\n",
       "      <td>14</td>\n",
       "    </tr>\n",
       "    <tr>\n",
       "      <th>11</th>\n",
       "      <td>西安市西咸新区</td>\n",
       "      <td>14</td>\n",
       "    </tr>\n",
       "    <tr>\n",
       "      <th>12</th>\n",
       "      <td>陕西省西安市新</td>\n",
       "      <td>14</td>\n",
       "    </tr>\n",
       "    <tr>\n",
       "      <th>13</th>\n",
       "      <td>陕西省西安市曲江新区</td>\n",
       "      <td>13</td>\n",
       "    </tr>\n",
       "    <tr>\n",
       "      <th>14</th>\n",
       "      <td>曲江烟草家属院</td>\n",
       "      <td>12</td>\n",
       "    </tr>\n",
       "  </tbody>\n",
       "</table>\n",
       "</div>"
      ],
      "text/plain": [
       "         index  居住地详细地址\n",
       "0    陕西省西安市高新区      142\n",
       "1      现居住地址不祥       67\n",
       "2      陕西省西安市区       33\n",
       "3   陕西省西安市西咸新区       23\n",
       "4      普化镇徐军寨村       22\n",
       "5      地址不是很详细       21\n",
       "6     陕西省西安市新城       21\n",
       "7      银河坊14号楼       14\n",
       "8      西安市曲江新区       14\n",
       "9     陕西西安其他区县       14\n",
       "10     安村镇郭村二组       14\n",
       "11     西安市西咸新区       14\n",
       "12     陕西省西安市新       14\n",
       "13  陕西省西安市曲江新区       13\n",
       "14     曲江烟草家属院       12"
      ]
     },
     "execution_count": 171,
     "metadata": {},
     "output_type": "execute_result"
    }
   ],
   "source": [
    "bbb.head(15)"
   ]
  },
  {
   "cell_type": "code",
   "execution_count": 172,
   "metadata": {
    "collapsed": true,
    "jupyter": {
     "outputs_hidden": true
    }
   },
   "outputs": [
    {
     "data": {
      "text/html": [
       "<div>\n",
       "<style scoped>\n",
       "    .dataframe tbody tr th:only-of-type {\n",
       "        vertical-align: middle;\n",
       "    }\n",
       "\n",
       "    .dataframe tbody tr th {\n",
       "        vertical-align: top;\n",
       "    }\n",
       "\n",
       "    .dataframe thead th {\n",
       "        text-align: right;\n",
       "    }\n",
       "</style>\n",
       "<table border=\"1\" class=\"dataframe\">\n",
       "  <thead>\n",
       "    <tr style=\"text-align: right;\">\n",
       "      <th></th>\n",
       "      <th>index</th>\n",
       "      <th>居住地详细地址</th>\n",
       "    </tr>\n",
       "  </thead>\n",
       "  <tbody>\n",
       "    <tr>\n",
       "      <th>3163</th>\n",
       "      <td>东站路32号院3号楼1单元2层中户</td>\n",
       "      <td>1</td>\n",
       "    </tr>\n",
       "    <tr>\n",
       "      <th>3164</th>\n",
       "      <td>李都村南一街543</td>\n",
       "      <td>1</td>\n",
       "    </tr>\n",
       "    <tr>\n",
       "      <th>3165</th>\n",
       "      <td>青海省玉树州襄谦县</td>\n",
       "      <td>1</td>\n",
       "    </tr>\n",
       "    <tr>\n",
       "      <th>3166</th>\n",
       "      <td>西安市新诚区北大街</td>\n",
       "      <td>1</td>\n",
       "    </tr>\n",
       "    <tr>\n",
       "      <th>3167</th>\n",
       "      <td>钟楼小区9号楼4单元</td>\n",
       "      <td>1</td>\n",
       "    </tr>\n",
       "  </tbody>\n",
       "</table>\n",
       "</div>"
      ],
      "text/plain": [
       "                  index  居住地详细地址\n",
       "3163  东站路32号院3号楼1单元2层中户        1\n",
       "3164          李都村南一街543        1\n",
       "3165          青海省玉树州襄谦县        1\n",
       "3166          西安市新诚区北大街        1\n",
       "3167         钟楼小区9号楼4单元        1"
      ]
     },
     "execution_count": 172,
     "metadata": {},
     "output_type": "execute_result"
    }
   ],
   "source": [
    "bbb.tail()"
   ]
  },
  {
   "cell_type": "code",
   "execution_count": 173,
   "metadata": {},
   "outputs": [
    {
     "data": {
      "text/plain": [
       "(36, 2)"
      ]
     },
     "execution_count": 173,
     "metadata": {},
     "output_type": "execute_result"
    }
   ],
   "source": [
    "dfsss6 = dfsss5.loc[dfsss5[\"居住地详细地址\"].str.contains(r\"陕西省西安市高新区\"),:]\n",
    "aaa4 = dfsss6[\"居住地详细地址\"].value_counts().reset_index()\n",
    "bbb4 = pd.DataFrame(aaa4)\n",
    "bbb4.shape"
   ]
  },
  {
   "cell_type": "code",
   "execution_count": 176,
   "metadata": {},
   "outputs": [
    {
     "data": {
      "text/plain": [
       "180"
      ]
     },
     "execution_count": 176,
     "metadata": {},
     "output_type": "execute_result"
    }
   ],
   "source": [
    "bbb4.iloc[:,1].sum()"
   ]
  },
  {
   "cell_type": "code",
   "execution_count": 177,
   "metadata": {},
   "outputs": [
    {
     "data": {
      "text/plain": [
       "4522"
      ]
     },
     "execution_count": 177,
     "metadata": {},
     "output_type": "execute_result"
    }
   ],
   "source": [
    "dfsss66 = dfsss5.loc[dfsss5[\"居住地详细地址\"].str.contains(r\"陕西省西安市高新区\")==False,:]\n",
    "aaa44 = dfsss66[\"居住地详细地址\"].value_counts().reset_index()\n",
    "bbb44 = pd.DataFrame(aaa44)\n",
    "bbb44.iloc[:,1].sum()"
   ]
  },
  {
   "cell_type": "code",
   "execution_count": 178,
   "metadata": {},
   "outputs": [
    {
     "data": {
      "text/html": [
       "<div>\n",
       "<style scoped>\n",
       "    .dataframe tbody tr th:only-of-type {\n",
       "        vertical-align: middle;\n",
       "    }\n",
       "\n",
       "    .dataframe tbody tr th {\n",
       "        vertical-align: top;\n",
       "    }\n",
       "\n",
       "    .dataframe thead th {\n",
       "        text-align: right;\n",
       "    }\n",
       "</style>\n",
       "<table border=\"1\" class=\"dataframe\">\n",
       "  <thead>\n",
       "    <tr style=\"text-align: right;\">\n",
       "      <th></th>\n",
       "      <th>index</th>\n",
       "      <th>居住地详细地址</th>\n",
       "    </tr>\n",
       "  </thead>\n",
       "  <tbody>\n",
       "    <tr>\n",
       "      <th>0</th>\n",
       "      <td>现居住地址不祥</td>\n",
       "      <td>67</td>\n",
       "    </tr>\n",
       "    <tr>\n",
       "      <th>1</th>\n",
       "      <td>陕西省西安市区</td>\n",
       "      <td>33</td>\n",
       "    </tr>\n",
       "    <tr>\n",
       "      <th>2</th>\n",
       "      <td>陕西省西安市西咸新区</td>\n",
       "      <td>23</td>\n",
       "    </tr>\n",
       "    <tr>\n",
       "      <th>3</th>\n",
       "      <td>普化镇徐军寨村</td>\n",
       "      <td>22</td>\n",
       "    </tr>\n",
       "    <tr>\n",
       "      <th>4</th>\n",
       "      <td>陕西省西安市新城</td>\n",
       "      <td>21</td>\n",
       "    </tr>\n",
       "    <tr>\n",
       "      <th>5</th>\n",
       "      <td>地址不是很详细</td>\n",
       "      <td>21</td>\n",
       "    </tr>\n",
       "    <tr>\n",
       "      <th>6</th>\n",
       "      <td>安村镇郭村二组</td>\n",
       "      <td>14</td>\n",
       "    </tr>\n",
       "    <tr>\n",
       "      <th>7</th>\n",
       "      <td>西安市曲江新区</td>\n",
       "      <td>14</td>\n",
       "    </tr>\n",
       "    <tr>\n",
       "      <th>8</th>\n",
       "      <td>陕西西安其他区县</td>\n",
       "      <td>14</td>\n",
       "    </tr>\n",
       "    <tr>\n",
       "      <th>9</th>\n",
       "      <td>银河坊14号楼</td>\n",
       "      <td>14</td>\n",
       "    </tr>\n",
       "  </tbody>\n",
       "</table>\n",
       "</div>"
      ],
      "text/plain": [
       "        index  居住地详细地址\n",
       "0     现居住地址不祥       67\n",
       "1     陕西省西安市区       33\n",
       "2  陕西省西安市西咸新区       23\n",
       "3     普化镇徐军寨村       22\n",
       "4    陕西省西安市新城       21\n",
       "5     地址不是很详细       21\n",
       "6     安村镇郭村二组       14\n",
       "7     西安市曲江新区       14\n",
       "8    陕西西安其他区县       14\n",
       "9     银河坊14号楼       14"
      ]
     },
     "execution_count": 178,
     "metadata": {},
     "output_type": "execute_result"
    }
   ],
   "source": [
    "bbb44.head(10)"
   ]
  },
  {
   "cell_type": "code",
   "execution_count": 179,
   "metadata": {},
   "outputs": [
    {
     "data": {
      "text/plain": [
       "(3132, 2)"
      ]
     },
     "execution_count": 179,
     "metadata": {},
     "output_type": "execute_result"
    }
   ],
   "source": [
    "bbb44.shape"
   ]
  },
  {
   "cell_type": "code",
   "execution_count": null,
   "metadata": {},
   "outputs": [],
   "source": []
  },
  {
   "cell_type": "code",
   "execution_count": 167,
   "metadata": {},
   "outputs": [],
   "source": []
  },
  {
   "cell_type": "code",
   "execution_count": 167,
   "metadata": {},
   "outputs": [],
   "source": []
  },
  {
   "cell_type": "code",
   "execution_count": 167,
   "metadata": {},
   "outputs": [],
   "source": []
  },
  {
   "cell_type": "code",
   "execution_count": 167,
   "metadata": {},
   "outputs": [],
   "source": []
  },
  {
   "cell_type": "code",
   "execution_count": 167,
   "metadata": {},
   "outputs": [
    {
     "data": {
      "text/plain": [
       "4702"
      ]
     },
     "execution_count": 167,
     "metadata": {},
     "output_type": "execute_result"
    }
   ],
   "source": []
  },
  {
   "cell_type": "code",
   "execution_count": 22,
   "metadata": {
    "collapsed": true,
    "jupyter": {
     "outputs_hidden": true
    }
   },
   "outputs": [
    {
     "data": {
      "text/html": [
       "<div>\n",
       "<style scoped>\n",
       "    .dataframe tbody tr th:only-of-type {\n",
       "        vertical-align: middle;\n",
       "    }\n",
       "\n",
       "    .dataframe tbody tr th {\n",
       "        vertical-align: top;\n",
       "    }\n",
       "\n",
       "    .dataframe thead th {\n",
       "        text-align: right;\n",
       "    }\n",
       "</style>\n",
       "<table border=\"1\" class=\"dataframe\">\n",
       "  <thead>\n",
       "    <tr style=\"text-align: right;\">\n",
       "      <th></th>\n",
       "      <th>公民身份证号码</th>\n",
       "      <th>姓名</th>\n",
       "      <th>性別</th>\n",
       "      <th>民族</th>\n",
       "      <th>出生年月</th>\n",
       "      <th>数据处理地</th>\n",
       "      <th>居住地详细地址</th>\n",
       "      <th>联系方式</th>\n",
       "      <th>复查状态</th>\n",
       "      <th>复查情况</th>\n",
       "      <th>区县</th>\n",
       "      <th>派出所名称</th>\n",
       "      <th>统计机构代码</th>\n",
       "    </tr>\n",
       "  </thead>\n",
       "  <tbody>\n",
       "    <tr>\n",
       "      <th>0</th>\n",
       "      <td>12022119830720112X</td>\n",
       "      <td>苗芳</td>\n",
       "      <td>女</td>\n",
       "      <td>汉族</td>\n",
       "      <td>1983-7</td>\n",
       "      <td>陕西省西安市高陵区</td>\n",
       "      <td>九境城33栋1401号</td>\n",
       "      <td>1.357296e+10</td>\n",
       "      <td>未复查</td>\n",
       "      <td>NaN</td>\n",
       "      <td>610117</td>\n",
       "      <td>西安市公安局高陵分局湾子派出所</td>\n",
       "      <td>610117</td>\n",
       "    </tr>\n",
       "    <tr>\n",
       "      <th>1</th>\n",
       "      <td>130121201307032646</td>\n",
       "      <td>高玉婷</td>\n",
       "      <td>女</td>\n",
       "      <td>汉族</td>\n",
       "      <td>2013-7</td>\n",
       "      <td>陕西省西安市高陵区</td>\n",
       "      <td>陕西省西安市高陵区</td>\n",
       "      <td>1.518142e+10</td>\n",
       "      <td>未复查</td>\n",
       "      <td>NaN</td>\n",
       "      <td>610117</td>\n",
       "      <td>西安市公安局高陵分局鹿苑派出所</td>\n",
       "      <td>610117</td>\n",
       "    </tr>\n",
       "    <tr>\n",
       "      <th>2</th>\n",
       "      <td>130302195211203117</td>\n",
       "      <td>马玉泉</td>\n",
       "      <td>男</td>\n",
       "      <td>汉族</td>\n",
       "      <td>1952-11</td>\n",
       "      <td>陕西省西安市高陵区</td>\n",
       "      <td>NaN</td>\n",
       "      <td>NaN</td>\n",
       "      <td>未复查</td>\n",
       "      <td>NaN</td>\n",
       "      <td>610117</td>\n",
       "      <td>西安市公安局高陵分局耿镇派出所</td>\n",
       "      <td>610117</td>\n",
       "    </tr>\n",
       "    <tr>\n",
       "      <th>3</th>\n",
       "      <td>130404199207110918</td>\n",
       "      <td>曹孟</td>\n",
       "      <td>男</td>\n",
       "      <td>汉族</td>\n",
       "      <td>1992-7</td>\n",
       "      <td>陕西省西安市高陵区</td>\n",
       "      <td>陕西省西安市高陵区</td>\n",
       "      <td>1.503108e+10</td>\n",
       "      <td>未复查</td>\n",
       "      <td>NaN</td>\n",
       "      <td>610117</td>\n",
       "      <td>西安市公安局洪庆分局长坪路派出所</td>\n",
       "      <td>610111</td>\n",
       "    </tr>\n",
       "    <tr>\n",
       "      <th>4</th>\n",
       "      <td>130431198807192130</td>\n",
       "      <td>崔路卿</td>\n",
       "      <td>男</td>\n",
       "      <td>汉族</td>\n",
       "      <td>1988-7</td>\n",
       "      <td>陕西省西安市高陵区</td>\n",
       "      <td>灞桥生态区谭家街道</td>\n",
       "      <td>1.882951e+10</td>\n",
       "      <td>未复查</td>\n",
       "      <td>NaN</td>\n",
       "      <td>610117</td>\n",
       "      <td>西安市公安局浐灞分局十里铺派出所</td>\n",
       "      <td>610167</td>\n",
       "    </tr>\n",
       "  </tbody>\n",
       "</table>\n",
       "</div>"
      ],
      "text/plain": [
       "              公民身份证号码   姓名 性別  民族     出生年月      数据处理地      居住地详细地址  \\\n",
       "0  12022119830720112X   苗芳  女  汉族   1983-7  陕西省西安市高陵区  九境城33栋1401号   \n",
       "1  130121201307032646  高玉婷  女  汉族   2013-7  陕西省西安市高陵区    陕西省西安市高陵区   \n",
       "2  130302195211203117  马玉泉  男  汉族  1952-11  陕西省西安市高陵区          NaN   \n",
       "3  130404199207110918   曹孟  男  汉族   1992-7  陕西省西安市高陵区    陕西省西安市高陵区   \n",
       "4  130431198807192130  崔路卿  男  汉族   1988-7  陕西省西安市高陵区    灞桥生态区谭家街道   \n",
       "\n",
       "           联系方式 复查状态  复查情况      区县             派出所名称  统计机构代码  \n",
       "0  1.357296e+10  未复查   NaN  610117   西安市公安局高陵分局湾子派出所  610117  \n",
       "1  1.518142e+10  未复查   NaN  610117   西安市公安局高陵分局鹿苑派出所  610117  \n",
       "2           NaN  未复查   NaN  610117   西安市公安局高陵分局耿镇派出所  610117  \n",
       "3  1.503108e+10  未复查   NaN  610117  西安市公安局洪庆分局长坪路派出所  610111  \n",
       "4  1.882951e+10  未复查   NaN  610117  西安市公安局浐灞分局十里铺派出所  610167  "
      ]
     },
     "execution_count": 22,
     "metadata": {},
     "output_type": "execute_result"
    }
   ],
   "source": [
    "import pandas as pd\n",
    "data999 = pd.read_excel(r\"D:\\统计局\\高陵区\\高.xlsx\")\n",
    "data999.head()"
   ]
  },
  {
   "cell_type": "code",
   "execution_count": 23,
   "metadata": {},
   "outputs": [
    {
     "data": {
      "text/plain": [
       "(10854, 13)"
      ]
     },
     "execution_count": 23,
     "metadata": {},
     "output_type": "execute_result"
    }
   ],
   "source": [
    "data999.shape"
   ]
  },
  {
   "cell_type": "code",
   "execution_count": 24,
   "metadata": {},
   "outputs": [
    {
     "name": "stdout",
     "output_type": "stream",
     "text": [
      "所花费时间：0.02\n"
     ]
    }
   ],
   "source": [
    "import os\n",
    "import pandas as pd\n",
    "import time\n",
    "start =time.time()\n",
    "df999 = data999.loc[data999[\"居住地详细地址\"].str.contains(\"新城区|碑林区|高陵区|未央区|灞桥区|莲湖区|周至县|临潼区|鄠邑区|长安区|阎良区|蓝田县|雁塔区\",na=False),:]\n",
    "end = time.time()\n",
    "print(\"所花费时间：%.2f\"%(end-start))\n",
    "df999.to_csv(r'D:\\统计局\\高陵区\\高陵区_居住地详细.csv', index=False,encoding=\"GBK\")"
   ]
  },
  {
   "cell_type": "code",
   "execution_count": 25,
   "metadata": {},
   "outputs": [
    {
     "name": "stdout",
     "output_type": "stream",
     "text": [
      "所花费时间：0.01\n"
     ]
    }
   ],
   "source": [
    "import os\n",
    "import pandas as pd\n",
    "import time\n",
    "start =time.time()\n",
    "df1999 = data999.loc[~data999[\"居住地详细地址\"].str.contains(\"新城区|碑林区|高陵区|未央区|灞桥区|莲湖区|周至县|临潼区|鄠邑区|长安区|阎良区|蓝田县|雁塔区\",na=False),:]\n",
    "end = time.time()\n",
    "print(\"所花费时间：%.2f\"%(end-start))\n",
    "df1999.to_csv(r'D:\\统计局\\高陵区\\高陵区_居住地不详.csv', index=False,encoding=\"GBK\")"
   ]
  },
  {
   "cell_type": "code",
   "execution_count": 26,
   "metadata": {},
   "outputs": [
    {
     "data": {
      "text/plain": [
       "(6425, 13)"
      ]
     },
     "execution_count": 26,
     "metadata": {},
     "output_type": "execute_result"
    }
   ],
   "source": [
    "df999.shape"
   ]
  },
  {
   "cell_type": "code",
   "execution_count": 27,
   "metadata": {},
   "outputs": [
    {
     "data": {
      "text/plain": [
       "(4429, 13)"
      ]
     },
     "execution_count": 27,
     "metadata": {},
     "output_type": "execute_result"
    }
   ],
   "source": [
    "df1999.shape"
   ]
  },
  {
   "cell_type": "code",
   "execution_count": 28,
   "metadata": {},
   "outputs": [
    {
     "name": "stdout",
     "output_type": "stream",
     "text": [
      "所花费时间：0.01\n",
      "所花费时间：0.02\n",
      "所花费时间：0.08\n",
      "所花费时间：0.18\n",
      "所花费时间：0.20\n",
      "所花费时间：0.21\n",
      "所花费时间：0.22\n",
      "所花费时间：0.23\n",
      "所花费时间：0.24\n",
      "所花费时间：0.25\n",
      "所花费时间：0.26\n",
      "所花费时间：0.27\n",
      "所花费时间：0.27\n"
     ]
    }
   ],
   "source": [
    "names = [\"新城区\",\"碑林区\",\"高陵区\",\"未央区\",\"灞桥区\",\"莲湖区\",\"周至县\",\"临潼区\",\"鄠邑区\",\"长安区\",\"阎良区\",\"蓝田县\",\"雁塔区\"]\n",
    "import os\n",
    "import pandas as pd\n",
    "import time\n",
    "start =time.time()\n",
    "for name in names:\n",
    "    dfs999 = df999.loc[df999[\"居住地详细地址\"].str.contains(name,na=False),:]\n",
    "    end = time.time()\n",
    "    print(\"所花费时间：%.2f\"%(end-start))\n",
    "    sheet = \"高陵区_居住地_{}\".format(name)\n",
    "    dfs999.to_csv(r'D:\\统计局\\高陵区\\{}.csv'.format(sheet), index=False,encoding=\"GBK\")"
   ]
  },
  {
   "cell_type": "code",
   "execution_count": 35,
   "metadata": {},
   "outputs": [
    {
     "data": {
      "text/plain": [
       "1178"
      ]
     },
     "execution_count": 35,
     "metadata": {},
     "output_type": "execute_result"
    }
   ],
   "source": [
    "len(set(df1999[\"居住地详细地址\"]))"
   ]
  },
  {
   "cell_type": "code",
   "execution_count": 43,
   "metadata": {},
   "outputs": [],
   "source": [
    "a999 = df1999[\"居住地详细地址\"].value_counts()\n",
    "b999 = pd.DataFrame(a999)\n",
    "b999.to_csv(r'D:\\统计局\\高陵区\\不详地址种类和数量.csv',encoding=\"GBK\")"
   ]
  },
  {
   "cell_type": "code",
   "execution_count": null,
   "metadata": {},
   "outputs": [],
   "source": []
  }
 ],
 "metadata": {
  "kernelspec": {
   "display_name": "Python 3",
   "language": "python",
   "name": "python3"
  },
  "language_info": {
   "codemirror_mode": {
    "name": "ipython",
    "version": 3
   },
   "file_extension": ".py",
   "mimetype": "text/x-python",
   "name": "python",
   "nbconvert_exporter": "python",
   "pygments_lexer": "ipython3",
   "version": "3.7.6"
  }
 },
 "nbformat": 4,
 "nbformat_minor": 4
}
