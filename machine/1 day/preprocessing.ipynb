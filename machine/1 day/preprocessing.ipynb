{
 "cells": [
  {
   "cell_type": "code",
   "execution_count": 16,
   "metadata": {
    "collapsed": true,
    "jupyter": {
     "outputs_hidden": true
    }
   },
   "outputs": [
    {
     "name": "stdout",
     "output_type": "stream",
     "text": [
      "不在操作范围元素个数200,行数40,列数5 \n",
      " 列名['S-ZORB.FT_1204.TOTAL', 'S-ZORB.AI_2903.PV', 'S-ZORB.SIS_LT_1001.PV', 'S-ZORB.FC_1101.TOTAL', 'S-ZORB.FT_5201.PV']\n",
      "列名S-ZORB.FT_1204.TOTAL,有超出范围的值有40个\n",
      "列名S-ZORB.AI_2903.PV,有超出范围的值有40个\n",
      "列名S-ZORB.SIS_LT_1001.PV,有超出范围的值有40个\n",
      "列名S-ZORB.FC_1101.TOTAL,有超出范围的值有40个\n",
      "列名S-ZORB.FT_5201.PV,有超出范围的值有40个\n",
      "不在操作范围内大于5的列名['S-ZORB.FT_1204.TOTAL', 'S-ZORB.AI_2903.PV', 'S-ZORB.SIS_LT_1001.PV', 'S-ZORB.FC_1101.TOTAL', 'S-ZORB.FT_5201.PV'],有5个\n"
     ]
    },
    {
     "data": {
      "text/plain": [
       "(40, 338)"
      ]
     },
     "execution_count": 16,
     "metadata": {},
     "output_type": "execute_result"
    }
   ],
   "source": [
    "import pandas as pd\n",
    "import numpy as np\n",
    "w_285 = pd.read_csv(r\"C:\\Users\\Administrator\\Desktop\\285_02.csv\")\n",
    "y_285 = pd.read_csv(r\"C:\\Users\\Administrator\\Desktop\\285_range_01.csv\" )\n",
    "w_285.head()\n",
    "y_285.head()\n",
    "\n",
    "k = 0\n",
    "k_i = []\n",
    "k_j = []\n",
    "missing_285 = []\n",
    "for j in range(w_285.shape[1]):\n",
    "    for i in range(w_285.shape[0]):\n",
    "        if w_285.iloc[i,j] < y_285.iloc[j,3] or w_285.iloc[i,j] > y_285.iloc[j,4]:\n",
    "            w_285.iloc[i,j] = np.nan\n",
    "            k_j.append(w_285.columns[j])\n",
    "            k_i.append(w_285.index[i])\n",
    "            k+=1\n",
    "v_i = list(set(k_i))\n",
    "v_j = list(set(k_j))\n",
    "print(\"不在操作范围元素个数{},行数{},列数{} \\n 列名{}\".format(k,len(v_i),len(v_j),v_j))\n",
    "col = v_j\n",
    "for j in col:\n",
    "    w = w_285.loc[:,j]\n",
    "    h = np.isnan(w).sum()\n",
    "    print(\"列名{},有超出范围的值有{}个\".format(j,h))\n",
    "    if h > 5:\n",
    "        missing_285.append(j)\n",
    "print(\"不在操作范围内大于5的列名{},有{}个\".format(missing_285,len(missing_285)))\n",
    "\n",
    "w_285_copy = w_285\n",
    "w_285_copy.shape\n",
    "for i in missing_285:\n",
    "    w_285_copy.drop(columns = i , inplace = True)\n",
    "w_285_copy.shape"
   ]
  },
  {
   "cell_type": "code",
   "execution_count": 17,
   "metadata": {},
   "outputs": [],
   "source": [
    "#***********285标准化**********\n",
    "from sklearn.preprocessing import StandardScaler\n",
    "scaler = StandardScaler()\n",
    "scaler.fit(w_285_copy)\n",
    "scaler.mean_\n",
    "scaler.var_\n",
    "w_285_copy_std = scaler.transform(w_285_copy)\n",
    "w_285_copy_std = pd.DataFrame(w_285_copy_std , columns = w_285_copy.columns)"
   ]
  },
  {
   "cell_type": "code",
   "execution_count": 18,
   "metadata": {},
   "outputs": [
    {
     "name": "stdout",
     "output_type": "stream",
     "text": [
      "异常值元素个数0,行数0,列数0 \n",
      " 列名[]\n"
     ]
    }
   ],
   "source": [
    "##*******判断285异常值并导出**********\n",
    "k = 0\n",
    "k_i = []\n",
    "k_j = []\n",
    "\n",
    "for j in range(w_285_copy_std.shape[1]):\n",
    "    for i in range(w_285_copy_std.shape[0]):\n",
    "        if w_285_copy_std.iloc[i,j] < -3 or w_285_copy_std.iloc[i,j] > 3:\n",
    "            w_285_copy.iloc[i,j] = np.nan\n",
    "            w_285_copy_std.iloc[i,j] = np.nan\n",
    "            k_j.append(w_285_copy_std.columns[j])\n",
    "            k_i.append(w_285_copy_std.index[i])\n",
    "            k+=1\n",
    "v_i = list(set(k_i))\n",
    "v_j = list(set(k_j))\n",
    "print(\"异常值元素个数{},行数{},列数{} \\n 列名{}\".format(k,len(v_i),len(v_j),v_j))\n",
    "col = v_j\n",
    "for j in col:\n",
    "    w = w_285_copy_std.loc[:,j]\n",
    "    h = np.isnan(w).sum()\n",
    "    print(\"列名{},有异常值{}个\".format(j,h))\n"
   ]
  },
  {
   "cell_type": "code",
   "execution_count": 19,
   "metadata": {},
   "outputs": [
    {
     "data": {
      "text/plain": [
       "S-ZORB.CAL_H2.PV                2.733991e-01\n",
       "S-ZORB.PDI_2102.PV              2.420824e+01\n",
       "S-ZORB.PT_2801.PV               2.528870e+00\n",
       "S-ZORB.FC_2801.PV               8.558825e+02\n",
       "S-ZORB.TE_2103.PV               4.215093e+02\n",
       "                                    ...     \n",
       "S-ZORB.FT_1503.DACA.PV          2.200789e+03\n",
       "S-ZORB.FT_1503.TOTALIZERA.PV    5.149259e+06\n",
       "S-ZORB.FT_1504.DACA.PV          2.846897e+03\n",
       "S-ZORB.FT_1504.TOTALIZERA.PV    5.984749e+06\n",
       "S-ZORB.PC_1001A.PV             -9.721070e+01\n",
       "Length: 338, dtype: float64"
      ]
     },
     "execution_count": 19,
     "metadata": {},
     "output_type": "execute_result"
    }
   ],
   "source": [
    "#*********285取平均值********\n",
    "mean_285 = w_285_copy.mean(axis = 0)\n",
    "mean_285"
   ]
  },
  {
   "cell_type": "code",
   "execution_count": 8,
   "metadata": {},
   "outputs": [],
   "source": [
    "w_285_copy.to_csv(r\"C:\\Users\\Administrator\\Desktop\\285_isnan.csv\")"
   ]
  },
  {
   "cell_type": "code",
   "execution_count": 20,
   "metadata": {
    "collapsed": true,
    "jupyter": {
     "outputs_hidden": true
    }
   },
   "outputs": [
    {
     "name": "stdout",
     "output_type": "stream",
     "text": [
      "不在操作范围元素个数283,行数40,列数27 \n",
      " 列名['S-ZORB.FT_1204.TOTAL', 'S-ZORB.PC_3101.DACA', 'S-ZORB.PDI_2301.DACA', 'S-ZORB.PT_2502.DACA', 'S-ZORB.FT_9402.PV', 'S-ZORB.FC_2501.PV', 'S-ZORB.PDC_2607.PV', 'S-ZORB.PT_6002.PV', 'S-ZORB.PC_2401B.DACA', 'S-ZORB.PT_9403.PV', 'S-ZORB.PC_6001.PV', 'S-ZORB.SIS_LT_1001.PV', 'S-ZORB.PC_2401.DACA', 'S-ZORB.BS_LT_2401.PV', 'S-ZORB.AT-0012.DACA.PV', 'S-ZORB.PC_2401B.PIDA.SP', 'S-ZORB.AT_5201.PV', 'S-ZORB.PC_2401B.PIDA.OP', 'S-ZORB.PC_2401.PIDA.SP', 'S-ZORB.AT-0006.DACA.PV', 'S-ZORB.PDC_2502.PV', 'S-ZORB.AI_2903.PV', 'S-ZORB.PT_2501.DACA', 'S-ZORB.PDT_2409.DACA', 'S-ZORB.TE_1603.DACA', 'S-ZORB.PC_2401.PIDA.OP', 'S-ZORB.PDI_2801.DACA']\n",
      "列名S-ZORB.FT_1204.TOTAL,有超出范围的值有40个\n",
      "列名S-ZORB.PC_3101.DACA,有超出范围的值有1个\n",
      "列名S-ZORB.PDI_2301.DACA,有超出范围的值有3个\n",
      "列名S-ZORB.PT_2502.DACA,有超出范围的值有10个\n",
      "列名S-ZORB.FT_9402.PV,有超出范围的值有1个\n",
      "列名S-ZORB.FC_2501.PV,有超出范围的值有4个\n",
      "列名S-ZORB.PDC_2607.PV,有超出范围的值有2个\n",
      "列名S-ZORB.PT_6002.PV,有超出范围的值有5个\n",
      "列名S-ZORB.PC_2401B.DACA,有超出范围的值有3个\n",
      "列名S-ZORB.PT_9403.PV,有超出范围的值有3个\n",
      "列名S-ZORB.PC_6001.PV,有超出范围的值有2个\n",
      "列名S-ZORB.SIS_LT_1001.PV,有超出范围的值有40个\n",
      "列名S-ZORB.PC_2401.DACA,有超出范围的值有4个\n",
      "列名S-ZORB.BS_LT_2401.PV,有超出范围的值有14个\n",
      "列名S-ZORB.AT-0012.DACA.PV,有超出范围的值有3个\n",
      "列名S-ZORB.PC_2401B.PIDA.SP,有超出范围的值有3个\n",
      "列名S-ZORB.AT_5201.PV,有超出范围的值有39个\n",
      "列名S-ZORB.PC_2401B.PIDA.OP,有超出范围的值有4个\n",
      "列名S-ZORB.PC_2401.PIDA.SP,有超出范围的值有6个\n",
      "列名S-ZORB.AT-0006.DACA.PV,有超出范围的值有7个\n",
      "列名S-ZORB.PDC_2502.PV,有超出范围的值有20个\n",
      "列名S-ZORB.AI_2903.PV,有超出范围的值有40个\n",
      "列名S-ZORB.PT_2501.DACA,有超出范围的值有8个\n",
      "列名S-ZORB.PDT_2409.DACA,有超出范围的值有2个\n",
      "列名S-ZORB.TE_1603.DACA,有超出范围的值有9个\n",
      "列名S-ZORB.PC_2401.PIDA.OP,有超出范围的值有7个\n",
      "列名S-ZORB.PDI_2801.DACA,有超出范围的值有3个\n",
      "不在操作范围内大于5的列名['S-ZORB.FT_1204.TOTAL', 'S-ZORB.PT_2502.DACA', 'S-ZORB.SIS_LT_1001.PV', 'S-ZORB.BS_LT_2401.PV', 'S-ZORB.AT_5201.PV', 'S-ZORB.PC_2401.PIDA.SP', 'S-ZORB.AT-0006.DACA.PV', 'S-ZORB.PDC_2502.PV', 'S-ZORB.AI_2903.PV', 'S-ZORB.PT_2501.DACA', 'S-ZORB.TE_1603.DACA', 'S-ZORB.PC_2401.PIDA.OP'],有12个\n"
     ]
    },
    {
     "data": {
      "text/plain": [
       "(40, 331)"
      ]
     },
     "execution_count": 20,
     "metadata": {},
     "output_type": "execute_result"
    }
   ],
   "source": [
    "w_313 = pd.read_csv(r\"C:\\Users\\Administrator\\Desktop\\313_02.csv\")\n",
    "w_313 = w_313.drop(columns = \"id\")\n",
    "y_313 = pd.read_csv(r\"C:\\Users\\Administrator\\Desktop\\313_range_918_11.csv\" )\n",
    "k = 0\n",
    "k_i = []\n",
    "k_j = []\n",
    "missing_313 = []\n",
    "for j in range(w_313.shape[1]):\n",
    "    for i in range(w_313.shape[0]):\n",
    "        if w_313.iloc[i,j] < y_313.iloc[j,4] or w_313.iloc[i,j] > y_313.iloc[j,5]:\n",
    "            w_313.iloc[i,j] = np.nan\n",
    "            k_j.append(w_313.columns[j])\n",
    "            k_i.append(w_313.index[i])\n",
    "            k+=1\n",
    "v_i = list(set(k_i))\n",
    "v_j = list(set(k_j))\n",
    "print(\"不在操作范围元素个数{},行数{},列数{} \\n 列名{}\".format(k,len(v_i),len(v_j),v_j))\n",
    "col = v_j\n",
    "\n",
    "for j in col:\n",
    "    w = w_313.loc[:,j]\n",
    "    h = np.isnan(w).sum()\n",
    "    print(\"列名{},有超出范围的值有{}个\".format(j,h))\n",
    "    if h > 5:\n",
    "        missing_313.append(j)\n",
    "print(\"不在操作范围内大于5的列名{},有{}个\".format(missing_313,len(missing_313)))\n",
    "\n",
    "w_313_copy = w_313\n",
    "w_313_copy.shape\n",
    "for i in missing_313:\n",
    "    w_313_copy.drop(columns = i , inplace = True)\n",
    "w_313_copy.shape"
   ]
  },
  {
   "cell_type": "code",
   "execution_count": 21,
   "metadata": {
    "collapsed": true,
    "jupyter": {
     "outputs_hidden": true
    }
   },
   "outputs": [
    {
     "name": "stdout",
     "output_type": "stream",
     "text": [
      "异常值元素个数63,行数26,列数50 \n",
      " 列名['S-ZORB.CAL.LINE.PV', 'S-ZORB.PDT_1003.DACA', 'S-ZORB.PDT_2503.DACA', 'S-ZORB.PT_6003.DACA', 'S-ZORB.FT_3702.DACA', 'S-ZORB.FC_3103.PV', 'S-ZORB.PDC_2607.PV', 'S-ZORB.FT_9401.PV', 'S-ZORB.PT_6002.PV', 'S-ZORB.FT_1204.PV', 'S-ZORB.PT_7103B.DACA', 'S-ZORB.AT-0013.DACA.PV', 'S-ZORB.LT_1002.DACA', 'S-ZORB.PT_7505B.DACA', 'S-ZORB.PDT_3502.DACA', 'S-ZORB.PDT_2606.DACA', 'S-ZORB.AT-0010.DACA.PV', 'S-ZORB.FT_9302.PV', 'S-ZORB.AT-0011.DACA.PV', 'S-ZORB.ZT_2634.DACA', 'S-ZORB.FC_2801.PV', 'S-ZORB.PT_1201.PV', 'S-ZORB.AC_6001.PV', 'S-ZORB.TE_1101.DACA.PV', 'S-ZORB.PT_7107B.DACA', 'S-ZORB.PT_9402.PV', 'S-ZORB.PT_7510B.DACA', 'S-ZORB.FC_1203.PV', 'S-ZORB.PT_1101.DACA', 'S-ZORB.FT_9102.PV', 'S-ZORB.LT_1501.DACA', 'S-ZORB.FT_1204.DACA.PV', 'S-ZORB.PC_2401B.PIDA.OP', 'S-ZORB.PT_2106.DACA', 'S-ZORB.FC_3101.PV', 'S-ZORB.PT_1601.DACA', 'S-ZORB.PC_1301.PV', 'S-ZORB.PT_2106.DACA.PV', 'S-ZORB.PDT_2409.DACA', 'S-ZORB.FC_1202.PV', 'S-ZORB.PT_2607.DACA', 'S-ZORB.TE_1106.DACA.PV', 'S-ZORB.TE_5008.DACA', 'S-ZORB.PC_1202.PV', 'S-ZORB.TE_1107.DACA', 'S-ZORB.TE_1107.DACA.PV', 'S-ZORB.TE_1106.DACA', 'S-ZORB.TE_1101.DACA', 'S-ZORB.PC_2105.PV', 'S-ZORB.PT_2101.PV']\n",
      "列名S-ZORB.CAL.LINE.PV,有异常值1个\n",
      "列名S-ZORB.PDT_1003.DACA,有异常值1个\n",
      "列名S-ZORB.PDT_2503.DACA,有异常值1个\n",
      "列名S-ZORB.PT_6003.DACA,有异常值1个\n",
      "列名S-ZORB.FT_3702.DACA,有异常值1个\n",
      "列名S-ZORB.FC_3103.PV,有异常值1个\n",
      "列名S-ZORB.PDC_2607.PV,有异常值4个\n",
      "列名S-ZORB.FT_9401.PV,有异常值1个\n",
      "列名S-ZORB.PT_6002.PV,有异常值6个\n",
      "列名S-ZORB.FT_1204.PV,有异常值1个\n",
      "列名S-ZORB.PT_7103B.DACA,有异常值1个\n",
      "列名S-ZORB.AT-0013.DACA.PV,有异常值2个\n",
      "列名S-ZORB.LT_1002.DACA,有异常值1个\n",
      "列名S-ZORB.PT_7505B.DACA,有异常值1个\n",
      "列名S-ZORB.PDT_3502.DACA,有异常值1个\n",
      "列名S-ZORB.PDT_2606.DACA,有异常值2个\n",
      "列名S-ZORB.AT-0010.DACA.PV,有异常值1个\n",
      "列名S-ZORB.FT_9302.PV,有异常值1个\n",
      "列名S-ZORB.AT-0011.DACA.PV,有异常值1个\n",
      "列名S-ZORB.ZT_2634.DACA,有异常值2个\n",
      "列名S-ZORB.FC_2801.PV,有异常值1个\n",
      "列名S-ZORB.PT_1201.PV,有异常值2个\n",
      "列名S-ZORB.AC_6001.PV,有异常值1个\n",
      "列名S-ZORB.TE_1101.DACA.PV,有异常值1个\n",
      "列名S-ZORB.PT_7107B.DACA,有异常值1个\n",
      "列名S-ZORB.PT_9402.PV,有异常值1个\n",
      "列名S-ZORB.PT_7510B.DACA,有异常值1个\n",
      "列名S-ZORB.FC_1203.PV,有异常值1个\n",
      "列名S-ZORB.PT_1101.DACA,有异常值1个\n",
      "列名S-ZORB.FT_9102.PV,有异常值2个\n",
      "列名S-ZORB.LT_1501.DACA,有异常值3个\n",
      "列名S-ZORB.FT_1204.DACA.PV,有异常值1个\n",
      "列名S-ZORB.PC_2401B.PIDA.OP,有异常值6个\n",
      "列名S-ZORB.PT_2106.DACA,有异常值2个\n",
      "列名S-ZORB.FC_3101.PV,有异常值1个\n",
      "列名S-ZORB.PT_1601.DACA,有异常值1个\n",
      "列名S-ZORB.PC_1301.PV,有异常值1个\n",
      "列名S-ZORB.PT_2106.DACA.PV,有异常值2个\n",
      "列名S-ZORB.PDT_2409.DACA,有异常值3个\n",
      "列名S-ZORB.FC_1202.PV,有异常值1个\n",
      "列名S-ZORB.PT_2607.DACA,有异常值1个\n",
      "列名S-ZORB.TE_1106.DACA.PV,有异常值1个\n",
      "列名S-ZORB.TE_5008.DACA,有异常值1个\n",
      "列名S-ZORB.PC_1202.PV,有异常值2个\n",
      "列名S-ZORB.TE_1107.DACA,有异常值1个\n",
      "列名S-ZORB.TE_1107.DACA.PV,有异常值1个\n",
      "列名S-ZORB.TE_1106.DACA,有异常值1个\n",
      "列名S-ZORB.TE_1101.DACA,有异常值1个\n",
      "列名S-ZORB.PC_2105.PV,有异常值2个\n",
      "列名S-ZORB.PT_2101.PV,有异常值1个\n"
     ]
    }
   ],
   "source": [
    "####***********313标准化并导出**********\n",
    "from sklearn.preprocessing import StandardScaler\n",
    "scaler = StandardScaler()\n",
    "scaler.fit(w_313_copy)\n",
    "scaler.mean_\n",
    "scaler.var_\n",
    "w_313_copy_std = scaler.transform(w_313_copy)\n",
    "w_313_copy_std = pd.DataFrame(w_313_copy_std , columns = w_313_copy.columns)\n",
    "###*******判断313异常值********\n",
    "k = 0\n",
    "k_i = []\n",
    "k_j = []\n",
    "for j in range(w_313_copy_std.shape[1]):\n",
    "    for i in range(w_313_copy_std.shape[0]):\n",
    "        if w_313_copy_std.iloc[i,j] < -3 or w_313_copy_std.iloc[i,j] > 3:\n",
    "            w_313_copy.iloc[i,j] = np.nan\n",
    "            w_313_copy_std.iloc[i,j] = np.nan\n",
    "            k_j.append(w_313_copy_std.columns[j])\n",
    "            k_i.append(w_313_copy_std.index[i])\n",
    "            k+=1\n",
    "v_i = list(set(k_i))\n",
    "v_j = list(set(k_j))\n",
    "print(\"异常值元素个数{},行数{},列数{} \\n 列名{}\".format(k,len(v_i),len(v_j),v_j))\n",
    "col = v_j\n",
    "for j in col:\n",
    "    w = w_313_copy_std.loc[:,j]\n",
    "    h = np.isnan(w).sum()\n",
    "    print(\"列名{},有异常值{}个\".format(j,h))"
   ]
  },
  {
   "cell_type": "code",
   "execution_count": 22,
   "metadata": {},
   "outputs": [
    {
     "data": {
      "text/plain": [
       "S-ZORB.CAL_H2.PV                2.619362e-01\n",
       "S-ZORB.PDI_2102.PV              1.718347e+01\n",
       "S-ZORB.PT_2801.PV               2.417056e+00\n",
       "S-ZORB.FC_2801.PV               8.492281e+02\n",
       "S-ZORB.TE_2103.PV               4.249686e+02\n",
       "                                    ...     \n",
       "S-ZORB.FT_1503.DACA.PV          1.943691e+03\n",
       "S-ZORB.FT_1503.TOTALIZERA.PV    2.149492e+06\n",
       "S-ZORB.FT_1504.DACA.PV          2.501854e+03\n",
       "S-ZORB.FT_1504.TOTALIZERA.PV    2.154164e+06\n",
       "S-ZORB.PC_1001A.PV             -1.133759e+02\n",
       "Length: 331, dtype: float64"
      ]
     },
     "execution_count": 22,
     "metadata": {},
     "output_type": "execute_result"
    }
   ],
   "source": [
    "#*********313取平均值********\n",
    "mean_313 = w_313_copy.mean(axis = 0)\n",
    "mean_313\n"
   ]
  },
  {
   "cell_type": "code",
   "execution_count": 23,
   "metadata": {},
   "outputs": [],
   "source": [
    "w_313_copy.to_csv(r\"C:\\Users\\Administrator\\Desktop\\313_isnan.csv\")"
   ]
  },
  {
   "cell_type": "code",
   "execution_count": null,
   "metadata": {},
   "outputs": [],
   "source": []
  },
  {
   "cell_type": "code",
   "execution_count": null,
   "metadata": {},
   "outputs": [],
   "source": []
  },
  {
   "cell_type": "code",
   "execution_count": null,
   "metadata": {},
   "outputs": [],
   "source": []
  },
  {
   "cell_type": "code",
   "execution_count": null,
   "metadata": {},
   "outputs": [],
   "source": []
  },
  {
   "cell_type": "code",
   "execution_count": null,
   "metadata": {},
   "outputs": [],
   "source": []
  }
 ],
 "metadata": {
  "kernelspec": {
   "display_name": "Python 3",
   "language": "python",
   "name": "python3"
  },
  "language_info": {
   "codemirror_mode": {
    "name": "ipython",
    "version": 3
   },
   "file_extension": ".py",
   "mimetype": "text/x-python",
   "name": "python",
   "nbconvert_exporter": "python",
   "pygments_lexer": "ipython3",
   "version": "3.7.6"
  }
 },
 "nbformat": 4,
 "nbformat_minor": 4
}
