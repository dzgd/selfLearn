{
 "cells": [
  {
   "cell_type": "code",
   "execution_count": null,
   "metadata": {
    "collapsed": false,
    "jupyter": {
     "outputs_hidden": false
    },
    "pycharm": {
     "name": "#%%\n"
    }
   },
   "outputs": [],
   "source": [
    "x.shape"
   ]
  },
  {
   "cell_type": "code",
   "execution_count": null,
   "metadata": {
    "collapsed": false,
    "jupyter": {
     "outputs_hidden": false
    },
    "pycharm": {
     "name": "#%%\n"
    }
   },
   "outputs": [],
   "source": [
    "x.drop(x.columns[missing],axis=1,inplace=True)"
   ]
  },
  {
   "cell_type": "code",
   "execution_count": null,
   "metadata": {
    "collapsed": false,
    "jupyter": {
     "outputs_hidden": false
    },
    "pycharm": {
     "name": "#%%\n"
    }
   },
   "outputs": [],
   "source": [
    "missing = []\n",
    "for j in range(x.shape[1]):\n",
    "    if all(x.iloc[:,j].to_list()) == False:\n",
    "        print(\"缺失值{}\".format(j))\n",
    "        missing.append(j)"
   ]
  },
  {
   "cell_type": "code",
   "execution_count": null,
   "metadata": {
    "collapsed": false,
    "jupyter": {
     "outputs_hidden": false
    },
    "pycharm": {
     "name": "#%%\n"
    }
   },
   "outputs": [],
   "source": [
    "x.head()"
   ]
  },
  {
   "cell_type": "code",
   "execution_count": null,
   "metadata": {
    "collapsed": false,
    "jupyter": {
     "outputs_hidden": false
    },
    "pycharm": {
     "name": "#%%\n"
    }
   },
   "outputs": [],
   "source": [
    "missing"
   ]
  },
  {
   "cell_type": "code",
   "execution_count": null,
   "metadata": {
    "collapsed": false,
    "jupyter": {
     "outputs_hidden": false
    },
    "pycharm": {
     "name": "#%%\n"
    }
   },
   "outputs": [],
   "source": [
    "pd.DataFrame(x.iloc[:,3])"
   ]
  },
  {
   "cell_type": "code",
   "execution_count": null,
   "metadata": {
    "collapsed": false,
    "jupyter": {
     "outputs_hidden": false
    },
    "pycharm": {
     "name": "#%%\n"
    }
   },
   "outputs": [],
   "source": [
    "for j in range(x.shape[1]):\n",
    "    for i in range(x.shape[0]):\n",
    "        if x.iloc[i,j] == 0:\n",
    "            x.iloc[i,j] == (x.iloc[i-1,j] +x.iloc[i-2,j]+x.iloc[i-3,j])/3"
   ]
  },
  {
   "cell_type": "code",
   "execution_count": null,
   "metadata": {
    "collapsed": false,
    "jupyter": {
     "outputs_hidden": false
    },
    "pycharm": {
     "name": "#%%\n"
    }
   },
   "outputs": [],
   "source": [
    "x.shape"
   ]
  },
  {
   "cell_type": "code",
   "execution_count": null,
   "metadata": {
    "collapsed": false,
    "jupyter": {
     "outputs_hidden": false
    },
    "pycharm": {
     "name": "#%%\n"
    }
   },
   "outputs": [],
   "source": [
    "x.to_csv(r\"C:\\Users\\Administrator\\Desktop\\285.csv\")"
   ]
  },
  {
   "cell_type": "code",
   "execution_count": null,
   "metadata": {
    "collapsed": false,
    "jupyter": {
     "outputs_hidden": false
    },
    "pycharm": {
     "name": "#%%\n"
    }
   },
   "outputs": [],
   "source": [
    "n =0"
   ]
  },
  {
   "cell_type": "code",
   "execution_count": null,
   "metadata": {
    "collapsed": false,
    "jupyter": {
     "outputs_hidden": false
    },
    "pycharm": {
     "name": "#%%\n"
    }
   },
   "outputs": [],
   "source": [
    "missing = []\n",
    "for j in range(x.shape[1]):\n",
    "    if all(x.iloc[:,j].to_list()) == False:\n",
    "        print(\"缺失值{}\".format(j))\n",
    "        missing.append(j)"
   ]
  },
  {
   "cell_type": "code",
   "execution_count": null,
   "metadata": {
    "collapsed": false,
    "jupyter": {
     "outputs_hidden": false
    },
    "pycharm": {
     "name": "#%%\n"
    }
   },
   "outputs": [],
   "source": [
    "for j in range(x.shape[1]):\n",
    "    for i in range(x.shape[0]):\n",
    "        if x.iloc[i,j] == 0:\n",
    "            x.iloc[i,j] == (x.iloc[i-1,j] +x.iloc[i-2,j]+x.iloc[i-3,j])/3"
   ]
  },
  {
   "cell_type": "code",
   "execution_count": null,
   "metadata": {
    "collapsed": false,
    "jupyter": {
     "outputs_hidden": false
    },
    "pycharm": {
     "name": "#%%\n"
    }
   },
   "outputs": [],
   "source": []
  },
  {
   "cell_type": "code",
   "execution_count": null,
   "metadata": {
    "collapsed": false,
    "jupyter": {
     "outputs_hidden": false
    },
    "pycharm": {
     "name": "#%%\n"
    }
   },
   "outputs": [],
   "source": []
  },
  {
   "cell_type": "code",
   "execution_count": null,
   "metadata": {
    "collapsed": false,
    "jupyter": {
     "outputs_hidden": false
    },
    "pycharm": {
     "name": "#%%\n"
    }
   },
   "outputs": [],
   "source": []
  },
  {
   "cell_type": "code",
   "execution_count": null,
   "metadata": {
    "collapsed": false,
    "jupyter": {
     "outputs_hidden": false
    },
    "pycharm": {
     "name": "#%%\n"
    }
   },
   "outputs": [],
   "source": [
    "w = pd.read_csv(r\"C:\\Users\\Administrator\\Desktop\\csv\\313processing.csv\",header = None)"
   ]
  },
  {
   "cell_type": "code",
   "execution_count": null,
   "metadata": {
    "collapsed": false,
    "jupyter": {
     "outputs_hidden": false
    },
    "pycharm": {
     "name": "#%%\n"
    }
   },
   "outputs": [],
   "source": [
    "w.drop(w.columns[missing],axis=1,inplace=True)"
   ]
  },
  {
   "cell_type": "code",
   "execution_count": null,
   "metadata": {
    "collapsed": false,
    "jupyter": {
     "outputs_hidden": false
    },
    "pycharm": {
     "name": "#%%\n"
    }
   },
   "outputs": [],
   "source": [
    "w.to_csv(r\"C:\\Users\\Administrator\\Desktop\\313.csv\")"
   ]
  },
  {
   "cell_type": "code",
   "execution_count": null,
   "metadata": {
    "collapsed": false,
    "jupyter": {
     "outputs_hidden": false
    },
    "pycharm": {
     "name": "#%%\n"
    }
   },
   "outputs": [],
   "source": []
  },
  {
   "cell_type": "code",
   "execution_count": null,
   "metadata": {
    "collapsed": false,
    "jupyter": {
     "outputs_hidden": false
    },
    "pycharm": {
     "name": "#%%\n"
    }
   },
   "outputs": [],
   "source": []
  },
  {
   "cell_type": "code",
   "execution_count": null,
   "metadata": {
    "collapsed": false,
    "jupyter": {
     "outputs_hidden": false
    },
    "pycharm": {
     "name": "#%%\n"
    }
   },
   "outputs": [],
   "source": []
  },
  {
   "cell_type": "code",
   "execution_count": null,
   "metadata": {
    "collapsed": false,
    "jupyter": {
     "outputs_hidden": false
    },
    "pycharm": {
     "name": "#%%\n"
    }
   },
   "outputs": [],
   "source": []
  },
  {
   "cell_type": "code",
   "execution_count": null,
   "metadata": {
    "collapsed": false,
    "jupyter": {
     "outputs_hidden": false
    },
    "pycharm": {
     "name": "#%%\n"
    }
   },
   "outputs": [],
   "source": [
    "import numpy as np\n",
    "import pandas as pd\n",
    "from sklearn.linear_model import LogisticRegression as LR\n",
    "data = pd.read_csv(r\"C:\\Users\\Administrator\\Desktop\\csv\\285processsing.csv\",index_col=0)\n",
    "data.info()\n",
    "data.isnull().sum()/data.shape[0]\n",
    "def fill_missing_rf(X,y,to_fill):\n",
    "    \"\"\"\n",
    "   使用随机森林填补一个特征的缺失值的函数\n",
    "   参数：\n",
    "   X：要填补的特征矩阵\n",
    "   y：完整的，没有缺失值的标签\n",
    "   to_fill：字符串，要填补的那一列的名称\n",
    "   \"\"\"\n",
    "    \n",
    "    #构建我们的新特征矩阵和新标签\n",
    "    df = X.copy()\n",
    "    fill = df.loc[:,to_fill]\n",
    "    df = pd.concat([df.loc[:,df.columns != to_fill],pd.DataFrame(y)],axis=1)\n",
    "    #找出我们的训练集和测试集\n",
    "    Ytrain = fill[fill.notnull()]\n",
    "    Ytest = fill[fill.isnull()]\n",
    "    Xtrain = df.iloc[Ytrain.index,:]\n",
    "    Xtest = df.iloc[Ytest.index,:]\n",
    "    #用随机森林回归来填补缺失值\n",
    "    from sklearn.ensemble import RandomForestRegressor as rfr\n",
    "    rfr = rfr(n_estimators=100)\n",
    "    rfr = rfr.fit(Xtrain, Ytrain)\n",
    "    Ypredict = rfr.predict(Xtest)\n",
    "    return Ypredict\n",
    "\n",
    "                   \n",
    "X = data.iloc[:,1:]\n",
    "y = data[\"SeriousDlqin2yrs\"]\n",
    "X.shape\n",
    "#=====【TIME WARNING：1 min】=====#\n",
    "y_pred = fill_missing_rf(X,y,\"MonthlyIncome\")\n",
    "data.loc[data.loc[:,\"MonthlyIncome\"].isnull(),\"MonthlyIncome\"] = y_pred"
   ]
  },
  {
   "cell_type": "code",
   "execution_count": null,
   "metadata": {
    "collapsed": false,
    "jupyter": {
     "outputs_hidden": false
    },
    "pycharm": {
     "name": "#%%\n"
    }
   },
   "outputs": [],
   "source": []
  },
  {
   "cell_type": "code",
   "execution_count": null,
   "metadata": {
    "collapsed": false,
    "jupyter": {
     "outputs_hidden": false
    },
    "pycharm": {
     "name": "#%%\n"
    }
   },
   "outputs": [],
   "source": [
    "w = pd.read_csv(r\"C:\\Users\\Administrator\\Desktop\\csv\\313processing.csv\",header = None)\n",
    "w.head()"
   ]
  },
  {
   "cell_type": "code",
   "execution_count": null,
   "metadata": {
    "collapsed": false,
    "jupyter": {
     "outputs_hidden": false
    },
    "pycharm": {
     "name": "#%%\n"
    }
   },
   "outputs": [],
   "source": [
    "w.shape"
   ]
  },
  {
   "cell_type": "code",
   "execution_count": null,
   "metadata": {
    "collapsed": false,
    "jupyter": {
     "outputs_hidden": false
    },
    "pycharm": {
     "name": "#%%\n"
    }
   },
   "outputs": [],
   "source": [
    "missing = []\n",
    "for j in range(w.shape[1]):\n",
    "    if all(w.iloc[:,j].to_list()) == False:\n",
    "        print(\"缺失值{}\".format(j))\n",
    "        missing.append(j)\n",
    "        \n",
    "w.drop(w.columns[missing],axis=1,inplace=True)"
   ]
  },
  {
   "cell_type": "code",
   "execution_count": null,
   "metadata": {
    "collapsed": false,
    "jupyter": {
     "outputs_hidden": false
    },
    "pycharm": {
     "name": "#%%\n"
    }
   },
   "outputs": [],
   "source": [
    "13"
   ]
  },
  {
   "cell_type": "code",
   "execution_count": null,
   "metadata": {
    "collapsed": false,
    "jupyter": {
     "outputs_hidden": false
    },
    "pycharm": {
     "name": "#%%\n"
    }
   },
   "outputs": [],
   "source": [
    "w.drop(w.columns[missing],axis=1,inplace=True)"
   ]
  },
  {
   "cell_type": "code",
   "execution_count": null,
   "metadata": {
    "collapsed": false,
    "jupyter": {
     "outputs_hidden": false
    },
    "pycharm": {
     "name": "#%%\n"
    }
   },
   "outputs": [],
   "source": [
    "w.shape"
   ]
  },
  {
   "cell_type": "code",
   "execution_count": null,
   "metadata": {
    "collapsed": false,
    "jupyter": {
     "outputs_hidden": false
    },
    "pycharm": {
     "name": "#%%\n"
    }
   },
   "outputs": [],
   "source": [
    "x.to_csv(r\"C:\\Users\\Administrator\\Desktop\\285.csv\")"
   ]
  },
  {
   "cell_type": "code",
   "execution_count": null,
   "metadata": {
    "collapsed": false,
    "jupyter": {
     "outputs_hidden": false
    },
    "pycharm": {
     "name": "#%%\n"
    }
   },
   "outputs": [],
   "source": [
    "w = pd.read_csv(r\"C:\\Users\\Administrator\\Desktop\\313_new.csv\")\n",
    "w.head()"
   ]
  },
  {
   "cell_type": "code",
   "execution_count": null,
   "metadata": {
    "collapsed": false,
    "jupyter": {
     "outputs_hidden": false
    },
    "pycharm": {
     "name": "#%%\n"
    }
   },
   "outputs": [],
   "source": [
    "missing = []\n",
    "for j in range(w.shape[1]):\n",
    "    if all(w.iloc[:,j].to_list()) == False:\n",
    "        print(\"缺失值{}\".format(j))\n",
    "        missing.append(j)"
   ]
  },
  {
   "cell_type": "code",
   "execution_count": null,
   "metadata": {
    "collapsed": false,
    "jupyter": {
     "outputs_hidden": false
    },
    "pycharm": {
     "name": "#%%\n"
    }
   },
   "outputs": [],
   "source": [
    "w.drop(w.columns[missing],axis=1,inplace=True)"
   ]
  },
  {
   "cell_type": "code",
   "execution_count": null,
   "metadata": {
    "collapsed": false,
    "jupyter": {
     "outputs_hidden": false
    },
    "pycharm": {
     "name": "#%%\n"
    }
   },
   "outputs": [],
   "source": [
    "w.shape"
   ]
  },
  {
   "cell_type": "code",
   "execution_count": null,
   "metadata": {
    "collapsed": false,
    "jupyter": {
     "outputs_hidden": false
    },
    "pycharm": {
     "name": "#%%\n"
    }
   },
   "outputs": [],
   "source": [
    "for j in range(w.shape[1]):\n",
    "    for i in range(w.shape[0]):\n",
    "        if w.iloc[i,j] == 0:\n",
    "            w.iloc[i,j] == (w.iloc[i-1,j] +w.iloc[i-2,j]+w.iloc[i-3,j])/3"
   ]
  },
  {
   "cell_type": "code",
   "execution_count": null,
   "metadata": {
    "collapsed": false,
    "jupyter": {
     "outputs_hidden": false
    },
    "pycharm": {
     "name": "#%%\n"
    }
   },
   "outputs": [],
   "source": [
    "w.to_csv(r\"C:\\Users\\Administrator\\Desktop\\313(1).csv\")"
   ]
  },
  {
   "cell_type": "code",
   "execution_count": null,
   "metadata": {
    "collapsed": false,
    "jupyter": {
     "outputs_hidden": false
    },
    "pycharm": {
     "name": "#%%\n"
    }
   },
   "outputs": [],
   "source": [
    "w = pd.read_csv(r\"C:\\Users\\Administrator\\Desktop\\31301(2).csv\")\n",
    "w.head()\n",
    "w.drop(w.columns[missing],axis=1,inplace=True)\n",
    "\n",
    "for j in range(w.shape[1]):\n",
    "    for i in range(w.shape[0]):\n",
    "        if w.iloc[i,j] == 0:\n",
    "            w.iloc[i,j] == (w.iloc[i-1,j] +w.iloc[i-2,j]+w.iloc[i-3,j])/3\n",
    "\n",
    "w.to_csv(r\"C:\\Users\\Administrator\\Desktop\\313_03.csv\")"
   ]
  },
  {
   "cell_type": "code",
   "execution_count": null,
   "metadata": {
    "collapsed": false,
    "jupyter": {
     "outputs_hidden": false
    },
    "pycharm": {
     "name": "#%%\n"
    }
   },
   "outputs": [],
   "source": [
    "w = pd.read_csv(r\"C:\\Users\\Administrator\\Desktop\\313_new.csv\")\n",
    "w.drop(columns = \"id\" , inplace = True)"
   ]
  },
  {
   "cell_type": "code",
   "execution_count": null,
   "metadata": {
    "collapsed": false,
    "jupyter": {
     "outputs_hidden": false
    },
    "pycharm": {
     "name": "#%%\n"
    }
   },
   "outputs": [],
   "source": [
    "w"
   ]
  },
  {
   "cell_type": "code",
   "execution_count": null,
   "metadata": {
    "collapsed": false,
    "jupyter": {
     "outputs_hidden": false
    },
    "pycharm": {
     "name": "#%%\n"
    }
   },
   "outputs": [],
   "source": [
    "y = pd.read_csv(r\"C:\\Users\\Administrator\\Desktop\\313范围标记9_18_0_51.csv\")\n",
    "y"
   ]
  },
  {
   "cell_type": "code",
   "execution_count": null,
   "metadata": {
    "collapsed": false,
    "jupyter": {
     "outputs_hidden": false
    },
    "pycharm": {
     "name": "#%%\n"
    }
   },
   "outputs": [],
   "source": [
    "w.shape"
   ]
  },
  {
   "cell_type": "code",
   "execution_count": null,
   "metadata": {
    "collapsed": false,
    "jupyter": {
     "outputs_hidden": false
    },
    "pycharm": {
     "name": "#%%\n"
    }
   },
   "outputs": [],
   "source": [
    "y.shape"
   ]
  },
  {
   "cell_type": "code",
   "execution_count": null,
   "metadata": {
    "collapsed": false,
    "jupyter": {
     "outputs_hidden": false
    },
    "pycharm": {
     "name": "#%%\n"
    }
   },
   "outputs": [],
   "source": [
    "m = []\n",
    "n = []\n",
    "a = 0\n",
    "for j in range(w.shape[1]):\n",
    "    for i in range(w.shape[0]):\n",
    "        if w.iloc[i,j] < y.iloc[j,4] or w.iloc[i,j] > y.iloc[j,5]:\n",
    "            #print(\"超出范围\")\n",
    "            m.append(m)\n",
    "            n.append(n)\n",
    "            w.iloc[i,j] = np.nan\n",
    "            a+=1\n",
    "            \n",
    "print(a)\n",
    "for i in range(len(m)):\n",
    "    print(m[i])"
   ]
  },
  {
   "cell_type": "code",
   "execution_count": null,
   "metadata": {
    "collapsed": false,
    "jupyter": {
     "outputs_hidden": false
    },
    "pycharm": {
     "name": "#%%\n"
    }
   },
   "outputs": [],
   "source": [
    "w.shape   "
   ]
  },
  {
   "cell_type": "code",
   "execution_count": null,
   "metadata": {
    "collapsed": false,
    "jupyter": {
     "outputs_hidden": false
    },
    "pycharm": {
     "name": "#%%\n"
    }
   },
   "outputs": [],
   "source": [
    "w"
   ]
  },
  {
   "cell_type": "code",
   "execution_count": null,
   "metadata": {
    "collapsed": false,
    "jupyter": {
     "outputs_hidden": false
    },
    "pycharm": {
     "name": "#%%\n"
    }
   },
   "outputs": [],
   "source": [
    "w.info()"
   ]
  },
  {
   "cell_type": "code",
   "execution_count": null,
   "metadata": {
    "collapsed": false,
    "jupyter": {
     "outputs_hidden": false
    },
    "pycharm": {
     "name": "#%%\n"
    }
   },
   "outputs": [],
   "source": [
    "n"
   ]
  },
  {
   "cell_type": "code",
   "execution_count": null,
   "metadata": {
    "collapsed": false,
    "jupyter": {
     "outputs_hidden": false
    },
    "pycharm": {
     "name": "#%%\n"
    }
   },
   "outputs": [],
   "source": []
  },
  {
   "cell_type": "code",
   "execution_count": null,
   "metadata": {
    "collapsed": false,
    "jupyter": {
     "outputs_hidden": false
    },
    "pycharm": {
     "name": "#%%\n"
    }
   },
   "outputs": [],
   "source": [
    "w1 = pd.read_csv(r\"C:\\Users\\Administrator\\Desktop\\31301(2).csv\")"
   ]
  },
  {
   "cell_type": "code",
   "execution_count": null,
   "metadata": {
    "collapsed": false,
    "jupyter": {
     "outputs_hidden": false
    },
    "pycharm": {
     "name": "#%%\n"
    }
   },
   "outputs": [],
   "source": [
    "w2 = pd.read_csv(r\"C:\\Users\\Administrator\\Desktop\\285_01.csv\")\n",
    "w2.shape"
   ]
  },
  {
   "cell_type": "code",
   "execution_count": null,
   "metadata": {
    "collapsed": false,
    "jupyter": {
     "outputs_hidden": false
    },
    "pycharm": {
     "name": "#%%\n"
    }
   },
   "outputs": [],
   "source": [
    "m"
   ]
  },
  {
   "cell_type": "code",
   "execution_count": null,
   "metadata": {
    "collapsed": false,
    "jupyter": {
     "outputs_hidden": false
    },
    "pycharm": {
     "name": "#%%\n"
    }
   },
   "outputs": [],
   "source": [
    "w3 = pd.read_csv(r\"C:\\Users\\Administrator\\Desktop\\csv\\285processsing.csv\")"
   ]
  },
  {
   "cell_type": "code",
   "execution_count": null,
   "metadata": {
    "collapsed": false,
    "jupyter": {
     "outputs_hidden": false
    },
    "pycharm": {
     "name": "#%%\n"
    }
   },
   "outputs": [],
   "source": []
  },
  {
   "cell_type": "code",
   "execution_count": 123,
   "metadata": {
    "collapsed": false,
    "jupyter": {
     "outputs_hidden": false
    },
    "pycharm": {
     "name": "#%%\n"
    }
   },
   "outputs": [],
   "source": [
    "import pandas as pd\n",
    "import numpy as np\n",
    "w_285 = pd.read_csv(r\"C:\\Users\\Administrator\\Desktop\\285_02.csv\")\n",
    "w_313 = pd.read_csv(r\"C:\\Users\\Administrator\\Desktop\\313_02.csv\")\n",
    "w_313 = w_313.drop(columns = \"id\")"
   ]
  },
  {
   "cell_type": "code",
   "execution_count": 124,
   "metadata": {},
   "outputs": [],
   "source": [
    "y_285 = pd.read_csv(r\"C:\\Users\\Administrator\\Desktop\\285_range_01.csv\" )\n",
    "y_313 = pd.read_csv(r\"C:\\Users\\Administrator\\Desktop\\313_range_918_11.csv\" )"
   ]
  },
  {
   "cell_type": "code",
   "execution_count": 46,
   "metadata": {},
   "outputs": [
    {
     "data": {
      "text/html": [
       "<div>\n",
       "<style scoped>\n",
       "    .dataframe tbody tr th:only-of-type {\n",
       "        vertical-align: middle;\n",
       "    }\n",
       "\n",
       "    .dataframe tbody tr th {\n",
       "        vertical-align: top;\n",
       "    }\n",
       "\n",
       "    .dataframe thead th {\n",
       "        text-align: right;\n",
       "    }\n",
       "</style>\n",
       "<table border=\"1\" class=\"dataframe\">\n",
       "  <thead>\n",
       "    <tr style=\"text-align: right;\">\n",
       "      <th></th>\n",
       "      <th>S-ZORB.CAL_H2.PV</th>\n",
       "      <th>S-ZORB.PDI_2102.PV</th>\n",
       "      <th>S-ZORB.PT_2801.PV</th>\n",
       "      <th>S-ZORB.FC_2801.PV</th>\n",
       "      <th>S-ZORB.TE_2103.PV</th>\n",
       "      <th>S-ZORB.TE_2005.PV</th>\n",
       "      <th>S-ZORB.PT_2101.PV</th>\n",
       "      <th>S-ZORB.PDT_2104.PV</th>\n",
       "      <th>S-ZORB.SIS_PDT_2103B.PV</th>\n",
       "      <th>S-ZORB.TC_2101.PV</th>\n",
       "      <th>...</th>\n",
       "      <th>S-ZORB.CAL_1.CANGLIANG.PV</th>\n",
       "      <th>S-ZORB.FT_1006.DACA.PV</th>\n",
       "      <th>S-ZORB.FT_5204.DACA.PV</th>\n",
       "      <th>S-ZORB.FT_1006.TOTALIZERA.PV</th>\n",
       "      <th>S-ZORB.FT_5204.TOTALIZERA.PV</th>\n",
       "      <th>S-ZORB.FT_1503.DACA.PV</th>\n",
       "      <th>S-ZORB.FT_1503.TOTALIZERA.PV</th>\n",
       "      <th>S-ZORB.FT_1504.DACA.PV</th>\n",
       "      <th>S-ZORB.FT_1504.TOTALIZERA.PV</th>\n",
       "      <th>S-ZORB.PC_1001A.PV</th>\n",
       "    </tr>\n",
       "  </thead>\n",
       "  <tbody>\n",
       "    <tr>\n",
       "      <th>0</th>\n",
       "      <td>0.273498</td>\n",
       "      <td>24.17817</td>\n",
       "      <td>2.528462</td>\n",
       "      <td>856.2485</td>\n",
       "      <td>421.5055</td>\n",
       "      <td>421.1933</td>\n",
       "      <td>2.426675</td>\n",
       "      <td>59.71847</td>\n",
       "      <td>1108.377</td>\n",
       "      <td>244.1175</td>\n",
       "      <td>...</td>\n",
       "      <td>2.358511</td>\n",
       "      <td>3348.074</td>\n",
       "      <td>190.6698</td>\n",
       "      <td>98941230</td>\n",
       "      <td>2433273</td>\n",
       "      <td>2210.004</td>\n",
       "      <td>5147738</td>\n",
       "      <td>2846.390</td>\n",
       "      <td>5982072</td>\n",
       "      <td>-97.22112</td>\n",
       "    </tr>\n",
       "    <tr>\n",
       "      <th>1</th>\n",
       "      <td>0.273493</td>\n",
       "      <td>24.17971</td>\n",
       "      <td>2.528483</td>\n",
       "      <td>856.2297</td>\n",
       "      <td>421.5057</td>\n",
       "      <td>421.1934</td>\n",
       "      <td>2.426696</td>\n",
       "      <td>59.71767</td>\n",
       "      <td>1108.372</td>\n",
       "      <td>244.1178</td>\n",
       "      <td>...</td>\n",
       "      <td>2.358513</td>\n",
       "      <td>3346.716</td>\n",
       "      <td>190.6711</td>\n",
       "      <td>98941420</td>\n",
       "      <td>2433282</td>\n",
       "      <td>2209.531</td>\n",
       "      <td>5147816</td>\n",
       "      <td>2846.416</td>\n",
       "      <td>5982209</td>\n",
       "      <td>-97.22059</td>\n",
       "    </tr>\n",
       "    <tr>\n",
       "      <th>2</th>\n",
       "      <td>0.273488</td>\n",
       "      <td>24.18125</td>\n",
       "      <td>2.528504</td>\n",
       "      <td>856.2109</td>\n",
       "      <td>421.5059</td>\n",
       "      <td>421.1936</td>\n",
       "      <td>2.426718</td>\n",
       "      <td>59.71688</td>\n",
       "      <td>1108.368</td>\n",
       "      <td>244.1180</td>\n",
       "      <td>...</td>\n",
       "      <td>2.358516</td>\n",
       "      <td>3345.357</td>\n",
       "      <td>190.6723</td>\n",
       "      <td>98941610</td>\n",
       "      <td>2433291</td>\n",
       "      <td>2209.059</td>\n",
       "      <td>5147894</td>\n",
       "      <td>2846.442</td>\n",
       "      <td>5982347</td>\n",
       "      <td>-97.22005</td>\n",
       "    </tr>\n",
       "    <tr>\n",
       "      <th>3</th>\n",
       "      <td>0.273483</td>\n",
       "      <td>24.18279</td>\n",
       "      <td>2.528525</td>\n",
       "      <td>856.1922</td>\n",
       "      <td>421.5061</td>\n",
       "      <td>421.1937</td>\n",
       "      <td>2.426739</td>\n",
       "      <td>59.71609</td>\n",
       "      <td>1108.363</td>\n",
       "      <td>244.1182</td>\n",
       "      <td>...</td>\n",
       "      <td>2.358518</td>\n",
       "      <td>3343.999</td>\n",
       "      <td>190.6736</td>\n",
       "      <td>98941800</td>\n",
       "      <td>2433300</td>\n",
       "      <td>2208.586</td>\n",
       "      <td>5147972</td>\n",
       "      <td>2846.468</td>\n",
       "      <td>5982484</td>\n",
       "      <td>-97.21952</td>\n",
       "    </tr>\n",
       "    <tr>\n",
       "      <th>4</th>\n",
       "      <td>0.273478</td>\n",
       "      <td>24.18434</td>\n",
       "      <td>2.528546</td>\n",
       "      <td>856.1734</td>\n",
       "      <td>421.5063</td>\n",
       "      <td>421.1939</td>\n",
       "      <td>2.426760</td>\n",
       "      <td>59.71530</td>\n",
       "      <td>1108.358</td>\n",
       "      <td>244.1184</td>\n",
       "      <td>...</td>\n",
       "      <td>2.358521</td>\n",
       "      <td>3342.640</td>\n",
       "      <td>190.6748</td>\n",
       "      <td>98941980</td>\n",
       "      <td>2433309</td>\n",
       "      <td>2208.114</td>\n",
       "      <td>5148050</td>\n",
       "      <td>2846.494</td>\n",
       "      <td>5982621</td>\n",
       "      <td>-97.21899</td>\n",
       "    </tr>\n",
       "  </tbody>\n",
       "</table>\n",
       "<p>5 rows × 343 columns</p>\n",
       "</div>"
      ],
      "text/plain": [
       "   S-ZORB.CAL_H2.PV  S-ZORB.PDI_2102.PV  S-ZORB.PT_2801.PV  S-ZORB.FC_2801.PV  \\\n",
       "0          0.273498            24.17817           2.528462           856.2485   \n",
       "1          0.273493            24.17971           2.528483           856.2297   \n",
       "2          0.273488            24.18125           2.528504           856.2109   \n",
       "3          0.273483            24.18279           2.528525           856.1922   \n",
       "4          0.273478            24.18434           2.528546           856.1734   \n",
       "\n",
       "   S-ZORB.TE_2103.PV  S-ZORB.TE_2005.PV  S-ZORB.PT_2101.PV  \\\n",
       "0           421.5055           421.1933           2.426675   \n",
       "1           421.5057           421.1934           2.426696   \n",
       "2           421.5059           421.1936           2.426718   \n",
       "3           421.5061           421.1937           2.426739   \n",
       "4           421.5063           421.1939           2.426760   \n",
       "\n",
       "   S-ZORB.PDT_2104.PV  S-ZORB.SIS_PDT_2103B.PV  S-ZORB.TC_2101.PV  ...  \\\n",
       "0            59.71847                 1108.377           244.1175  ...   \n",
       "1            59.71767                 1108.372           244.1178  ...   \n",
       "2            59.71688                 1108.368           244.1180  ...   \n",
       "3            59.71609                 1108.363           244.1182  ...   \n",
       "4            59.71530                 1108.358           244.1184  ...   \n",
       "\n",
       "   S-ZORB.CAL_1.CANGLIANG.PV  S-ZORB.FT_1006.DACA.PV  S-ZORB.FT_5204.DACA.PV  \\\n",
       "0                   2.358511                3348.074                190.6698   \n",
       "1                   2.358513                3346.716                190.6711   \n",
       "2                   2.358516                3345.357                190.6723   \n",
       "3                   2.358518                3343.999                190.6736   \n",
       "4                   2.358521                3342.640                190.6748   \n",
       "\n",
       "   S-ZORB.FT_1006.TOTALIZERA.PV  S-ZORB.FT_5204.TOTALIZERA.PV  \\\n",
       "0                      98941230                       2433273   \n",
       "1                      98941420                       2433282   \n",
       "2                      98941610                       2433291   \n",
       "3                      98941800                       2433300   \n",
       "4                      98941980                       2433309   \n",
       "\n",
       "   S-ZORB.FT_1503.DACA.PV  S-ZORB.FT_1503.TOTALIZERA.PV  \\\n",
       "0                2210.004                       5147738   \n",
       "1                2209.531                       5147816   \n",
       "2                2209.059                       5147894   \n",
       "3                2208.586                       5147972   \n",
       "4                2208.114                       5148050   \n",
       "\n",
       "   S-ZORB.FT_1504.DACA.PV  S-ZORB.FT_1504.TOTALIZERA.PV  S-ZORB.PC_1001A.PV  \n",
       "0                2846.390                       5982072           -97.22112  \n",
       "1                2846.416                       5982209           -97.22059  \n",
       "2                2846.442                       5982347           -97.22005  \n",
       "3                2846.468                       5982484           -97.21952  \n",
       "4                2846.494                       5982621           -97.21899  \n",
       "\n",
       "[5 rows x 343 columns]"
      ]
     },
     "execution_count": 46,
     "metadata": {},
     "output_type": "execute_result"
    }
   ],
   "source": [
    "w_285.head()"
   ]
  },
  {
   "cell_type": "code",
   "execution_count": 47,
   "metadata": {},
   "outputs": [
    {
     "data": {
      "text/html": [
       "<div>\n",
       "<style scoped>\n",
       "    .dataframe tbody tr th:only-of-type {\n",
       "        vertical-align: middle;\n",
       "    }\n",
       "\n",
       "    .dataframe tbody tr th {\n",
       "        vertical-align: top;\n",
       "    }\n",
       "\n",
       "    .dataframe thead th {\n",
       "        text-align: right;\n",
       "    }\n",
       "</style>\n",
       "<table border=\"1\" class=\"dataframe\">\n",
       "  <thead>\n",
       "    <tr style=\"text-align: right;\">\n",
       "      <th></th>\n",
       "      <th>index</th>\n",
       "      <th>变量编号</th>\n",
       "      <th>位号</th>\n",
       "      <th>ul</th>\n",
       "      <th>ll</th>\n",
       "    </tr>\n",
       "  </thead>\n",
       "  <tbody>\n",
       "    <tr>\n",
       "      <th>0</th>\n",
       "      <td>1</td>\n",
       "      <td>1</td>\n",
       "      <td>S-ZORB.CAL_H2.PV</td>\n",
       "      <td>0.20</td>\n",
       "      <td>0.37</td>\n",
       "    </tr>\n",
       "    <tr>\n",
       "      <th>1</th>\n",
       "      <td>2</td>\n",
       "      <td>2</td>\n",
       "      <td>S-ZORB.PDI_2102.PV</td>\n",
       "      <td>10.00</td>\n",
       "      <td>35.00</td>\n",
       "    </tr>\n",
       "    <tr>\n",
       "      <th>2</th>\n",
       "      <td>3</td>\n",
       "      <td>3</td>\n",
       "      <td>S-ZORB.PT_2801.PV</td>\n",
       "      <td>2.35</td>\n",
       "      <td>2.70</td>\n",
       "    </tr>\n",
       "    <tr>\n",
       "      <th>3</th>\n",
       "      <td>4</td>\n",
       "      <td>4</td>\n",
       "      <td>S-ZORB.FC_2801.PV</td>\n",
       "      <td>600.00</td>\n",
       "      <td>1000.00</td>\n",
       "    </tr>\n",
       "    <tr>\n",
       "      <th>4</th>\n",
       "      <td>5</td>\n",
       "      <td>5</td>\n",
       "      <td>S-ZORB.TE_2103.PV</td>\n",
       "      <td>410.00</td>\n",
       "      <td>435.00</td>\n",
       "    </tr>\n",
       "  </tbody>\n",
       "</table>\n",
       "</div>"
      ],
      "text/plain": [
       "   index  变量编号                  位号      ul       ll\n",
       "0      1     1    S-ZORB.CAL_H2.PV    0.20     0.37\n",
       "1      2     2  S-ZORB.PDI_2102.PV   10.00    35.00\n",
       "2      3     3   S-ZORB.PT_2801.PV    2.35     2.70\n",
       "3      4     4   S-ZORB.FC_2801.PV  600.00  1000.00\n",
       "4      5     5   S-ZORB.TE_2103.PV  410.00   435.00"
      ]
     },
     "execution_count": 47,
     "metadata": {},
     "output_type": "execute_result"
    }
   ],
   "source": [
    "y_285.head()"
   ]
  },
  {
   "cell_type": "code",
   "execution_count": 39,
   "metadata": {},
   "outputs": [
    {
     "data": {
      "text/plain": [
       "(40, 343)"
      ]
     },
     "execution_count": 39,
     "metadata": {},
     "output_type": "execute_result"
    }
   ],
   "source": [
    "w_285.shape"
   ]
  },
  {
   "cell_type": "code",
   "execution_count": 40,
   "metadata": {},
   "outputs": [
    {
     "data": {
      "text/plain": [
       "(343, 5)"
      ]
     },
     "execution_count": 40,
     "metadata": {},
     "output_type": "execute_result"
    }
   ],
   "source": [
    "y_285.shape"
   ]
  },
  {
   "cell_type": "code",
   "execution_count": 51,
   "metadata": {
    "collapsed": true,
    "jupyter": {
     "outputs_hidden": true
    }
   },
   "outputs": [
    {
     "name": "stdout",
     "output_type": "stream",
     "text": [
      "200 ['S-ZORB.SIS_LT_1001.PV', 'S-ZORB.SIS_LT_1001.PV', 'S-ZORB.SIS_LT_1001.PV', 'S-ZORB.SIS_LT_1001.PV', 'S-ZORB.SIS_LT_1001.PV', 'S-ZORB.SIS_LT_1001.PV', 'S-ZORB.SIS_LT_1001.PV', 'S-ZORB.SIS_LT_1001.PV', 'S-ZORB.SIS_LT_1001.PV', 'S-ZORB.SIS_LT_1001.PV', 'S-ZORB.SIS_LT_1001.PV', 'S-ZORB.SIS_LT_1001.PV', 'S-ZORB.SIS_LT_1001.PV', 'S-ZORB.SIS_LT_1001.PV', 'S-ZORB.SIS_LT_1001.PV', 'S-ZORB.SIS_LT_1001.PV', 'S-ZORB.SIS_LT_1001.PV', 'S-ZORB.SIS_LT_1001.PV', 'S-ZORB.SIS_LT_1001.PV', 'S-ZORB.SIS_LT_1001.PV', 'S-ZORB.SIS_LT_1001.PV', 'S-ZORB.SIS_LT_1001.PV', 'S-ZORB.SIS_LT_1001.PV', 'S-ZORB.SIS_LT_1001.PV', 'S-ZORB.SIS_LT_1001.PV', 'S-ZORB.SIS_LT_1001.PV', 'S-ZORB.SIS_LT_1001.PV', 'S-ZORB.SIS_LT_1001.PV', 'S-ZORB.SIS_LT_1001.PV', 'S-ZORB.SIS_LT_1001.PV', 'S-ZORB.SIS_LT_1001.PV', 'S-ZORB.SIS_LT_1001.PV', 'S-ZORB.SIS_LT_1001.PV', 'S-ZORB.SIS_LT_1001.PV', 'S-ZORB.SIS_LT_1001.PV', 'S-ZORB.SIS_LT_1001.PV', 'S-ZORB.SIS_LT_1001.PV', 'S-ZORB.SIS_LT_1001.PV', 'S-ZORB.SIS_LT_1001.PV', 'S-ZORB.SIS_LT_1001.PV', 'S-ZORB.AI_2903.PV', 'S-ZORB.AI_2903.PV', 'S-ZORB.AI_2903.PV', 'S-ZORB.AI_2903.PV', 'S-ZORB.AI_2903.PV', 'S-ZORB.AI_2903.PV', 'S-ZORB.AI_2903.PV', 'S-ZORB.AI_2903.PV', 'S-ZORB.AI_2903.PV', 'S-ZORB.AI_2903.PV', 'S-ZORB.AI_2903.PV', 'S-ZORB.AI_2903.PV', 'S-ZORB.AI_2903.PV', 'S-ZORB.AI_2903.PV', 'S-ZORB.AI_2903.PV', 'S-ZORB.AI_2903.PV', 'S-ZORB.AI_2903.PV', 'S-ZORB.AI_2903.PV', 'S-ZORB.AI_2903.PV', 'S-ZORB.AI_2903.PV', 'S-ZORB.AI_2903.PV', 'S-ZORB.AI_2903.PV', 'S-ZORB.AI_2903.PV', 'S-ZORB.AI_2903.PV', 'S-ZORB.AI_2903.PV', 'S-ZORB.AI_2903.PV', 'S-ZORB.AI_2903.PV', 'S-ZORB.AI_2903.PV', 'S-ZORB.AI_2903.PV', 'S-ZORB.AI_2903.PV', 'S-ZORB.AI_2903.PV', 'S-ZORB.AI_2903.PV', 'S-ZORB.AI_2903.PV', 'S-ZORB.AI_2903.PV', 'S-ZORB.AI_2903.PV', 'S-ZORB.AI_2903.PV', 'S-ZORB.AI_2903.PV', 'S-ZORB.AI_2903.PV', 'S-ZORB.AI_2903.PV', 'S-ZORB.AI_2903.PV', 'S-ZORB.FT_5201.PV', 'S-ZORB.FT_5201.PV', 'S-ZORB.FT_5201.PV', 'S-ZORB.FT_5201.PV', 'S-ZORB.FT_5201.PV', 'S-ZORB.FT_5201.PV', 'S-ZORB.FT_5201.PV', 'S-ZORB.FT_5201.PV', 'S-ZORB.FT_5201.PV', 'S-ZORB.FT_5201.PV', 'S-ZORB.FT_5201.PV', 'S-ZORB.FT_5201.PV', 'S-ZORB.FT_5201.PV', 'S-ZORB.FT_5201.PV', 'S-ZORB.FT_5201.PV', 'S-ZORB.FT_5201.PV', 'S-ZORB.FT_5201.PV', 'S-ZORB.FT_5201.PV', 'S-ZORB.FT_5201.PV', 'S-ZORB.FT_5201.PV', 'S-ZORB.FT_5201.PV', 'S-ZORB.FT_5201.PV', 'S-ZORB.FT_5201.PV', 'S-ZORB.FT_5201.PV', 'S-ZORB.FT_5201.PV', 'S-ZORB.FT_5201.PV', 'S-ZORB.FT_5201.PV', 'S-ZORB.FT_5201.PV', 'S-ZORB.FT_5201.PV', 'S-ZORB.FT_5201.PV', 'S-ZORB.FT_5201.PV', 'S-ZORB.FT_5201.PV', 'S-ZORB.FT_5201.PV', 'S-ZORB.FT_5201.PV', 'S-ZORB.FT_5201.PV', 'S-ZORB.FT_5201.PV', 'S-ZORB.FT_5201.PV', 'S-ZORB.FT_5201.PV', 'S-ZORB.FT_5201.PV', 'S-ZORB.FT_5201.PV', 'S-ZORB.FC_1101.TOTAL', 'S-ZORB.FC_1101.TOTAL', 'S-ZORB.FC_1101.TOTAL', 'S-ZORB.FC_1101.TOTAL', 'S-ZORB.FC_1101.TOTAL', 'S-ZORB.FC_1101.TOTAL', 'S-ZORB.FC_1101.TOTAL', 'S-ZORB.FC_1101.TOTAL', 'S-ZORB.FC_1101.TOTAL', 'S-ZORB.FC_1101.TOTAL', 'S-ZORB.FC_1101.TOTAL', 'S-ZORB.FC_1101.TOTAL', 'S-ZORB.FC_1101.TOTAL', 'S-ZORB.FC_1101.TOTAL', 'S-ZORB.FC_1101.TOTAL', 'S-ZORB.FC_1101.TOTAL', 'S-ZORB.FC_1101.TOTAL', 'S-ZORB.FC_1101.TOTAL', 'S-ZORB.FC_1101.TOTAL', 'S-ZORB.FC_1101.TOTAL', 'S-ZORB.FC_1101.TOTAL', 'S-ZORB.FC_1101.TOTAL', 'S-ZORB.FC_1101.TOTAL', 'S-ZORB.FC_1101.TOTAL', 'S-ZORB.FC_1101.TOTAL', 'S-ZORB.FC_1101.TOTAL', 'S-ZORB.FC_1101.TOTAL', 'S-ZORB.FC_1101.TOTAL', 'S-ZORB.FC_1101.TOTAL', 'S-ZORB.FC_1101.TOTAL', 'S-ZORB.FC_1101.TOTAL', 'S-ZORB.FC_1101.TOTAL', 'S-ZORB.FC_1101.TOTAL', 'S-ZORB.FC_1101.TOTAL', 'S-ZORB.FC_1101.TOTAL', 'S-ZORB.FC_1101.TOTAL', 'S-ZORB.FC_1101.TOTAL', 'S-ZORB.FC_1101.TOTAL', 'S-ZORB.FC_1101.TOTAL', 'S-ZORB.FC_1101.TOTAL', 'S-ZORB.FT_1204.TOTAL', 'S-ZORB.FT_1204.TOTAL', 'S-ZORB.FT_1204.TOTAL', 'S-ZORB.FT_1204.TOTAL', 'S-ZORB.FT_1204.TOTAL', 'S-ZORB.FT_1204.TOTAL', 'S-ZORB.FT_1204.TOTAL', 'S-ZORB.FT_1204.TOTAL', 'S-ZORB.FT_1204.TOTAL', 'S-ZORB.FT_1204.TOTAL', 'S-ZORB.FT_1204.TOTAL', 'S-ZORB.FT_1204.TOTAL', 'S-ZORB.FT_1204.TOTAL', 'S-ZORB.FT_1204.TOTAL', 'S-ZORB.FT_1204.TOTAL', 'S-ZORB.FT_1204.TOTAL', 'S-ZORB.FT_1204.TOTAL', 'S-ZORB.FT_1204.TOTAL', 'S-ZORB.FT_1204.TOTAL', 'S-ZORB.FT_1204.TOTAL', 'S-ZORB.FT_1204.TOTAL', 'S-ZORB.FT_1204.TOTAL', 'S-ZORB.FT_1204.TOTAL', 'S-ZORB.FT_1204.TOTAL', 'S-ZORB.FT_1204.TOTAL', 'S-ZORB.FT_1204.TOTAL', 'S-ZORB.FT_1204.TOTAL', 'S-ZORB.FT_1204.TOTAL', 'S-ZORB.FT_1204.TOTAL', 'S-ZORB.FT_1204.TOTAL', 'S-ZORB.FT_1204.TOTAL', 'S-ZORB.FT_1204.TOTAL', 'S-ZORB.FT_1204.TOTAL', 'S-ZORB.FT_1204.TOTAL', 'S-ZORB.FT_1204.TOTAL', 'S-ZORB.FT_1204.TOTAL', 'S-ZORB.FT_1204.TOTAL', 'S-ZORB.FT_1204.TOTAL', 'S-ZORB.FT_1204.TOTAL', 'S-ZORB.FT_1204.TOTAL']\n"
     ]
    }
   ],
   "source": [
    "a = 0\n",
    "m =[]\n",
    "for j in range(w_285.shape[1]):\n",
    "    for i in range(w_285.shape[0]):\n",
    "        if w_285.iloc[i,j] < y_285.iloc[j,3] or w_285.iloc[i,j] > y_285.iloc[j,4]:\n",
    "            #print(\"超出范围\")\n",
    "            a+=1\n",
    "            #print(\"行号{},列号{},名称{}\".format(i,j,w_285.columns[j]))\n",
    "            m.append(w_285.columns[j])\n",
    "print(len(m),m)"
   ]
  },
  {
   "cell_type": "code",
   "execution_count": 53,
   "metadata": {},
   "outputs": [
    {
     "data": {
      "text/plain": [
       "{'S-ZORB.AI_2903.PV',\n",
       " 'S-ZORB.FC_1101.TOTAL',\n",
       " 'S-ZORB.FT_1204.TOTAL',\n",
       " 'S-ZORB.FT_5201.PV',\n",
       " 'S-ZORB.SIS_LT_1001.PV'}"
      ]
     },
     "execution_count": 53,
     "metadata": {},
     "output_type": "execute_result"
    }
   ],
   "source": [
    "n = set(m)\n",
    "n"
   ]
  },
  {
   "cell_type": "code",
   "execution_count": 64,
   "metadata": {},
   "outputs": [
    {
     "data": {
      "text/plain": [
       "['S-ZORB.FC_1101.TOTAL',\n",
       " 'S-ZORB.SIS_LT_1001.PV',\n",
       " 'S-ZORB.AI_2903.PV',\n",
       " 'S-ZORB.FT_5201.PV',\n",
       " 'S-ZORB.FT_1204.TOTAL']"
      ]
     },
     "execution_count": 64,
     "metadata": {},
     "output_type": "execute_result"
    }
   ],
   "source": [
    "n = list(n)\n",
    "n"
   ]
  },
  {
   "cell_type": "code",
   "execution_count": 67,
   "metadata": {},
   "outputs": [
    {
     "data": {
      "text/plain": [
       "(40, 343)"
      ]
     },
     "execution_count": 67,
     "metadata": {},
     "output_type": "execute_result"
    }
   ],
   "source": [
    "w_285_copy = w_285\n",
    "w_285_copy.shape"
   ]
  },
  {
   "cell_type": "code",
   "execution_count": 71,
   "metadata": {},
   "outputs": [],
   "source": [
    "for i in n:\n",
    "    w_285_copy.drop(columns = i , inplace = True)"
   ]
  },
  {
   "cell_type": "code",
   "execution_count": 72,
   "metadata": {},
   "outputs": [
    {
     "data": {
      "text/plain": [
       "(40, 338)"
      ]
     },
     "execution_count": 72,
     "metadata": {},
     "output_type": "execute_result"
    }
   ],
   "source": [
    "w_285_copy.shape"
   ]
  },
  {
   "cell_type": "code",
   "execution_count": 50,
   "metadata": {
    "collapsed": true,
    "jupyter": {
     "outputs_hidden": true
    }
   },
   "outputs": [
    {
     "name": "stdout",
     "output_type": "stream",
     "text": [
      "行号0,列号21,名称S-ZORB.AT_5201.PV\n",
      "行号1,列号21,名称S-ZORB.AT_5201.PV\n",
      "行号2,列号21,名称S-ZORB.AT_5201.PV\n",
      "行号3,列号21,名称S-ZORB.AT_5201.PV\n",
      "行号4,列号21,名称S-ZORB.AT_5201.PV\n",
      "行号5,列号21,名称S-ZORB.AT_5201.PV\n",
      "行号6,列号21,名称S-ZORB.AT_5201.PV\n",
      "行号7,列号21,名称S-ZORB.AT_5201.PV\n",
      "行号8,列号21,名称S-ZORB.AT_5201.PV\n",
      "行号9,列号21,名称S-ZORB.AT_5201.PV\n",
      "行号10,列号21,名称S-ZORB.AT_5201.PV\n",
      "行号11,列号21,名称S-ZORB.AT_5201.PV\n",
      "行号12,列号21,名称S-ZORB.AT_5201.PV\n",
      "行号13,列号21,名称S-ZORB.AT_5201.PV\n",
      "行号14,列号21,名称S-ZORB.AT_5201.PV\n",
      "行号15,列号21,名称S-ZORB.AT_5201.PV\n",
      "行号16,列号21,名称S-ZORB.AT_5201.PV\n",
      "行号17,列号21,名称S-ZORB.AT_5201.PV\n",
      "行号18,列号21,名称S-ZORB.AT_5201.PV\n",
      "行号19,列号21,名称S-ZORB.AT_5201.PV\n",
      "行号20,列号21,名称S-ZORB.AT_5201.PV\n",
      "行号21,列号21,名称S-ZORB.AT_5201.PV\n",
      "行号22,列号21,名称S-ZORB.AT_5201.PV\n",
      "行号23,列号21,名称S-ZORB.AT_5201.PV\n",
      "行号24,列号21,名称S-ZORB.AT_5201.PV\n",
      "行号25,列号21,名称S-ZORB.AT_5201.PV\n",
      "行号26,列号21,名称S-ZORB.AT_5201.PV\n",
      "行号27,列号21,名称S-ZORB.AT_5201.PV\n",
      "行号28,列号21,名称S-ZORB.AT_5201.PV\n",
      "行号29,列号21,名称S-ZORB.AT_5201.PV\n",
      "行号30,列号21,名称S-ZORB.AT_5201.PV\n",
      "行号31,列号21,名称S-ZORB.AT_5201.PV\n",
      "行号32,列号21,名称S-ZORB.AT_5201.PV\n",
      "行号33,列号21,名称S-ZORB.AT_5201.PV\n",
      "行号34,列号21,名称S-ZORB.AT_5201.PV\n",
      "行号36,列号21,名称S-ZORB.AT_5201.PV\n",
      "行号37,列号21,名称S-ZORB.AT_5201.PV\n",
      "行号38,列号21,名称S-ZORB.AT_5201.PV\n",
      "行号39,列号21,名称S-ZORB.AT_5201.PV\n",
      "行号19,列号31,名称S-ZORB.PT_9403.PV\n",
      "行号27,列号31,名称S-ZORB.PT_9403.PV\n",
      "行号35,列号31,名称S-ZORB.PT_9403.PV\n",
      "行号6,列号37,名称S-ZORB.FT_9402.PV\n",
      "行号0,列号41,名称S-ZORB.PDC_2502.PV\n",
      "行号1,列号41,名称S-ZORB.PDC_2502.PV\n",
      "行号2,列号41,名称S-ZORB.PDC_2502.PV\n",
      "行号3,列号41,名称S-ZORB.PDC_2502.PV\n",
      "行号4,列号41,名称S-ZORB.PDC_2502.PV\n",
      "行号5,列号41,名称S-ZORB.PDC_2502.PV\n",
      "行号6,列号41,名称S-ZORB.PDC_2502.PV\n",
      "行号7,列号41,名称S-ZORB.PDC_2502.PV\n",
      "行号8,列号41,名称S-ZORB.PDC_2502.PV\n",
      "行号9,列号41,名称S-ZORB.PDC_2502.PV\n",
      "行号16,列号41,名称S-ZORB.PDC_2502.PV\n",
      "行号17,列号41,名称S-ZORB.PDC_2502.PV\n",
      "行号18,列号41,名称S-ZORB.PDC_2502.PV\n",
      "行号19,列号41,名称S-ZORB.PDC_2502.PV\n",
      "行号25,列号41,名称S-ZORB.PDC_2502.PV\n",
      "行号26,列号41,名称S-ZORB.PDC_2502.PV\n",
      "行号27,列号41,名称S-ZORB.PDC_2502.PV\n",
      "行号33,列号41,名称S-ZORB.PDC_2502.PV\n",
      "行号35,列号41,名称S-ZORB.PDC_2502.PV\n",
      "行号36,列号41,名称S-ZORB.PDC_2502.PV\n",
      "行号9,列号42,名称S-ZORB.FC_2501.PV\n",
      "行号18,列号42,名称S-ZORB.FC_2501.PV\n",
      "行号26,列号42,名称S-ZORB.FC_2501.PV\n",
      "行号27,列号42,名称S-ZORB.FC_2501.PV\n",
      "行号0,列号46,名称S-ZORB.SIS_LT_1001.PV\n",
      "行号1,列号46,名称S-ZORB.SIS_LT_1001.PV\n",
      "行号2,列号46,名称S-ZORB.SIS_LT_1001.PV\n",
      "行号3,列号46,名称S-ZORB.SIS_LT_1001.PV\n",
      "行号4,列号46,名称S-ZORB.SIS_LT_1001.PV\n",
      "行号5,列号46,名称S-ZORB.SIS_LT_1001.PV\n",
      "行号6,列号46,名称S-ZORB.SIS_LT_1001.PV\n",
      "行号7,列号46,名称S-ZORB.SIS_LT_1001.PV\n",
      "行号8,列号46,名称S-ZORB.SIS_LT_1001.PV\n",
      "行号9,列号46,名称S-ZORB.SIS_LT_1001.PV\n",
      "行号10,列号46,名称S-ZORB.SIS_LT_1001.PV\n",
      "行号11,列号46,名称S-ZORB.SIS_LT_1001.PV\n",
      "行号12,列号46,名称S-ZORB.SIS_LT_1001.PV\n",
      "行号13,列号46,名称S-ZORB.SIS_LT_1001.PV\n",
      "行号14,列号46,名称S-ZORB.SIS_LT_1001.PV\n",
      "行号15,列号46,名称S-ZORB.SIS_LT_1001.PV\n",
      "行号16,列号46,名称S-ZORB.SIS_LT_1001.PV\n",
      "行号17,列号46,名称S-ZORB.SIS_LT_1001.PV\n",
      "行号18,列号46,名称S-ZORB.SIS_LT_1001.PV\n",
      "行号19,列号46,名称S-ZORB.SIS_LT_1001.PV\n",
      "行号20,列号46,名称S-ZORB.SIS_LT_1001.PV\n",
      "行号21,列号46,名称S-ZORB.SIS_LT_1001.PV\n",
      "行号22,列号46,名称S-ZORB.SIS_LT_1001.PV\n",
      "行号23,列号46,名称S-ZORB.SIS_LT_1001.PV\n",
      "行号24,列号46,名称S-ZORB.SIS_LT_1001.PV\n",
      "行号25,列号46,名称S-ZORB.SIS_LT_1001.PV\n",
      "行号26,列号46,名称S-ZORB.SIS_LT_1001.PV\n",
      "行号27,列号46,名称S-ZORB.SIS_LT_1001.PV\n",
      "行号28,列号46,名称S-ZORB.SIS_LT_1001.PV\n",
      "行号29,列号46,名称S-ZORB.SIS_LT_1001.PV\n",
      "行号30,列号46,名称S-ZORB.SIS_LT_1001.PV\n",
      "行号31,列号46,名称S-ZORB.SIS_LT_1001.PV\n",
      "行号32,列号46,名称S-ZORB.SIS_LT_1001.PV\n",
      "行号33,列号46,名称S-ZORB.SIS_LT_1001.PV\n",
      "行号34,列号46,名称S-ZORB.SIS_LT_1001.PV\n",
      "行号35,列号46,名称S-ZORB.SIS_LT_1001.PV\n",
      "行号36,列号46,名称S-ZORB.SIS_LT_1001.PV\n",
      "行号37,列号46,名称S-ZORB.SIS_LT_1001.PV\n",
      "行号38,列号46,名称S-ZORB.SIS_LT_1001.PV\n",
      "行号39,列号46,名称S-ZORB.SIS_LT_1001.PV\n",
      "行号23,列号56,名称S-ZORB.PC_6001.PV\n",
      "行号25,列号56,名称S-ZORB.PC_6001.PV\n",
      "行号12,列号60,名称S-ZORB.PT_6002.PV\n",
      "行号23,列号60,名称S-ZORB.PT_6002.PV\n",
      "行号25,列号60,名称S-ZORB.PT_6002.PV\n",
      "行号26,列号60,名称S-ZORB.PT_6002.PV\n",
      "行号29,列号60,名称S-ZORB.PT_6002.PV\n",
      "行号0,列号81,名称S-ZORB.AI_2903.PV\n",
      "行号1,列号81,名称S-ZORB.AI_2903.PV\n",
      "行号2,列号81,名称S-ZORB.AI_2903.PV\n",
      "行号3,列号81,名称S-ZORB.AI_2903.PV\n",
      "行号4,列号81,名称S-ZORB.AI_2903.PV\n",
      "行号5,列号81,名称S-ZORB.AI_2903.PV\n",
      "行号6,列号81,名称S-ZORB.AI_2903.PV\n",
      "行号7,列号81,名称S-ZORB.AI_2903.PV\n",
      "行号8,列号81,名称S-ZORB.AI_2903.PV\n",
      "行号9,列号81,名称S-ZORB.AI_2903.PV\n",
      "行号10,列号81,名称S-ZORB.AI_2903.PV\n",
      "行号11,列号81,名称S-ZORB.AI_2903.PV\n",
      "行号12,列号81,名称S-ZORB.AI_2903.PV\n",
      "行号13,列号81,名称S-ZORB.AI_2903.PV\n",
      "行号14,列号81,名称S-ZORB.AI_2903.PV\n",
      "行号15,列号81,名称S-ZORB.AI_2903.PV\n",
      "行号16,列号81,名称S-ZORB.AI_2903.PV\n",
      "行号17,列号81,名称S-ZORB.AI_2903.PV\n",
      "行号18,列号81,名称S-ZORB.AI_2903.PV\n",
      "行号19,列号81,名称S-ZORB.AI_2903.PV\n",
      "行号20,列号81,名称S-ZORB.AI_2903.PV\n",
      "行号21,列号81,名称S-ZORB.AI_2903.PV\n",
      "行号22,列号81,名称S-ZORB.AI_2903.PV\n",
      "行号23,列号81,名称S-ZORB.AI_2903.PV\n",
      "行号24,列号81,名称S-ZORB.AI_2903.PV\n",
      "行号25,列号81,名称S-ZORB.AI_2903.PV\n",
      "行号26,列号81,名称S-ZORB.AI_2903.PV\n",
      "行号27,列号81,名称S-ZORB.AI_2903.PV\n",
      "行号28,列号81,名称S-ZORB.AI_2903.PV\n",
      "行号29,列号81,名称S-ZORB.AI_2903.PV\n",
      "行号30,列号81,名称S-ZORB.AI_2903.PV\n",
      "行号31,列号81,名称S-ZORB.AI_2903.PV\n",
      "行号32,列号81,名称S-ZORB.AI_2903.PV\n",
      "行号33,列号81,名称S-ZORB.AI_2903.PV\n",
      "行号34,列号81,名称S-ZORB.AI_2903.PV\n",
      "行号35,列号81,名称S-ZORB.AI_2903.PV\n",
      "行号36,列号81,名称S-ZORB.AI_2903.PV\n",
      "行号37,列号81,名称S-ZORB.AI_2903.PV\n",
      "行号38,列号81,名称S-ZORB.AI_2903.PV\n",
      "行号39,列号81,名称S-ZORB.AI_2903.PV\n",
      "行号20,列号83,名称S-ZORB.PDC_2607.PV\n",
      "行号39,列号83,名称S-ZORB.PDC_2607.PV\n",
      "行号0,列号107,名称S-ZORB.FT_1204.TOTAL\n",
      "行号1,列号107,名称S-ZORB.FT_1204.TOTAL\n",
      "行号2,列号107,名称S-ZORB.FT_1204.TOTAL\n",
      "行号3,列号107,名称S-ZORB.FT_1204.TOTAL\n",
      "行号4,列号107,名称S-ZORB.FT_1204.TOTAL\n",
      "行号5,列号107,名称S-ZORB.FT_1204.TOTAL\n",
      "行号6,列号107,名称S-ZORB.FT_1204.TOTAL\n",
      "行号7,列号107,名称S-ZORB.FT_1204.TOTAL\n",
      "行号8,列号107,名称S-ZORB.FT_1204.TOTAL\n",
      "行号9,列号107,名称S-ZORB.FT_1204.TOTAL\n",
      "行号10,列号107,名称S-ZORB.FT_1204.TOTAL\n",
      "行号11,列号107,名称S-ZORB.FT_1204.TOTAL\n",
      "行号12,列号107,名称S-ZORB.FT_1204.TOTAL\n",
      "行号13,列号107,名称S-ZORB.FT_1204.TOTAL\n",
      "行号14,列号107,名称S-ZORB.FT_1204.TOTAL\n",
      "行号15,列号107,名称S-ZORB.FT_1204.TOTAL\n",
      "行号16,列号107,名称S-ZORB.FT_1204.TOTAL\n",
      "行号17,列号107,名称S-ZORB.FT_1204.TOTAL\n",
      "行号18,列号107,名称S-ZORB.FT_1204.TOTAL\n",
      "行号19,列号107,名称S-ZORB.FT_1204.TOTAL\n",
      "行号20,列号107,名称S-ZORB.FT_1204.TOTAL\n",
      "行号21,列号107,名称S-ZORB.FT_1204.TOTAL\n",
      "行号22,列号107,名称S-ZORB.FT_1204.TOTAL\n",
      "行号23,列号107,名称S-ZORB.FT_1204.TOTAL\n",
      "行号24,列号107,名称S-ZORB.FT_1204.TOTAL\n",
      "行号25,列号107,名称S-ZORB.FT_1204.TOTAL\n",
      "行号26,列号107,名称S-ZORB.FT_1204.TOTAL\n",
      "行号27,列号107,名称S-ZORB.FT_1204.TOTAL\n",
      "行号28,列号107,名称S-ZORB.FT_1204.TOTAL\n",
      "行号29,列号107,名称S-ZORB.FT_1204.TOTAL\n",
      "行号30,列号107,名称S-ZORB.FT_1204.TOTAL\n",
      "行号31,列号107,名称S-ZORB.FT_1204.TOTAL\n",
      "行号32,列号107,名称S-ZORB.FT_1204.TOTAL\n",
      "行号33,列号107,名称S-ZORB.FT_1204.TOTAL\n",
      "行号34,列号107,名称S-ZORB.FT_1204.TOTAL\n",
      "行号35,列号107,名称S-ZORB.FT_1204.TOTAL\n",
      "行号36,列号107,名称S-ZORB.FT_1204.TOTAL\n",
      "行号37,列号107,名称S-ZORB.FT_1204.TOTAL\n",
      "行号38,列号107,名称S-ZORB.FT_1204.TOTAL\n",
      "行号39,列号107,名称S-ZORB.FT_1204.TOTAL\n",
      "行号7,列号129,名称S-ZORB.PC_3101.DACA\n",
      "行号8,列号151,名称S-ZORB.PT_2501.DACA\n",
      "行号9,列号151,名称S-ZORB.PT_2501.DACA\n",
      "行号16,列号151,名称S-ZORB.PT_2501.DACA\n",
      "行号17,列号151,名称S-ZORB.PT_2501.DACA\n",
      "行号18,列号151,名称S-ZORB.PT_2501.DACA\n",
      "行号25,列号151,名称S-ZORB.PT_2501.DACA\n",
      "行号26,列号151,名称S-ZORB.PT_2501.DACA\n",
      "行号35,列号151,名称S-ZORB.PT_2501.DACA\n",
      "行号7,列号152,名称S-ZORB.PT_2502.DACA\n",
      "行号8,列号152,名称S-ZORB.PT_2502.DACA\n",
      "行号9,列号152,名称S-ZORB.PT_2502.DACA\n",
      "行号16,列号152,名称S-ZORB.PT_2502.DACA\n",
      "行号17,列号152,名称S-ZORB.PT_2502.DACA\n",
      "行号18,列号152,名称S-ZORB.PT_2502.DACA\n",
      "行号25,列号152,名称S-ZORB.PT_2502.DACA\n",
      "行号26,列号152,名称S-ZORB.PT_2502.DACA\n",
      "行号34,列号152,名称S-ZORB.PT_2502.DACA\n",
      "行号35,列号152,名称S-ZORB.PT_2502.DACA\n",
      "行号19,列号201,名称S-ZORB.PDI_2801.DACA\n",
      "行号27,列号201,名称S-ZORB.PDI_2801.DACA\n",
      "行号37,列号201,名称S-ZORB.PDI_2801.DACA\n",
      "行号19,列号204,名称S-ZORB.PDI_2301.DACA\n",
      "行号27,列号204,名称S-ZORB.PDI_2301.DACA\n",
      "行号37,列号204,名称S-ZORB.PDI_2301.DACA\n",
      "行号3,列号207,名称S-ZORB.BS_LT_2401.PV\n",
      "行号7,列号207,名称S-ZORB.BS_LT_2401.PV\n",
      "行号8,列号207,名称S-ZORB.BS_LT_2401.PV\n",
      "行号11,列号207,名称S-ZORB.BS_LT_2401.PV\n",
      "行号13,列号207,名称S-ZORB.BS_LT_2401.PV\n",
      "行号19,列号207,名称S-ZORB.BS_LT_2401.PV\n",
      "行号21,列号207,名称S-ZORB.BS_LT_2401.PV\n",
      "行号22,列号207,名称S-ZORB.BS_LT_2401.PV\n",
      "行号23,列号207,名称S-ZORB.BS_LT_2401.PV\n",
      "行号24,列号207,名称S-ZORB.BS_LT_2401.PV\n",
      "行号25,列号207,名称S-ZORB.BS_LT_2401.PV\n",
      "行号29,列号207,名称S-ZORB.BS_LT_2401.PV\n",
      "行号37,列号207,名称S-ZORB.BS_LT_2401.PV\n",
      "行号39,列号207,名称S-ZORB.BS_LT_2401.PV\n",
      "行号11,列号209,名称S-ZORB.PC_2401.DACA\n",
      "行号19,列号209,名称S-ZORB.PC_2401.DACA\n",
      "行号27,列号209,名称S-ZORB.PC_2401.DACA\n",
      "行号37,列号209,名称S-ZORB.PC_2401.DACA\n",
      "行号19,列号211,名称S-ZORB.PC_2401B.DACA\n",
      "行号27,列号211,名称S-ZORB.PC_2401B.DACA\n",
      "行号37,列号211,名称S-ZORB.PC_2401B.DACA\n",
      "行号19,列号231,名称S-ZORB.PC_2401B.PIDA.SP\n",
      "行号27,列号231,名称S-ZORB.PC_2401B.PIDA.SP\n",
      "行号37,列号231,名称S-ZORB.PC_2401B.PIDA.SP\n",
      "行号10,列号232,名称S-ZORB.PC_2401B.PIDA.OP\n",
      "行号18,列号232,名称S-ZORB.PC_2401B.PIDA.OP\n",
      "行号27,列号232,名称S-ZORB.PC_2401B.PIDA.OP\n",
      "行号36,列号232,名称S-ZORB.PC_2401B.PIDA.OP\n",
      "行号6,列号233,名称S-ZORB.PC_2401.PIDA.OP\n",
      "行号10,列号233,名称S-ZORB.PC_2401.PIDA.OP\n",
      "行号16,列号233,名称S-ZORB.PC_2401.PIDA.OP\n",
      "行号18,列号233,名称S-ZORB.PC_2401.PIDA.OP\n",
      "行号29,列号233,名称S-ZORB.PC_2401.PIDA.OP\n",
      "行号36,列号233,名称S-ZORB.PC_2401.PIDA.OP\n",
      "行号37,列号233,名称S-ZORB.PC_2401.PIDA.OP\n",
      "行号10,列号234,名称S-ZORB.PC_2401.PIDA.SP\n",
      "行号18,列号234,名称S-ZORB.PC_2401.PIDA.SP\n",
      "行号19,列号234,名称S-ZORB.PC_2401.PIDA.SP\n",
      "行号27,列号234,名称S-ZORB.PC_2401.PIDA.SP\n",
      "行号36,列号234,名称S-ZORB.PC_2401.PIDA.SP\n",
      "行号37,列号234,名称S-ZORB.PC_2401.PIDA.SP\n",
      "行号9,列号238,名称S-ZORB.PDT_2409.DACA\n",
      "行号25,列号238,名称S-ZORB.PDT_2409.DACA\n",
      "行号27,列号281,名称S-ZORB.TE_1603.DACA\n",
      "行号28,列号281,名称S-ZORB.TE_1603.DACA\n",
      "行号31,列号281,名称S-ZORB.TE_1603.DACA\n",
      "行号32,列号281,名称S-ZORB.TE_1603.DACA\n",
      "行号33,列号281,名称S-ZORB.TE_1603.DACA\n",
      "行号34,列号281,名称S-ZORB.TE_1603.DACA\n",
      "行号35,列号281,名称S-ZORB.TE_1603.DACA\n",
      "行号36,列号281,名称S-ZORB.TE_1603.DACA\n",
      "行号38,列号281,名称S-ZORB.TE_1603.DACA\n",
      "行号7,列号305,名称S-ZORB.AT-0006.DACA.PV\n",
      "行号8,列号305,名称S-ZORB.AT-0006.DACA.PV\n",
      "行号10,列号305,名称S-ZORB.AT-0006.DACA.PV\n",
      "行号16,列号305,名称S-ZORB.AT-0006.DACA.PV\n",
      "行号21,列号305,名称S-ZORB.AT-0006.DACA.PV\n",
      "行号24,列号305,名称S-ZORB.AT-0006.DACA.PV\n",
      "行号37,列号305,名称S-ZORB.AT-0006.DACA.PV\n",
      "行号22,列号311,名称S-ZORB.AT-0012.DACA.PV\n",
      "行号24,列号311,名称S-ZORB.AT-0012.DACA.PV\n",
      "行号36,列号311,名称S-ZORB.AT-0012.DACA.PV\n",
      "283\n"
     ]
    }
   ],
   "source": [
    "n = []\n",
    "for j in range(w_313.shape[1]):\n",
    "    for i in range(w_313.shape[0]):\n",
    "        np.double(w_313.iloc[i,j])\n",
    "        if w_313.iloc[i,j] < y_313.iloc[j,4] or w_313.iloc[i,j] > y_313.iloc[j,5]:\n",
    "             #print(\"行号{},列号{},名称{}\".format(i,j,w_313.columns[j]))\n",
    "            n.append(w_313.columns[j])\n",
    "print(len(n),n)"
   ]
  },
  {
   "cell_type": "code",
   "execution_count": 42,
   "metadata": {},
   "outputs": [
    {
     "data": {
      "text/html": [
       "<div>\n",
       "<style scoped>\n",
       "    .dataframe tbody tr th:only-of-type {\n",
       "        vertical-align: middle;\n",
       "    }\n",
       "\n",
       "    .dataframe tbody tr th {\n",
       "        vertical-align: top;\n",
       "    }\n",
       "\n",
       "    .dataframe thead th {\n",
       "        text-align: right;\n",
       "    }\n",
       "</style>\n",
       "<table border=\"1\" class=\"dataframe\">\n",
       "  <thead>\n",
       "    <tr style=\"text-align: right;\">\n",
       "      <th></th>\n",
       "      <th>S-ZORB.CAL_H2.PV</th>\n",
       "      <th>S-ZORB.PDI_2102.PV</th>\n",
       "      <th>S-ZORB.PT_2801.PV</th>\n",
       "      <th>S-ZORB.FC_2801.PV</th>\n",
       "      <th>S-ZORB.TE_2103.PV</th>\n",
       "      <th>S-ZORB.TE_2005.PV</th>\n",
       "      <th>S-ZORB.PT_2101.PV</th>\n",
       "      <th>S-ZORB.PDT_2104.PV</th>\n",
       "      <th>S-ZORB.SIS_PDT_2103B.PV</th>\n",
       "      <th>S-ZORB.TC_2101.PV</th>\n",
       "      <th>...</th>\n",
       "      <th>S-ZORB.CAL_1.CANGLIANG.PV</th>\n",
       "      <th>S-ZORB.FT_1006.DACA.PV</th>\n",
       "      <th>S-ZORB.FT_5204.DACA.PV</th>\n",
       "      <th>S-ZORB.FT_1006.TOTALIZERA.PV</th>\n",
       "      <th>S-ZORB.FT_5204.TOTALIZERA.PV</th>\n",
       "      <th>S-ZORB.FT_1503.DACA.PV</th>\n",
       "      <th>S-ZORB.FT_1503.TOTALIZERA.PV</th>\n",
       "      <th>S-ZORB.FT_1504.DACA.PV</th>\n",
       "      <th>S-ZORB.FT_1504.TOTALIZERA.PV</th>\n",
       "      <th>S-ZORB.PC_1001A.PV</th>\n",
       "    </tr>\n",
       "  </thead>\n",
       "  <tbody>\n",
       "    <tr>\n",
       "      <th>0</th>\n",
       "      <td>0.261208</td>\n",
       "      <td>17.06828</td>\n",
       "      <td>2.414703</td>\n",
       "      <td>838.6098</td>\n",
       "      <td>420.2411</td>\n",
       "      <td>419.6024</td>\n",
       "      <td>2.313425</td>\n",
       "      <td>61.68757</td>\n",
       "      <td>1250.785</td>\n",
       "      <td>245.1287</td>\n",
       "      <td>...</td>\n",
       "      <td>2.999368</td>\n",
       "      <td>10119.40</td>\n",
       "      <td>150.1902</td>\n",
       "      <td>87900000.0</td>\n",
       "      <td>2205722</td>\n",
       "      <td>1947.383</td>\n",
       "      <td>2147672</td>\n",
       "      <td>2472.575</td>\n",
       "      <td>2151723</td>\n",
       "      <td>-113.3863</td>\n",
       "    </tr>\n",
       "    <tr>\n",
       "      <th>1</th>\n",
       "      <td>0.260958</td>\n",
       "      <td>16.86597</td>\n",
       "      <td>2.412846</td>\n",
       "      <td>838.8535</td>\n",
       "      <td>420.7948</td>\n",
       "      <td>420.3819</td>\n",
       "      <td>2.311459</td>\n",
       "      <td>61.75313</td>\n",
       "      <td>1250.780</td>\n",
       "      <td>245.6239</td>\n",
       "      <td>...</td>\n",
       "      <td>3.053287</td>\n",
       "      <td>10097.87</td>\n",
       "      <td>149.8263</td>\n",
       "      <td>87900000.0</td>\n",
       "      <td>2205729</td>\n",
       "      <td>2215.770</td>\n",
       "      <td>2147780</td>\n",
       "      <td>2462.883</td>\n",
       "      <td>2151846</td>\n",
       "      <td>-113.3858</td>\n",
       "    </tr>\n",
       "    <tr>\n",
       "      <th>2</th>\n",
       "      <td>0.260708</td>\n",
       "      <td>16.66366</td>\n",
       "      <td>2.410989</td>\n",
       "      <td>839.0970</td>\n",
       "      <td>421.3485</td>\n",
       "      <td>421.1614</td>\n",
       "      <td>2.309492</td>\n",
       "      <td>61.81869</td>\n",
       "      <td>1250.775</td>\n",
       "      <td>246.1192</td>\n",
       "      <td>...</td>\n",
       "      <td>3.107207</td>\n",
       "      <td>10076.34</td>\n",
       "      <td>149.4624</td>\n",
       "      <td>87900000.0</td>\n",
       "      <td>2205737</td>\n",
       "      <td>2484.157</td>\n",
       "      <td>2147888</td>\n",
       "      <td>2453.191</td>\n",
       "      <td>2151969</td>\n",
       "      <td>-113.3853</td>\n",
       "    </tr>\n",
       "    <tr>\n",
       "      <th>3</th>\n",
       "      <td>0.262787</td>\n",
       "      <td>17.59503</td>\n",
       "      <td>2.419262</td>\n",
       "      <td>841.1829</td>\n",
       "      <td>422.3332</td>\n",
       "      <td>421.9007</td>\n",
       "      <td>2.317966</td>\n",
       "      <td>61.66451</td>\n",
       "      <td>1250.771</td>\n",
       "      <td>246.5508</td>\n",
       "      <td>...</td>\n",
       "      <td>2.948391</td>\n",
       "      <td>10093.86</td>\n",
       "      <td>149.6110</td>\n",
       "      <td>87900000.0</td>\n",
       "      <td>2205744</td>\n",
       "      <td>2099.506</td>\n",
       "      <td>2148029</td>\n",
       "      <td>2456.075</td>\n",
       "      <td>2152091</td>\n",
       "      <td>-113.3847</td>\n",
       "    </tr>\n",
       "    <tr>\n",
       "      <th>4</th>\n",
       "      <td>0.266825</td>\n",
       "      <td>18.00510</td>\n",
       "      <td>2.417170</td>\n",
       "      <td>866.1335</td>\n",
       "      <td>422.3154</td>\n",
       "      <td>422.3370</td>\n",
       "      <td>2.315674</td>\n",
       "      <td>61.18709</td>\n",
       "      <td>1250.766</td>\n",
       "      <td>246.9335</td>\n",
       "      <td>...</td>\n",
       "      <td>2.933445</td>\n",
       "      <td>10115.17</td>\n",
       "      <td>151.6057</td>\n",
       "      <td>87900000.0</td>\n",
       "      <td>2205751</td>\n",
       "      <td>1904.816</td>\n",
       "      <td>2148111</td>\n",
       "      <td>2467.434</td>\n",
       "      <td>2152214</td>\n",
       "      <td>-113.3842</td>\n",
       "    </tr>\n",
       "  </tbody>\n",
       "</table>\n",
       "<p>5 rows × 343 columns</p>\n",
       "</div>"
      ],
      "text/plain": [
       "   S-ZORB.CAL_H2.PV  S-ZORB.PDI_2102.PV  S-ZORB.PT_2801.PV  S-ZORB.FC_2801.PV  \\\n",
       "0          0.261208            17.06828           2.414703           838.6098   \n",
       "1          0.260958            16.86597           2.412846           838.8535   \n",
       "2          0.260708            16.66366           2.410989           839.0970   \n",
       "3          0.262787            17.59503           2.419262           841.1829   \n",
       "4          0.266825            18.00510           2.417170           866.1335   \n",
       "\n",
       "   S-ZORB.TE_2103.PV  S-ZORB.TE_2005.PV  S-ZORB.PT_2101.PV  \\\n",
       "0           420.2411           419.6024           2.313425   \n",
       "1           420.7948           420.3819           2.311459   \n",
       "2           421.3485           421.1614           2.309492   \n",
       "3           422.3332           421.9007           2.317966   \n",
       "4           422.3154           422.3370           2.315674   \n",
       "\n",
       "   S-ZORB.PDT_2104.PV  S-ZORB.SIS_PDT_2103B.PV  S-ZORB.TC_2101.PV  ...  \\\n",
       "0            61.68757                 1250.785           245.1287  ...   \n",
       "1            61.75313                 1250.780           245.6239  ...   \n",
       "2            61.81869                 1250.775           246.1192  ...   \n",
       "3            61.66451                 1250.771           246.5508  ...   \n",
       "4            61.18709                 1250.766           246.9335  ...   \n",
       "\n",
       "   S-ZORB.CAL_1.CANGLIANG.PV  S-ZORB.FT_1006.DACA.PV  S-ZORB.FT_5204.DACA.PV  \\\n",
       "0                   2.999368                10119.40                150.1902   \n",
       "1                   3.053287                10097.87                149.8263   \n",
       "2                   3.107207                10076.34                149.4624   \n",
       "3                   2.948391                10093.86                149.6110   \n",
       "4                   2.933445                10115.17                151.6057   \n",
       "\n",
       "   S-ZORB.FT_1006.TOTALIZERA.PV  S-ZORB.FT_5204.TOTALIZERA.PV  \\\n",
       "0                    87900000.0                       2205722   \n",
       "1                    87900000.0                       2205729   \n",
       "2                    87900000.0                       2205737   \n",
       "3                    87900000.0                       2205744   \n",
       "4                    87900000.0                       2205751   \n",
       "\n",
       "   S-ZORB.FT_1503.DACA.PV  S-ZORB.FT_1503.TOTALIZERA.PV  \\\n",
       "0                1947.383                       2147672   \n",
       "1                2215.770                       2147780   \n",
       "2                2484.157                       2147888   \n",
       "3                2099.506                       2148029   \n",
       "4                1904.816                       2148111   \n",
       "\n",
       "   S-ZORB.FT_1504.DACA.PV  S-ZORB.FT_1504.TOTALIZERA.PV  S-ZORB.PC_1001A.PV  \n",
       "0                2472.575                       2151723           -113.3863  \n",
       "1                2462.883                       2151846           -113.3858  \n",
       "2                2453.191                       2151969           -113.3853  \n",
       "3                2456.075                       2152091           -113.3847  \n",
       "4                2467.434                       2152214           -113.3842  \n",
       "\n",
       "[5 rows x 343 columns]"
      ]
     },
     "execution_count": 42,
     "metadata": {},
     "output_type": "execute_result"
    }
   ],
   "source": [
    "w_313.head()"
   ]
  },
  {
   "cell_type": "code",
   "execution_count": 30,
   "metadata": {},
   "outputs": [
    {
     "data": {
      "text/plain": [
       "16.86597"
      ]
     },
     "execution_count": 30,
     "metadata": {},
     "output_type": "execute_result"
    }
   ],
   "source": [
    "w_313.iloc[1,1]"
   ]
  },
  {
   "cell_type": "code",
   "execution_count": 73,
   "metadata": {},
   "outputs": [
    {
     "data": {
      "text/html": [
       "<div>\n",
       "<style scoped>\n",
       "    .dataframe tbody tr th:only-of-type {\n",
       "        vertical-align: middle;\n",
       "    }\n",
       "\n",
       "    .dataframe tbody tr th {\n",
       "        vertical-align: top;\n",
       "    }\n",
       "\n",
       "    .dataframe thead th {\n",
       "        text-align: right;\n",
       "    }\n",
       "</style>\n",
       "<table border=\"1\" class=\"dataframe\">\n",
       "  <thead>\n",
       "    <tr style=\"text-align: right;\">\n",
       "      <th></th>\n",
       "      <th>index</th>\n",
       "      <th>变量编号</th>\n",
       "      <th>位号</th>\n",
       "      <th>取值范围</th>\n",
       "      <th>ul</th>\n",
       "      <th>ll</th>\n",
       "    </tr>\n",
       "  </thead>\n",
       "  <tbody>\n",
       "    <tr>\n",
       "      <th>0</th>\n",
       "      <td>1</td>\n",
       "      <td>1</td>\n",
       "      <td>S-ZORB.CAL_H2.PV</td>\n",
       "      <td>0.20-0.37</td>\n",
       "      <td>0.20</td>\n",
       "      <td>0.37</td>\n",
       "    </tr>\n",
       "    <tr>\n",
       "      <th>1</th>\n",
       "      <td>2</td>\n",
       "      <td>2</td>\n",
       "      <td>S-ZORB.PDI_2102.PV</td>\n",
       "      <td>10-35</td>\n",
       "      <td>10.00</td>\n",
       "      <td>35.00</td>\n",
       "    </tr>\n",
       "    <tr>\n",
       "      <th>2</th>\n",
       "      <td>3</td>\n",
       "      <td>3</td>\n",
       "      <td>S-ZORB.PT_2801.PV</td>\n",
       "      <td>2.35-2.70</td>\n",
       "      <td>2.35</td>\n",
       "      <td>2.70</td>\n",
       "    </tr>\n",
       "    <tr>\n",
       "      <th>3</th>\n",
       "      <td>4</td>\n",
       "      <td>4</td>\n",
       "      <td>S-ZORB.FC_2801.PV</td>\n",
       "      <td>600-1000</td>\n",
       "      <td>600.00</td>\n",
       "      <td>1000.00</td>\n",
       "    </tr>\n",
       "    <tr>\n",
       "      <th>4</th>\n",
       "      <td>5</td>\n",
       "      <td>5</td>\n",
       "      <td>S-ZORB.TE_2103.PV</td>\n",
       "      <td>410-435</td>\n",
       "      <td>410.00</td>\n",
       "      <td>435.00</td>\n",
       "    </tr>\n",
       "    <tr>\n",
       "      <th>...</th>\n",
       "      <td>...</td>\n",
       "      <td>...</td>\n",
       "      <td>...</td>\n",
       "      <td>...</td>\n",
       "      <td>...</td>\n",
       "      <td>...</td>\n",
       "    </tr>\n",
       "    <tr>\n",
       "      <th>338</th>\n",
       "      <td>339</td>\n",
       "      <td>339</td>\n",
       "      <td>S-ZORB.FT_1503.DACA.PV</td>\n",
       "      <td>60-5500000</td>\n",
       "      <td>60.00</td>\n",
       "      <td>5500000.00</td>\n",
       "    </tr>\n",
       "    <tr>\n",
       "      <th>339</th>\n",
       "      <td>340</td>\n",
       "      <td>340</td>\n",
       "      <td>S-ZORB.FT_1503.TOTALIZERA.PV</td>\n",
       "      <td>0-40000000</td>\n",
       "      <td>0.00</td>\n",
       "      <td>40000000.00</td>\n",
       "    </tr>\n",
       "    <tr>\n",
       "      <th>340</th>\n",
       "      <td>341</td>\n",
       "      <td>341</td>\n",
       "      <td>S-ZORB.FT_1504.DACA.PV</td>\n",
       "      <td>-17500</td>\n",
       "      <td>-14000.00</td>\n",
       "      <td>3500.00</td>\n",
       "    </tr>\n",
       "    <tr>\n",
       "      <th>341</th>\n",
       "      <td>342</td>\n",
       "      <td>342</td>\n",
       "      <td>S-ZORB.FT_1504.TOTALIZERA.PV</td>\n",
       "      <td>0-40000000</td>\n",
       "      <td>0.00</td>\n",
       "      <td>40000000.00</td>\n",
       "    </tr>\n",
       "    <tr>\n",
       "      <th>342</th>\n",
       "      <td>343</td>\n",
       "      <td>343</td>\n",
       "      <td>S-ZORB.PC_1001A.PV</td>\n",
       "      <td>-125.5</td>\n",
       "      <td>-125.00</td>\n",
       "      <td>0.50</td>\n",
       "    </tr>\n",
       "  </tbody>\n",
       "</table>\n",
       "<p>343 rows × 6 columns</p>\n",
       "</div>"
      ],
      "text/plain": [
       "     index  变量编号                            位号        取值范围        ul  \\\n",
       "0        1     1              S-ZORB.CAL_H2.PV   0.20-0.37      0.20   \n",
       "1        2     2            S-ZORB.PDI_2102.PV       10-35     10.00   \n",
       "2        3     3             S-ZORB.PT_2801.PV   2.35-2.70      2.35   \n",
       "3        4     4             S-ZORB.FC_2801.PV    600-1000    600.00   \n",
       "4        5     5             S-ZORB.TE_2103.PV     410-435    410.00   \n",
       "..     ...   ...                           ...         ...       ...   \n",
       "338    339   339        S-ZORB.FT_1503.DACA.PV  60-5500000     60.00   \n",
       "339    340   340  S-ZORB.FT_1503.TOTALIZERA.PV  0-40000000      0.00   \n",
       "340    341   341        S-ZORB.FT_1504.DACA.PV      -17500 -14000.00   \n",
       "341    342   342  S-ZORB.FT_1504.TOTALIZERA.PV  0-40000000      0.00   \n",
       "342    343   343            S-ZORB.PC_1001A.PV      -125.5   -125.00   \n",
       "\n",
       "              ll  \n",
       "0           0.37  \n",
       "1          35.00  \n",
       "2           2.70  \n",
       "3        1000.00  \n",
       "4         435.00  \n",
       "..           ...  \n",
       "338   5500000.00  \n",
       "339  40000000.00  \n",
       "340      3500.00  \n",
       "341  40000000.00  \n",
       "342         0.50  \n",
       "\n",
       "[343 rows x 6 columns]"
      ]
     },
     "execution_count": 73,
     "metadata": {},
     "output_type": "execute_result"
    }
   ],
   "source": [
    "y_313"
   ]
  },
  {
   "cell_type": "code",
   "execution_count": 78,
   "metadata": {},
   "outputs": [
    {
     "data": {
      "text/plain": [
       "Index(['S-ZORB.CAL_H2.PV', 'S-ZORB.PDI_2102.PV', 'S-ZORB.PT_2801.PV',\n",
       "       'S-ZORB.FC_2801.PV', 'S-ZORB.TE_2103.PV', 'S-ZORB.TE_2005.PV',\n",
       "       'S-ZORB.PT_2101.PV', 'S-ZORB.PDT_2104.PV', 'S-ZORB.SIS_PDT_2103B.PV',\n",
       "       'S-ZORB.TC_2101.PV',\n",
       "       ...\n",
       "       'S-ZORB.CAL_1.CANGLIANG.PV', 'S-ZORB.FT_1006.DACA.PV',\n",
       "       'S-ZORB.FT_5204.DACA.PV', 'S-ZORB.FT_1006.TOTALIZERA.PV',\n",
       "       'S-ZORB.FT_5204.TOTALIZERA.PV', 'S-ZORB.FT_1503.DACA.PV',\n",
       "       'S-ZORB.FT_1503.TOTALIZERA.PV', 'S-ZORB.FT_1504.DACA.PV',\n",
       "       'S-ZORB.FT_1504.TOTALIZERA.PV', 'S-ZORB.PC_1001A.PV'],\n",
       "      dtype='object', length=338)"
      ]
     },
     "execution_count": 78,
     "metadata": {},
     "output_type": "execute_result"
    }
   ],
   "source": [
    "w_285_copy.columns"
   ]
  },
  {
   "cell_type": "code",
   "execution_count": null,
   "metadata": {},
   "outputs": [],
   "source": []
  },
  {
   "cell_type": "code",
   "execution_count": 79,
   "metadata": {},
   "outputs": [],
   "source": [
    "from sklearn.preprocessing import StandardScaler\n",
    "scaler = StandardScaler()\n",
    "scaler.fit(w_285_copy)\n",
    "scaler.mean_\n",
    "scaler.var_\n",
    "w_285_copy_std = scaler.transform(w_285_copy)\n",
    "w_285_copy_std = pd.DataFrame(w_285_copy_std , columns = w_285_copy.columns)\n",
    "w_285_copy_std.to_csv(r\"C:\\Users\\Administrator\\Desktop\\285_std.csv\")"
   ]
  },
  {
   "cell_type": "code",
   "execution_count": 83,
   "metadata": {},
   "outputs": [
    {
     "name": "stdout",
     "output_type": "stream",
     "text": [
      "0 None\n"
     ]
    }
   ],
   "source": [
    "p = 0 \n",
    "h = None\n",
    "for j in range(w_285_copy_std.shape[1]):\n",
    "    for i in range(w_285_copy_std.shape[0]):\n",
    "        if w_285_copy_std.iloc[i,j] > 3  or w_285_copy_std.iloc[i,j] < -3:\n",
    "            w_285_copy_std.iloc[i,j] = np.nan\n",
    "            print(\"行号{},列号{},名称{}\".format(i,j,w_285_copy_std.columns[j]))\n",
    "            n+=1\n",
    "            h = list(set(w_285_copy_std.columns[j]))\n",
    "print(p,h)"
   ]
  },
  {
   "cell_type": "code",
   "execution_count": 87,
   "metadata": {},
   "outputs": [
    {
     "data": {
      "text/plain": [
       "Index(['S-ZORB.CAL_H2.PV', 'S-ZORB.PDI_2102.PV', 'S-ZORB.PT_2801.PV',\n",
       "       'S-ZORB.FC_2801.PV', 'S-ZORB.TE_2103.PV', 'S-ZORB.TE_2005.PV',\n",
       "       'S-ZORB.PT_2101.PV', 'S-ZORB.PDT_2104.PV', 'S-ZORB.SIS_PDT_2103B.PV',\n",
       "       'S-ZORB.TC_2101.PV',\n",
       "       ...\n",
       "       'S-ZORB.CAL_1.CANGLIANG.PV', 'S-ZORB.FT_1006.DACA.PV',\n",
       "       'S-ZORB.FT_5204.DACA.PV', 'S-ZORB.FT_1006.TOTALIZERA.PV',\n",
       "       'S-ZORB.FT_5204.TOTALIZERA.PV', 'S-ZORB.FT_1503.DACA.PV',\n",
       "       'S-ZORB.FT_1503.TOTALIZERA.PV', 'S-ZORB.FT_1504.DACA.PV',\n",
       "       'S-ZORB.FT_1504.TOTALIZERA.PV', 'S-ZORB.PC_1001A.PV'],\n",
       "      dtype='object', length=338)"
      ]
     },
     "execution_count": 87,
     "metadata": {},
     "output_type": "execute_result"
    }
   ],
   "source": [
    "w_285.columns"
   ]
  },
  {
   "cell_type": "code",
   "execution_count": null,
   "metadata": {},
   "outputs": [],
   "source": []
  },
  {
   "cell_type": "code",
   "execution_count": 89,
   "metadata": {},
   "outputs": [
    {
     "data": {
      "text/plain": [
       "S-ZORB.CAL_H2.PV                2.733991e-01\n",
       "S-ZORB.PDI_2102.PV              2.420824e+01\n",
       "S-ZORB.PT_2801.PV               2.528870e+00\n",
       "S-ZORB.FC_2801.PV               8.558825e+02\n",
       "S-ZORB.TE_2103.PV               4.215093e+02\n",
       "                                    ...     \n",
       "S-ZORB.FT_1503.DACA.PV          2.200789e+03\n",
       "S-ZORB.FT_1503.TOTALIZERA.PV    5.149259e+06\n",
       "S-ZORB.FT_1504.DACA.PV          2.846897e+03\n",
       "S-ZORB.FT_1504.TOTALIZERA.PV    5.984749e+06\n",
       "S-ZORB.PC_1001A.PV             -9.721070e+01\n",
       "Length: 338, dtype: float64"
      ]
     },
     "execution_count": 89,
     "metadata": {},
     "output_type": "execute_result"
    }
   ],
   "source": [
    "mean_285 = w_285.mean(axis = 0)\n",
    "mean_285"
   ]
  },
  {
   "cell_type": "code",
   "execution_count": 100,
   "metadata": {},
   "outputs": [
    {
     "data": {
      "text/html": [
       "<div>\n",
       "<style scoped>\n",
       "    .dataframe tbody tr th:only-of-type {\n",
       "        vertical-align: middle;\n",
       "    }\n",
       "\n",
       "    .dataframe tbody tr th {\n",
       "        vertical-align: top;\n",
       "    }\n",
       "\n",
       "    .dataframe thead th {\n",
       "        text-align: right;\n",
       "    }\n",
       "</style>\n",
       "<table border=\"1\" class=\"dataframe\">\n",
       "  <thead>\n",
       "    <tr style=\"text-align: right;\">\n",
       "      <th></th>\n",
       "      <th>index</th>\n",
       "      <th>变量编号</th>\n",
       "      <th>位号</th>\n",
       "      <th>取值范围</th>\n",
       "      <th>ul</th>\n",
       "      <th>ll</th>\n",
       "    </tr>\n",
       "  </thead>\n",
       "  <tbody>\n",
       "    <tr>\n",
       "      <th>0</th>\n",
       "      <td>1</td>\n",
       "      <td>1</td>\n",
       "      <td>S-ZORB.CAL_H2.PV</td>\n",
       "      <td>0.20-0.37</td>\n",
       "      <td>0.20</td>\n",
       "      <td>0.37</td>\n",
       "    </tr>\n",
       "    <tr>\n",
       "      <th>1</th>\n",
       "      <td>2</td>\n",
       "      <td>2</td>\n",
       "      <td>S-ZORB.PDI_2102.PV</td>\n",
       "      <td>10-35</td>\n",
       "      <td>10.00</td>\n",
       "      <td>35.00</td>\n",
       "    </tr>\n",
       "    <tr>\n",
       "      <th>2</th>\n",
       "      <td>3</td>\n",
       "      <td>3</td>\n",
       "      <td>S-ZORB.PT_2801.PV</td>\n",
       "      <td>2.35-2.70</td>\n",
       "      <td>2.35</td>\n",
       "      <td>2.70</td>\n",
       "    </tr>\n",
       "    <tr>\n",
       "      <th>3</th>\n",
       "      <td>4</td>\n",
       "      <td>4</td>\n",
       "      <td>S-ZORB.FC_2801.PV</td>\n",
       "      <td>600-1000</td>\n",
       "      <td>600.00</td>\n",
       "      <td>1000.00</td>\n",
       "    </tr>\n",
       "    <tr>\n",
       "      <th>4</th>\n",
       "      <td>5</td>\n",
       "      <td>5</td>\n",
       "      <td>S-ZORB.TE_2103.PV</td>\n",
       "      <td>410-435</td>\n",
       "      <td>410.00</td>\n",
       "      <td>435.00</td>\n",
       "    </tr>\n",
       "  </tbody>\n",
       "</table>\n",
       "</div>"
      ],
      "text/plain": [
       "   index  变量编号                  位号       取值范围      ul       ll\n",
       "0      1     1    S-ZORB.CAL_H2.PV  0.20-0.37    0.20     0.37\n",
       "1      2     2  S-ZORB.PDI_2102.PV      10-35   10.00    35.00\n",
       "2      3     3   S-ZORB.PT_2801.PV  2.35-2.70    2.35     2.70\n",
       "3      4     4   S-ZORB.FC_2801.PV   600-1000  600.00  1000.00\n",
       "4      5     5   S-ZORB.TE_2103.PV    410-435  410.00   435.00"
      ]
     },
     "execution_count": 100,
     "metadata": {},
     "output_type": "execute_result"
    }
   ],
   "source": [
    "y_313 = pd.read_csv(r\"C:\\Users\\Administrator\\Desktop\\313_range_918_11.csv\" )\n",
    "y_313.head()"
   ]
  },
  {
   "cell_type": "code",
   "execution_count": 98,
   "metadata": {},
   "outputs": [
    {
     "data": {
      "text/plain": [
       "(40, 343)"
      ]
     },
     "execution_count": 98,
     "metadata": {},
     "output_type": "execute_result"
    }
   ],
   "source": [
    "w_313.shape"
   ]
  },
  {
   "cell_type": "code",
   "execution_count": null,
   "metadata": {},
   "outputs": [],
   "source": []
  },
  {
   "cell_type": "code",
   "execution_count": 96,
   "metadata": {},
   "outputs": [
    {
     "data": {
      "text/html": [
       "<div>\n",
       "<style scoped>\n",
       "    .dataframe tbody tr th:only-of-type {\n",
       "        vertical-align: middle;\n",
       "    }\n",
       "\n",
       "    .dataframe tbody tr th {\n",
       "        vertical-align: top;\n",
       "    }\n",
       "\n",
       "    .dataframe thead th {\n",
       "        text-align: right;\n",
       "    }\n",
       "</style>\n",
       "<table border=\"1\" class=\"dataframe\">\n",
       "  <thead>\n",
       "    <tr style=\"text-align: right;\">\n",
       "      <th></th>\n",
       "      <th>S-ZORB.CAL_H2.PV</th>\n",
       "      <th>S-ZORB.PDI_2102.PV</th>\n",
       "      <th>S-ZORB.PT_2801.PV</th>\n",
       "      <th>S-ZORB.FC_2801.PV</th>\n",
       "      <th>S-ZORB.TE_2103.PV</th>\n",
       "      <th>S-ZORB.TE_2005.PV</th>\n",
       "      <th>S-ZORB.PT_2101.PV</th>\n",
       "      <th>S-ZORB.PDT_2104.PV</th>\n",
       "      <th>S-ZORB.SIS_PDT_2103B.PV</th>\n",
       "      <th>S-ZORB.TC_2101.PV</th>\n",
       "      <th>...</th>\n",
       "      <th>S-ZORB.CAL_1.CANGLIANG.PV</th>\n",
       "      <th>S-ZORB.FT_1006.DACA.PV</th>\n",
       "      <th>S-ZORB.FT_5204.DACA.PV</th>\n",
       "      <th>S-ZORB.FT_1006.TOTALIZERA.PV</th>\n",
       "      <th>S-ZORB.FT_5204.TOTALIZERA.PV</th>\n",
       "      <th>S-ZORB.FT_1503.DACA.PV</th>\n",
       "      <th>S-ZORB.FT_1503.TOTALIZERA.PV</th>\n",
       "      <th>S-ZORB.FT_1504.DACA.PV</th>\n",
       "      <th>S-ZORB.FT_1504.TOTALIZERA.PV</th>\n",
       "      <th>S-ZORB.PC_1001A.PV</th>\n",
       "    </tr>\n",
       "  </thead>\n",
       "  <tbody>\n",
       "    <tr>\n",
       "      <th>0</th>\n",
       "      <td>0.261208</td>\n",
       "      <td>17.06828</td>\n",
       "      <td>2.414703</td>\n",
       "      <td>838.6098</td>\n",
       "      <td>420.2411</td>\n",
       "      <td>419.6024</td>\n",
       "      <td>2.313425</td>\n",
       "      <td>61.68757</td>\n",
       "      <td>1250.785</td>\n",
       "      <td>245.1287</td>\n",
       "      <td>...</td>\n",
       "      <td>2.999368</td>\n",
       "      <td>10119.40</td>\n",
       "      <td>150.1902</td>\n",
       "      <td>87900000.0</td>\n",
       "      <td>2205722</td>\n",
       "      <td>1947.383</td>\n",
       "      <td>2147672</td>\n",
       "      <td>2472.575</td>\n",
       "      <td>2151723</td>\n",
       "      <td>-113.3863</td>\n",
       "    </tr>\n",
       "    <tr>\n",
       "      <th>1</th>\n",
       "      <td>0.260958</td>\n",
       "      <td>16.86597</td>\n",
       "      <td>2.412846</td>\n",
       "      <td>838.8535</td>\n",
       "      <td>420.7948</td>\n",
       "      <td>420.3819</td>\n",
       "      <td>2.311459</td>\n",
       "      <td>61.75313</td>\n",
       "      <td>1250.780</td>\n",
       "      <td>245.6239</td>\n",
       "      <td>...</td>\n",
       "      <td>3.053287</td>\n",
       "      <td>10097.87</td>\n",
       "      <td>149.8263</td>\n",
       "      <td>87900000.0</td>\n",
       "      <td>2205729</td>\n",
       "      <td>2215.770</td>\n",
       "      <td>2147780</td>\n",
       "      <td>2462.883</td>\n",
       "      <td>2151846</td>\n",
       "      <td>-113.3858</td>\n",
       "    </tr>\n",
       "    <tr>\n",
       "      <th>2</th>\n",
       "      <td>0.260708</td>\n",
       "      <td>16.66366</td>\n",
       "      <td>2.410989</td>\n",
       "      <td>839.0970</td>\n",
       "      <td>421.3485</td>\n",
       "      <td>421.1614</td>\n",
       "      <td>2.309492</td>\n",
       "      <td>61.81869</td>\n",
       "      <td>1250.775</td>\n",
       "      <td>246.1192</td>\n",
       "      <td>...</td>\n",
       "      <td>3.107207</td>\n",
       "      <td>10076.34</td>\n",
       "      <td>149.4624</td>\n",
       "      <td>87900000.0</td>\n",
       "      <td>2205737</td>\n",
       "      <td>2484.157</td>\n",
       "      <td>2147888</td>\n",
       "      <td>2453.191</td>\n",
       "      <td>2151969</td>\n",
       "      <td>-113.3853</td>\n",
       "    </tr>\n",
       "    <tr>\n",
       "      <th>3</th>\n",
       "      <td>0.262787</td>\n",
       "      <td>17.59503</td>\n",
       "      <td>2.419262</td>\n",
       "      <td>841.1829</td>\n",
       "      <td>422.3332</td>\n",
       "      <td>421.9007</td>\n",
       "      <td>2.317966</td>\n",
       "      <td>61.66451</td>\n",
       "      <td>1250.771</td>\n",
       "      <td>246.5508</td>\n",
       "      <td>...</td>\n",
       "      <td>2.948391</td>\n",
       "      <td>10093.86</td>\n",
       "      <td>149.6110</td>\n",
       "      <td>87900000.0</td>\n",
       "      <td>2205744</td>\n",
       "      <td>2099.506</td>\n",
       "      <td>2148029</td>\n",
       "      <td>2456.075</td>\n",
       "      <td>2152091</td>\n",
       "      <td>-113.3847</td>\n",
       "    </tr>\n",
       "    <tr>\n",
       "      <th>4</th>\n",
       "      <td>0.266825</td>\n",
       "      <td>18.00510</td>\n",
       "      <td>2.417170</td>\n",
       "      <td>866.1335</td>\n",
       "      <td>422.3154</td>\n",
       "      <td>422.3370</td>\n",
       "      <td>2.315674</td>\n",
       "      <td>61.18709</td>\n",
       "      <td>1250.766</td>\n",
       "      <td>246.9335</td>\n",
       "      <td>...</td>\n",
       "      <td>2.933445</td>\n",
       "      <td>10115.17</td>\n",
       "      <td>151.6057</td>\n",
       "      <td>87900000.0</td>\n",
       "      <td>2205751</td>\n",
       "      <td>1904.816</td>\n",
       "      <td>2148111</td>\n",
       "      <td>2467.434</td>\n",
       "      <td>2152214</td>\n",
       "      <td>-113.3842</td>\n",
       "    </tr>\n",
       "  </tbody>\n",
       "</table>\n",
       "<p>5 rows × 343 columns</p>\n",
       "</div>"
      ],
      "text/plain": [
       "   S-ZORB.CAL_H2.PV  S-ZORB.PDI_2102.PV  S-ZORB.PT_2801.PV  S-ZORB.FC_2801.PV  \\\n",
       "0          0.261208            17.06828           2.414703           838.6098   \n",
       "1          0.260958            16.86597           2.412846           838.8535   \n",
       "2          0.260708            16.66366           2.410989           839.0970   \n",
       "3          0.262787            17.59503           2.419262           841.1829   \n",
       "4          0.266825            18.00510           2.417170           866.1335   \n",
       "\n",
       "   S-ZORB.TE_2103.PV  S-ZORB.TE_2005.PV  S-ZORB.PT_2101.PV  \\\n",
       "0           420.2411           419.6024           2.313425   \n",
       "1           420.7948           420.3819           2.311459   \n",
       "2           421.3485           421.1614           2.309492   \n",
       "3           422.3332           421.9007           2.317966   \n",
       "4           422.3154           422.3370           2.315674   \n",
       "\n",
       "   S-ZORB.PDT_2104.PV  S-ZORB.SIS_PDT_2103B.PV  S-ZORB.TC_2101.PV  ...  \\\n",
       "0            61.68757                 1250.785           245.1287  ...   \n",
       "1            61.75313                 1250.780           245.6239  ...   \n",
       "2            61.81869                 1250.775           246.1192  ...   \n",
       "3            61.66451                 1250.771           246.5508  ...   \n",
       "4            61.18709                 1250.766           246.9335  ...   \n",
       "\n",
       "   S-ZORB.CAL_1.CANGLIANG.PV  S-ZORB.FT_1006.DACA.PV  S-ZORB.FT_5204.DACA.PV  \\\n",
       "0                   2.999368                10119.40                150.1902   \n",
       "1                   3.053287                10097.87                149.8263   \n",
       "2                   3.107207                10076.34                149.4624   \n",
       "3                   2.948391                10093.86                149.6110   \n",
       "4                   2.933445                10115.17                151.6057   \n",
       "\n",
       "   S-ZORB.FT_1006.TOTALIZERA.PV  S-ZORB.FT_5204.TOTALIZERA.PV  \\\n",
       "0                    87900000.0                       2205722   \n",
       "1                    87900000.0                       2205729   \n",
       "2                    87900000.0                       2205737   \n",
       "3                    87900000.0                       2205744   \n",
       "4                    87900000.0                       2205751   \n",
       "\n",
       "   S-ZORB.FT_1503.DACA.PV  S-ZORB.FT_1503.TOTALIZERA.PV  \\\n",
       "0                1947.383                       2147672   \n",
       "1                2215.770                       2147780   \n",
       "2                2484.157                       2147888   \n",
       "3                2099.506                       2148029   \n",
       "4                1904.816                       2148111   \n",
       "\n",
       "   S-ZORB.FT_1504.DACA.PV  S-ZORB.FT_1504.TOTALIZERA.PV  S-ZORB.PC_1001A.PV  \n",
       "0                2472.575                       2151723           -113.3863  \n",
       "1                2462.883                       2151846           -113.3858  \n",
       "2                2453.191                       2151969           -113.3853  \n",
       "3                2456.075                       2152091           -113.3847  \n",
       "4                2467.434                       2152214           -113.3842  \n",
       "\n",
       "[5 rows x 343 columns]"
      ]
     },
     "execution_count": 96,
     "metadata": {},
     "output_type": "execute_result"
    }
   ],
   "source": [
    "w_313.head()"
   ]
  },
  {
   "cell_type": "code",
   "execution_count": 108,
   "metadata": {},
   "outputs": [
    {
     "name": "stdout",
     "output_type": "stream",
     "text": [
      "不在操作范围元素个数283,行数40,列数27 \n",
      " 列名['S-ZORB.PDI_2301.DACA', 'S-ZORB.PC_2401B.DACA', 'S-ZORB.AT-0006.DACA.PV', 'S-ZORB.FT_9402.PV', 'S-ZORB.PC_2401.DACA', 'S-ZORB.FC_2501.PV', 'S-ZORB.BS_LT_2401.PV', 'S-ZORB.AT_5201.PV', 'S-ZORB.PC_2401.PIDA.OP', 'S-ZORB.SIS_LT_1001.PV', 'S-ZORB.AI_2903.PV', 'S-ZORB.PC_2401B.PIDA.SP', 'S-ZORB.PC_2401B.PIDA.OP', 'S-ZORB.PT_2502.DACA', 'S-ZORB.PDC_2502.PV', 'S-ZORB.PDT_2409.DACA', 'S-ZORB.PT_9403.PV', 'S-ZORB.AT-0012.DACA.PV', 'S-ZORB.PDI_2801.DACA', 'S-ZORB.TE_1603.DACA', 'S-ZORB.PC_2401.PIDA.SP', 'S-ZORB.PT_2501.DACA', 'S-ZORB.PC_6001.PV', 'S-ZORB.PC_3101.DACA', 'S-ZORB.PDC_2607.PV', 'S-ZORB.PT_6002.PV', 'S-ZORB.FT_1204.TOTAL']\n"
     ]
    }
   ],
   "source": [
    "k = 0\n",
    "k_i = []\n",
    "k_j = []\n",
    "for j in range(w_313.shape[1]):\n",
    "    for i in range(w_313.shape[0]):\n",
    "        np.double(w_313.iloc[i,j])\n",
    "        if w_313.iloc[i,j] < y_313.iloc[j,4] or w_313.iloc[i,j] > y_313.iloc[j,5]:\n",
    "             #print(\"行号{},列号{},名称{}\".format(i,j,w_313.columns[j]))\n",
    "            k_j.append(w_313.columns[j])\n",
    "            k_i.append(w_313.index[i])\n",
    "            k+=1\n",
    "v_i = list(set(k_i))\n",
    "v_j = list(set(k_j))\n",
    "print(\"不在操作范围元素个数{},行数{},列数{} \\n 列名{}\".format(k,len(v_i),len(v_j),v_j))"
   ]
  },
  {
   "cell_type": "code",
   "execution_count": 103,
   "metadata": {},
   "outputs": [],
   "source": [
    "v = list(set(k))\n",
    "len(v)"
   ]
  },
  {
   "cell_type": "code",
   "execution_count": 135,
   "metadata": {},
   "outputs": [
    {
     "data": {
      "text/plain": [
       "(343, 5)"
      ]
     },
     "execution_count": 135,
     "metadata": {},
     "output_type": "execute_result"
    }
   ],
   "source": [
    "y_285.shape"
   ]
  },
  {
   "cell_type": "code",
   "execution_count": null,
   "metadata": {},
   "outputs": [],
   "source": []
  },
  {
   "cell_type": "code",
   "execution_count": 138,
   "metadata": {},
   "outputs": [
    {
     "data": {
      "text/plain": [
       "'S-ZORB.FT_9403.TOTAL'"
      ]
     },
     "execution_count": 138,
     "metadata": {},
     "output_type": "execute_result"
    }
   ],
   "source": [
    "y_285.iloc[100,2]"
   ]
  },
  {
   "cell_type": "code",
   "execution_count": 139,
   "metadata": {},
   "outputs": [
    {
     "data": {
      "text/plain": [
       "'S-ZORB.FT_9403.TOTAL'"
      ]
     },
     "execution_count": 139,
     "metadata": {},
     "output_type": "execute_result"
    }
   ],
   "source": [
    "w_285.columns[100]"
   ]
  },
  {
   "cell_type": "code",
   "execution_count": null,
   "metadata": {},
   "outputs": [],
   "source": []
  },
  {
   "cell_type": "code",
   "execution_count": null,
   "metadata": {},
   "outputs": [],
   "source": []
  },
  {
   "cell_type": "code",
   "execution_count": 113,
   "metadata": {},
   "outputs": [
    {
     "data": {
      "text/html": [
       "<div>\n",
       "<style scoped>\n",
       "    .dataframe tbody tr th:only-of-type {\n",
       "        vertical-align: middle;\n",
       "    }\n",
       "\n",
       "    .dataframe tbody tr th {\n",
       "        vertical-align: top;\n",
       "    }\n",
       "\n",
       "    .dataframe thead th {\n",
       "        text-align: right;\n",
       "    }\n",
       "</style>\n",
       "<table border=\"1\" class=\"dataframe\">\n",
       "  <thead>\n",
       "    <tr style=\"text-align: right;\">\n",
       "      <th></th>\n",
       "      <th>S-ZORB.CAL_H2.PV</th>\n",
       "      <th>S-ZORB.PDI_2102.PV</th>\n",
       "      <th>S-ZORB.PT_2801.PV</th>\n",
       "      <th>S-ZORB.FC_2801.PV</th>\n",
       "      <th>S-ZORB.TE_2103.PV</th>\n",
       "      <th>S-ZORB.TE_2005.PV</th>\n",
       "      <th>S-ZORB.PT_2101.PV</th>\n",
       "      <th>S-ZORB.PDT_2104.PV</th>\n",
       "      <th>S-ZORB.SIS_PDT_2103B.PV</th>\n",
       "      <th>S-ZORB.TC_2101.PV</th>\n",
       "      <th>...</th>\n",
       "      <th>S-ZORB.CAL_1.CANGLIANG.PV</th>\n",
       "      <th>S-ZORB.FT_1006.DACA.PV</th>\n",
       "      <th>S-ZORB.FT_5204.DACA.PV</th>\n",
       "      <th>S-ZORB.FT_1006.TOTALIZERA.PV</th>\n",
       "      <th>S-ZORB.FT_5204.TOTALIZERA.PV</th>\n",
       "      <th>S-ZORB.FT_1503.DACA.PV</th>\n",
       "      <th>S-ZORB.FT_1503.TOTALIZERA.PV</th>\n",
       "      <th>S-ZORB.FT_1504.DACA.PV</th>\n",
       "      <th>S-ZORB.FT_1504.TOTALIZERA.PV</th>\n",
       "      <th>S-ZORB.PC_1001A.PV</th>\n",
       "    </tr>\n",
       "  </thead>\n",
       "  <tbody>\n",
       "    <tr>\n",
       "      <th>0</th>\n",
       "      <td>0.273498</td>\n",
       "      <td>24.17817</td>\n",
       "      <td>2.528462</td>\n",
       "      <td>856.2485</td>\n",
       "      <td>421.5055</td>\n",
       "      <td>421.1933</td>\n",
       "      <td>2.426675</td>\n",
       "      <td>59.71847</td>\n",
       "      <td>1108.377</td>\n",
       "      <td>244.1175</td>\n",
       "      <td>...</td>\n",
       "      <td>2.358511</td>\n",
       "      <td>3348.074</td>\n",
       "      <td>190.6698</td>\n",
       "      <td>98941230</td>\n",
       "      <td>2433273</td>\n",
       "      <td>2210.004</td>\n",
       "      <td>5147738</td>\n",
       "      <td>2846.390</td>\n",
       "      <td>5982072</td>\n",
       "      <td>-97.22112</td>\n",
       "    </tr>\n",
       "    <tr>\n",
       "      <th>1</th>\n",
       "      <td>0.273493</td>\n",
       "      <td>24.17971</td>\n",
       "      <td>2.528483</td>\n",
       "      <td>856.2297</td>\n",
       "      <td>421.5057</td>\n",
       "      <td>421.1934</td>\n",
       "      <td>2.426696</td>\n",
       "      <td>59.71767</td>\n",
       "      <td>1108.372</td>\n",
       "      <td>244.1178</td>\n",
       "      <td>...</td>\n",
       "      <td>2.358513</td>\n",
       "      <td>3346.716</td>\n",
       "      <td>190.6711</td>\n",
       "      <td>98941420</td>\n",
       "      <td>2433282</td>\n",
       "      <td>2209.531</td>\n",
       "      <td>5147816</td>\n",
       "      <td>2846.416</td>\n",
       "      <td>5982209</td>\n",
       "      <td>-97.22059</td>\n",
       "    </tr>\n",
       "    <tr>\n",
       "      <th>2</th>\n",
       "      <td>0.273488</td>\n",
       "      <td>24.18125</td>\n",
       "      <td>2.528504</td>\n",
       "      <td>856.2109</td>\n",
       "      <td>421.5059</td>\n",
       "      <td>421.1936</td>\n",
       "      <td>2.426718</td>\n",
       "      <td>59.71688</td>\n",
       "      <td>1108.368</td>\n",
       "      <td>244.1180</td>\n",
       "      <td>...</td>\n",
       "      <td>2.358516</td>\n",
       "      <td>3345.357</td>\n",
       "      <td>190.6723</td>\n",
       "      <td>98941610</td>\n",
       "      <td>2433291</td>\n",
       "      <td>2209.059</td>\n",
       "      <td>5147894</td>\n",
       "      <td>2846.442</td>\n",
       "      <td>5982347</td>\n",
       "      <td>-97.22005</td>\n",
       "    </tr>\n",
       "    <tr>\n",
       "      <th>3</th>\n",
       "      <td>0.273483</td>\n",
       "      <td>24.18279</td>\n",
       "      <td>2.528525</td>\n",
       "      <td>856.1922</td>\n",
       "      <td>421.5061</td>\n",
       "      <td>421.1937</td>\n",
       "      <td>2.426739</td>\n",
       "      <td>59.71609</td>\n",
       "      <td>1108.363</td>\n",
       "      <td>244.1182</td>\n",
       "      <td>...</td>\n",
       "      <td>2.358518</td>\n",
       "      <td>3343.999</td>\n",
       "      <td>190.6736</td>\n",
       "      <td>98941800</td>\n",
       "      <td>2433300</td>\n",
       "      <td>2208.586</td>\n",
       "      <td>5147972</td>\n",
       "      <td>2846.468</td>\n",
       "      <td>5982484</td>\n",
       "      <td>-97.21952</td>\n",
       "    </tr>\n",
       "    <tr>\n",
       "      <th>4</th>\n",
       "      <td>0.273478</td>\n",
       "      <td>24.18434</td>\n",
       "      <td>2.528546</td>\n",
       "      <td>856.1734</td>\n",
       "      <td>421.5063</td>\n",
       "      <td>421.1939</td>\n",
       "      <td>2.426760</td>\n",
       "      <td>59.71530</td>\n",
       "      <td>1108.358</td>\n",
       "      <td>244.1184</td>\n",
       "      <td>...</td>\n",
       "      <td>2.358521</td>\n",
       "      <td>3342.640</td>\n",
       "      <td>190.6748</td>\n",
       "      <td>98941980</td>\n",
       "      <td>2433309</td>\n",
       "      <td>2208.114</td>\n",
       "      <td>5148050</td>\n",
       "      <td>2846.494</td>\n",
       "      <td>5982621</td>\n",
       "      <td>-97.21899</td>\n",
       "    </tr>\n",
       "    <tr>\n",
       "      <th>5</th>\n",
       "      <td>0.273473</td>\n",
       "      <td>24.18588</td>\n",
       "      <td>2.528567</td>\n",
       "      <td>856.1547</td>\n",
       "      <td>421.5065</td>\n",
       "      <td>421.1940</td>\n",
       "      <td>2.426782</td>\n",
       "      <td>59.71450</td>\n",
       "      <td>1108.354</td>\n",
       "      <td>244.1186</td>\n",
       "      <td>...</td>\n",
       "      <td>2.358523</td>\n",
       "      <td>3341.281</td>\n",
       "      <td>190.6761</td>\n",
       "      <td>98942180</td>\n",
       "      <td>2433318</td>\n",
       "      <td>2207.641</td>\n",
       "      <td>5148128</td>\n",
       "      <td>2846.520</td>\n",
       "      <td>5982759</td>\n",
       "      <td>-97.21845</td>\n",
       "    </tr>\n",
       "    <tr>\n",
       "      <th>6</th>\n",
       "      <td>0.273468</td>\n",
       "      <td>24.18742</td>\n",
       "      <td>2.528588</td>\n",
       "      <td>856.1359</td>\n",
       "      <td>421.5067</td>\n",
       "      <td>421.1942</td>\n",
       "      <td>2.426803</td>\n",
       "      <td>59.71371</td>\n",
       "      <td>1108.349</td>\n",
       "      <td>244.1188</td>\n",
       "      <td>...</td>\n",
       "      <td>2.358526</td>\n",
       "      <td>3339.923</td>\n",
       "      <td>190.6773</td>\n",
       "      <td>98942370</td>\n",
       "      <td>2433327</td>\n",
       "      <td>2207.168</td>\n",
       "      <td>5148206</td>\n",
       "      <td>2846.546</td>\n",
       "      <td>5982896</td>\n",
       "      <td>-97.21791</td>\n",
       "    </tr>\n",
       "    <tr>\n",
       "      <th>7</th>\n",
       "      <td>0.273463</td>\n",
       "      <td>24.18896</td>\n",
       "      <td>2.528609</td>\n",
       "      <td>856.1171</td>\n",
       "      <td>421.5069</td>\n",
       "      <td>421.1943</td>\n",
       "      <td>2.426825</td>\n",
       "      <td>59.71292</td>\n",
       "      <td>1108.344</td>\n",
       "      <td>244.1190</td>\n",
       "      <td>...</td>\n",
       "      <td>2.358528</td>\n",
       "      <td>3338.564</td>\n",
       "      <td>190.6786</td>\n",
       "      <td>98942550</td>\n",
       "      <td>2433336</td>\n",
       "      <td>2206.696</td>\n",
       "      <td>5148284</td>\n",
       "      <td>2846.572</td>\n",
       "      <td>5983033</td>\n",
       "      <td>-97.21738</td>\n",
       "    </tr>\n",
       "    <tr>\n",
       "      <th>8</th>\n",
       "      <td>0.273457</td>\n",
       "      <td>24.19051</td>\n",
       "      <td>2.528630</td>\n",
       "      <td>856.0983</td>\n",
       "      <td>421.5070</td>\n",
       "      <td>421.1945</td>\n",
       "      <td>2.426847</td>\n",
       "      <td>59.71213</td>\n",
       "      <td>1108.339</td>\n",
       "      <td>244.1193</td>\n",
       "      <td>...</td>\n",
       "      <td>2.358531</td>\n",
       "      <td>3337.206</td>\n",
       "      <td>190.6798</td>\n",
       "      <td>98942740</td>\n",
       "      <td>2433345</td>\n",
       "      <td>2206.223</td>\n",
       "      <td>5148362</td>\n",
       "      <td>2846.598</td>\n",
       "      <td>5983171</td>\n",
       "      <td>-97.21684</td>\n",
       "    </tr>\n",
       "    <tr>\n",
       "      <th>9</th>\n",
       "      <td>0.273452</td>\n",
       "      <td>24.19205</td>\n",
       "      <td>2.528651</td>\n",
       "      <td>856.0796</td>\n",
       "      <td>421.5073</td>\n",
       "      <td>421.1946</td>\n",
       "      <td>2.426868</td>\n",
       "      <td>59.71133</td>\n",
       "      <td>1108.335</td>\n",
       "      <td>244.1195</td>\n",
       "      <td>...</td>\n",
       "      <td>2.358533</td>\n",
       "      <td>3335.848</td>\n",
       "      <td>190.6811</td>\n",
       "      <td>98942930</td>\n",
       "      <td>2433354</td>\n",
       "      <td>2205.751</td>\n",
       "      <td>5148440</td>\n",
       "      <td>2846.624</td>\n",
       "      <td>5983308</td>\n",
       "      <td>-97.21631</td>\n",
       "    </tr>\n",
       "    <tr>\n",
       "      <th>10</th>\n",
       "      <td>0.273447</td>\n",
       "      <td>24.19359</td>\n",
       "      <td>2.528672</td>\n",
       "      <td>856.0608</td>\n",
       "      <td>421.5074</td>\n",
       "      <td>421.1948</td>\n",
       "      <td>2.426889</td>\n",
       "      <td>59.71054</td>\n",
       "      <td>1108.330</td>\n",
       "      <td>244.1197</td>\n",
       "      <td>...</td>\n",
       "      <td>2.358536</td>\n",
       "      <td>3334.489</td>\n",
       "      <td>190.6823</td>\n",
       "      <td>98943120</td>\n",
       "      <td>2433363</td>\n",
       "      <td>2205.278</td>\n",
       "      <td>5148518</td>\n",
       "      <td>2846.650</td>\n",
       "      <td>5983445</td>\n",
       "      <td>-97.21577</td>\n",
       "    </tr>\n",
       "    <tr>\n",
       "      <th>11</th>\n",
       "      <td>0.273442</td>\n",
       "      <td>24.19513</td>\n",
       "      <td>2.528692</td>\n",
       "      <td>856.0421</td>\n",
       "      <td>421.5077</td>\n",
       "      <td>421.1949</td>\n",
       "      <td>2.426911</td>\n",
       "      <td>59.70975</td>\n",
       "      <td>1108.325</td>\n",
       "      <td>244.1199</td>\n",
       "      <td>...</td>\n",
       "      <td>2.358538</td>\n",
       "      <td>3333.131</td>\n",
       "      <td>190.6836</td>\n",
       "      <td>98943310</td>\n",
       "      <td>2433372</td>\n",
       "      <td>2204.806</td>\n",
       "      <td>5148596</td>\n",
       "      <td>2846.676</td>\n",
       "      <td>5983582</td>\n",
       "      <td>-97.21524</td>\n",
       "    </tr>\n",
       "    <tr>\n",
       "      <th>12</th>\n",
       "      <td>0.273437</td>\n",
       "      <td>24.19667</td>\n",
       "      <td>2.528713</td>\n",
       "      <td>856.0233</td>\n",
       "      <td>421.5078</td>\n",
       "      <td>421.1951</td>\n",
       "      <td>2.426932</td>\n",
       "      <td>59.70896</td>\n",
       "      <td>1108.321</td>\n",
       "      <td>244.1201</td>\n",
       "      <td>...</td>\n",
       "      <td>2.358541</td>\n",
       "      <td>3331.772</td>\n",
       "      <td>190.6848</td>\n",
       "      <td>98943500</td>\n",
       "      <td>2433381</td>\n",
       "      <td>2204.333</td>\n",
       "      <td>5148674</td>\n",
       "      <td>2846.702</td>\n",
       "      <td>5983720</td>\n",
       "      <td>-97.21471</td>\n",
       "    </tr>\n",
       "    <tr>\n",
       "      <th>13</th>\n",
       "      <td>0.273432</td>\n",
       "      <td>24.19822</td>\n",
       "      <td>2.528734</td>\n",
       "      <td>856.0045</td>\n",
       "      <td>421.5080</td>\n",
       "      <td>421.1953</td>\n",
       "      <td>2.426954</td>\n",
       "      <td>59.70816</td>\n",
       "      <td>1108.316</td>\n",
       "      <td>244.1203</td>\n",
       "      <td>...</td>\n",
       "      <td>2.358543</td>\n",
       "      <td>3330.414</td>\n",
       "      <td>190.6861</td>\n",
       "      <td>98943690</td>\n",
       "      <td>2433390</td>\n",
       "      <td>2203.861</td>\n",
       "      <td>5148752</td>\n",
       "      <td>2846.728</td>\n",
       "      <td>5983857</td>\n",
       "      <td>-97.21417</td>\n",
       "    </tr>\n",
       "    <tr>\n",
       "      <th>14</th>\n",
       "      <td>0.273427</td>\n",
       "      <td>24.19976</td>\n",
       "      <td>2.528755</td>\n",
       "      <td>855.9857</td>\n",
       "      <td>421.5082</td>\n",
       "      <td>421.1954</td>\n",
       "      <td>2.426975</td>\n",
       "      <td>59.70737</td>\n",
       "      <td>1108.311</td>\n",
       "      <td>244.1206</td>\n",
       "      <td>...</td>\n",
       "      <td>2.358546</td>\n",
       "      <td>3329.055</td>\n",
       "      <td>190.6873</td>\n",
       "      <td>98943880</td>\n",
       "      <td>2433399</td>\n",
       "      <td>2203.388</td>\n",
       "      <td>5148830</td>\n",
       "      <td>2846.754</td>\n",
       "      <td>5983994</td>\n",
       "      <td>-97.21364</td>\n",
       "    </tr>\n",
       "    <tr>\n",
       "      <th>15</th>\n",
       "      <td>0.273422</td>\n",
       "      <td>24.20130</td>\n",
       "      <td>2.528776</td>\n",
       "      <td>855.9670</td>\n",
       "      <td>421.5084</td>\n",
       "      <td>421.1956</td>\n",
       "      <td>2.426997</td>\n",
       "      <td>59.70658</td>\n",
       "      <td>1108.307</td>\n",
       "      <td>244.1208</td>\n",
       "      <td>...</td>\n",
       "      <td>2.358548</td>\n",
       "      <td>3327.697</td>\n",
       "      <td>190.6886</td>\n",
       "      <td>98944060</td>\n",
       "      <td>2433408</td>\n",
       "      <td>2202.916</td>\n",
       "      <td>5148908</td>\n",
       "      <td>2846.780</td>\n",
       "      <td>5984132</td>\n",
       "      <td>-97.21310</td>\n",
       "    </tr>\n",
       "    <tr>\n",
       "      <th>16</th>\n",
       "      <td>0.273417</td>\n",
       "      <td>24.20284</td>\n",
       "      <td>2.528797</td>\n",
       "      <td>855.9482</td>\n",
       "      <td>421.5086</td>\n",
       "      <td>421.1957</td>\n",
       "      <td>2.427018</td>\n",
       "      <td>59.70579</td>\n",
       "      <td>1108.302</td>\n",
       "      <td>244.1210</td>\n",
       "      <td>...</td>\n",
       "      <td>2.358551</td>\n",
       "      <td>3326.338</td>\n",
       "      <td>190.6898</td>\n",
       "      <td>98944260</td>\n",
       "      <td>2433417</td>\n",
       "      <td>2202.443</td>\n",
       "      <td>5148986</td>\n",
       "      <td>2846.806</td>\n",
       "      <td>5984269</td>\n",
       "      <td>-97.21257</td>\n",
       "    </tr>\n",
       "    <tr>\n",
       "      <th>17</th>\n",
       "      <td>0.273412</td>\n",
       "      <td>24.20439</td>\n",
       "      <td>2.528818</td>\n",
       "      <td>855.9294</td>\n",
       "      <td>421.5088</td>\n",
       "      <td>421.1959</td>\n",
       "      <td>2.427040</td>\n",
       "      <td>59.70499</td>\n",
       "      <td>1108.297</td>\n",
       "      <td>244.1212</td>\n",
       "      <td>...</td>\n",
       "      <td>2.358553</td>\n",
       "      <td>3324.979</td>\n",
       "      <td>190.6911</td>\n",
       "      <td>98944440</td>\n",
       "      <td>2433426</td>\n",
       "      <td>2201.970</td>\n",
       "      <td>5149064</td>\n",
       "      <td>2846.832</td>\n",
       "      <td>5984406</td>\n",
       "      <td>-97.21204</td>\n",
       "    </tr>\n",
       "    <tr>\n",
       "      <th>18</th>\n",
       "      <td>0.273407</td>\n",
       "      <td>24.20593</td>\n",
       "      <td>2.528839</td>\n",
       "      <td>855.9106</td>\n",
       "      <td>421.5090</td>\n",
       "      <td>421.1960</td>\n",
       "      <td>2.427061</td>\n",
       "      <td>59.70420</td>\n",
       "      <td>1108.292</td>\n",
       "      <td>244.1214</td>\n",
       "      <td>...</td>\n",
       "      <td>2.358556</td>\n",
       "      <td>3323.621</td>\n",
       "      <td>190.6923</td>\n",
       "      <td>98944630</td>\n",
       "      <td>2433435</td>\n",
       "      <td>2201.498</td>\n",
       "      <td>5149142</td>\n",
       "      <td>2846.857</td>\n",
       "      <td>5984543</td>\n",
       "      <td>-97.21150</td>\n",
       "    </tr>\n",
       "    <tr>\n",
       "      <th>19</th>\n",
       "      <td>0.273402</td>\n",
       "      <td>24.20747</td>\n",
       "      <td>2.528860</td>\n",
       "      <td>855.8919</td>\n",
       "      <td>421.5092</td>\n",
       "      <td>421.1962</td>\n",
       "      <td>2.427083</td>\n",
       "      <td>59.70341</td>\n",
       "      <td>1108.288</td>\n",
       "      <td>244.1216</td>\n",
       "      <td>...</td>\n",
       "      <td>2.358558</td>\n",
       "      <td>3322.262</td>\n",
       "      <td>190.6936</td>\n",
       "      <td>98944820</td>\n",
       "      <td>2433444</td>\n",
       "      <td>2201.025</td>\n",
       "      <td>5149220</td>\n",
       "      <td>2846.884</td>\n",
       "      <td>5984681</td>\n",
       "      <td>-97.21097</td>\n",
       "    </tr>\n",
       "    <tr>\n",
       "      <th>20</th>\n",
       "      <td>0.273397</td>\n",
       "      <td>24.20901</td>\n",
       "      <td>2.528881</td>\n",
       "      <td>855.8732</td>\n",
       "      <td>421.5094</td>\n",
       "      <td>421.1963</td>\n",
       "      <td>2.427104</td>\n",
       "      <td>59.70261</td>\n",
       "      <td>1108.283</td>\n",
       "      <td>244.1219</td>\n",
       "      <td>...</td>\n",
       "      <td>2.358561</td>\n",
       "      <td>3320.904</td>\n",
       "      <td>190.6948</td>\n",
       "      <td>98945010</td>\n",
       "      <td>2433452</td>\n",
       "      <td>2200.553</td>\n",
       "      <td>5149298</td>\n",
       "      <td>2846.909</td>\n",
       "      <td>5984818</td>\n",
       "      <td>-97.21043</td>\n",
       "    </tr>\n",
       "    <tr>\n",
       "      <th>21</th>\n",
       "      <td>0.273392</td>\n",
       "      <td>24.21055</td>\n",
       "      <td>2.528902</td>\n",
       "      <td>855.8544</td>\n",
       "      <td>421.5096</td>\n",
       "      <td>421.1965</td>\n",
       "      <td>2.427126</td>\n",
       "      <td>59.70182</td>\n",
       "      <td>1108.278</td>\n",
       "      <td>244.1221</td>\n",
       "      <td>...</td>\n",
       "      <td>2.358563</td>\n",
       "      <td>3319.545</td>\n",
       "      <td>190.6961</td>\n",
       "      <td>98945200</td>\n",
       "      <td>2433461</td>\n",
       "      <td>2200.080</td>\n",
       "      <td>5149376</td>\n",
       "      <td>2846.936</td>\n",
       "      <td>5984955</td>\n",
       "      <td>-97.20989</td>\n",
       "    </tr>\n",
       "    <tr>\n",
       "      <th>22</th>\n",
       "      <td>0.273386</td>\n",
       "      <td>24.21210</td>\n",
       "      <td>2.528923</td>\n",
       "      <td>855.8356</td>\n",
       "      <td>421.5098</td>\n",
       "      <td>421.1966</td>\n",
       "      <td>2.427147</td>\n",
       "      <td>59.70103</td>\n",
       "      <td>1108.274</td>\n",
       "      <td>244.1223</td>\n",
       "      <td>...</td>\n",
       "      <td>2.358566</td>\n",
       "      <td>3318.187</td>\n",
       "      <td>190.6973</td>\n",
       "      <td>98945390</td>\n",
       "      <td>2433470</td>\n",
       "      <td>2199.608</td>\n",
       "      <td>5149454</td>\n",
       "      <td>2846.961</td>\n",
       "      <td>5985093</td>\n",
       "      <td>-97.20936</td>\n",
       "    </tr>\n",
       "    <tr>\n",
       "      <th>23</th>\n",
       "      <td>0.273381</td>\n",
       "      <td>24.21364</td>\n",
       "      <td>2.528944</td>\n",
       "      <td>855.8168</td>\n",
       "      <td>421.5100</td>\n",
       "      <td>421.1968</td>\n",
       "      <td>2.427169</td>\n",
       "      <td>59.70024</td>\n",
       "      <td>1108.269</td>\n",
       "      <td>244.1225</td>\n",
       "      <td>...</td>\n",
       "      <td>2.358568</td>\n",
       "      <td>3316.828</td>\n",
       "      <td>190.6986</td>\n",
       "      <td>98945580</td>\n",
       "      <td>2433479</td>\n",
       "      <td>2199.135</td>\n",
       "      <td>5149532</td>\n",
       "      <td>2846.988</td>\n",
       "      <td>5985230</td>\n",
       "      <td>-97.20882</td>\n",
       "    </tr>\n",
       "    <tr>\n",
       "      <th>24</th>\n",
       "      <td>0.273376</td>\n",
       "      <td>24.21518</td>\n",
       "      <td>2.528965</td>\n",
       "      <td>855.7981</td>\n",
       "      <td>421.5102</td>\n",
       "      <td>421.1969</td>\n",
       "      <td>2.427190</td>\n",
       "      <td>59.69944</td>\n",
       "      <td>1108.264</td>\n",
       "      <td>244.1227</td>\n",
       "      <td>...</td>\n",
       "      <td>2.358570</td>\n",
       "      <td>3315.470</td>\n",
       "      <td>190.6998</td>\n",
       "      <td>98945770</td>\n",
       "      <td>2433488</td>\n",
       "      <td>2198.663</td>\n",
       "      <td>5149610</td>\n",
       "      <td>2847.013</td>\n",
       "      <td>5985367</td>\n",
       "      <td>-97.20829</td>\n",
       "    </tr>\n",
       "    <tr>\n",
       "      <th>25</th>\n",
       "      <td>0.273371</td>\n",
       "      <td>24.21672</td>\n",
       "      <td>2.528986</td>\n",
       "      <td>855.7793</td>\n",
       "      <td>421.5104</td>\n",
       "      <td>421.1971</td>\n",
       "      <td>2.427212</td>\n",
       "      <td>59.69865</td>\n",
       "      <td>1108.260</td>\n",
       "      <td>244.1229</td>\n",
       "      <td>...</td>\n",
       "      <td>2.358573</td>\n",
       "      <td>3314.112</td>\n",
       "      <td>190.7011</td>\n",
       "      <td>98945960</td>\n",
       "      <td>2433497</td>\n",
       "      <td>2198.190</td>\n",
       "      <td>5149688</td>\n",
       "      <td>2847.040</td>\n",
       "      <td>5985504</td>\n",
       "      <td>-97.20776</td>\n",
       "    </tr>\n",
       "    <tr>\n",
       "      <th>26</th>\n",
       "      <td>0.273366</td>\n",
       "      <td>24.21827</td>\n",
       "      <td>2.529006</td>\n",
       "      <td>855.7606</td>\n",
       "      <td>421.5106</td>\n",
       "      <td>421.1972</td>\n",
       "      <td>2.427233</td>\n",
       "      <td>59.69786</td>\n",
       "      <td>1108.255</td>\n",
       "      <td>244.1232</td>\n",
       "      <td>...</td>\n",
       "      <td>2.358575</td>\n",
       "      <td>3312.753</td>\n",
       "      <td>190.7023</td>\n",
       "      <td>98946140</td>\n",
       "      <td>2433506</td>\n",
       "      <td>2197.718</td>\n",
       "      <td>5149766</td>\n",
       "      <td>2847.065</td>\n",
       "      <td>5985642</td>\n",
       "      <td>-97.20722</td>\n",
       "    </tr>\n",
       "    <tr>\n",
       "      <th>27</th>\n",
       "      <td>0.273361</td>\n",
       "      <td>24.21981</td>\n",
       "      <td>2.529027</td>\n",
       "      <td>855.7418</td>\n",
       "      <td>421.5108</td>\n",
       "      <td>421.1974</td>\n",
       "      <td>2.427254</td>\n",
       "      <td>59.69707</td>\n",
       "      <td>1108.250</td>\n",
       "      <td>244.1234</td>\n",
       "      <td>...</td>\n",
       "      <td>2.358578</td>\n",
       "      <td>3311.395</td>\n",
       "      <td>190.7036</td>\n",
       "      <td>98946340</td>\n",
       "      <td>2433515</td>\n",
       "      <td>2197.245</td>\n",
       "      <td>5149844</td>\n",
       "      <td>2847.092</td>\n",
       "      <td>5985779</td>\n",
       "      <td>-97.20669</td>\n",
       "    </tr>\n",
       "    <tr>\n",
       "      <th>28</th>\n",
       "      <td>0.273356</td>\n",
       "      <td>24.22135</td>\n",
       "      <td>2.529048</td>\n",
       "      <td>855.7230</td>\n",
       "      <td>421.5110</td>\n",
       "      <td>421.1975</td>\n",
       "      <td>2.427276</td>\n",
       "      <td>59.69627</td>\n",
       "      <td>1108.245</td>\n",
       "      <td>244.1236</td>\n",
       "      <td>...</td>\n",
       "      <td>2.358580</td>\n",
       "      <td>3310.036</td>\n",
       "      <td>190.7048</td>\n",
       "      <td>98946520</td>\n",
       "      <td>2433524</td>\n",
       "      <td>2196.772</td>\n",
       "      <td>5149922</td>\n",
       "      <td>2847.117</td>\n",
       "      <td>5985916</td>\n",
       "      <td>-97.20615</td>\n",
       "    </tr>\n",
       "    <tr>\n",
       "      <th>29</th>\n",
       "      <td>0.273351</td>\n",
       "      <td>24.22289</td>\n",
       "      <td>2.529069</td>\n",
       "      <td>855.7042</td>\n",
       "      <td>421.5112</td>\n",
       "      <td>421.1977</td>\n",
       "      <td>2.427297</td>\n",
       "      <td>59.69548</td>\n",
       "      <td>1108.241</td>\n",
       "      <td>244.1238</td>\n",
       "      <td>...</td>\n",
       "      <td>2.358583</td>\n",
       "      <td>3308.677</td>\n",
       "      <td>190.7061</td>\n",
       "      <td>98946710</td>\n",
       "      <td>2433533</td>\n",
       "      <td>2196.300</td>\n",
       "      <td>5150000</td>\n",
       "      <td>2847.144</td>\n",
       "      <td>5986054</td>\n",
       "      <td>-97.20562</td>\n",
       "    </tr>\n",
       "    <tr>\n",
       "      <th>30</th>\n",
       "      <td>0.273346</td>\n",
       "      <td>24.22443</td>\n",
       "      <td>2.529090</td>\n",
       "      <td>855.6855</td>\n",
       "      <td>421.5114</td>\n",
       "      <td>421.1978</td>\n",
       "      <td>2.427319</td>\n",
       "      <td>59.69469</td>\n",
       "      <td>1108.236</td>\n",
       "      <td>244.1240</td>\n",
       "      <td>...</td>\n",
       "      <td>2.358585</td>\n",
       "      <td>3307.319</td>\n",
       "      <td>190.7073</td>\n",
       "      <td>98946900</td>\n",
       "      <td>2433542</td>\n",
       "      <td>2195.827</td>\n",
       "      <td>5150078</td>\n",
       "      <td>2847.169</td>\n",
       "      <td>5986191</td>\n",
       "      <td>-97.20509</td>\n",
       "    </tr>\n",
       "    <tr>\n",
       "      <th>31</th>\n",
       "      <td>0.273341</td>\n",
       "      <td>24.22598</td>\n",
       "      <td>2.529111</td>\n",
       "      <td>855.6667</td>\n",
       "      <td>421.5116</td>\n",
       "      <td>421.1980</td>\n",
       "      <td>2.427341</td>\n",
       "      <td>59.69390</td>\n",
       "      <td>1108.231</td>\n",
       "      <td>244.1242</td>\n",
       "      <td>...</td>\n",
       "      <td>2.358588</td>\n",
       "      <td>3305.960</td>\n",
       "      <td>190.7086</td>\n",
       "      <td>98947090</td>\n",
       "      <td>2433551</td>\n",
       "      <td>2195.355</td>\n",
       "      <td>5150156</td>\n",
       "      <td>2847.195</td>\n",
       "      <td>5986328</td>\n",
       "      <td>-97.20455</td>\n",
       "    </tr>\n",
       "    <tr>\n",
       "      <th>32</th>\n",
       "      <td>0.273336</td>\n",
       "      <td>24.22752</td>\n",
       "      <td>2.529132</td>\n",
       "      <td>855.6479</td>\n",
       "      <td>421.5118</td>\n",
       "      <td>421.1981</td>\n",
       "      <td>2.427362</td>\n",
       "      <td>59.69310</td>\n",
       "      <td>1108.227</td>\n",
       "      <td>244.1245</td>\n",
       "      <td>...</td>\n",
       "      <td>2.358590</td>\n",
       "      <td>3304.602</td>\n",
       "      <td>190.7098</td>\n",
       "      <td>98947280</td>\n",
       "      <td>2433560</td>\n",
       "      <td>2194.882</td>\n",
       "      <td>5150234</td>\n",
       "      <td>2847.221</td>\n",
       "      <td>5986465</td>\n",
       "      <td>-97.20402</td>\n",
       "    </tr>\n",
       "    <tr>\n",
       "      <th>33</th>\n",
       "      <td>0.273331</td>\n",
       "      <td>24.22906</td>\n",
       "      <td>2.529153</td>\n",
       "      <td>855.6292</td>\n",
       "      <td>421.5120</td>\n",
       "      <td>421.1983</td>\n",
       "      <td>2.427383</td>\n",
       "      <td>59.69231</td>\n",
       "      <td>1108.222</td>\n",
       "      <td>244.1247</td>\n",
       "      <td>...</td>\n",
       "      <td>2.358593</td>\n",
       "      <td>3303.243</td>\n",
       "      <td>190.7111</td>\n",
       "      <td>98947470</td>\n",
       "      <td>2433569</td>\n",
       "      <td>2194.410</td>\n",
       "      <td>5150312</td>\n",
       "      <td>2847.247</td>\n",
       "      <td>5986603</td>\n",
       "      <td>-97.20348</td>\n",
       "    </tr>\n",
       "    <tr>\n",
       "      <th>34</th>\n",
       "      <td>0.273326</td>\n",
       "      <td>24.23060</td>\n",
       "      <td>2.529174</td>\n",
       "      <td>855.6104</td>\n",
       "      <td>421.5122</td>\n",
       "      <td>421.1984</td>\n",
       "      <td>2.427405</td>\n",
       "      <td>59.69152</td>\n",
       "      <td>1108.217</td>\n",
       "      <td>244.1249</td>\n",
       "      <td>...</td>\n",
       "      <td>2.358595</td>\n",
       "      <td>3301.885</td>\n",
       "      <td>190.7123</td>\n",
       "      <td>98947660</td>\n",
       "      <td>2433578</td>\n",
       "      <td>2193.937</td>\n",
       "      <td>5150390</td>\n",
       "      <td>2847.273</td>\n",
       "      <td>5986740</td>\n",
       "      <td>-97.20295</td>\n",
       "    </tr>\n",
       "    <tr>\n",
       "      <th>35</th>\n",
       "      <td>0.273320</td>\n",
       "      <td>24.23215</td>\n",
       "      <td>2.529195</td>\n",
       "      <td>855.5916</td>\n",
       "      <td>421.5124</td>\n",
       "      <td>421.1986</td>\n",
       "      <td>2.427426</td>\n",
       "      <td>59.69073</td>\n",
       "      <td>1108.212</td>\n",
       "      <td>244.1251</td>\n",
       "      <td>...</td>\n",
       "      <td>2.358598</td>\n",
       "      <td>3300.526</td>\n",
       "      <td>190.7136</td>\n",
       "      <td>98947850</td>\n",
       "      <td>2433587</td>\n",
       "      <td>2193.465</td>\n",
       "      <td>5150468</td>\n",
       "      <td>2847.299</td>\n",
       "      <td>5986877</td>\n",
       "      <td>-97.20242</td>\n",
       "    </tr>\n",
       "    <tr>\n",
       "      <th>36</th>\n",
       "      <td>0.273315</td>\n",
       "      <td>24.23369</td>\n",
       "      <td>2.529216</td>\n",
       "      <td>855.5729</td>\n",
       "      <td>421.5126</td>\n",
       "      <td>421.1987</td>\n",
       "      <td>2.427448</td>\n",
       "      <td>59.68993</td>\n",
       "      <td>1108.208</td>\n",
       "      <td>244.1253</td>\n",
       "      <td>...</td>\n",
       "      <td>2.358600</td>\n",
       "      <td>3299.168</td>\n",
       "      <td>190.7148</td>\n",
       "      <td>98948040</td>\n",
       "      <td>2433596</td>\n",
       "      <td>2192.992</td>\n",
       "      <td>5150546</td>\n",
       "      <td>2847.325</td>\n",
       "      <td>5987015</td>\n",
       "      <td>-97.20187</td>\n",
       "    </tr>\n",
       "    <tr>\n",
       "      <th>37</th>\n",
       "      <td>0.273310</td>\n",
       "      <td>24.23523</td>\n",
       "      <td>2.529237</td>\n",
       "      <td>855.5541</td>\n",
       "      <td>421.5128</td>\n",
       "      <td>421.1989</td>\n",
       "      <td>2.427469</td>\n",
       "      <td>59.68914</td>\n",
       "      <td>1108.203</td>\n",
       "      <td>244.1255</td>\n",
       "      <td>...</td>\n",
       "      <td>2.358603</td>\n",
       "      <td>3297.809</td>\n",
       "      <td>190.7161</td>\n",
       "      <td>98948220</td>\n",
       "      <td>2433605</td>\n",
       "      <td>2192.520</td>\n",
       "      <td>5150624</td>\n",
       "      <td>2847.351</td>\n",
       "      <td>5987152</td>\n",
       "      <td>-97.20134</td>\n",
       "    </tr>\n",
       "    <tr>\n",
       "      <th>38</th>\n",
       "      <td>0.273305</td>\n",
       "      <td>24.23677</td>\n",
       "      <td>2.529258</td>\n",
       "      <td>855.5353</td>\n",
       "      <td>421.5130</td>\n",
       "      <td>421.1990</td>\n",
       "      <td>2.427491</td>\n",
       "      <td>59.68835</td>\n",
       "      <td>1108.198</td>\n",
       "      <td>244.1257</td>\n",
       "      <td>...</td>\n",
       "      <td>2.358605</td>\n",
       "      <td>3296.451</td>\n",
       "      <td>190.7173</td>\n",
       "      <td>98948420</td>\n",
       "      <td>2433614</td>\n",
       "      <td>2192.047</td>\n",
       "      <td>5150702</td>\n",
       "      <td>2847.377</td>\n",
       "      <td>5987289</td>\n",
       "      <td>-97.20081</td>\n",
       "    </tr>\n",
       "    <tr>\n",
       "      <th>39</th>\n",
       "      <td>0.273300</td>\n",
       "      <td>24.23831</td>\n",
       "      <td>2.529279</td>\n",
       "      <td>855.5165</td>\n",
       "      <td>421.5132</td>\n",
       "      <td>421.1992</td>\n",
       "      <td>2.427512</td>\n",
       "      <td>59.68756</td>\n",
       "      <td>1108.194</td>\n",
       "      <td>244.1259</td>\n",
       "      <td>...</td>\n",
       "      <td>2.358608</td>\n",
       "      <td>3295.092</td>\n",
       "      <td>190.7186</td>\n",
       "      <td>98948600</td>\n",
       "      <td>2433623</td>\n",
       "      <td>2191.574</td>\n",
       "      <td>5150780</td>\n",
       "      <td>2847.403</td>\n",
       "      <td>5987426</td>\n",
       "      <td>-97.20027</td>\n",
       "    </tr>\n",
       "  </tbody>\n",
       "</table>\n",
       "<p>40 rows × 338 columns</p>\n",
       "</div>"
      ],
      "text/plain": [
       "    S-ZORB.CAL_H2.PV  S-ZORB.PDI_2102.PV  S-ZORB.PT_2801.PV  \\\n",
       "0           0.273498            24.17817           2.528462   \n",
       "1           0.273493            24.17971           2.528483   \n",
       "2           0.273488            24.18125           2.528504   \n",
       "3           0.273483            24.18279           2.528525   \n",
       "4           0.273478            24.18434           2.528546   \n",
       "5           0.273473            24.18588           2.528567   \n",
       "6           0.273468            24.18742           2.528588   \n",
       "7           0.273463            24.18896           2.528609   \n",
       "8           0.273457            24.19051           2.528630   \n",
       "9           0.273452            24.19205           2.528651   \n",
       "10          0.273447            24.19359           2.528672   \n",
       "11          0.273442            24.19513           2.528692   \n",
       "12          0.273437            24.19667           2.528713   \n",
       "13          0.273432            24.19822           2.528734   \n",
       "14          0.273427            24.19976           2.528755   \n",
       "15          0.273422            24.20130           2.528776   \n",
       "16          0.273417            24.20284           2.528797   \n",
       "17          0.273412            24.20439           2.528818   \n",
       "18          0.273407            24.20593           2.528839   \n",
       "19          0.273402            24.20747           2.528860   \n",
       "20          0.273397            24.20901           2.528881   \n",
       "21          0.273392            24.21055           2.528902   \n",
       "22          0.273386            24.21210           2.528923   \n",
       "23          0.273381            24.21364           2.528944   \n",
       "24          0.273376            24.21518           2.528965   \n",
       "25          0.273371            24.21672           2.528986   \n",
       "26          0.273366            24.21827           2.529006   \n",
       "27          0.273361            24.21981           2.529027   \n",
       "28          0.273356            24.22135           2.529048   \n",
       "29          0.273351            24.22289           2.529069   \n",
       "30          0.273346            24.22443           2.529090   \n",
       "31          0.273341            24.22598           2.529111   \n",
       "32          0.273336            24.22752           2.529132   \n",
       "33          0.273331            24.22906           2.529153   \n",
       "34          0.273326            24.23060           2.529174   \n",
       "35          0.273320            24.23215           2.529195   \n",
       "36          0.273315            24.23369           2.529216   \n",
       "37          0.273310            24.23523           2.529237   \n",
       "38          0.273305            24.23677           2.529258   \n",
       "39          0.273300            24.23831           2.529279   \n",
       "\n",
       "    S-ZORB.FC_2801.PV  S-ZORB.TE_2103.PV  S-ZORB.TE_2005.PV  \\\n",
       "0            856.2485           421.5055           421.1933   \n",
       "1            856.2297           421.5057           421.1934   \n",
       "2            856.2109           421.5059           421.1936   \n",
       "3            856.1922           421.5061           421.1937   \n",
       "4            856.1734           421.5063           421.1939   \n",
       "5            856.1547           421.5065           421.1940   \n",
       "6            856.1359           421.5067           421.1942   \n",
       "7            856.1171           421.5069           421.1943   \n",
       "8            856.0983           421.5070           421.1945   \n",
       "9            856.0796           421.5073           421.1946   \n",
       "10           856.0608           421.5074           421.1948   \n",
       "11           856.0421           421.5077           421.1949   \n",
       "12           856.0233           421.5078           421.1951   \n",
       "13           856.0045           421.5080           421.1953   \n",
       "14           855.9857           421.5082           421.1954   \n",
       "15           855.9670           421.5084           421.1956   \n",
       "16           855.9482           421.5086           421.1957   \n",
       "17           855.9294           421.5088           421.1959   \n",
       "18           855.9106           421.5090           421.1960   \n",
       "19           855.8919           421.5092           421.1962   \n",
       "20           855.8732           421.5094           421.1963   \n",
       "21           855.8544           421.5096           421.1965   \n",
       "22           855.8356           421.5098           421.1966   \n",
       "23           855.8168           421.5100           421.1968   \n",
       "24           855.7981           421.5102           421.1969   \n",
       "25           855.7793           421.5104           421.1971   \n",
       "26           855.7606           421.5106           421.1972   \n",
       "27           855.7418           421.5108           421.1974   \n",
       "28           855.7230           421.5110           421.1975   \n",
       "29           855.7042           421.5112           421.1977   \n",
       "30           855.6855           421.5114           421.1978   \n",
       "31           855.6667           421.5116           421.1980   \n",
       "32           855.6479           421.5118           421.1981   \n",
       "33           855.6292           421.5120           421.1983   \n",
       "34           855.6104           421.5122           421.1984   \n",
       "35           855.5916           421.5124           421.1986   \n",
       "36           855.5729           421.5126           421.1987   \n",
       "37           855.5541           421.5128           421.1989   \n",
       "38           855.5353           421.5130           421.1990   \n",
       "39           855.5165           421.5132           421.1992   \n",
       "\n",
       "    S-ZORB.PT_2101.PV  S-ZORB.PDT_2104.PV  S-ZORB.SIS_PDT_2103B.PV  \\\n",
       "0            2.426675            59.71847                 1108.377   \n",
       "1            2.426696            59.71767                 1108.372   \n",
       "2            2.426718            59.71688                 1108.368   \n",
       "3            2.426739            59.71609                 1108.363   \n",
       "4            2.426760            59.71530                 1108.358   \n",
       "5            2.426782            59.71450                 1108.354   \n",
       "6            2.426803            59.71371                 1108.349   \n",
       "7            2.426825            59.71292                 1108.344   \n",
       "8            2.426847            59.71213                 1108.339   \n",
       "9            2.426868            59.71133                 1108.335   \n",
       "10           2.426889            59.71054                 1108.330   \n",
       "11           2.426911            59.70975                 1108.325   \n",
       "12           2.426932            59.70896                 1108.321   \n",
       "13           2.426954            59.70816                 1108.316   \n",
       "14           2.426975            59.70737                 1108.311   \n",
       "15           2.426997            59.70658                 1108.307   \n",
       "16           2.427018            59.70579                 1108.302   \n",
       "17           2.427040            59.70499                 1108.297   \n",
       "18           2.427061            59.70420                 1108.292   \n",
       "19           2.427083            59.70341                 1108.288   \n",
       "20           2.427104            59.70261                 1108.283   \n",
       "21           2.427126            59.70182                 1108.278   \n",
       "22           2.427147            59.70103                 1108.274   \n",
       "23           2.427169            59.70024                 1108.269   \n",
       "24           2.427190            59.69944                 1108.264   \n",
       "25           2.427212            59.69865                 1108.260   \n",
       "26           2.427233            59.69786                 1108.255   \n",
       "27           2.427254            59.69707                 1108.250   \n",
       "28           2.427276            59.69627                 1108.245   \n",
       "29           2.427297            59.69548                 1108.241   \n",
       "30           2.427319            59.69469                 1108.236   \n",
       "31           2.427341            59.69390                 1108.231   \n",
       "32           2.427362            59.69310                 1108.227   \n",
       "33           2.427383            59.69231                 1108.222   \n",
       "34           2.427405            59.69152                 1108.217   \n",
       "35           2.427426            59.69073                 1108.212   \n",
       "36           2.427448            59.68993                 1108.208   \n",
       "37           2.427469            59.68914                 1108.203   \n",
       "38           2.427491            59.68835                 1108.198   \n",
       "39           2.427512            59.68756                 1108.194   \n",
       "\n",
       "    S-ZORB.TC_2101.PV  ...  S-ZORB.CAL_1.CANGLIANG.PV  S-ZORB.FT_1006.DACA.PV  \\\n",
       "0            244.1175  ...                   2.358511                3348.074   \n",
       "1            244.1178  ...                   2.358513                3346.716   \n",
       "2            244.1180  ...                   2.358516                3345.357   \n",
       "3            244.1182  ...                   2.358518                3343.999   \n",
       "4            244.1184  ...                   2.358521                3342.640   \n",
       "5            244.1186  ...                   2.358523                3341.281   \n",
       "6            244.1188  ...                   2.358526                3339.923   \n",
       "7            244.1190  ...                   2.358528                3338.564   \n",
       "8            244.1193  ...                   2.358531                3337.206   \n",
       "9            244.1195  ...                   2.358533                3335.848   \n",
       "10           244.1197  ...                   2.358536                3334.489   \n",
       "11           244.1199  ...                   2.358538                3333.131   \n",
       "12           244.1201  ...                   2.358541                3331.772   \n",
       "13           244.1203  ...                   2.358543                3330.414   \n",
       "14           244.1206  ...                   2.358546                3329.055   \n",
       "15           244.1208  ...                   2.358548                3327.697   \n",
       "16           244.1210  ...                   2.358551                3326.338   \n",
       "17           244.1212  ...                   2.358553                3324.979   \n",
       "18           244.1214  ...                   2.358556                3323.621   \n",
       "19           244.1216  ...                   2.358558                3322.262   \n",
       "20           244.1219  ...                   2.358561                3320.904   \n",
       "21           244.1221  ...                   2.358563                3319.545   \n",
       "22           244.1223  ...                   2.358566                3318.187   \n",
       "23           244.1225  ...                   2.358568                3316.828   \n",
       "24           244.1227  ...                   2.358570                3315.470   \n",
       "25           244.1229  ...                   2.358573                3314.112   \n",
       "26           244.1232  ...                   2.358575                3312.753   \n",
       "27           244.1234  ...                   2.358578                3311.395   \n",
       "28           244.1236  ...                   2.358580                3310.036   \n",
       "29           244.1238  ...                   2.358583                3308.677   \n",
       "30           244.1240  ...                   2.358585                3307.319   \n",
       "31           244.1242  ...                   2.358588                3305.960   \n",
       "32           244.1245  ...                   2.358590                3304.602   \n",
       "33           244.1247  ...                   2.358593                3303.243   \n",
       "34           244.1249  ...                   2.358595                3301.885   \n",
       "35           244.1251  ...                   2.358598                3300.526   \n",
       "36           244.1253  ...                   2.358600                3299.168   \n",
       "37           244.1255  ...                   2.358603                3297.809   \n",
       "38           244.1257  ...                   2.358605                3296.451   \n",
       "39           244.1259  ...                   2.358608                3295.092   \n",
       "\n",
       "    S-ZORB.FT_5204.DACA.PV  S-ZORB.FT_1006.TOTALIZERA.PV  \\\n",
       "0                 190.6698                      98941230   \n",
       "1                 190.6711                      98941420   \n",
       "2                 190.6723                      98941610   \n",
       "3                 190.6736                      98941800   \n",
       "4                 190.6748                      98941980   \n",
       "5                 190.6761                      98942180   \n",
       "6                 190.6773                      98942370   \n",
       "7                 190.6786                      98942550   \n",
       "8                 190.6798                      98942740   \n",
       "9                 190.6811                      98942930   \n",
       "10                190.6823                      98943120   \n",
       "11                190.6836                      98943310   \n",
       "12                190.6848                      98943500   \n",
       "13                190.6861                      98943690   \n",
       "14                190.6873                      98943880   \n",
       "15                190.6886                      98944060   \n",
       "16                190.6898                      98944260   \n",
       "17                190.6911                      98944440   \n",
       "18                190.6923                      98944630   \n",
       "19                190.6936                      98944820   \n",
       "20                190.6948                      98945010   \n",
       "21                190.6961                      98945200   \n",
       "22                190.6973                      98945390   \n",
       "23                190.6986                      98945580   \n",
       "24                190.6998                      98945770   \n",
       "25                190.7011                      98945960   \n",
       "26                190.7023                      98946140   \n",
       "27                190.7036                      98946340   \n",
       "28                190.7048                      98946520   \n",
       "29                190.7061                      98946710   \n",
       "30                190.7073                      98946900   \n",
       "31                190.7086                      98947090   \n",
       "32                190.7098                      98947280   \n",
       "33                190.7111                      98947470   \n",
       "34                190.7123                      98947660   \n",
       "35                190.7136                      98947850   \n",
       "36                190.7148                      98948040   \n",
       "37                190.7161                      98948220   \n",
       "38                190.7173                      98948420   \n",
       "39                190.7186                      98948600   \n",
       "\n",
       "    S-ZORB.FT_5204.TOTALIZERA.PV  S-ZORB.FT_1503.DACA.PV  \\\n",
       "0                        2433273                2210.004   \n",
       "1                        2433282                2209.531   \n",
       "2                        2433291                2209.059   \n",
       "3                        2433300                2208.586   \n",
       "4                        2433309                2208.114   \n",
       "5                        2433318                2207.641   \n",
       "6                        2433327                2207.168   \n",
       "7                        2433336                2206.696   \n",
       "8                        2433345                2206.223   \n",
       "9                        2433354                2205.751   \n",
       "10                       2433363                2205.278   \n",
       "11                       2433372                2204.806   \n",
       "12                       2433381                2204.333   \n",
       "13                       2433390                2203.861   \n",
       "14                       2433399                2203.388   \n",
       "15                       2433408                2202.916   \n",
       "16                       2433417                2202.443   \n",
       "17                       2433426                2201.970   \n",
       "18                       2433435                2201.498   \n",
       "19                       2433444                2201.025   \n",
       "20                       2433452                2200.553   \n",
       "21                       2433461                2200.080   \n",
       "22                       2433470                2199.608   \n",
       "23                       2433479                2199.135   \n",
       "24                       2433488                2198.663   \n",
       "25                       2433497                2198.190   \n",
       "26                       2433506                2197.718   \n",
       "27                       2433515                2197.245   \n",
       "28                       2433524                2196.772   \n",
       "29                       2433533                2196.300   \n",
       "30                       2433542                2195.827   \n",
       "31                       2433551                2195.355   \n",
       "32                       2433560                2194.882   \n",
       "33                       2433569                2194.410   \n",
       "34                       2433578                2193.937   \n",
       "35                       2433587                2193.465   \n",
       "36                       2433596                2192.992   \n",
       "37                       2433605                2192.520   \n",
       "38                       2433614                2192.047   \n",
       "39                       2433623                2191.574   \n",
       "\n",
       "    S-ZORB.FT_1503.TOTALIZERA.PV  S-ZORB.FT_1504.DACA.PV  \\\n",
       "0                        5147738                2846.390   \n",
       "1                        5147816                2846.416   \n",
       "2                        5147894                2846.442   \n",
       "3                        5147972                2846.468   \n",
       "4                        5148050                2846.494   \n",
       "5                        5148128                2846.520   \n",
       "6                        5148206                2846.546   \n",
       "7                        5148284                2846.572   \n",
       "8                        5148362                2846.598   \n",
       "9                        5148440                2846.624   \n",
       "10                       5148518                2846.650   \n",
       "11                       5148596                2846.676   \n",
       "12                       5148674                2846.702   \n",
       "13                       5148752                2846.728   \n",
       "14                       5148830                2846.754   \n",
       "15                       5148908                2846.780   \n",
       "16                       5148986                2846.806   \n",
       "17                       5149064                2846.832   \n",
       "18                       5149142                2846.857   \n",
       "19                       5149220                2846.884   \n",
       "20                       5149298                2846.909   \n",
       "21                       5149376                2846.936   \n",
       "22                       5149454                2846.961   \n",
       "23                       5149532                2846.988   \n",
       "24                       5149610                2847.013   \n",
       "25                       5149688                2847.040   \n",
       "26                       5149766                2847.065   \n",
       "27                       5149844                2847.092   \n",
       "28                       5149922                2847.117   \n",
       "29                       5150000                2847.144   \n",
       "30                       5150078                2847.169   \n",
       "31                       5150156                2847.195   \n",
       "32                       5150234                2847.221   \n",
       "33                       5150312                2847.247   \n",
       "34                       5150390                2847.273   \n",
       "35                       5150468                2847.299   \n",
       "36                       5150546                2847.325   \n",
       "37                       5150624                2847.351   \n",
       "38                       5150702                2847.377   \n",
       "39                       5150780                2847.403   \n",
       "\n",
       "    S-ZORB.FT_1504.TOTALIZERA.PV  S-ZORB.PC_1001A.PV  \n",
       "0                        5982072           -97.22112  \n",
       "1                        5982209           -97.22059  \n",
       "2                        5982347           -97.22005  \n",
       "3                        5982484           -97.21952  \n",
       "4                        5982621           -97.21899  \n",
       "5                        5982759           -97.21845  \n",
       "6                        5982896           -97.21791  \n",
       "7                        5983033           -97.21738  \n",
       "8                        5983171           -97.21684  \n",
       "9                        5983308           -97.21631  \n",
       "10                       5983445           -97.21577  \n",
       "11                       5983582           -97.21524  \n",
       "12                       5983720           -97.21471  \n",
       "13                       5983857           -97.21417  \n",
       "14                       5983994           -97.21364  \n",
       "15                       5984132           -97.21310  \n",
       "16                       5984269           -97.21257  \n",
       "17                       5984406           -97.21204  \n",
       "18                       5984543           -97.21150  \n",
       "19                       5984681           -97.21097  \n",
       "20                       5984818           -97.21043  \n",
       "21                       5984955           -97.20989  \n",
       "22                       5985093           -97.20936  \n",
       "23                       5985230           -97.20882  \n",
       "24                       5985367           -97.20829  \n",
       "25                       5985504           -97.20776  \n",
       "26                       5985642           -97.20722  \n",
       "27                       5985779           -97.20669  \n",
       "28                       5985916           -97.20615  \n",
       "29                       5986054           -97.20562  \n",
       "30                       5986191           -97.20509  \n",
       "31                       5986328           -97.20455  \n",
       "32                       5986465           -97.20402  \n",
       "33                       5986603           -97.20348  \n",
       "34                       5986740           -97.20295  \n",
       "35                       5986877           -97.20242  \n",
       "36                       5987015           -97.20187  \n",
       "37                       5987152           -97.20134  \n",
       "38                       5987289           -97.20081  \n",
       "39                       5987426           -97.20027  \n",
       "\n",
       "[40 rows x 338 columns]"
      ]
     },
     "execution_count": 113,
     "metadata": {},
     "output_type": "execute_result"
    }
   ],
   "source": [
    "w_285"
   ]
  },
  {
   "cell_type": "code",
   "execution_count": 150,
   "metadata": {},
   "outputs": [],
   "source": [
    "w_285 = pd.read_csv(r\"C:\\Users\\Administrator\\Desktop\\285_02.csv\")"
   ]
  },
  {
   "cell_type": "code",
   "execution_count": 151,
   "metadata": {},
   "outputs": [
    {
     "name": "stdout",
     "output_type": "stream",
     "text": [
      "不在操作范围元素个数200,行数40,列数5 \n",
      " 列名['S-ZORB.FC_1101.TOTAL', 'S-ZORB.SIS_LT_1001.PV', 'S-ZORB.AI_2903.PV', 'S-ZORB.FT_5201.PV', 'S-ZORB.FT_1204.TOTAL']\n"
     ]
    }
   ],
   "source": [
    "k = 0\n",
    "k_i = []\n",
    "k_j = []\n",
    "for j in range(w_285.shape[1]):\n",
    "    for i in range(w_285.shape[0]):\n",
    "        if w_285.iloc[i,j] < y_285.iloc[j,3] or w_285.iloc[i,j] > y_285.iloc[j,4]:\n",
    "            w_285.iloc[i,j] = np.nan\n",
    "            k_j.append(w_285.columns[j])\n",
    "            k_i.append(w_285.index[i])\n",
    "            k+=1\n",
    "v_i = list(set(k_i))\n",
    "v_j = list(set(k_j))\n",
    "print(\"不在操作范围元素个数{},行数{},列数{} \\n 列名{}\".format(k,len(v_i),len(v_j),v_j))"
   ]
  },
  {
   "cell_type": "code",
   "execution_count": 153,
   "metadata": {},
   "outputs": [
    {
     "name": "stdout",
     "output_type": "stream",
     "text": [
      "列名S-ZORB.FC_1101.TOTAL,有超出范围的值有40个\n",
      "列名S-ZORB.SIS_LT_1001.PV,有超出范围的值有40个\n",
      "列名S-ZORB.AI_2903.PV,有超出范围的值有40个\n",
      "列名S-ZORB.FT_5201.PV,有超出范围的值有40个\n",
      "列名S-ZORB.FT_1204.TOTAL,有超出范围的值有40个\n"
     ]
    }
   ],
   "source": [
    "col = v_j\n",
    "for i in col:\n",
    "    w = w_285.loc[:,i]\n",
    "    print(\"列名{},有超出范围的值有{}个\".format(i,np.isnan(w).sum()))"
   ]
  },
  {
   "cell_type": "code",
   "execution_count": 180,
   "metadata": {
    "collapsed": true,
    "jupyter": {
     "outputs_hidden": true
    }
   },
   "outputs": [
    {
     "name": "stdout",
     "output_type": "stream",
     "text": [
      "不在操作范围元素个数283,行数40,列数27 \n",
      " 列名['S-ZORB.PDI_2301.DACA', 'S-ZORB.PC_2401B.DACA', 'S-ZORB.AT-0006.DACA.PV', 'S-ZORB.FT_9402.PV', 'S-ZORB.PC_2401.DACA', 'S-ZORB.FC_2501.PV', 'S-ZORB.BS_LT_2401.PV', 'S-ZORB.AT_5201.PV', 'S-ZORB.PC_2401.PIDA.OP', 'S-ZORB.SIS_LT_1001.PV', 'S-ZORB.AI_2903.PV', 'S-ZORB.PC_2401B.PIDA.SP', 'S-ZORB.PC_2401B.PIDA.OP', 'S-ZORB.PT_2502.DACA', 'S-ZORB.PDC_2502.PV', 'S-ZORB.PDT_2409.DACA', 'S-ZORB.PT_9403.PV', 'S-ZORB.AT-0012.DACA.PV', 'S-ZORB.PDI_2801.DACA', 'S-ZORB.TE_1603.DACA', 'S-ZORB.PC_2401.PIDA.SP', 'S-ZORB.PT_2501.DACA', 'S-ZORB.PC_6001.PV', 'S-ZORB.PC_3101.DACA', 'S-ZORB.PDC_2607.PV', 'S-ZORB.PT_6002.PV', 'S-ZORB.FT_1204.TOTAL']\n",
      "列名S-ZORB.PDI_2301.DACA,有超出范围的值有3个\n",
      "列名S-ZORB.PC_2401B.DACA,有超出范围的值有3个\n",
      "列名S-ZORB.AT-0006.DACA.PV,有超出范围的值有7个\n",
      "列名S-ZORB.FT_9402.PV,有超出范围的值有1个\n",
      "列名S-ZORB.PC_2401.DACA,有超出范围的值有4个\n",
      "列名S-ZORB.FC_2501.PV,有超出范围的值有4个\n",
      "列名S-ZORB.BS_LT_2401.PV,有超出范围的值有14个\n",
      "列名S-ZORB.AT_5201.PV,有超出范围的值有39个\n",
      "列名S-ZORB.PC_2401.PIDA.OP,有超出范围的值有7个\n",
      "列名S-ZORB.SIS_LT_1001.PV,有超出范围的值有40个\n",
      "列名S-ZORB.AI_2903.PV,有超出范围的值有40个\n",
      "列名S-ZORB.PC_2401B.PIDA.SP,有超出范围的值有3个\n",
      "列名S-ZORB.PC_2401B.PIDA.OP,有超出范围的值有4个\n",
      "列名S-ZORB.PT_2502.DACA,有超出范围的值有10个\n",
      "列名S-ZORB.PDC_2502.PV,有超出范围的值有20个\n",
      "列名S-ZORB.PDT_2409.DACA,有超出范围的值有2个\n",
      "列名S-ZORB.PT_9403.PV,有超出范围的值有3个\n",
      "列名S-ZORB.AT-0012.DACA.PV,有超出范围的值有3个\n",
      "列名S-ZORB.PDI_2801.DACA,有超出范围的值有3个\n",
      "列名S-ZORB.TE_1603.DACA,有超出范围的值有9个\n",
      "列名S-ZORB.PC_2401.PIDA.SP,有超出范围的值有6个\n",
      "列名S-ZORB.PT_2501.DACA,有超出范围的值有8个\n",
      "列名S-ZORB.PC_6001.PV,有超出范围的值有2个\n",
      "列名S-ZORB.PC_3101.DACA,有超出范围的值有1个\n",
      "列名S-ZORB.PDC_2607.PV,有超出范围的值有2个\n",
      "列名S-ZORB.PT_6002.PV,有超出范围的值有5个\n",
      "列名S-ZORB.FT_1204.TOTAL,有超出范围的值有40个\n",
      "不在操作范围内大于5的列名['S-ZORB.AT-0006.DACA.PV', 'S-ZORB.BS_LT_2401.PV', 'S-ZORB.AT_5201.PV', 'S-ZORB.PC_2401.PIDA.OP', 'S-ZORB.SIS_LT_1001.PV', 'S-ZORB.AI_2903.PV', 'S-ZORB.PT_2502.DACA', 'S-ZORB.PDC_2502.PV', 'S-ZORB.TE_1603.DACA', 'S-ZORB.PC_2401.PIDA.SP', 'S-ZORB.PT_2501.DACA', 'S-ZORB.FT_1204.TOTAL'],有12个\n"
     ]
    },
    {
     "data": {
      "text/plain": [
       "(40, 331)"
      ]
     },
     "execution_count": 180,
     "metadata": {},
     "output_type": "execute_result"
    }
   ],
   "source": [
    "w_313 = pd.read_csv(r\"C:\\Users\\Administrator\\Desktop\\313_02.csv\")\n",
    "w_313 = w_313.drop(columns = \"id\")\n",
    "y_313 = pd.read_csv(r\"C:\\Users\\Administrator\\Desktop\\313_range_918_11.csv\" )\n",
    "k = 0\n",
    "k_i = []\n",
    "k_j = []\n",
    "missing = []\n",
    "for j in range(w_313.shape[1]):\n",
    "    for i in range(w_313.shape[0]):\n",
    "        if w_313.iloc[i,j] < y_313.iloc[j,4] or w_313.iloc[i,j] > y_313.iloc[j,5]:\n",
    "            w_313.iloc[i,j] = np.nan\n",
    "            k_j.append(w_313.columns[j])\n",
    "            k_i.append(w_313.index[i])\n",
    "            k+=1\n",
    "v_i = list(set(k_i))\n",
    "v_j = list(set(k_j))\n",
    "print(\"不在操作范围元素个数{},行数{},列数{} \\n 列名{}\".format(k,len(v_i),len(v_j),v_j))\n",
    "col = v_j\n",
    "\n",
    "for j in col:\n",
    "    w = w_313.loc[:,j]\n",
    "    h = np.isnan(w).sum()\n",
    "    print(\"列名{},有超出范围的值有{}个\".format(j,h))\n",
    "    if h > 5:\n",
    "        missing.append(j)\n",
    "print(\"不在操作范围内大于5的列名{},有{}个\".format(missing,len(missing)))\n",
    "\n",
    "w_313_copy = w_313\n",
    "w_313_copy.shape\n",
    "for i in missing:\n",
    "    w_313_copy.drop(columns = i , inplace = True)\n",
    "w_313_copy.shape"
   ]
  },
  {
   "cell_type": "code",
   "execution_count": 181,
   "metadata": {},
   "outputs": [],
   "source": [
    "from sklearn.preprocessing import StandardScaler\n",
    "scaler = StandardScaler()\n",
    "scaler.fit(w_313_copy)\n",
    "scaler.mean_\n",
    "scaler.var_\n",
    "w_313_copy_std = scaler.transform(w_313_copy)\n",
    "w_313_copy_std = pd.DataFrame(w_313_copy_std , columns = w_313_copy.columns)"
   ]
  },
  {
   "cell_type": "code",
   "execution_count": 178,
   "metadata": {
    "collapsed": true,
    "jupyter": {
     "outputs_hidden": true
    }
   },
   "outputs": [
    {
     "name": "stdout",
     "output_type": "stream",
     "text": [
      "异常值元素个数63,行数26,列数50 \n",
      " 列名['S-ZORB.LT_1501.DACA', 'S-ZORB.FC_3101.PV', 'S-ZORB.PT_6003.DACA', 'S-ZORB.PC_1301.PV', 'S-ZORB.PT_2106.DACA', 'S-ZORB.AT-0011.DACA.PV', 'S-ZORB.PC_2105.PV', 'S-ZORB.FT_9102.PV', 'S-ZORB.LT_1002.DACA', 'S-ZORB.PT_1101.DACA', 'S-ZORB.PT_2106.DACA.PV', 'S-ZORB.PT_1201.PV', 'S-ZORB.TE_1101.DACA', 'S-ZORB.FC_1202.PV', 'S-ZORB.PC_2401B.PIDA.OP', 'S-ZORB.FT_1204.DACA.PV', 'S-ZORB.AT-0013.DACA.PV', 'S-ZORB.PDT_2409.DACA', 'S-ZORB.AT-0010.DACA.PV', 'S-ZORB.TE_5008.DACA', 'S-ZORB.TE_1106.DACA.PV', 'S-ZORB.PT_2607.DACA', 'S-ZORB.PDT_1003.DACA', 'S-ZORB.FC_1203.PV', 'S-ZORB.TE_1107.DACA', 'S-ZORB.ZT_2634.DACA', 'S-ZORB.PDT_3502.DACA', 'S-ZORB.PT_1601.DACA', 'S-ZORB.PDT_2606.DACA', 'S-ZORB.PT_7107B.DACA', 'S-ZORB.PDT_2503.DACA', 'S-ZORB.CAL.LINE.PV', 'S-ZORB.PT_2101.PV', 'S-ZORB.FC_3103.PV', 'S-ZORB.PC_1202.PV', 'S-ZORB.PT_7510B.DACA', 'S-ZORB.PT_7505B.DACA', 'S-ZORB.PDC_2607.PV', 'S-ZORB.TE_1101.DACA.PV', 'S-ZORB.PT_6002.PV', 'S-ZORB.PT_9402.PV', 'S-ZORB.AC_6001.PV', 'S-ZORB.FT_1204.PV', 'S-ZORB.FT_3702.DACA', 'S-ZORB.FT_9302.PV', 'S-ZORB.TE_1107.DACA.PV', 'S-ZORB.TE_1106.DACA', 'S-ZORB.FT_9401.PV', 'S-ZORB.FC_2801.PV', 'S-ZORB.PT_7103B.DACA']\n",
      "列名S-ZORB.LT_1501.DACA,有异常值3个\n",
      "列名S-ZORB.FC_3101.PV,有异常值1个\n",
      "列名S-ZORB.PT_6003.DACA,有异常值1个\n",
      "列名S-ZORB.PC_1301.PV,有异常值1个\n",
      "列名S-ZORB.PT_2106.DACA,有异常值2个\n",
      "列名S-ZORB.AT-0011.DACA.PV,有异常值1个\n",
      "列名S-ZORB.PC_2105.PV,有异常值2个\n",
      "列名S-ZORB.FT_9102.PV,有异常值2个\n",
      "列名S-ZORB.LT_1002.DACA,有异常值1个\n",
      "列名S-ZORB.PT_1101.DACA,有异常值1个\n",
      "列名S-ZORB.PT_2106.DACA.PV,有异常值2个\n",
      "列名S-ZORB.PT_1201.PV,有异常值2个\n",
      "列名S-ZORB.TE_1101.DACA,有异常值1个\n",
      "列名S-ZORB.FC_1202.PV,有异常值1个\n",
      "列名S-ZORB.PC_2401B.PIDA.OP,有异常值6个\n",
      "列名S-ZORB.FT_1204.DACA.PV,有异常值1个\n",
      "列名S-ZORB.AT-0013.DACA.PV,有异常值2个\n",
      "列名S-ZORB.PDT_2409.DACA,有异常值3个\n",
      "列名S-ZORB.AT-0010.DACA.PV,有异常值1个\n",
      "列名S-ZORB.TE_5008.DACA,有异常值1个\n",
      "列名S-ZORB.TE_1106.DACA.PV,有异常值1个\n",
      "列名S-ZORB.PT_2607.DACA,有异常值1个\n",
      "列名S-ZORB.PDT_1003.DACA,有异常值1个\n",
      "列名S-ZORB.FC_1203.PV,有异常值1个\n",
      "列名S-ZORB.TE_1107.DACA,有异常值1个\n",
      "列名S-ZORB.ZT_2634.DACA,有异常值2个\n",
      "列名S-ZORB.PDT_3502.DACA,有异常值1个\n",
      "列名S-ZORB.PT_1601.DACA,有异常值1个\n",
      "列名S-ZORB.PDT_2606.DACA,有异常值2个\n",
      "列名S-ZORB.PT_7107B.DACA,有异常值1个\n",
      "列名S-ZORB.PDT_2503.DACA,有异常值1个\n",
      "列名S-ZORB.CAL.LINE.PV,有异常值1个\n",
      "列名S-ZORB.PT_2101.PV,有异常值1个\n",
      "列名S-ZORB.FC_3103.PV,有异常值1个\n",
      "列名S-ZORB.PC_1202.PV,有异常值2个\n",
      "列名S-ZORB.PT_7510B.DACA,有异常值1个\n",
      "列名S-ZORB.PT_7505B.DACA,有异常值1个\n",
      "列名S-ZORB.PDC_2607.PV,有异常值4个\n",
      "列名S-ZORB.TE_1101.DACA.PV,有异常值1个\n",
      "列名S-ZORB.PT_6002.PV,有异常值6个\n",
      "列名S-ZORB.PT_9402.PV,有异常值1个\n",
      "列名S-ZORB.AC_6001.PV,有异常值1个\n",
      "列名S-ZORB.FT_1204.PV,有异常值1个\n",
      "列名S-ZORB.FT_3702.DACA,有异常值1个\n",
      "列名S-ZORB.FT_9302.PV,有异常值1个\n",
      "列名S-ZORB.TE_1107.DACA.PV,有异常值1个\n",
      "列名S-ZORB.TE_1106.DACA,有异常值1个\n",
      "列名S-ZORB.FT_9401.PV,有异常值1个\n",
      "列名S-ZORB.FC_2801.PV,有异常值1个\n",
      "列名S-ZORB.PT_7103B.DACA,有异常值1个\n"
     ]
    }
   ],
   "source": [
    "k = 0\n",
    "k_i = []\n",
    "k_j = []\n",
    "missing = []\n",
    "for j in range(w_313_copy_std.shape[1]):\n",
    "    for i in range(w_313_copy_std.shape[0]):\n",
    "        if w_313_copy_std.iloc[i,j] < -3 or w_313_copy_std.iloc[i,j] > 3:\n",
    "            w_313_copy.iloc[i,j] = np.nan\n",
    "            k_j.append(w_313_copy_std.columns[j])\n",
    "            k_i.append(w_313_copy_std.index[i])\n",
    "            k+=1\n",
    "v_i = list(set(k_i))\n",
    "v_j = list(set(k_j))\n",
    "print(\"异常值元素个数{},行数{},列数{} \\n 列名{}\".format(k,len(v_i),len(v_j),v_j))\n",
    "col = v_j\n",
    "for j in col:\n",
    "    w = w_313_copy_std.loc[:,j]\n",
    "    h = np.isnan(w).sum()\n",
    "    print(\"列名{},有异常值{}个\".format(j,h))"
   ]
  },
  {
   "cell_type": "code",
   "execution_count": null,
   "metadata": {},
   "outputs": [],
   "source": []
  },
  {
   "cell_type": "code",
   "execution_count": 183,
   "metadata": {
    "collapsed": true,
    "jupyter": {
     "outputs_hidden": true
    }
   },
   "outputs": [
    {
     "data": {
      "text/plain": [
       "[[37, 3],\n",
       " [38, 6],\n",
       " [20, 13],\n",
       " [21, 13],\n",
       " [3, 34],\n",
       " [7, 37],\n",
       " [0, 38],\n",
       " [23, 54],\n",
       " [7, 57],\n",
       " [37, 60],\n",
       " [11, 61],\n",
       " [38, 61],\n",
       " [4, 67],\n",
       " [4, 68],\n",
       " [11, 69],\n",
       " [38, 69],\n",
       " [12, 71],\n",
       " [32, 72],\n",
       " [26, 79],\n",
       " [32, 79],\n",
       " [38, 80],\n",
       " [39, 80],\n",
       " [23, 101],\n",
       " [3, 107],\n",
       " [3, 111],\n",
       " [3, 113],\n",
       " [5, 130],\n",
       " [17, 130],\n",
       " [25, 130],\n",
       " [24, 146],\n",
       " [37, 154],\n",
       " [37, 178],\n",
       " [26, 195],\n",
       " [13, 205],\n",
       " [32, 209],\n",
       " [32, 210],\n",
       " [34, 210],\n",
       " [26, 211],\n",
       " [32, 211],\n",
       " [19, 224],\n",
       " [37, 224],\n",
       " [2, 226],\n",
       " [4, 228],\n",
       " [36, 230],\n",
       " [20, 236],\n",
       " [21, 236],\n",
       " [15, 238],\n",
       " [13, 246],\n",
       " [37, 256],\n",
       " [38, 257],\n",
       " [12, 268],\n",
       " [31, 281],\n",
       " [9, 297],\n",
       " [32, 298],\n",
       " [3, 300],\n",
       " [34, 300],\n",
       " [20, 303],\n",
       " [21, 303],\n",
       " [23, 306],\n",
       " [3, 313],\n",
       " [3, 314],\n",
       " [3, 315],\n",
       " [38, 316]]"
      ]
     },
     "execution_count": 183,
     "metadata": {},
     "output_type": "execute_result"
    }
   ],
   "source": [
    "missing_313"
   ]
  },
  {
   "cell_type": "code",
   "execution_count": null,
   "metadata": {},
   "outputs": [],
   "source": [
    "for j in missing:\n",
    "    for i in range(missing_313.shape[0]):\n",
    "        w_313.iloc[i,j]"
   ]
  },
  {
   "cell_type": "code",
   "execution_count": 158,
   "metadata": {},
   "outputs": [],
   "source": []
  },
  {
   "cell_type": "code",
   "execution_count": null,
   "metadata": {},
   "outputs": [],
   "source": [
    "from sklearn.ensemble import RandomForestRegressor\n",
    "model = RandomForestRegressor(random_state=1, max_depth=10)\n",
    "df=pd.get_dummies(df)\n",
    "model.fit(df,train.Item_Outlet_Sales)\n",
    "features = df.columns\n",
    "importances = model.feature_importances_\n",
    "indices = np.argsort(importances[0:9])  # top 10 features\n",
    "plt.title('Feature Importances')\n",
    "plt.barh(range(len(indices)), importances[indices], color='b', align='center')\n",
    "plt.yticks(range(len(indices)), [features[i] for i in indices])\n",
    "plt.xlabel('Relative Importance')\n",
    "plt.show()"
   ]
  },
  {
   "cell_type": "code",
   "execution_count": null,
   "metadata": {},
   "outputs": [],
   "source": []
  }
 ],
 "metadata": {
  "kernelspec": {
   "display_name": "Python 3",
   "language": "python",
   "name": "python3"
  },
  "language_info": {
   "codemirror_mode": {
    "name": "ipython",
    "version": 3
   },
   "file_extension": ".py",
   "mimetype": "text/x-python",
   "name": "python",
   "nbconvert_exporter": "python",
   "pygments_lexer": "ipython3",
   "version": "3.7.6"
  },
  "pycharm": {
   "stem_cell": {
    "cell_type": "raw",
    "metadata": {
     "collapsed": false
    },
    "source": []
   }
  }
 },
 "nbformat": 4,
 "nbformat_minor": 4
}
