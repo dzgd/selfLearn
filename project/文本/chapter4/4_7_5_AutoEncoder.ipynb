{
 "cells": [
  {
   "cell_type": "markdown",
   "metadata": {},
   "source": [
    "## 代码参考来源：https://github.com/nathanhubens/Autoencoders"
   ]
  },
  {
   "cell_type": "markdown",
   "metadata": {},
   "source": [
    "## 利用手写体数据集实现四种自编码器：\n",
    "1.单层自编码器   \n",
    "2.多层自编码器  \n",
    "3.卷积自编码器    \n",
    "4.正则自编码器  "
   ]
  },
  {
   "cell_type": "code",
   "execution_count": 145,
   "metadata": {},
   "outputs": [],
   "source": [
    "import keras\n",
    "import numpy as np\n",
    "import matplotlib.pyplot as plt\n",
    "from keras.datasets import mnist\n",
    "from keras.models import Model\n",
    "from keras.layers import Input, add\n",
    "from keras.layers.core import Layer, Dense, Dropout, Activation, Flatten, Reshape\n",
    "from keras import regularizers\n",
    "from keras.regularizers import l2\n",
    "from keras.layers.convolutional import Conv2D, MaxPooling2D, UpSampling2D, ZeroPadding2D\n",
    "from keras.utils import np_utils"
   ]
  },
  {
   "cell_type": "markdown",
   "metadata": {},
   "source": [
    "***\n",
    "# 1.单层自编码器"
   ]
  },
  {
   "cell_type": "markdown",
   "metadata": {},
   "source": [
    "## 读取手写体数据及与图像预处理"
   ]
  },
  {
   "cell_type": "code",
   "execution_count": 146,
   "metadata": {},
   "outputs": [],
   "source": [
    "(X_train, _), (X_test, _) = mnist.load_data()"
   ]
  },
  {
   "cell_type": "code",
   "execution_count": 147,
   "metadata": {},
   "outputs": [
    {
     "name": "stdout",
     "output_type": "stream",
     "text": [
      "X_train shape: (60000, 28, 28)\n",
      "60000 train samples\n",
      "10000 test samples\n"
     ]
    }
   ],
   "source": [
    "\n",
    "#  归一化\n",
    "X_train = X_train.astype(\"float32\")/255.\n",
    "X_test = X_test.astype(\"float32\")/255.\n",
    "\n",
    "print('X_train shape:', X_train.shape)\n",
    "print(X_train.shape[0], 'train samples')\n",
    "print(X_test.shape[0], 'test samples')"
   ]
  },
  {
   "cell_type": "markdown",
   "metadata": {},
   "source": [
    "### np.prod是将28X28矩阵转化成1X784，方便BP神经网络输入层784个神经元读取。"
   ]
  },
  {
   "cell_type": "code",
   "execution_count": 148,
   "metadata": {},
   "outputs": [],
   "source": [
    "X_train = X_train.reshape((len(X_train), np.prod(X_train.shape[1:])))\n",
    "X_test = X_test.reshape((len(X_test), np.prod(X_test.shape[1:])))"
   ]
  },
  {
   "cell_type": "markdown",
   "metadata": {},
   "source": [
    "## 构建自编码器模型"
   ]
  },
  {
   "cell_type": "code",
   "execution_count": 149,
   "metadata": {},
   "outputs": [],
   "source": [
    "input_size = 784\n",
    "hidden_size = 64\n",
    "output_size = 784"
   ]
  },
  {
   "cell_type": "code",
   "execution_count": 150,
   "metadata": {},
   "outputs": [],
   "source": [
    "x = Input(shape=(input_size,))\n",
    "h = Dense(hidden_size, activation='relu')(x)\n",
    "r = Dense(output_size, activation='sigmoid')(h)\n",
    "\n",
    "autoencoder = Model(inputs=x, outputs=r)\n",
    "autoencoder.compile(optimizer='adam', loss='mse')"
   ]
  },
  {
   "cell_type": "markdown",
   "metadata": {},
   "source": [
    "## 模型可视化"
   ]
  },
  {
   "cell_type": "code",
   "execution_count": 151,
   "metadata": {},
   "outputs": [
    {
     "data": {
      "image/svg+xml": [
       "<svg height=\"191pt\" viewBox=\"0.00 0.00 177.00 191.00\" width=\"177pt\" xmlns=\"http://www.w3.org/2000/svg\" xmlns:xlink=\"http://www.w3.org/1999/xlink\">\n",
       "<g class=\"graph\" id=\"graph0\" transform=\"scale(1 1) rotate(0) translate(4 187)\">\n",
       "<title>G</title>\n",
       "<polygon fill=\"white\" points=\"-4,4 -4,-187 173,-187 173,4 -4,4\" stroke=\"none\"/>\n",
       "<!-- 140641035006248 -->\n",
       "<g class=\"node\" id=\"node1\"><title>140641035006248</title>\n",
       "<polygon fill=\"none\" points=\"-1.42109e-14,-146.5 -1.42109e-14,-182.5 169,-182.5 169,-146.5 -1.42109e-14,-146.5\" stroke=\"black\"/>\n",
       "<text font-family=\"Times,serif\" font-size=\"14.00\" text-anchor=\"middle\" x=\"84.5\" y=\"-160.8\">input_28: InputLayer</text>\n",
       "</g>\n",
       "<!-- 140641035007536 -->\n",
       "<g class=\"node\" id=\"node2\"><title>140641035007536</title>\n",
       "<polygon fill=\"none\" points=\"16,-73.5 16,-109.5 153,-109.5 153,-73.5 16,-73.5\" stroke=\"black\"/>\n",
       "<text font-family=\"Times,serif\" font-size=\"14.00\" text-anchor=\"middle\" x=\"84.5\" y=\"-87.8\">dense_50: Dense</text>\n",
       "</g>\n",
       "<!-- 140641035006248&#45;&gt;140641035007536 -->\n",
       "<g class=\"edge\" id=\"edge1\"><title>140641035006248-&gt;140641035007536</title>\n",
       "<path d=\"M84.5,-146.313C84.5,-138.289 84.5,-128.547 84.5,-119.569\" fill=\"none\" stroke=\"black\"/>\n",
       "<polygon fill=\"black\" points=\"88.0001,-119.529 84.5,-109.529 81.0001,-119.529 88.0001,-119.529\" stroke=\"black\"/>\n",
       "</g>\n",
       "<!-- 140641035006360 -->\n",
       "<g class=\"node\" id=\"node3\"><title>140641035006360</title>\n",
       "<polygon fill=\"none\" points=\"16,-0.5 16,-36.5 153,-36.5 153,-0.5 16,-0.5\" stroke=\"black\"/>\n",
       "<text font-family=\"Times,serif\" font-size=\"14.00\" text-anchor=\"middle\" x=\"84.5\" y=\"-14.8\">dense_51: Dense</text>\n",
       "</g>\n",
       "<!-- 140641035007536&#45;&gt;140641035006360 -->\n",
       "<g class=\"edge\" id=\"edge2\"><title>140641035007536-&gt;140641035006360</title>\n",
       "<path d=\"M84.5,-73.3129C84.5,-65.2895 84.5,-55.5475 84.5,-46.5691\" fill=\"none\" stroke=\"black\"/>\n",
       "<polygon fill=\"black\" points=\"88.0001,-46.5288 84.5,-36.5288 81.0001,-46.5289 88.0001,-46.5288\" stroke=\"black\"/>\n",
       "</g>\n",
       "</g>\n",
       "</svg>"
      ],
      "text/plain": [
       "<IPython.core.display.SVG object>"
      ]
     },
     "execution_count": 151,
     "metadata": {},
     "output_type": "execute_result"
    }
   ],
   "source": [
    "from IPython.display import SVG\n",
    "from keras.utils.vis_utils import model_to_dot\n",
    "\n",
    "SVG(model_to_dot(autoencoder).create(prog='dot', format='svg'))"
   ]
  },
  {
   "cell_type": "markdown",
   "metadata": {},
   "source": [
    "## 训练"
   ]
  },
  {
   "cell_type": "code",
   "execution_count": 152,
   "metadata": {},
   "outputs": [
    {
     "name": "stdout",
     "output_type": "stream",
     "text": [
      "Train on 60000 samples, validate on 10000 samples\n",
      "Epoch 1/5\n",
      "60000/60000 [==============================] - 4s 61us/step - loss: 0.0446 - val_loss: 0.0224\n",
      "Epoch 2/5\n",
      "60000/60000 [==============================] - 2s 38us/step - loss: 0.0174 - val_loss: 0.0130\n",
      "Epoch 3/5\n",
      "60000/60000 [==============================] - 2s 39us/step - loss: 0.0110 - val_loss: 0.0089\n",
      "Epoch 4/5\n",
      "60000/60000 [==============================] - 2s 39us/step - loss: 0.0080 - val_loss: 0.0067\n",
      "Epoch 5/5\n",
      "60000/60000 [==============================] - 2s 39us/step - loss: 0.0064 - val_loss: 0.0056\n"
     ]
    }
   ],
   "source": [
    "\n",
    "epochs = 5\n",
    "batch_size = 128\n",
    "\n",
    "history = autoencoder.fit(X_train, X_train, \n",
    "                          batch_size=batch_size, \n",
    "                          epochs=epochs, verbose=1, \n",
    "                          validation_data=(X_test, X_test)\n",
    "                         )"
   ]
  },
  {
   "cell_type": "markdown",
   "metadata": {},
   "source": [
    "##  查看自编码器的压缩效果"
   ]
  },
  {
   "cell_type": "code",
   "execution_count": 153,
   "metadata": {},
   "outputs": [
    {
     "data": {
      "image/png": "[encoded data removed]",
      "text/plain": [
       "<Figure size 1440x576 with 10 Axes>"
      ]
     },
     "metadata": {
      "needs_background": "light"
     },
     "output_type": "display_data"
    }
   ],
   "source": [
    "conv_encoder = Model(x, h)  # 只取编码器做模型\n",
    "encoded_imgs = conv_encoder.predict(X_test)\n",
    "\n",
    "# 打印10张测试集手写体的压缩效果\n",
    "n = 10\n",
    "plt.figure(figsize=(20, 8))\n",
    "for i in range(n):\n",
    "    ax = plt.subplot(1, n, i+1)\n",
    "    plt.imshow(encoded_imgs[i].reshape(4, 16).T)\n",
    "    plt.gray()\n",
    "    ax.get_xaxis().set_visible(False)\n",
    "    ax.get_yaxis().set_visible(False)\n",
    "plt.show()"
   ]
  },
  {
   "cell_type": "markdown",
   "metadata": {},
   "source": [
    "## 查看自编码器的解码效果"
   ]
  },
  {
   "cell_type": "code",
   "execution_count": 154,
   "metadata": {},
   "outputs": [],
   "source": [
    "decoded_imgs = autoencoder.predict(X_test)"
   ]
  },
  {
   "cell_type": "code",
   "execution_count": 155,
   "metadata": {},
   "outputs": [
    {
     "data": {
      "image/png": "[encoded data removed]",
      "text/plain": [
       "<Figure size 1440x432 with 20 Axes>"
      ]
     },
     "metadata": {
      "needs_background": "light"
     },
     "output_type": "display_data"
    }
   ],
   "source": [
    "n = 10\n",
    "plt.figure(figsize=(20, 6))\n",
    "for i in range(n):\n",
    "    # 打印原图\n",
    "    ax = plt.subplot(3, n, i+1)\n",
    "    plt.imshow(X_test[i].reshape(28, 28))\n",
    "    plt.gray()\n",
    "    ax.get_xaxis().set_visible(False)\n",
    "    ax.get_yaxis().set_visible(False)\n",
    "\n",
    "    \n",
    "    # 打印解码图\n",
    "    ax = plt.subplot(3, n, i+n+1)\n",
    "    plt.imshow(decoded_imgs[i].reshape(28, 28))\n",
    "    plt.gray()\n",
    "    ax.get_xaxis().set_visible(False)\n",
    "    ax.get_yaxis().set_visible(False)\n",
    "    \n",
    "plt.show()"
   ]
  },
  {
   "cell_type": "markdown",
   "metadata": {},
   "source": [
    "## 训练过程可视化"
   ]
  },
  {
   "cell_type": "code",
   "execution_count": 156,
   "metadata": {},
   "outputs": [
    {
     "name": "stdout",
     "output_type": "stream",
     "text": [
      "dict_keys(['val_loss', 'loss'])\n"
     ]
    },
    {
     "data": {
      "image/png": "[encoded data removed]",
      "text/plain": [
       "<Figure size 432x288 with 1 Axes>"
      ]
     },
     "metadata": {
      "needs_background": "light"
     },
     "output_type": "display_data"
    }
   ],
   "source": [
    "print(history.history.keys())\n",
    "\n",
    "plt.plot(history.history['loss'])\n",
    "plt.plot(history.history['val_loss'])\n",
    "plt.title('model loss')\n",
    "plt.ylabel('loss')\n",
    "plt.xlabel('epoch')\n",
    "plt.legend(['train', 'validation'], loc='upper right')\n",
    "plt.show()"
   ]
  },
  {
   "cell_type": "markdown",
   "metadata": {},
   "source": [
    "***\n",
    "# 2.多层自编码器"
   ]
  },
  {
   "cell_type": "markdown",
   "metadata": {},
   "source": [
    "## 多层自编码器建模"
   ]
  },
  {
   "cell_type": "code",
   "execution_count": 157,
   "metadata": {},
   "outputs": [],
   "source": [
    "input_size = 784\n",
    "hidden_size = 128\n",
    "code_size = 64\n",
    "\n",
    "x = Input(shape=(input_size,))\n",
    "hidden_1 = Dense(hidden_size, activation='relu')(x)\n",
    "h = Dense(code_size, activation='relu')(hidden_1)\n",
    "hidden_2 = Dense(hidden_size, activation='relu')(h)\n",
    "r = Dense(input_size, activation='sigmoid')(hidden_2)\n",
    "\n",
    "autoencoder = Model(inputs=x, outputs=r)\n",
    "autoencoder.compile(optimizer='adam', loss='mse')"
   ]
  },
  {
   "cell_type": "markdown",
   "metadata": {},
   "source": [
    "## 模型可视化"
   ]
  },
  {
   "cell_type": "code",
   "execution_count": 158,
   "metadata": {},
   "outputs": [
    {
     "data": {
      "image/svg+xml": [
       "<svg height=\"337pt\" viewBox=\"0.00 0.00 177.00 337.00\" width=\"177pt\" xmlns=\"http://www.w3.org/2000/svg\" xmlns:xlink=\"http://www.w3.org/1999/xlink\">\n",
       "<g class=\"graph\" id=\"graph0\" transform=\"scale(1 1) rotate(0) translate(4 333)\">\n",
       "<title>G</title>\n",
       "<polygon fill=\"white\" points=\"-4,4 -4,-333 173,-333 173,4 -4,4\" stroke=\"none\"/>\n",
       "<!-- 140641044769256 -->\n",
       "<g class=\"node\" id=\"node1\"><title>140641044769256</title>\n",
       "<polygon fill=\"none\" points=\"-1.42109e-14,-292.5 -1.42109e-14,-328.5 169,-328.5 169,-292.5 -1.42109e-14,-292.5\" stroke=\"black\"/>\n",
       "<text font-family=\"Times,serif\" font-size=\"14.00\" text-anchor=\"middle\" x=\"84.5\" y=\"-306.8\">input_29: InputLayer</text>\n",
       "</g>\n",
       "<!-- 140641044768920 -->\n",
       "<g class=\"node\" id=\"node2\"><title>140641044768920</title>\n",
       "<polygon fill=\"none\" points=\"16,-219.5 16,-255.5 153,-255.5 153,-219.5 16,-219.5\" stroke=\"black\"/>\n",
       "<text font-family=\"Times,serif\" font-size=\"14.00\" text-anchor=\"middle\" x=\"84.5\" y=\"-233.8\">dense_52: Dense</text>\n",
       "</g>\n",
       "<!-- 140641044769256&#45;&gt;140641044768920 -->\n",
       "<g class=\"edge\" id=\"edge1\"><title>140641044769256-&gt;140641044768920</title>\n",
       "<path d=\"M84.5,-292.313C84.5,-284.289 84.5,-274.547 84.5,-265.569\" fill=\"none\" stroke=\"black\"/>\n",
       "<polygon fill=\"black\" points=\"88.0001,-265.529 84.5,-255.529 81.0001,-265.529 88.0001,-265.529\" stroke=\"black\"/>\n",
       "</g>\n",
       "<!-- 140641034910968 -->\n",
       "<g class=\"node\" id=\"node3\"><title>140641034910968</title>\n",
       "<polygon fill=\"none\" points=\"16,-146.5 16,-182.5 153,-182.5 153,-146.5 16,-146.5\" stroke=\"black\"/>\n",
       "<text font-family=\"Times,serif\" font-size=\"14.00\" text-anchor=\"middle\" x=\"84.5\" y=\"-160.8\">dense_53: Dense</text>\n",
       "</g>\n",
       "<!-- 140641044768920&#45;&gt;140641034910968 -->\n",
       "<g class=\"edge\" id=\"edge2\"><title>140641044768920-&gt;140641034910968</title>\n",
       "<path d=\"M84.5,-219.313C84.5,-211.289 84.5,-201.547 84.5,-192.569\" fill=\"none\" stroke=\"black\"/>\n",
       "<polygon fill=\"black\" points=\"88.0001,-192.529 84.5,-182.529 81.0001,-192.529 88.0001,-192.529\" stroke=\"black\"/>\n",
       "</g>\n",
       "<!-- 140641044709672 -->\n",
       "<g class=\"node\" id=\"node4\"><title>140641044709672</title>\n",
       "<polygon fill=\"none\" points=\"16,-73.5 16,-109.5 153,-109.5 153,-73.5 16,-73.5\" stroke=\"black\"/>\n",
       "<text font-family=\"Times,serif\" font-size=\"14.00\" text-anchor=\"middle\" x=\"84.5\" y=\"-87.8\">dense_54: Dense</text>\n",
       "</g>\n",
       "<!-- 140641034910968&#45;&gt;140641044709672 -->\n",
       "<g class=\"edge\" id=\"edge3\"><title>140641034910968-&gt;140641044709672</title>\n",
       "<path d=\"M84.5,-146.313C84.5,-138.289 84.5,-128.547 84.5,-119.569\" fill=\"none\" stroke=\"black\"/>\n",
       "<polygon fill=\"black\" points=\"88.0001,-119.529 84.5,-109.529 81.0001,-119.529 88.0001,-119.529\" stroke=\"black\"/>\n",
       "</g>\n",
       "<!-- 140641035006584 -->\n",
       "<g class=\"node\" id=\"node5\"><title>140641035006584</title>\n",
       "<polygon fill=\"none\" points=\"16,-0.5 16,-36.5 153,-36.5 153,-0.5 16,-0.5\" stroke=\"black\"/>\n",
       "<text font-family=\"Times,serif\" font-size=\"14.00\" text-anchor=\"middle\" x=\"84.5\" y=\"-14.8\">dense_55: Dense</text>\n",
       "</g>\n",
       "<!-- 140641044709672&#45;&gt;140641035006584 -->\n",
       "<g class=\"edge\" id=\"edge4\"><title>140641044709672-&gt;140641035006584</title>\n",
       "<path d=\"M84.5,-73.3129C84.5,-65.2895 84.5,-55.5475 84.5,-46.5691\" fill=\"none\" stroke=\"black\"/>\n",
       "<polygon fill=\"black\" points=\"88.0001,-46.5288 84.5,-36.5288 81.0001,-46.5289 88.0001,-46.5288\" stroke=\"black\"/>\n",
       "</g>\n",
       "</g>\n",
       "</svg>"
      ],
      "text/plain": [
       "<IPython.core.display.SVG object>"
      ]
     },
     "execution_count": 158,
     "metadata": {},
     "output_type": "execute_result"
    }
   ],
   "source": [
    "from IPython.display import SVG\n",
    "from keras.utils.vis_utils import model_to_dot\n",
    "\n",
    "SVG(model_to_dot(autoencoder).create(prog='dot', format='svg'))"
   ]
  },
  {
   "cell_type": "markdown",
   "metadata": {},
   "source": [
    "## 训练模型"
   ]
  },
  {
   "cell_type": "code",
   "execution_count": 159,
   "metadata": {},
   "outputs": [
    {
     "name": "stdout",
     "output_type": "stream",
     "text": [
      "Train on 60000 samples, validate on 10000 samples\n",
      "Epoch 1/5\n",
      "60000/60000 [==============================] - 6s 93us/step - loss: 0.0410 - val_loss: 0.0196\n",
      "Epoch 2/5\n",
      "60000/60000 [==============================] - 4s 64us/step - loss: 0.0162 - val_loss: 0.0133\n",
      "Epoch 3/5\n",
      "60000/60000 [==============================] - 4s 64us/step - loss: 0.0119 - val_loss: 0.0103\n",
      "Epoch 4/5\n",
      "60000/60000 [==============================] - 4s 63us/step - loss: 0.0099 - val_loss: 0.0088\n",
      "Epoch 5/5\n",
      "60000/60000 [==============================] - 4s 63us/step - loss: 0.0087 - val_loss: 0.0081\n"
     ]
    }
   ],
   "source": [
    "epochs = 5\n",
    "batch_size = 128\n",
    "\n",
    "history = autoencoder.fit(X_train, X_train, \n",
    "                          batch_size=batch_size, \n",
    "                          epochs=epochs, \n",
    "                          verbose=1, \n",
    "                          validation_data=(X_test, X_test)\n",
    "                         )"
   ]
  },
  {
   "cell_type": "markdown",
   "metadata": {},
   "source": [
    "## 查看编码效果"
   ]
  },
  {
   "cell_type": "code",
   "execution_count": 160,
   "metadata": {},
   "outputs": [
    {
     "data": {
      "image/png": "[encoded data removed]",
      "text/plain": [
       "<Figure size 1440x576 with 10 Axes>"
      ]
     },
     "metadata": {
      "needs_background": "light"
     },
     "output_type": "display_data"
    }
   ],
   "source": [
    "conv_encoder = Model(x, h)  # 只取编码器做模型\n",
    "encoded_imgs = conv_encoder.predict(X_test)\n",
    "\n",
    "# 打印10张测试集手写体的压缩效果\n",
    "n = 10\n",
    "plt.figure(figsize=(20, 8))\n",
    "for i in range(n):\n",
    "    ax = plt.subplot(1, n, i+1)\n",
    "    plt.imshow(encoded_imgs[i].reshape(4, 16).T)\n",
    "    plt.gray()\n",
    "    ax.get_xaxis().set_visible(False)\n",
    "    ax.get_yaxis().set_visible(False)\n",
    "plt.show()"
   ]
  },
  {
   "cell_type": "markdown",
   "metadata": {},
   "source": [
    "## 查看解码效果"
   ]
  },
  {
   "cell_type": "code",
   "execution_count": 161,
   "metadata": {},
   "outputs": [
    {
     "data": {
      "image/png": "[encoded data removed]",
      "text/plain": [
       "<Figure size 1440x432 with 20 Axes>"
      ]
     },
     "metadata": {
      "needs_background": "light"
     },
     "output_type": "display_data"
    }
   ],
   "source": [
    "decoded_imgs = autoencoder.predict(X_test)\n",
    "\n",
    "n = 10\n",
    "plt.figure(figsize=(20, 6))\n",
    "for i in range(n):\n",
    "    # 原图\n",
    "    ax = plt.subplot(3, n, i+1)\n",
    "    plt.imshow(X_test[i].reshape(28, 28))\n",
    "    plt.gray()\n",
    "    ax.get_xaxis().set_visible(False)\n",
    "    ax.get_yaxis().set_visible(False)\n",
    "\n",
    "    \n",
    "    # 解码效果图\n",
    "    ax = plt.subplot(3, n, i+n+1)\n",
    "    plt.imshow(decoded_imgs[i].reshape(28, 28))\n",
    "    plt.gray()\n",
    "    ax.get_xaxis().set_visible(False)\n",
    "    ax.get_yaxis().set_visible(False)\n",
    "    \n",
    "plt.show()"
   ]
  },
  {
   "cell_type": "markdown",
   "metadata": {},
   "source": [
    "## 训练过程可视化"
   ]
  },
  {
   "cell_type": "code",
   "execution_count": 162,
   "metadata": {},
   "outputs": [
    {
     "name": "stdout",
     "output_type": "stream",
     "text": [
      "dict_keys(['val_loss', 'loss'])\n"
     ]
    },
    {
     "data": {
      "image/png": "[encoded data removed]",
      "text/plain": [
       "<Figure size 432x288 with 1 Axes>"
      ]
     },
     "metadata": {
      "needs_background": "light"
     },
     "output_type": "display_data"
    }
   ],
   "source": [
    "print(history.history.keys())\n",
    "\n",
    "plt.plot(history.history['loss'])\n",
    "plt.plot(history.history['val_loss'])\n",
    "plt.title('model loss')\n",
    "plt.ylabel('loss')\n",
    "plt.xlabel('epoch')\n",
    "plt.legend(['train', 'validation'], loc='upper right')\n",
    "plt.show()"
   ]
  },
  {
   "cell_type": "markdown",
   "metadata": {},
   "source": [
    "***\n",
    "# 3.卷积自编码器"
   ]
  },
  {
   "cell_type": "markdown",
   "metadata": {},
   "source": [
    "## 读取数据集"
   ]
  },
  {
   "cell_type": "code",
   "execution_count": 163,
   "metadata": {},
   "outputs": [
    {
     "name": "stdout",
     "output_type": "stream",
     "text": [
      "X_train shape: (60000, 28, 28, 1)\n",
      "60000 train samples\n",
      "10000 test samples\n"
     ]
    }
   ],
   "source": [
    "nb_classes = 10  # 10类\n",
    "\n",
    "(X_train, y_train), (X_test, y_test) = mnist.load_data()\n",
    "\n",
    "X_train = X_train.reshape(X_train.shape[0], 28, 28, 1)\n",
    "X_test = X_test.reshape(X_test.shape[0], 28, 28, 1)\n",
    "\n",
    "# 归一化\n",
    "X_train = X_train.astype(\"float32\")/255.\n",
    "X_test = X_test.astype(\"float32\")/255.\n",
    "print('X_train shape:', X_train.shape)\n",
    "print(X_train.shape[0], 'train samples')\n",
    "print(X_test.shape[0], 'test samples')\n",
    "\n",
    "y_train = np_utils.to_categorical(y_train, nb_classes)\n",
    "y_test = np_utils.to_categorical(y_test, nb_classes)"
   ]
  },
  {
   "cell_type": "markdown",
   "metadata": {},
   "source": [
    "## 卷积自编码器建模"
   ]
  },
  {
   "cell_type": "code",
   "execution_count": 164,
   "metadata": {},
   "outputs": [],
   "source": [
    "x = Input(shape=(28, 28,1)) \n",
    "\n",
    "# 编码器\n",
    "conv1_1 = Conv2D(16, (3, 3), activation='relu', padding='same')(x)\n",
    "pool1 = MaxPooling2D((2, 2), padding='same')(conv1_1)\n",
    "conv1_2 = Conv2D(8, (3, 3), activation='relu', padding='same')(pool1)\n",
    "pool2 = MaxPooling2D((2, 2), padding='same')(conv1_2)\n",
    "conv1_3 = Conv2D(8, (3, 3), activation='relu', padding='same')(pool2)\n",
    "h = MaxPooling2D((2, 2), padding='same')(conv1_3)\n",
    "\n",
    "\n",
    "# 解码器\n",
    "conv2_1 = Conv2D(8, (3, 3), activation='relu', padding='same')(h)\n",
    "up1 = UpSampling2D((2, 2))(conv2_1)\n",
    "conv2_2 = Conv2D(8, (3, 3), activation='relu', padding='same')(up1)\n",
    "up2 = UpSampling2D((2, 2))(conv2_2)\n",
    "conv2_3 = Conv2D(16, (3, 3), activation='relu')(up2)\n",
    "up3 = UpSampling2D((2, 2))(conv2_3)\n",
    "r = Conv2D(1, (3, 3), activation='sigmoid', padding='same')(up3)\n",
    "\n",
    "autoencoder = Model(inputs=x, outputs=r)\n",
    "autoencoder.compile(optimizer='adadelta', loss='binary_crossentropy')"
   ]
  },
  {
   "cell_type": "markdown",
   "metadata": {},
   "source": [
    "## 模型可视化"
   ]
  },
  {
   "cell_type": "code",
   "execution_count": 165,
   "metadata": {},
   "outputs": [
    {
     "data": {
      "image/svg+xml": [
       "<svg height=\"994pt\" viewBox=\"0.00 0.00 275.00 994.00\" width=\"275pt\" xmlns=\"http://www.w3.org/2000/svg\" xmlns:xlink=\"http://www.w3.org/1999/xlink\">\n",
       "<g class=\"graph\" id=\"graph0\" transform=\"scale(1 1) rotate(0) translate(4 990)\">\n",
       "<title>G</title>\n",
       "<polygon fill=\"white\" points=\"-4,4 -4,-990 271,-990 271,4 -4,4\" stroke=\"none\"/>\n",
       "<!-- 140641025241440 -->\n",
       "<g class=\"node\" id=\"node1\"><title>140641025241440</title>\n",
       "<polygon fill=\"none\" points=\"49,-949.5 49,-985.5 218,-985.5 218,-949.5 49,-949.5\" stroke=\"black\"/>\n",
       "<text font-family=\"Times,serif\" font-size=\"14.00\" text-anchor=\"middle\" x=\"133.5\" y=\"-963.8\">input_30: InputLayer</text>\n",
       "</g>\n",
       "<!-- 140641025241384 -->\n",
       "<g class=\"node\" id=\"node2\"><title>140641025241384</title>\n",
       "<polygon fill=\"none\" points=\"53.5,-876.5 53.5,-912.5 213.5,-912.5 213.5,-876.5 53.5,-876.5\" stroke=\"black\"/>\n",
       "<text font-family=\"Times,serif\" font-size=\"14.00\" text-anchor=\"middle\" x=\"133.5\" y=\"-890.8\">conv2d_20: Conv2D</text>\n",
       "</g>\n",
       "<!-- 140641025241440&#45;&gt;140641025241384 -->\n",
       "<g class=\"edge\" id=\"edge1\"><title>140641025241440-&gt;140641025241384</title>\n",
       "<path d=\"M133.5,-949.313C133.5,-941.289 133.5,-931.547 133.5,-922.569\" fill=\"none\" stroke=\"black\"/>\n",
       "<polygon fill=\"black\" points=\"137,-922.529 133.5,-912.529 130,-922.529 137,-922.529\" stroke=\"black\"/>\n",
       "</g>\n",
       "<!-- 140641025241608 -->\n",
       "<g class=\"node\" id=\"node3\"><title>140641025241608</title>\n",
       "<polygon fill=\"none\" points=\"6.5,-803.5 6.5,-839.5 260.5,-839.5 260.5,-803.5 6.5,-803.5\" stroke=\"black\"/>\n",
       "<text font-family=\"Times,serif\" font-size=\"14.00\" text-anchor=\"middle\" x=\"133.5\" y=\"-817.8\">max_pooling2d_9: MaxPooling2D</text>\n",
       "</g>\n",
       "<!-- 140641025241384&#45;&gt;140641025241608 -->\n",
       "<g class=\"edge\" id=\"edge2\"><title>140641025241384-&gt;140641025241608</title>\n",
       "<path d=\"M133.5,-876.313C133.5,-868.289 133.5,-858.547 133.5,-849.569\" fill=\"none\" stroke=\"black\"/>\n",
       "<polygon fill=\"black\" points=\"137,-849.529 133.5,-839.529 130,-849.529 137,-849.529\" stroke=\"black\"/>\n",
       "</g>\n",
       "<!-- 140641025241944 -->\n",
       "<g class=\"node\" id=\"node4\"><title>140641025241944</title>\n",
       "<polygon fill=\"none\" points=\"53.5,-730.5 53.5,-766.5 213.5,-766.5 213.5,-730.5 53.5,-730.5\" stroke=\"black\"/>\n",
       "<text font-family=\"Times,serif\" font-size=\"14.00\" text-anchor=\"middle\" x=\"133.5\" y=\"-744.8\">conv2d_21: Conv2D</text>\n",
       "</g>\n",
       "<!-- 140641025241608&#45;&gt;140641025241944 -->\n",
       "<g class=\"edge\" id=\"edge3\"><title>140641025241608-&gt;140641025241944</title>\n",
       "<path d=\"M133.5,-803.313C133.5,-795.289 133.5,-785.547 133.5,-776.569\" fill=\"none\" stroke=\"black\"/>\n",
       "<polygon fill=\"black\" points=\"137,-776.529 133.5,-766.529 130,-776.529 137,-776.529\" stroke=\"black\"/>\n",
       "</g>\n",
       "<!-- 140641025241832 -->\n",
       "<g class=\"node\" id=\"node5\"><title>140641025241832</title>\n",
       "<polygon fill=\"none\" points=\"2,-657.5 2,-693.5 265,-693.5 265,-657.5 2,-657.5\" stroke=\"black\"/>\n",
       "<text font-family=\"Times,serif\" font-size=\"14.00\" text-anchor=\"middle\" x=\"133.5\" y=\"-671.8\">max_pooling2d_10: MaxPooling2D</text>\n",
       "</g>\n",
       "<!-- 140641025241944&#45;&gt;140641025241832 -->\n",
       "<g class=\"edge\" id=\"edge4\"><title>140641025241944-&gt;140641025241832</title>\n",
       "<path d=\"M133.5,-730.313C133.5,-722.289 133.5,-712.547 133.5,-703.569\" fill=\"none\" stroke=\"black\"/>\n",
       "<polygon fill=\"black\" points=\"137,-703.529 133.5,-693.529 130,-703.529 137,-703.529\" stroke=\"black\"/>\n",
       "</g>\n",
       "<!-- 140641025206480 -->\n",
       "<g class=\"node\" id=\"node6\"><title>140641025206480</title>\n",
       "<polygon fill=\"none\" points=\"53.5,-584.5 53.5,-620.5 213.5,-620.5 213.5,-584.5 53.5,-584.5\" stroke=\"black\"/>\n",
       "<text font-family=\"Times,serif\" font-size=\"14.00\" text-anchor=\"middle\" x=\"133.5\" y=\"-598.8\">conv2d_22: Conv2D</text>\n",
       "</g>\n",
       "<!-- 140641025241832&#45;&gt;140641025206480 -->\n",
       "<g class=\"edge\" id=\"edge5\"><title>140641025241832-&gt;140641025206480</title>\n",
       "<path d=\"M133.5,-657.313C133.5,-649.289 133.5,-639.547 133.5,-630.569\" fill=\"none\" stroke=\"black\"/>\n",
       "<polygon fill=\"black\" points=\"137,-630.529 133.5,-620.529 130,-630.529 137,-630.529\" stroke=\"black\"/>\n",
       "</g>\n",
       "<!-- 140641025207152 -->\n",
       "<g class=\"node\" id=\"node7\"><title>140641025207152</title>\n",
       "<polygon fill=\"none\" points=\"2,-511.5 2,-547.5 265,-547.5 265,-511.5 2,-511.5\" stroke=\"black\"/>\n",
       "<text font-family=\"Times,serif\" font-size=\"14.00\" text-anchor=\"middle\" x=\"133.5\" y=\"-525.8\">max_pooling2d_11: MaxPooling2D</text>\n",
       "</g>\n",
       "<!-- 140641025206480&#45;&gt;140641025207152 -->\n",
       "<g class=\"edge\" id=\"edge6\"><title>140641025206480-&gt;140641025207152</title>\n",
       "<path d=\"M133.5,-584.313C133.5,-576.289 133.5,-566.547 133.5,-557.569\" fill=\"none\" stroke=\"black\"/>\n",
       "<polygon fill=\"black\" points=\"137,-557.529 133.5,-547.529 130,-557.529 137,-557.529\" stroke=\"black\"/>\n",
       "</g>\n",
       "<!-- 140641024889128 -->\n",
       "<g class=\"node\" id=\"node8\"><title>140641024889128</title>\n",
       "<polygon fill=\"none\" points=\"53.5,-438.5 53.5,-474.5 213.5,-474.5 213.5,-438.5 53.5,-438.5\" stroke=\"black\"/>\n",
       "<text font-family=\"Times,serif\" font-size=\"14.00\" text-anchor=\"middle\" x=\"133.5\" y=\"-452.8\">conv2d_23: Conv2D</text>\n",
       "</g>\n",
       "<!-- 140641025207152&#45;&gt;140641024889128 -->\n",
       "<g class=\"edge\" id=\"edge7\"><title>140641025207152-&gt;140641024889128</title>\n",
       "<path d=\"M133.5,-511.313C133.5,-503.289 133.5,-493.547 133.5,-484.569\" fill=\"none\" stroke=\"black\"/>\n",
       "<polygon fill=\"black\" points=\"137,-484.529 133.5,-474.529 130,-484.529 137,-484.529\" stroke=\"black\"/>\n",
       "</g>\n",
       "<!-- 140641024890472 -->\n",
       "<g class=\"node\" id=\"node9\"><title>140641024890472</title>\n",
       "<polygon fill=\"none\" points=\"4.5,-365.5 4.5,-401.5 262.5,-401.5 262.5,-365.5 4.5,-365.5\" stroke=\"black\"/>\n",
       "<text font-family=\"Times,serif\" font-size=\"14.00\" text-anchor=\"middle\" x=\"133.5\" y=\"-379.8\">up_sampling2d_9: UpSampling2D</text>\n",
       "</g>\n",
       "<!-- 140641024889128&#45;&gt;140641024890472 -->\n",
       "<g class=\"edge\" id=\"edge8\"><title>140641024889128-&gt;140641024890472</title>\n",
       "<path d=\"M133.5,-438.313C133.5,-430.289 133.5,-420.547 133.5,-411.569\" fill=\"none\" stroke=\"black\"/>\n",
       "<polygon fill=\"black\" points=\"137,-411.529 133.5,-401.529 130,-411.529 137,-411.529\" stroke=\"black\"/>\n",
       "</g>\n",
       "<!-- 140641024990736 -->\n",
       "<g class=\"node\" id=\"node10\"><title>140641024990736</title>\n",
       "<polygon fill=\"none\" points=\"53.5,-292.5 53.5,-328.5 213.5,-328.5 213.5,-292.5 53.5,-292.5\" stroke=\"black\"/>\n",
       "<text font-family=\"Times,serif\" font-size=\"14.00\" text-anchor=\"middle\" x=\"133.5\" y=\"-306.8\">conv2d_24: Conv2D</text>\n",
       "</g>\n",
       "<!-- 140641024890472&#45;&gt;140641024990736 -->\n",
       "<g class=\"edge\" id=\"edge9\"><title>140641024890472-&gt;140641024990736</title>\n",
       "<path d=\"M133.5,-365.313C133.5,-357.289 133.5,-347.547 133.5,-338.569\" fill=\"none\" stroke=\"black\"/>\n",
       "<polygon fill=\"black\" points=\"137,-338.529 133.5,-328.529 130,-338.529 137,-338.529\" stroke=\"black\"/>\n",
       "</g>\n",
       "<!-- 140641025098024 -->\n",
       "<g class=\"node\" id=\"node11\"><title>140641025098024</title>\n",
       "<polygon fill=\"none\" points=\"0,-219.5 0,-255.5 267,-255.5 267,-219.5 0,-219.5\" stroke=\"black\"/>\n",
       "<text font-family=\"Times,serif\" font-size=\"14.00\" text-anchor=\"middle\" x=\"133.5\" y=\"-233.8\">up_sampling2d_10: UpSampling2D</text>\n",
       "</g>\n",
       "<!-- 140641024990736&#45;&gt;140641025098024 -->\n",
       "<g class=\"edge\" id=\"edge10\"><title>140641024990736-&gt;140641025098024</title>\n",
       "<path d=\"M133.5,-292.313C133.5,-284.289 133.5,-274.547 133.5,-265.569\" fill=\"none\" stroke=\"black\"/>\n",
       "<polygon fill=\"black\" points=\"137,-265.529 133.5,-255.529 130,-265.529 137,-265.529\" stroke=\"black\"/>\n",
       "</g>\n",
       "<!-- 140641024652736 -->\n",
       "<g class=\"node\" id=\"node12\"><title>140641024652736</title>\n",
       "<polygon fill=\"none\" points=\"53.5,-146.5 53.5,-182.5 213.5,-182.5 213.5,-146.5 53.5,-146.5\" stroke=\"black\"/>\n",
       "<text font-family=\"Times,serif\" font-size=\"14.00\" text-anchor=\"middle\" x=\"133.5\" y=\"-160.8\">conv2d_25: Conv2D</text>\n",
       "</g>\n",
       "<!-- 140641025098024&#45;&gt;140641024652736 -->\n",
       "<g class=\"edge\" id=\"edge11\"><title>140641025098024-&gt;140641024652736</title>\n",
       "<path d=\"M133.5,-219.313C133.5,-211.289 133.5,-201.547 133.5,-192.569\" fill=\"none\" stroke=\"black\"/>\n",
       "<polygon fill=\"black\" points=\"137,-192.529 133.5,-182.529 130,-192.529 137,-192.529\" stroke=\"black\"/>\n",
       "</g>\n",
       "<!-- 140641024652176 -->\n",
       "<g class=\"node\" id=\"node13\"><title>140641024652176</title>\n",
       "<polygon fill=\"none\" points=\"0,-73.5 0,-109.5 267,-109.5 267,-73.5 0,-73.5\" stroke=\"black\"/>\n",
       "<text font-family=\"Times,serif\" font-size=\"14.00\" text-anchor=\"middle\" x=\"133.5\" y=\"-87.8\">up_sampling2d_11: UpSampling2D</text>\n",
       "</g>\n",
       "<!-- 140641024652736&#45;&gt;140641024652176 -->\n",
       "<g class=\"edge\" id=\"edge12\"><title>140641024652736-&gt;140641024652176</title>\n",
       "<path d=\"M133.5,-146.313C133.5,-138.289 133.5,-128.547 133.5,-119.569\" fill=\"none\" stroke=\"black\"/>\n",
       "<polygon fill=\"black\" points=\"137,-119.529 133.5,-109.529 130,-119.529 137,-119.529\" stroke=\"black\"/>\n",
       "</g>\n",
       "<!-- 140641024347944 -->\n",
       "<g class=\"node\" id=\"node14\"><title>140641024347944</title>\n",
       "<polygon fill=\"none\" points=\"53.5,-0.5 53.5,-36.5 213.5,-36.5 213.5,-0.5 53.5,-0.5\" stroke=\"black\"/>\n",
       "<text font-family=\"Times,serif\" font-size=\"14.00\" text-anchor=\"middle\" x=\"133.5\" y=\"-14.8\">conv2d_26: Conv2D</text>\n",
       "</g>\n",
       "<!-- 140641024652176&#45;&gt;140641024347944 -->\n",
       "<g class=\"edge\" id=\"edge13\"><title>140641024652176-&gt;140641024347944</title>\n",
       "<path d=\"M133.5,-73.3129C133.5,-65.2895 133.5,-55.5475 133.5,-46.5691\" fill=\"none\" stroke=\"black\"/>\n",
       "<polygon fill=\"black\" points=\"137,-46.5288 133.5,-36.5288 130,-46.5289 137,-46.5288\" stroke=\"black\"/>\n",
       "</g>\n",
       "</g>\n",
       "</svg>"
      ],
      "text/plain": [
       "<IPython.core.display.SVG object>"
      ]
     },
     "execution_count": 165,
     "metadata": {},
     "output_type": "execute_result"
    }
   ],
   "source": [
    "from IPython.display import SVG\n",
    "from keras.utils.vis_utils import model_to_dot\n",
    "\n",
    "SVG(model_to_dot(autoencoder).create(prog='dot', format='svg'))"
   ]
  },
  {
   "cell_type": "code",
   "execution_count": 166,
   "metadata": {},
   "outputs": [
    {
     "name": "stdout",
     "output_type": "stream",
     "text": [
      "Train on 60000 samples, validate on 10000 samples\n",
      "Epoch 1/3\n",
      "60000/60000 [==============================] - 65s 1ms/step - loss: 0.2138 - val_loss: 0.1643\n",
      "Epoch 2/3\n",
      "60000/60000 [==============================] - 62s 1ms/step - loss: 0.1528 - val_loss: 0.1448\n",
      "Epoch 3/3\n",
      "60000/60000 [==============================] - 62s 1ms/step - loss: 0.1385 - val_loss: 0.1295\n"
     ]
    }
   ],
   "source": [
    "epochs = 3\n",
    "batch_size = 128\n",
    "\n",
    "history = autoencoder.fit(X_train, X_train, \n",
    "                          batch_size=batch_size, \n",
    "                          epochs=epochs, verbose=1, \n",
    "                          validation_data=(X_test, X_test)\n",
    "                         )"
   ]
  },
  {
   "cell_type": "markdown",
   "metadata": {},
   "source": [
    "## 查看解码效果"
   ]
  },
  {
   "cell_type": "code",
   "execution_count": 167,
   "metadata": {},
   "outputs": [
    {
     "data": {
      "image/png": "[encoded data removed]",
      "text/plain": [
       "<Figure size 1440x432 with 20 Axes>"
      ]
     },
     "metadata": {
      "needs_background": "light"
     },
     "output_type": "display_data"
    }
   ],
   "source": [
    "decoded_imgs = autoencoder.predict(X_test)\n",
    "\n",
    "n = 10\n",
    "plt.figure(figsize=(20, 6))\n",
    "for i in range(n):\n",
    "    # 原图\n",
    "    ax = plt.subplot(3, n, i+1)\n",
    "    plt.imshow(X_test[i].reshape(28, 28))\n",
    "    plt.gray()\n",
    "    ax.get_xaxis().set_visible(False)\n",
    "    ax.get_yaxis().set_visible(False)\n",
    "\n",
    "    \n",
    "    # 解码效果图\n",
    "    ax = plt.subplot(3, n, i+n+1)\n",
    "    plt.imshow(decoded_imgs[i].reshape(28, 28))\n",
    "    plt.gray()\n",
    "    ax.get_xaxis().set_visible(False)\n",
    "    ax.get_yaxis().set_visible(False)\n",
    "    \n",
    "plt.show()"
   ]
  },
  {
   "cell_type": "markdown",
   "metadata": {},
   "source": [
    "## 训练过程可视化"
   ]
  },
  {
   "cell_type": "code",
   "execution_count": 168,
   "metadata": {},
   "outputs": [
    {
     "name": "stdout",
     "output_type": "stream",
     "text": [
      "dict_keys(['val_loss', 'loss'])\n"
     ]
    },
    {
     "data": {
      "image/png": "[encoded data removed]",
      "text/plain": [
       "<Figure size 432x288 with 1 Axes>"
      ]
     },
     "metadata": {
      "needs_background": "light"
     },
     "output_type": "display_data"
    }
   ],
   "source": [
    "print(history.history.keys())\n",
    "\n",
    "plt.plot(history.history['loss'])\n",
    "plt.plot(history.history['val_loss'])\n",
    "plt.title('model loss')\n",
    "plt.ylabel('loss')\n",
    "plt.xlabel('epoch')\n",
    "plt.legend(['train', 'validation'], loc='upper right')\n",
    "plt.show()"
   ]
  },
  {
   "cell_type": "markdown",
   "metadata": {},
   "source": [
    "***\n",
    "# 4.正则自编码器  \n",
    "两种类型：  \n",
    "1.稀疏正则自编码器  \n",
    "2.去噪正则自编码器"
   ]
  },
  {
   "cell_type": "markdown",
   "metadata": {},
   "source": [
    "## 1.稀疏正则自编码器"
   ]
  },
  {
   "cell_type": "markdown",
   "metadata": {},
   "source": [
    "## 读取数据集"
   ]
  },
  {
   "cell_type": "code",
   "execution_count": 183,
   "metadata": {},
   "outputs": [
    {
     "name": "stdout",
     "output_type": "stream",
     "text": [
      "X_train shape: (60000, 28, 28)\n",
      "60000 train samples\n",
      "10000 test samples\n"
     ]
    }
   ],
   "source": [
    "(X_train, _), (X_test, _) = mnist.load_data()\n",
    "\n",
    "#  归一化\n",
    "X_train = X_train.astype(\"float32\")/255.\n",
    "X_test = X_test.astype(\"float32\")/255.\n",
    "\n",
    "print('X_train shape:', X_train.shape)\n",
    "print(X_train.shape[0], 'train samples')\n",
    "print(X_test.shape[0], 'test samples')\n",
    "\n"
   ]
  },
  {
   "cell_type": "markdown",
   "metadata": {},
   "source": [
    "### np.prod是将28X28矩阵转化成1X784，方便BP神经网络输入层784个神经元读取。"
   ]
  },
  {
   "cell_type": "code",
   "execution_count": 184,
   "metadata": {},
   "outputs": [],
   "source": [
    "X_train = X_train.reshape((len(X_train), np.prod(X_train.shape[1:])))\n",
    "X_test = X_test.reshape((len(X_test), np.prod(X_test.shape[1:])))"
   ]
  },
  {
   "cell_type": "markdown",
   "metadata": {},
   "source": [
    "## 稀疏正则自编码器建模"
   ]
  },
  {
   "cell_type": "code",
   "execution_count": 185,
   "metadata": {},
   "outputs": [],
   "source": [
    "input_size = 784\n",
    "hidden_size = 32\n",
    "output_size = 784\n",
    "\n",
    "x = Input(shape=(input_size,))\n",
    "h = Dense(hidden_size, activation='relu', activity_regularizer=regularizers.l1(10e-5))(x)\n",
    "r = Dense(output_size, activation='sigmoid')(h)\n",
    "\n",
    "autoencoder = Model(inputs=x, outputs=r)\n",
    "autoencoder.compile(optimizer='adam', loss='mse')"
   ]
  },
  {
   "cell_type": "markdown",
   "metadata": {},
   "source": [
    "## 训练"
   ]
  },
  {
   "cell_type": "code",
   "execution_count": 186,
   "metadata": {},
   "outputs": [
    {
     "name": "stdout",
     "output_type": "stream",
     "text": [
      "Train on 60000 samples, validate on 10000 samples\n",
      "Epoch 1/15\n",
      "60000/60000 [==============================] - 4s 65us/step - loss: 0.1948 - val_loss: 0.1632\n",
      "Epoch 2/15\n",
      "60000/60000 [==============================] - 2s 39us/step - loss: 0.1416 - val_loss: 0.1242\n",
      "Epoch 3/15\n",
      "60000/60000 [==============================] - 2s 39us/step - loss: 0.1120 - val_loss: 0.1025\n",
      "Epoch 4/15\n",
      "60000/60000 [==============================] - 2s 38us/step - loss: 0.0954 - val_loss: 0.0901\n",
      "Epoch 5/15\n",
      "60000/60000 [==============================] - 2s 39us/step - loss: 0.0857 - val_loss: 0.0826\n",
      "Epoch 6/15\n",
      "60000/60000 [==============================] - 2s 38us/step - loss: 0.0798 - val_loss: 0.0780\n",
      "Epoch 7/15\n",
      "60000/60000 [==============================] - 2s 38us/step - loss: 0.0760 - val_loss: 0.0749\n",
      "Epoch 8/15\n",
      "60000/60000 [==============================] - 2s 38us/step - loss: 0.0735 - val_loss: 0.0729\n",
      "Epoch 9/15\n",
      "60000/60000 [==============================] - 2s 38us/step - loss: 0.0718 - val_loss: 0.0714\n",
      "Epoch 10/15\n",
      "60000/60000 [==============================] - 2s 38us/step - loss: 0.0706 - val_loss: 0.0704\n",
      "Epoch 11/15\n",
      "60000/60000 [==============================] - 2s 39us/step - loss: 0.0698 - val_loss: 0.0697\n",
      "Epoch 12/15\n",
      "60000/60000 [==============================] - 2s 39us/step - loss: 0.0692 - val_loss: 0.0691\n",
      "Epoch 13/15\n",
      "60000/60000 [==============================] - 2s 39us/step - loss: 0.0687 - val_loss: 0.0688\n",
      "Epoch 14/15\n",
      "60000/60000 [==============================] - 2s 39us/step - loss: 0.0684 - val_loss: 0.0684\n",
      "Epoch 15/15\n",
      "60000/60000 [==============================] - 2s 40us/step - loss: 0.0681 - val_loss: 0.0682\n"
     ]
    }
   ],
   "source": [
    "epochs = 15\n",
    "batch_size = 128\n",
    "\n",
    "history = autoencoder.fit(X_train, X_train, \n",
    "                          batch_size=batch_size, \n",
    "                          epochs=epochs, \n",
    "                          verbose=1, \n",
    "                          validation_data=(X_test, X_test)\n",
    "                         )"
   ]
  },
  {
   "cell_type": "markdown",
   "metadata": {},
   "source": [
    "## 模型可视化"
   ]
  },
  {
   "cell_type": "code",
   "execution_count": 173,
   "metadata": {},
   "outputs": [
    {
     "data": {
      "image/svg+xml": [
       "<svg height=\"191pt\" viewBox=\"0.00 0.00 177.00 191.00\" width=\"177pt\" xmlns=\"http://www.w3.org/2000/svg\" xmlns:xlink=\"http://www.w3.org/1999/xlink\">\n",
       "<g class=\"graph\" id=\"graph0\" transform=\"scale(1 1) rotate(0) translate(4 187)\">\n",
       "<title>G</title>\n",
       "<polygon fill=\"white\" points=\"-4,4 -4,-187 173,-187 173,4 -4,4\" stroke=\"none\"/>\n",
       "<!-- 140641036015824 -->\n",
       "<g class=\"node\" id=\"node1\"><title>140641036015824</title>\n",
       "<polygon fill=\"none\" points=\"-1.42109e-14,-146.5 -1.42109e-14,-182.5 169,-182.5 169,-146.5 -1.42109e-14,-146.5\" stroke=\"black\"/>\n",
       "<text font-family=\"Times,serif\" font-size=\"14.00\" text-anchor=\"middle\" x=\"84.5\" y=\"-160.8\">input_31: InputLayer</text>\n",
       "</g>\n",
       "<!-- 140641036015208 -->\n",
       "<g class=\"node\" id=\"node2\"><title>140641036015208</title>\n",
       "<polygon fill=\"none\" points=\"16,-73.5 16,-109.5 153,-109.5 153,-73.5 16,-73.5\" stroke=\"black\"/>\n",
       "<text font-family=\"Times,serif\" font-size=\"14.00\" text-anchor=\"middle\" x=\"84.5\" y=\"-87.8\">dense_56: Dense</text>\n",
       "</g>\n",
       "<!-- 140641036015824&#45;&gt;140641036015208 -->\n",
       "<g class=\"edge\" id=\"edge1\"><title>140641036015824-&gt;140641036015208</title>\n",
       "<path d=\"M84.5,-146.313C84.5,-138.289 84.5,-128.547 84.5,-119.569\" fill=\"none\" stroke=\"black\"/>\n",
       "<polygon fill=\"black\" points=\"88.0001,-119.529 84.5,-109.529 81.0001,-119.529 88.0001,-119.529\" stroke=\"black\"/>\n",
       "</g>\n",
       "<!-- 140641036015712 -->\n",
       "<g class=\"node\" id=\"node3\"><title>140641036015712</title>\n",
       "<polygon fill=\"none\" points=\"16,-0.5 16,-36.5 153,-36.5 153,-0.5 16,-0.5\" stroke=\"black\"/>\n",
       "<text font-family=\"Times,serif\" font-size=\"14.00\" text-anchor=\"middle\" x=\"84.5\" y=\"-14.8\">dense_57: Dense</text>\n",
       "</g>\n",
       "<!-- 140641036015208&#45;&gt;140641036015712 -->\n",
       "<g class=\"edge\" id=\"edge2\"><title>140641036015208-&gt;140641036015712</title>\n",
       "<path d=\"M84.5,-73.3129C84.5,-65.2895 84.5,-55.5475 84.5,-46.5691\" fill=\"none\" stroke=\"black\"/>\n",
       "<polygon fill=\"black\" points=\"88.0001,-46.5288 84.5,-36.5288 81.0001,-46.5289 88.0001,-46.5288\" stroke=\"black\"/>\n",
       "</g>\n",
       "</g>\n",
       "</svg>"
      ],
      "text/plain": [
       "<IPython.core.display.SVG object>"
      ]
     },
     "execution_count": 173,
     "metadata": {},
     "output_type": "execute_result"
    }
   ],
   "source": [
    "from IPython.display import SVG\n",
    "from keras.utils.vis_utils import model_to_dot\n",
    "\n",
    "SVG(model_to_dot(autoencoder).create(prog='dot', format='svg'))"
   ]
  },
  {
   "cell_type": "markdown",
   "metadata": {},
   "source": [
    "## 查看解码效果"
   ]
  },
  {
   "cell_type": "code",
   "execution_count": 187,
   "metadata": {},
   "outputs": [
    {
     "data": {
      "image/png": "[encoded data removed]",
      "text/plain": [
       "<Figure size 1440x432 with 20 Axes>"
      ]
     },
     "metadata": {
      "needs_background": "light"
     },
     "output_type": "display_data"
    }
   ],
   "source": [
    "n = 10\n",
    "plt.figure(figsize=(20, 6))\n",
    "for i in range(n):\n",
    "    # 原图\n",
    "    ax = plt.subplot(3, n, i+1)\n",
    "    plt.imshow(X_test[i].reshape(28, 28))\n",
    "    plt.gray()\n",
    "    ax.get_xaxis().set_visible(False)\n",
    "    ax.get_yaxis().set_visible(False)\n",
    "\n",
    "    \n",
    "    # 解码效果图\n",
    "    ax = plt.subplot(3, n, i+n+1)\n",
    "    plt.imshow(decoded_imgs[i].reshape(28, 28))\n",
    "    plt.gray()\n",
    "    ax.get_xaxis().set_visible(False)\n",
    "    ax.get_yaxis().set_visible(False)\n",
    "    \n",
    "plt.show()"
   ]
  },
  {
   "cell_type": "markdown",
   "metadata": {},
   "source": [
    "## 训练过程可视化"
   ]
  },
  {
   "cell_type": "code",
   "execution_count": 175,
   "metadata": {},
   "outputs": [
    {
     "name": "stdout",
     "output_type": "stream",
     "text": [
      "dict_keys(['val_loss', 'loss'])\n"
     ]
    },
    {
     "data": {
      "image/png": "[encoded data removed]",
      "text/plain": [
       "<Figure size 432x288 with 1 Axes>"
      ]
     },
     "metadata": {
      "needs_background": "light"
     },
     "output_type": "display_data"
    }
   ],
   "source": [
    "print(history.history.keys())\n",
    "\n",
    "plt.plot(history.history['loss'])\n",
    "plt.plot(history.history['val_loss'])\n",
    "plt.title('model loss')\n",
    "plt.ylabel('loss')\n",
    "plt.xlabel('epoch')\n",
    "plt.legend(['train', 'validation'], loc='upper right')\n",
    "plt.show()"
   ]
  },
  {
   "cell_type": "markdown",
   "metadata": {},
   "source": [
    "## 2.去噪自编码器"
   ]
  },
  {
   "cell_type": "markdown",
   "metadata": {},
   "source": [
    "## 读取数据集"
   ]
  },
  {
   "cell_type": "code",
   "execution_count": 176,
   "metadata": {},
   "outputs": [],
   "source": [
    "(X_train, _), (X_test, _) = mnist.load_data()\n",
    "\n",
    "X_train = X_train.reshape(X_train.shape[0], 28, 28, 1)\n",
    "X_test = X_test.reshape(X_test.shape[0], 28, 28, 1)\n",
    "\n",
    "X_train = X_train.astype(\"float32\")/255.\n",
    "X_test = X_test.astype(\"float32\")/255."
   ]
  },
  {
   "cell_type": "markdown",
   "metadata": {},
   "source": [
    "## 加噪"
   ]
  },
  {
   "cell_type": "code",
   "execution_count": 177,
   "metadata": {},
   "outputs": [],
   "source": [
    "noise_factor = 0.5\n",
    "X_train_noisy = X_train + noise_factor * np.random.normal(loc=0.0, scale=1.0, size=X_train.shape) \n",
    "X_test_noisy = X_test + noise_factor * np.random.normal(loc=0.0, scale=1.0, size=X_test.shape) \n",
    "\n",
    "X_train_noisy = np.clip(X_train_noisy, 0., 1.)\n",
    "X_test_noisy = np.clip(X_test_noisy, 0., 1.)"
   ]
  },
  {
   "cell_type": "markdown",
   "metadata": {},
   "source": [
    "## 去噪自编码器建模"
   ]
  },
  {
   "cell_type": "code",
   "execution_count": 178,
   "metadata": {},
   "outputs": [],
   "source": [
    "x = Input(shape=(28, 28, 1))\n",
    "\n",
    "# 编码器\n",
    "conv1_1 = Conv2D(32, (3, 3), activation='relu', padding='same')(x)\n",
    "pool1 = MaxPooling2D((2, 2), padding='same')(conv1_1)\n",
    "conv1_2 = Conv2D(32, (3, 3), activation='relu', padding='same')(pool1)\n",
    "h = MaxPooling2D((2, 2), padding='same')(conv1_2)\n",
    "\n",
    "\n",
    "# 解码器\n",
    "conv2_1 = Conv2D(32, (3, 3), activation='relu', padding='same')(h)\n",
    "up1 = UpSampling2D((2, 2))(conv2_1)\n",
    "conv2_2 = Conv2D(32, (3, 3), activation='relu', padding='same')(up1)\n",
    "up2 = UpSampling2D((2, 2))(conv2_2)\n",
    "r = Conv2D(1, (3, 3), activation='sigmoid', padding='same')(up2)\n",
    "\n",
    "autoencoder = Model(inputs=x, outputs=r)\n",
    "autoencoder.compile(optimizer='adadelta', loss='binary_crossentropy')"
   ]
  },
  {
   "cell_type": "markdown",
   "metadata": {},
   "source": [
    "## 模型可视化"
   ]
  },
  {
   "cell_type": "code",
   "execution_count": 179,
   "metadata": {},
   "outputs": [
    {
     "data": {
      "image/svg+xml": [
       "<svg height=\"702pt\" viewBox=\"0.00 0.00 275.00 702.00\" width=\"275pt\" xmlns=\"http://www.w3.org/2000/svg\" xmlns:xlink=\"http://www.w3.org/1999/xlink\">\n",
       "<g class=\"graph\" id=\"graph0\" transform=\"scale(1 1) rotate(0) translate(4 698)\">\n",
       "<title>G</title>\n",
       "<polygon fill=\"white\" points=\"-4,4 -4,-698 271,-698 271,4 -4,4\" stroke=\"none\"/>\n",
       "<!-- 140641014501504 -->\n",
       "<g class=\"node\" id=\"node1\"><title>140641014501504</title>\n",
       "<polygon fill=\"none\" points=\"49,-657.5 49,-693.5 218,-693.5 218,-657.5 49,-657.5\" stroke=\"black\"/>\n",
       "<text font-family=\"Times,serif\" font-size=\"14.00\" text-anchor=\"middle\" x=\"133.5\" y=\"-671.8\">input_32: InputLayer</text>\n",
       "</g>\n",
       "<!-- 140641014501616 -->\n",
       "<g class=\"node\" id=\"node2\"><title>140641014501616</title>\n",
       "<polygon fill=\"none\" points=\"53.5,-584.5 53.5,-620.5 213.5,-620.5 213.5,-584.5 53.5,-584.5\" stroke=\"black\"/>\n",
       "<text font-family=\"Times,serif\" font-size=\"14.00\" text-anchor=\"middle\" x=\"133.5\" y=\"-598.8\">conv2d_27: Conv2D</text>\n",
       "</g>\n",
       "<!-- 140641014501504&#45;&gt;140641014501616 -->\n",
       "<g class=\"edge\" id=\"edge1\"><title>140641014501504-&gt;140641014501616</title>\n",
       "<path d=\"M133.5,-657.313C133.5,-649.289 133.5,-639.547 133.5,-630.569\" fill=\"none\" stroke=\"black\"/>\n",
       "<polygon fill=\"black\" points=\"137,-630.529 133.5,-620.529 130,-630.529 137,-630.529\" stroke=\"black\"/>\n",
       "</g>\n",
       "<!-- 140641014575232 -->\n",
       "<g class=\"node\" id=\"node3\"><title>140641014575232</title>\n",
       "<polygon fill=\"none\" points=\"2,-511.5 2,-547.5 265,-547.5 265,-511.5 2,-511.5\" stroke=\"black\"/>\n",
       "<text font-family=\"Times,serif\" font-size=\"14.00\" text-anchor=\"middle\" x=\"133.5\" y=\"-525.8\">max_pooling2d_12: MaxPooling2D</text>\n",
       "</g>\n",
       "<!-- 140641014501616&#45;&gt;140641014575232 -->\n",
       "<g class=\"edge\" id=\"edge2\"><title>140641014501616-&gt;140641014575232</title>\n",
       "<path d=\"M133.5,-584.313C133.5,-576.289 133.5,-566.547 133.5,-557.569\" fill=\"none\" stroke=\"black\"/>\n",
       "<polygon fill=\"black\" points=\"137,-557.529 133.5,-547.529 130,-557.529 137,-557.529\" stroke=\"black\"/>\n",
       "</g>\n",
       "<!-- 140641014575736 -->\n",
       "<g class=\"node\" id=\"node4\"><title>140641014575736</title>\n",
       "<polygon fill=\"none\" points=\"53.5,-438.5 53.5,-474.5 213.5,-474.5 213.5,-438.5 53.5,-438.5\" stroke=\"black\"/>\n",
       "<text font-family=\"Times,serif\" font-size=\"14.00\" text-anchor=\"middle\" x=\"133.5\" y=\"-452.8\">conv2d_28: Conv2D</text>\n",
       "</g>\n",
       "<!-- 140641014575232&#45;&gt;140641014575736 -->\n",
       "<g class=\"edge\" id=\"edge3\"><title>140641014575232-&gt;140641014575736</title>\n",
       "<path d=\"M133.5,-511.313C133.5,-503.289 133.5,-493.547 133.5,-484.569\" fill=\"none\" stroke=\"black\"/>\n",
       "<polygon fill=\"black\" points=\"137,-484.529 133.5,-474.529 130,-484.529 137,-484.529\" stroke=\"black\"/>\n",
       "</g>\n",
       "<!-- 140641014578144 -->\n",
       "<g class=\"node\" id=\"node5\"><title>140641014578144</title>\n",
       "<polygon fill=\"none\" points=\"2,-365.5 2,-401.5 265,-401.5 265,-365.5 2,-365.5\" stroke=\"black\"/>\n",
       "<text font-family=\"Times,serif\" font-size=\"14.00\" text-anchor=\"middle\" x=\"133.5\" y=\"-379.8\">max_pooling2d_13: MaxPooling2D</text>\n",
       "</g>\n",
       "<!-- 140641014575736&#45;&gt;140641014578144 -->\n",
       "<g class=\"edge\" id=\"edge4\"><title>140641014575736-&gt;140641014578144</title>\n",
       "<path d=\"M133.5,-438.313C133.5,-430.289 133.5,-420.547 133.5,-411.569\" fill=\"none\" stroke=\"black\"/>\n",
       "<polygon fill=\"black\" points=\"137,-411.529 133.5,-401.529 130,-411.529 137,-411.529\" stroke=\"black\"/>\n",
       "</g>\n",
       "<!-- 140641014134600 -->\n",
       "<g class=\"node\" id=\"node6\"><title>140641014134600</title>\n",
       "<polygon fill=\"none\" points=\"53.5,-292.5 53.5,-328.5 213.5,-328.5 213.5,-292.5 53.5,-292.5\" stroke=\"black\"/>\n",
       "<text font-family=\"Times,serif\" font-size=\"14.00\" text-anchor=\"middle\" x=\"133.5\" y=\"-306.8\">conv2d_29: Conv2D</text>\n",
       "</g>\n",
       "<!-- 140641014578144&#45;&gt;140641014134600 -->\n",
       "<g class=\"edge\" id=\"edge5\"><title>140641014578144-&gt;140641014134600</title>\n",
       "<path d=\"M133.5,-365.313C133.5,-357.289 133.5,-347.547 133.5,-338.569\" fill=\"none\" stroke=\"black\"/>\n",
       "<polygon fill=\"black\" points=\"137,-338.529 133.5,-328.529 130,-338.529 137,-338.529\" stroke=\"black\"/>\n",
       "</g>\n",
       "<!-- 140641014134544 -->\n",
       "<g class=\"node\" id=\"node7\"><title>140641014134544</title>\n",
       "<polygon fill=\"none\" points=\"0,-219.5 0,-255.5 267,-255.5 267,-219.5 0,-219.5\" stroke=\"black\"/>\n",
       "<text font-family=\"Times,serif\" font-size=\"14.00\" text-anchor=\"middle\" x=\"133.5\" y=\"-233.8\">up_sampling2d_12: UpSampling2D</text>\n",
       "</g>\n",
       "<!-- 140641014134600&#45;&gt;140641014134544 -->\n",
       "<g class=\"edge\" id=\"edge6\"><title>140641014134600-&gt;140641014134544</title>\n",
       "<path d=\"M133.5,-292.313C133.5,-284.289 133.5,-274.547 133.5,-265.569\" fill=\"none\" stroke=\"black\"/>\n",
       "<polygon fill=\"black\" points=\"137,-265.529 133.5,-255.529 130,-265.529 137,-265.529\" stroke=\"black\"/>\n",
       "</g>\n",
       "<!-- 140641014230096 -->\n",
       "<g class=\"node\" id=\"node8\"><title>140641014230096</title>\n",
       "<polygon fill=\"none\" points=\"53.5,-146.5 53.5,-182.5 213.5,-182.5 213.5,-146.5 53.5,-146.5\" stroke=\"black\"/>\n",
       "<text font-family=\"Times,serif\" font-size=\"14.00\" text-anchor=\"middle\" x=\"133.5\" y=\"-160.8\">conv2d_30: Conv2D</text>\n",
       "</g>\n",
       "<!-- 140641014134544&#45;&gt;140641014230096 -->\n",
       "<g class=\"edge\" id=\"edge7\"><title>140641014134544-&gt;140641014230096</title>\n",
       "<path d=\"M133.5,-219.313C133.5,-211.289 133.5,-201.547 133.5,-192.569\" fill=\"none\" stroke=\"black\"/>\n",
       "<polygon fill=\"black\" points=\"137,-192.529 133.5,-182.529 130,-192.529 137,-192.529\" stroke=\"black\"/>\n",
       "</g>\n",
       "<!-- 140641014337944 -->\n",
       "<g class=\"node\" id=\"node9\"><title>140641014337944</title>\n",
       "<polygon fill=\"none\" points=\"0,-73.5 0,-109.5 267,-109.5 267,-73.5 0,-73.5\" stroke=\"black\"/>\n",
       "<text font-family=\"Times,serif\" font-size=\"14.00\" text-anchor=\"middle\" x=\"133.5\" y=\"-87.8\">up_sampling2d_13: UpSampling2D</text>\n",
       "</g>\n",
       "<!-- 140641014230096&#45;&gt;140641014337944 -->\n",
       "<g class=\"edge\" id=\"edge8\"><title>140641014230096-&gt;140641014337944</title>\n",
       "<path d=\"M133.5,-146.313C133.5,-138.289 133.5,-128.547 133.5,-119.569\" fill=\"none\" stroke=\"black\"/>\n",
       "<polygon fill=\"black\" points=\"137,-119.529 133.5,-109.529 130,-119.529 137,-119.529\" stroke=\"black\"/>\n",
       "</g>\n",
       "<!-- 140641013907072 -->\n",
       "<g class=\"node\" id=\"node10\"><title>140641013907072</title>\n",
       "<polygon fill=\"none\" points=\"53.5,-0.5 53.5,-36.5 213.5,-36.5 213.5,-0.5 53.5,-0.5\" stroke=\"black\"/>\n",
       "<text font-family=\"Times,serif\" font-size=\"14.00\" text-anchor=\"middle\" x=\"133.5\" y=\"-14.8\">conv2d_31: Conv2D</text>\n",
       "</g>\n",
       "<!-- 140641014337944&#45;&gt;140641013907072 -->\n",
       "<g class=\"edge\" id=\"edge9\"><title>140641014337944-&gt;140641013907072</title>\n",
       "<path d=\"M133.5,-73.3129C133.5,-65.2895 133.5,-55.5475 133.5,-46.5691\" fill=\"none\" stroke=\"black\"/>\n",
       "<polygon fill=\"black\" points=\"137,-46.5288 133.5,-36.5288 130,-46.5289 137,-46.5288\" stroke=\"black\"/>\n",
       "</g>\n",
       "</g>\n",
       "</svg>"
      ],
      "text/plain": [
       "<IPython.core.display.SVG object>"
      ]
     },
     "execution_count": 179,
     "metadata": {},
     "output_type": "execute_result"
    }
   ],
   "source": [
    "from IPython.display import SVG\n",
    "from keras.utils.vis_utils import model_to_dot\n",
    "\n",
    "SVG(model_to_dot(autoencoder).create(prog='dot', format='svg'))"
   ]
  },
  {
   "cell_type": "markdown",
   "metadata": {},
   "source": [
    "## 训练"
   ]
  },
  {
   "cell_type": "code",
   "execution_count": 180,
   "metadata": {},
   "outputs": [
    {
     "name": "stdout",
     "output_type": "stream",
     "text": [
      "Train on 60000 samples, validate on 10000 samples\n",
      "Epoch 1/3\n",
      "60000/60000 [==============================] - 65s 1ms/step - loss: 0.1772 - val_loss: 0.1247\n",
      "Epoch 2/3\n",
      "60000/60000 [==============================] - 62s 1ms/step - loss: 0.1205 - val_loss: 0.1128\n",
      "Epoch 3/3\n",
      "60000/60000 [==============================] - 63s 1ms/step - loss: 0.1126 - val_loss: 0.1120\n"
     ]
    }
   ],
   "source": [
    "epochs = 3\n",
    "batch_size = 128\n",
    "\n",
    "history = autoencoder.fit(X_train_noisy, X_train, \n",
    "                          batch_size=batch_size,\n",
    "                          epochs=epochs, verbose=1,\n",
    "                          validation_data=(X_test_noisy, X_test))"
   ]
  },
  {
   "cell_type": "markdown",
   "metadata": {},
   "source": [
    "## 查看解码效果"
   ]
  },
  {
   "cell_type": "code",
   "execution_count": 181,
   "metadata": {},
   "outputs": [
    {
     "data": {
      "image/png": "[encoded data removed]",
      "text/plain": [
       "<Figure size 1440x432 with 20 Axes>"
      ]
     },
     "metadata": {
      "needs_background": "light"
     },
     "output_type": "display_data"
    }
   ],
   "source": [
    "decoded_imgs = autoencoder.predict(X_test_noisy)\n",
    "\n",
    "n = 10\n",
    "plt.figure(figsize=(20, 6))\n",
    "for i in range(n):\n",
    "    # 原图\n",
    "    ax = plt.subplot(3, n, i+1)\n",
    "    plt.imshow(X_test_noisy[i].reshape(28, 28))\n",
    "    plt.gray()\n",
    "    ax.get_xaxis().set_visible(False)\n",
    "    ax.get_yaxis().set_visible(False)\n",
    "\n",
    "    \n",
    "    # 解码效果图\n",
    "    ax = plt.subplot(3, n, i+n+1)\n",
    "    plt.imshow(decoded_imgs[i].reshape(28, 28))\n",
    "    plt.gray()\n",
    "    ax.get_xaxis().set_visible(False)\n",
    "    ax.get_yaxis().set_visible(False)\n",
    "    \n",
    "plt.show()"
   ]
  },
  {
   "cell_type": "markdown",
   "metadata": {},
   "source": [
    "## 训练过程可视化"
   ]
  },
  {
   "cell_type": "code",
   "execution_count": 182,
   "metadata": {},
   "outputs": [
    {
     "name": "stdout",
     "output_type": "stream",
     "text": [
      "dict_keys(['val_loss', 'loss'])\n"
     ]
    },
    {
     "data": {
      "image/png": "[encoded data removed]",
      "text/plain": [
       "<Figure size 432x288 with 1 Axes>"
      ]
     },
     "metadata": {
      "needs_background": "light"
     },
     "output_type": "display_data"
    }
   ],
   "source": [
    "print(history.history.keys())\n",
    "\n",
    "plt.plot(history.history['loss'])\n",
    "plt.plot(history.history['val_loss'])\n",
    "plt.title('model loss')\n",
    "plt.ylabel('loss')\n",
    "plt.xlabel('epoch')\n",
    "plt.legend(['train', 'validation'], loc='upper right')\n",
    "plt.show()"
   ]
  }
 ],
 "metadata": {
  "kernelspec": {
   "display_name": "Python 3",
   "language": "python",
   "name": "python3"
  },
  "language_info": {
   "codemirror_mode": {
    "name": "ipython",
    "version": 3
   },
   "file_extension": ".py",
   "mimetype": "text/x-python",
   "name": "python",
   "nbconvert_exporter": "python",
   "pygments_lexer": "ipython3",
   "version": "3.7.3"
  }
 },
 "nbformat": 4,
 "nbformat_minor": 2
}
