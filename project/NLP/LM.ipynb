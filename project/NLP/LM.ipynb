{
 "cells": [
  {
   "cell_type": "code",
   "execution_count": 1,
   "metadata": {
    "collapsed": true,
    "pycharm": {
     "is_executing": false
    }
   },
   "outputs": [],
   "source": [
    "import pandas as pd\n",
    "import numpy as np"
   ]
  },
  {
   "cell_type": "code",
   "execution_count": 2,
   "outputs": [
    {
     "data": {
      "text/plain": "   YEAR        X1    Unnamed: 2  Unnamed: 3       X2   Unnamed: 5  Unnamed: 6  \\\n0  2010   6697.39           NaN         NaN   463.65          NaN         NaN   \n1  2011   8238.88   6697.390000      123.02   633.96   463.650000         NaN   \n2  2012   9893.11   8161.805500      121.21  1063.70   625.444500         NaN   \n3  2013  10297.63   9806.544775      105.01   795.35  1041.787225         NaN   \n4  2014  12332.19  10273.075739      120.04  1514.14   807.671861         NaN   \n\n        X3   Unnamed: 8  Unnamed: 9  ...      X8  Unnamed: 22     X8.1  \\\n0  1587.81          NaN         NaN  ...  1637.0          NaN  3241.50   \n1  1768.52  1587.810000         NaN  ...  1966.0  1637.000000  3864.21   \n2  1532.90  1759.484500         NaN  ...  2263.9  1949.550000  4366.10   \n3  1632.85  1544.229225         NaN  ...  2548.0  2248.182500  4884.13   \n4  1696.39  1628.418961         NaN  ...  3093.9  2533.009125  5492.64   \n\n   Unnamed: 24        X9  Unnamed: 26    X9.1  Unnamed: 28      X10  \\\n0          NaN   6482.28          NaN  241.86          NaN  3250.56   \n1  3241.500000   7564.93  6482.280000  318.55   241.860000  3346.26   \n2  3833.074500   8635.22  7510.797500  396.96   314.715500  4243.43   \n3  4339.448725  10023.63  8578.998875  501.98   392.847775  5134.56   \n4  4856.895936  11668.14  9951.398444  583.79   496.523389  5903.98   \n\n   Unnamed: 30  \n0          NaN  \n1  3250.560000  \n2  3341.475000  \n3  4198.332250  \n4  5087.748613  \n\n[5 rows x 31 columns]",
      "text/html": "<div>\n<style scoped>\n    .dataframe tbody tr th:only-of-type {\n        vertical-align: middle;\n    }\n\n    .dataframe tbody tr th {\n        vertical-align: top;\n    }\n\n    .dataframe thead th {\n        text-align: right;\n    }\n</style>\n<table border=\"1\" class=\"dataframe\">\n  <thead>\n    <tr style=\"text-align: right;\">\n      <th></th>\n      <th>YEAR</th>\n      <th>X1</th>\n      <th>Unnamed: 2</th>\n      <th>Unnamed: 3</th>\n      <th>X2</th>\n      <th>Unnamed: 5</th>\n      <th>Unnamed: 6</th>\n      <th>X3</th>\n      <th>Unnamed: 8</th>\n      <th>Unnamed: 9</th>\n      <th>...</th>\n      <th>X8</th>\n      <th>Unnamed: 22</th>\n      <th>X8.1</th>\n      <th>Unnamed: 24</th>\n      <th>X9</th>\n      <th>Unnamed: 26</th>\n      <th>X9.1</th>\n      <th>Unnamed: 28</th>\n      <th>X10</th>\n      <th>Unnamed: 30</th>\n    </tr>\n  </thead>\n  <tbody>\n    <tr>\n      <th>0</th>\n      <td>2010</td>\n      <td>6697.39</td>\n      <td>NaN</td>\n      <td>NaN</td>\n      <td>463.65</td>\n      <td>NaN</td>\n      <td>NaN</td>\n      <td>1587.81</td>\n      <td>NaN</td>\n      <td>NaN</td>\n      <td>...</td>\n      <td>1637.0</td>\n      <td>NaN</td>\n      <td>3241.50</td>\n      <td>NaN</td>\n      <td>6482.28</td>\n      <td>NaN</td>\n      <td>241.86</td>\n      <td>NaN</td>\n      <td>3250.56</td>\n      <td>NaN</td>\n    </tr>\n    <tr>\n      <th>1</th>\n      <td>2011</td>\n      <td>8238.88</td>\n      <td>6697.390000</td>\n      <td>123.02</td>\n      <td>633.96</td>\n      <td>463.650000</td>\n      <td>NaN</td>\n      <td>1768.52</td>\n      <td>1587.810000</td>\n      <td>NaN</td>\n      <td>...</td>\n      <td>1966.0</td>\n      <td>1637.000000</td>\n      <td>3864.21</td>\n      <td>3241.500000</td>\n      <td>7564.93</td>\n      <td>6482.280000</td>\n      <td>318.55</td>\n      <td>241.860000</td>\n      <td>3346.26</td>\n      <td>3250.560000</td>\n    </tr>\n    <tr>\n      <th>2</th>\n      <td>2012</td>\n      <td>9893.11</td>\n      <td>8161.805500</td>\n      <td>121.21</td>\n      <td>1063.70</td>\n      <td>625.444500</td>\n      <td>NaN</td>\n      <td>1532.90</td>\n      <td>1759.484500</td>\n      <td>NaN</td>\n      <td>...</td>\n      <td>2263.9</td>\n      <td>1949.550000</td>\n      <td>4366.10</td>\n      <td>3833.074500</td>\n      <td>8635.22</td>\n      <td>7510.797500</td>\n      <td>396.96</td>\n      <td>314.715500</td>\n      <td>4243.43</td>\n      <td>3341.475000</td>\n    </tr>\n    <tr>\n      <th>3</th>\n      <td>2013</td>\n      <td>10297.63</td>\n      <td>9806.544775</td>\n      <td>105.01</td>\n      <td>795.35</td>\n      <td>1041.787225</td>\n      <td>NaN</td>\n      <td>1632.85</td>\n      <td>1544.229225</td>\n      <td>NaN</td>\n      <td>...</td>\n      <td>2548.0</td>\n      <td>2248.182500</td>\n      <td>4884.13</td>\n      <td>4339.448725</td>\n      <td>10023.63</td>\n      <td>8578.998875</td>\n      <td>501.98</td>\n      <td>392.847775</td>\n      <td>5134.56</td>\n      <td>4198.332250</td>\n    </tr>\n    <tr>\n      <th>4</th>\n      <td>2014</td>\n      <td>12332.19</td>\n      <td>10273.075739</td>\n      <td>120.04</td>\n      <td>1514.14</td>\n      <td>807.671861</td>\n      <td>NaN</td>\n      <td>1696.39</td>\n      <td>1628.418961</td>\n      <td>NaN</td>\n      <td>...</td>\n      <td>3093.9</td>\n      <td>2533.009125</td>\n      <td>5492.64</td>\n      <td>4856.895936</td>\n      <td>11668.14</td>\n      <td>9951.398444</td>\n      <td>583.79</td>\n      <td>496.523389</td>\n      <td>5903.98</td>\n      <td>5087.748613</td>\n    </tr>\n  </tbody>\n</table>\n<p>5 rows × 31 columns</p>\n</div>"
     },
     "metadata": {},
     "output_type": "execute_result",
     "execution_count": 2
    }
   ],
   "source": [
    "data = pd.read_excel(r'C:\\Users\\Administrator\\Desktop\\data.xlsx')\n",
    "data.head()\n"
   ],
   "metadata": {
    "collapsed": false,
    "pycharm": {
     "name": "#%%\n",
     "is_executing": false
    }
   }
  }
 ],
 "metadata": {
  "kernelspec": {
   "name": "python3",
   "language": "python",
   "display_name": "Python 3"
  },
  "language_info": {
   "codemirror_mode": {
    "name": "ipython",
    "version": 2
   },
   "file_extension": ".py",
   "mimetype": "text/x-python",
   "name": "python",
   "nbconvert_exporter": "python",
   "pygments_lexer": "ipython2",
   "version": "2.7.6"
  },
  "pycharm": {
   "stem_cell": {
    "cell_type": "raw",
    "source": [],
    "metadata": {
     "collapsed": false
    }
   }
  }
 },
 "nbformat": 4,
 "nbformat_minor": 0
}